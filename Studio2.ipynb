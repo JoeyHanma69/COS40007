{
 "cells": [
  {
   "cell_type": "markdown",
   "metadata": {},
   "source": [
    "Source: "
   ]
  },
  {
   "cell_type": "code",
   "execution_count": 12,
   "metadata": {},
   "outputs": [],
   "source": [
    "import pandas as pd  # type: ignore\n",
    "import numpy as np  # type: ignore \n",
    "from sklearn import preprocessing # type: ignore  \n",
    "import warnings"
   ]
  },
  {
   "cell_type": "code",
   "execution_count": 13,
   "metadata": {},
   "outputs": [],
   "source": [
    "dataset_directory = \"concrete.csv\" \n",
    "dataset = pd.read_csv(dataset_directory)"
   ]
  },
  {
   "cell_type": "code",
   "execution_count": 14,
   "metadata": {},
   "outputs": [
    {
     "data": {
      "text/html": [
       "<div>\n",
       "<style scoped>\n",
       "    .dataframe tbody tr th:only-of-type {\n",
       "        vertical-align: middle;\n",
       "    }\n",
       "\n",
       "    .dataframe tbody tr th {\n",
       "        vertical-align: top;\n",
       "    }\n",
       "\n",
       "    .dataframe thead th {\n",
       "        text-align: right;\n",
       "    }\n",
       "</style>\n",
       "<table border=\"1\" class=\"dataframe\">\n",
       "  <thead>\n",
       "    <tr style=\"text-align: right;\">\n",
       "      <th></th>\n",
       "      <th>cement</th>\n",
       "      <th>slag</th>\n",
       "      <th>ash</th>\n",
       "      <th>water</th>\n",
       "      <th>superplastic</th>\n",
       "      <th>coarseagg</th>\n",
       "      <th>fineagg</th>\n",
       "      <th>age</th>\n",
       "      <th>strength</th>\n",
       "    </tr>\n",
       "  </thead>\n",
       "  <tbody>\n",
       "    <tr>\n",
       "      <th>0</th>\n",
       "      <td>141.3</td>\n",
       "      <td>212.0</td>\n",
       "      <td>0.0</td>\n",
       "      <td>203.5</td>\n",
       "      <td>0.0</td>\n",
       "      <td>971.8</td>\n",
       "      <td>748.5</td>\n",
       "      <td>28</td>\n",
       "      <td>29.89</td>\n",
       "    </tr>\n",
       "    <tr>\n",
       "      <th>1</th>\n",
       "      <td>168.9</td>\n",
       "      <td>42.2</td>\n",
       "      <td>124.3</td>\n",
       "      <td>158.3</td>\n",
       "      <td>10.8</td>\n",
       "      <td>1080.8</td>\n",
       "      <td>796.2</td>\n",
       "      <td>14</td>\n",
       "      <td>23.51</td>\n",
       "    </tr>\n",
       "    <tr>\n",
       "      <th>2</th>\n",
       "      <td>250.0</td>\n",
       "      <td>0.0</td>\n",
       "      <td>95.7</td>\n",
       "      <td>187.4</td>\n",
       "      <td>5.5</td>\n",
       "      <td>956.9</td>\n",
       "      <td>861.2</td>\n",
       "      <td>28</td>\n",
       "      <td>29.22</td>\n",
       "    </tr>\n",
       "    <tr>\n",
       "      <th>3</th>\n",
       "      <td>266.0</td>\n",
       "      <td>114.0</td>\n",
       "      <td>0.0</td>\n",
       "      <td>228.0</td>\n",
       "      <td>0.0</td>\n",
       "      <td>932.0</td>\n",
       "      <td>670.0</td>\n",
       "      <td>28</td>\n",
       "      <td>45.85</td>\n",
       "    </tr>\n",
       "    <tr>\n",
       "      <th>4</th>\n",
       "      <td>154.8</td>\n",
       "      <td>183.4</td>\n",
       "      <td>0.0</td>\n",
       "      <td>193.3</td>\n",
       "      <td>9.1</td>\n",
       "      <td>1047.4</td>\n",
       "      <td>696.7</td>\n",
       "      <td>28</td>\n",
       "      <td>18.29</td>\n",
       "    </tr>\n",
       "  </tbody>\n",
       "</table>\n",
       "</div>"
      ],
      "text/plain": [
       "   cement   slag    ash  water  superplastic  coarseagg  fineagg  age  \\\n",
       "0   141.3  212.0    0.0  203.5           0.0      971.8    748.5   28   \n",
       "1   168.9   42.2  124.3  158.3          10.8     1080.8    796.2   14   \n",
       "2   250.0    0.0   95.7  187.4           5.5      956.9    861.2   28   \n",
       "3   266.0  114.0    0.0  228.0           0.0      932.0    670.0   28   \n",
       "4   154.8  183.4    0.0  193.3           9.1     1047.4    696.7   28   \n",
       "\n",
       "   strength  \n",
       "0     29.89  \n",
       "1     23.51  \n",
       "2     29.22  \n",
       "3     45.85  \n",
       "4     18.29  "
      ]
     },
     "execution_count": 14,
     "metadata": {},
     "output_type": "execute_result"
    }
   ],
   "source": [
    "dataset.head()"
   ]
  },
  {
   "cell_type": "markdown",
   "metadata": {},
   "source": [
    "Activity 1:"
   ]
  },
  {
   "cell_type": "code",
   "execution_count": 15,
   "metadata": {},
   "outputs": [
    {
     "data": {
      "text/plain": [
       "<Axes: xlabel='label'>"
      ]
     },
     "execution_count": 15,
     "metadata": {},
     "output_type": "execute_result"
    },
    {
     "data": {
      "image/png": "[encoded data removed]",
      "text/plain": [
       "<Figure size 640x480 with 1 Axes>"
      ]
     },
     "metadata": {},
     "output_type": "display_data"
    }
   ],
   "source": [
    "def label(strength): \n",
    "    if (strength < 20):  \n",
    "        return 1\n",
    "    elif (strength >= 20 and strength < 30): \n",
    "        return 2 \n",
    "    elif (strength >= 30 and strength < 40): \n",
    "        return 3\n",
    "    elif (strength >= 40  and strength < 50): \n",
    "        return 4\n",
    "    else: \n",
    "        return 5\n",
    "     \n",
    "dataset['label'] = dataset['strength'].apply(label) \n",
    "dataset.to_csv(\"converted_concrete.csv\", index=False) \n",
    " \n",
    "data_dist = dataset.groupby('label') \n",
    "data_dist = pd.DataFrame({ 'label_count' : data_dist['label'].count(), }).reset_index() \n",
    "data_dist.plot.bar(x='label', y='label_count')"
   ]
  },
  {
   "cell_type": "code",
   "execution_count": 16,
   "metadata": {},
   "outputs": [
    {
     "data": {
      "text/html": [
       "<div>\n",
       "<style scoped>\n",
       "    .dataframe tbody tr th:only-of-type {\n",
       "        vertical-align: middle;\n",
       "    }\n",
       "\n",
       "    .dataframe tbody tr th {\n",
       "        vertical-align: top;\n",
       "    }\n",
       "\n",
       "    .dataframe thead th {\n",
       "        text-align: right;\n",
       "    }\n",
       "</style>\n",
       "<table border=\"1\" class=\"dataframe\">\n",
       "  <thead>\n",
       "    <tr style=\"text-align: right;\">\n",
       "      <th></th>\n",
       "      <th>cement</th>\n",
       "      <th>slag</th>\n",
       "      <th>ash</th>\n",
       "      <th>water</th>\n",
       "      <th>superplastic</th>\n",
       "      <th>coarseagg</th>\n",
       "      <th>fineagg</th>\n",
       "      <th>age</th>\n",
       "      <th>strength</th>\n",
       "      <th>label</th>\n",
       "    </tr>\n",
       "  </thead>\n",
       "  <tbody>\n",
       "    <tr>\n",
       "      <th>0</th>\n",
       "      <td>141.3</td>\n",
       "      <td>212.0</td>\n",
       "      <td>0.0</td>\n",
       "      <td>203.5</td>\n",
       "      <td>0.0</td>\n",
       "      <td>971.8</td>\n",
       "      <td>748.5</td>\n",
       "      <td>28</td>\n",
       "      <td>29.89</td>\n",
       "      <td>2</td>\n",
       "    </tr>\n",
       "    <tr>\n",
       "      <th>1</th>\n",
       "      <td>168.9</td>\n",
       "      <td>42.2</td>\n",
       "      <td>124.3</td>\n",
       "      <td>158.3</td>\n",
       "      <td>10.8</td>\n",
       "      <td>1080.8</td>\n",
       "      <td>796.2</td>\n",
       "      <td>14</td>\n",
       "      <td>23.51</td>\n",
       "      <td>2</td>\n",
       "    </tr>\n",
       "    <tr>\n",
       "      <th>2</th>\n",
       "      <td>250.0</td>\n",
       "      <td>0.0</td>\n",
       "      <td>95.7</td>\n",
       "      <td>187.4</td>\n",
       "      <td>5.5</td>\n",
       "      <td>956.9</td>\n",
       "      <td>861.2</td>\n",
       "      <td>28</td>\n",
       "      <td>29.22</td>\n",
       "      <td>2</td>\n",
       "    </tr>\n",
       "    <tr>\n",
       "      <th>3</th>\n",
       "      <td>266.0</td>\n",
       "      <td>114.0</td>\n",
       "      <td>0.0</td>\n",
       "      <td>228.0</td>\n",
       "      <td>0.0</td>\n",
       "      <td>932.0</td>\n",
       "      <td>670.0</td>\n",
       "      <td>28</td>\n",
       "      <td>45.85</td>\n",
       "      <td>4</td>\n",
       "    </tr>\n",
       "    <tr>\n",
       "      <th>4</th>\n",
       "      <td>154.8</td>\n",
       "      <td>183.4</td>\n",
       "      <td>0.0</td>\n",
       "      <td>193.3</td>\n",
       "      <td>9.1</td>\n",
       "      <td>1047.4</td>\n",
       "      <td>696.7</td>\n",
       "      <td>28</td>\n",
       "      <td>18.29</td>\n",
       "      <td>1</td>\n",
       "    </tr>\n",
       "  </tbody>\n",
       "</table>\n",
       "</div>"
      ],
      "text/plain": [
       "   cement   slag    ash  water  superplastic  coarseagg  fineagg  age  \\\n",
       "0   141.3  212.0    0.0  203.5           0.0      971.8    748.5   28   \n",
       "1   168.9   42.2  124.3  158.3          10.8     1080.8    796.2   14   \n",
       "2   250.0    0.0   95.7  187.4           5.5      956.9    861.2   28   \n",
       "3   266.0  114.0    0.0  228.0           0.0      932.0    670.0   28   \n",
       "4   154.8  183.4    0.0  193.3           9.1     1047.4    696.7   28   \n",
       "\n",
       "   strength  label  \n",
       "0     29.89      2  \n",
       "1     23.51      2  \n",
       "2     29.22      2  \n",
       "3     45.85      4  \n",
       "4     18.29      1  "
      ]
     },
     "execution_count": 16,
     "metadata": {},
     "output_type": "execute_result"
    }
   ],
   "source": [
    "dataset.head()"
   ]
  },
  {
   "cell_type": "markdown",
   "metadata": {},
   "source": [
    "Activity 2:"
   ]
  },
  {
   "cell_type": "code",
   "execution_count": 17,
   "metadata": {},
   "outputs": [
    {
     "name": "stdout",
     "output_type": "stream",
     "text": [
      "[ 28  14  90   7  56   3 100  91 180 365 270 360 120   1]\n"
     ]
    }
   ],
   "source": [
    "# Question 1 \n",
    "print(dataset['age'].unique()) \n",
    "dataset['age'] = dataset.age.astype('category') "
   ]
  },
  {
   "cell_type": "code",
   "execution_count": 18,
   "metadata": {},
   "outputs": [],
   "source": [
    "#Question 2 \n",
    "norm_columns = [e for e in dataset.columns if e not in ['age', 'strength', 'label']] \n",
    "for column in norm_columns: \n",
    "    dataset[column] = (dataset[column] - dataset[column].min()) / (dataset[column].max() - dataset[column].min()) \n",
    "dataset.to_csv('normalised_concrete.csv', index=False)"
   ]
  },
  {
   "cell_type": "code",
   "execution_count": 19,
   "metadata": {},
   "outputs": [
    {
     "name": "stdout",
     "output_type": "stream",
     "text": [
      "                cement      slag       ash     water  superplastic  coarseagg  \\\n",
      "cement        0.056929 -0.015764 -0.030331 -0.003320      0.004090  -0.005897   \n",
      "slag         -0.015764  0.057631 -0.024844  0.004392      0.001927  -0.015410   \n",
      "ash          -0.030331 -0.024844  0.102288 -0.014018      0.022399  -0.000720   \n",
      "water        -0.003320  0.004392 -0.014018  0.029091     -0.020806  -0.007028   \n",
      "superplastic  0.004090  0.001927  0.022399 -0.020806      0.034419  -0.011154   \n",
      "coarseagg    -0.005897 -0.015410 -0.000720 -0.007028     -0.011154   0.051089   \n",
      "fineagg      -0.010689 -0.013598  0.005089 -0.015461      0.008310  -0.008115   \n",
      "age           1.235113 -0.670986 -3.118798  2.991146     -2.258343  -0.043061   \n",
      "strength      1.984345  0.540728 -0.565040 -0.825266      1.134588  -0.622790   \n",
      "label         0.159406  0.033284 -0.036528 -0.056892      0.086523  -0.054950   \n",
      "\n",
      "               fineagg          age    strength      label  \n",
      "cement       -0.010689     1.235113    1.984345   0.159406  \n",
      "slag         -0.013598    -0.670986    0.540728   0.033284  \n",
      "ash           0.005089    -3.118798   -0.565040  -0.036528  \n",
      "water        -0.015461     2.991146   -0.825266  -0.056892  \n",
      "superplastic  0.008310    -2.258343    1.134588   0.086523  \n",
      "coarseagg    -0.008115    -0.043061   -0.622790  -0.054950  \n",
      "fineagg       0.040459    -1.983378   -0.561974  -0.048902  \n",
      "age          -1.983378  3990.437729  347.059758  31.550994  \n",
      "strength     -0.561974   347.059758  279.081814  22.205304  \n",
      "label        -0.048902    31.550994   22.205304   1.941657  \n"
     ]
    }
   ],
   "source": [
    "# Question 3 \n",
    "print(dataset.cov())  \n",
    "\n",
    "dataset['cement_slag'] = dataset['cement'] + dataset['slag'] \n",
    "dataset['cement_ash'] = dataset['cement'] + dataset['ash']  \n",
    "dataset['water_fineagg'] = dataset['water'] + dataset['fineagg']  \n",
    "dataset['ash_superplastic'] = dataset['ash'] + dataset['superplastic']  \n",
    "dataset.to_csv('features_concrete.csv', index=False)"
   ]
  },
  {
   "cell_type": "markdown",
   "metadata": {},
   "source": [
    "Activity 3:"
   ]
  },
  {
   "cell_type": "code",
   "execution_count": 6,
   "metadata": {},
   "outputs": [],
   "source": [
    "import pandas as pd \n",
    "dataset_directory = \"concrete.csv\" \n",
    "dataset = pd.read_csv(dataset_directory) \n",
    "dataset = dataset.drop(columns=['slag', 'ash','fineagg', 'strength']) \n",
    "dataset.to_csv('selected_feature_concrete.csv', index=False)"
   ]
  },
  {
   "cell_type": "markdown",
   "metadata": {},
   "source": [
    "Activity 4: "
   ]
  },
  {
   "cell_type": "code",
   "execution_count": null,
   "metadata": {},
   "outputs": [
    {
     "name": "stdout",
     "output_type": "stream",
     "text": [
      "Accuracy:  0.6310679611650486\n"
     ]
    }
   ],
   "source": [
    "from sklearn import metrics \n",
    "from sklearn.tree import DecisionTreeClassifier \n",
    "from sklearn.model_selection import train_test_split \n",
    " \n",
    "concrete = pd.read_csv(\"normalised_concrete.csv\") \n",
    "\n",
    "feature_cols = ['cement', 'water', 'superplastic', 'age'] \n",
    "x = concrete[feature_cols] # Feature\n",
    "y = concrete['label']  # Tsrgte Variable\n",
    "x_train, x_test, y_train, y_test = train_test_split(x, y, test_size=0.3, random_state=1)  \n",
    " \n",
    "# Creating the decision tree\n",
    "clf = DecisionTreeClassifier()  \n",
    "# Training the decision tree\n",
    "clf = clf.fit(x_train, y_train)  \n",
    "# Validate the results\n",
    "y_pred = clf.predict(x_test)  \n",
    "# Model Accuracy how often the classifer correct?\n",
    "print(\"Accuracy: \", metrics.accuracy_score(y_test, y_pred))"
   ]
  },
  {
   "cell_type": "markdown",
   "metadata": {},
   "source": [
    "Activity 5"
   ]
  },
  {
   "cell_type": "code",
   "execution_count": null,
   "metadata": {},
   "outputs": [
    {
     "name": "stdout",
     "output_type": "stream",
     "text": [
      "selected_converted_concrete.csv file has been created.\n"
     ]
    }
   ],
   "source": [
    "import pandas as pd\n",
    "\n",
    "# Load the 'converted_concrete.csv' dataset\n",
    "converted_concrete = pd.read_csv(\"converted_concrete.csv\")\n",
    "\n",
    "# Select the relevant features for the 'selected_converted_concrete' dataset\n",
    "selected_features = ['cement', 'water', 'superplastic', 'age']\n",
    "\n",
    "# Create the new dataframe with the selected features\n",
    "selected_converted_concrete = converted_concrete[selected_features + ['label']]\n",
    "\n",
    "# Save the new dataframe to a CSV file\n",
    "selected_converted_concrete.to_csv(\"selected_converted_concrete.csv\", index=False)\n",
    "\n",
    "print(\"selected_converted_concrete.csv file has been created.\")\n"
   ]
  },
  {
   "cell_type": "code",
   "execution_count": 23,
   "metadata": {},
   "outputs": [
    {
     "name": "stdout",
     "output_type": "stream",
     "text": [
      "converted_concrete Accuracy: 67.31%\n",
      "normalised_concrete Accuracy: 61.49%\n",
      "features_concrete Accuracy: 38.19%\n",
      "selected_feature_concrete Accuracy: 39.81%\n",
      "selected_converted_concrete Accuracy: 64.08%\n"
     ]
    }
   ],
   "source": [
    "import pandas as pd\n",
    "from sklearn.tree import DecisionTreeClassifier\n",
    "from sklearn.model_selection import train_test_split\n",
    "from sklearn import metrics\n",
    "\n",
    "# Load the datasets\n",
    "datasets = {\n",
    "    'converted_concrete': pd.read_csv(\"converted_concrete.csv\"),\n",
    "    'normalised_concrete': pd.read_csv(\"normalised_concrete.csv\"), \n",
    "    'features_concrete': pd.read_csv(\"features_concrete.csv\"),\n",
    "    'selected_feature_concrete': pd.read_csv(\"selected_feature_concrete.csv\"), \n",
    "    'selected_converted_concrete': pd.read_csv(\"selected_converted_concrete.csv\")\n",
    "}\n",
    "\n",
    "# Initialize a dictionary to store accuracies\n",
    "accuracies = {}\n",
    "\n",
    "# Loop over datasets, train and evaluate the models\n",
    "for name, dataset in datasets.items():\n",
    "    # Define the feature columns and target column based on the dataset structure\n",
    "    # Adjust the features as necessary based on what each dataset represents\n",
    "    if name == 'converted_concrete':\n",
    "        feature_cols = ['cement', 'slag', 'ash', 'water', 'superplastic', 'coarseagg', 'fineagg', 'age']\n",
    "    elif name == 'normalised_concrete':\n",
    "        feature_cols = ['cement', 'water', 'superplastic', 'age'] \n",
    "    elif name == 'features_concrete':\n",
    "        feature_cols = ['cement_slag', 'cement_ash', 'water_fineagg', 'ash_superplastic'] \n",
    "    elif name == 'selected_feature_concrete':\n",
    "        feature_cols = ['cement', 'water', 'superplastic', 'coarseagg', 'cement_slag', 'cement_ash', 'water_fineagg', 'ash_superplastic']\n",
    "    elif name == 'selected_converted_concrete':\n",
    "        feature_cols = ['cement', 'water', 'superplastic', 'age'] \n",
    "    \n",
    "    x = dataset[feature_cols]\n",
    "    y = dataset['label']  # Assume 'label' is the target variable in all datasets\n",
    "    x_train, x_test, y_train, y_test = train_test_split(x, y, test_size=0.3, random_state=1)\n",
    "    \n",
    "    # Create and train the decision tree classifier\n",
    "    clf = DecisionTreeClassifier()\n",
    "    clf = clf.fit(x_train, y_train)\n",
    "    \n",
    "    # Make predictions and calculate accuracy\n",
    "    y_pred = clf.predict(x_test)\n",
    "    accuracy = metrics.accuracy_score(y_test, y_pred)\n",
    "    \n",
    "    # Store the accuracy in the dictionary\n",
    "    accuracies[name] = accuracy\n",
    "\n",
    "# Print out the results\n",
    "for dataset_name, accuracy in accuracies.items():\n",
    "    print(f\"{dataset_name} Accuracy: {accuracy:.2%}\")\n"
   ]
  },
  {
   "cell_type": "markdown",
   "metadata": {},
   "source": [
    "For which feature set you obtained the highest accuracy and for which you obtained the lowest one ? \n",
    "In the given accuracy results for various feature sets, the highest accuracy was acheived with the \"converted_concrete.csv\" feature set, which yielded an accuracy of 67.31%. This indicates that the process of converting features in this particular set effectively enchanced the model's performance. On the other hand, the lowest accuracy was observed with the \"features_concrete\" set, which only acheived 38.19% accuracy. This suggest that the features included in the \"features_concrete\" set were not as effective in predcting the target variable, resulting in the poorest performance among all the evaluated feature sets. Comparing the highest and lowest accuracies highlights the importance of selecting and engineering the right features to improve model performance."
   ]
  }
 ],
 "metadata": {
  "kernelspec": {
   "display_name": "Python 3",
   "language": "python",
   "name": "python3"
  },
  "language_info": {
   "codemirror_mode": {
    "name": "ipython",
    "version": 3
   },
   "file_extension": ".py",
   "mimetype": "text/x-python",
   "name": "python",
   "nbconvert_exporter": "python",
   "pygments_lexer": "ipython3",
   "version": "3.12.2"
  }
 },
 "nbformat": 4,
 "nbformat_minor": 2
}
