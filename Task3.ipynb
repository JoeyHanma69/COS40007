{
 "cells": [
  {
   "cell_type": "code",
   "execution_count": 1,
   "metadata": {},
   "outputs": [],
   "source": [
    "import os\n",
    "import platform\n",
    "import random\n",
    "import shutil\n",
    "\n",
    "import numpy as np\n",
    "\n",
    "import torch\n",
    "import torch.nn as nn\n",
    "import torch.optim as optim\n",
    "from torch.optim import SGD\n",
    "from torch.optim.lr_scheduler import StepLR\n",
    "from torch.utils.data import DataLoader, Dataset\n",
    "\n",
    "import torchvision\n",
    "from torchvision import datasets, models, transforms\n",
    "from torchvision.datasets import ImageFolder\n",
    "from torchvision.models.detection import maskrcnn_resnet50_fpn\n",
    "from torchvision.models.detection.faster_rcnn import FastRCNNPredictor\n",
    "from torchvision.models.detection.mask_rcnn import MaskRCNNPredictor \n",
    "from torch.cuda.amp import autocast, GradScaler \n",
    "from torchvision.utils import draw_bounding_boxes, save_image\n",
    "\n",
    "import matplotlib.pyplot as plt\n",
    "from PIL import Image, ImageFont, ImageDraw\n",
    "import torchvision.transforms.functional as F\n",
    "\n",
    "import labelme2coco\n",
    "from pycocotools.coco import COCO\n",
    "\n",
    "import pandas as pd \n",
    "import warnings \n",
    "warnings.filterwarnings(\"ignore\")"
   ]
  },
  {
   "cell_type": "code",
   "execution_count": 2,
   "metadata": {},
   "outputs": [
    {
     "name": "stdout",
     "output_type": "stream",
     "text": [
      "HOME_DIR: /Users/cucum/Downloads/COS40007/week 5\n",
      "DATASETS_DIR: /Users/cucum/Downloads/COS40007/week 5\n",
      "DATA_DIR: /Users/cucum/Downloads/COS40007/week 5/train\n",
      "TEST_DIR: /Users/cucum/Downloads/COS40007/week 5/test\n",
      "RUST_DATASET_FOLDER: /Users/cucum/Downloads/COS40007/week 5/train/rust\n",
      "NO_RUST_DATASET_FOLDER: /Users/cucum/Downloads/COS40007/week 5/train/no rust\n",
      "COCO_ANNOTATIONS_DIR: /Users/cucum/Downloads/COS40007/week 5/coco_annotations\n"
     ]
    }
   ],
   "source": [
    "HOME_DIR = '/Users/cucum/Downloads/COS40007/week 5'\n",
    "os.chdir(HOME_DIR) \n",
    "DATASETS_DIR = f'{HOME_DIR}'\n",
    "DATA_DIR = f'{DATASETS_DIR}/train'\n",
    "NO_RUST_DATASET_FOLDER = f'{DATA_DIR}/no rust'\n",
    "RUST_DATASET_FOLDER = f'{DATA_DIR}/rust'\n",
    "TEST_DIR = f'{DATASETS_DIR}/test'\n",
    "LOG_LABEL_DATASET_FOLDER = f'{DATASETS_DIR}/log-labelled'\n",
    "COCO_ANNOTATIONS_DIR = f'{DATASETS_DIR}/coco_annotations'\n",
    "\n",
    "MY_LOG_LABEL_DATASET_FOLDER = f'{DATASETS_DIR}/log-labelled'\n",
    "MY_COCO_ANNOTATIONS_DIR = f'{DATASETS_DIR}coco_annotations'\n",
    "\n",
    "os.makedirs(TEST_DIR, exist_ok=True)\n",
    "os.makedirs(f'{TEST_DIR}/no rust', exist_ok=True)\n",
    "os.makedirs(f'{TEST_DIR}/rust', exist_ok=True)\n",
    "os.makedirs(COCO_ANNOTATIONS_DIR, exist_ok=True)\n",
    "os.makedirs(MY_COCO_ANNOTATIONS_DIR, exist_ok=True)\n",
    "\n",
    "print(f'HOME_DIR: {HOME_DIR}')\n",
    "print(f'DATASETS_DIR: {DATASETS_DIR}')\n",
    "print(f'DATA_DIR: {DATA_DIR}') \n",
    "print(f'TEST_DIR: {TEST_DIR}')\n",
    "print(f'RUST_DATASET_FOLDER: {RUST_DATASET_FOLDER}')\n",
    "print(f'NO_RUST_DATASET_FOLDER: {NO_RUST_DATASET_FOLDER}')\n",
    "print(f'COCO_ANNOTATIONS_DIR: {COCO_ANNOTATIONS_DIR}')"
   ]
  },
  {
   "cell_type": "code",
   "execution_count": 3,
   "metadata": {},
   "outputs": [
    {
     "name": "stdout",
     "output_type": "stream",
     "text": [
      "There are 600 listed files in folder /Users/cucum/Downloads/COS40007/week 5/log-labelled.\n"
     ]
    },
    {
     "name": "stderr",
     "output_type": "stream",
     "text": [
      "Converting labelme annotations to COCO format: 100%|██████████| 600/600 [00:02<00:00, 277.98it/s]\n",
      "10/23/2024 18:52:47 - INFO - labelme2coco -   Converted annotations in COCO format is exported to \\Users\\cucum\\Downloads\\COS40007\\week 5coco_annotations\\dataset.json\n"
     ]
    },
    {
     "name": "stdout",
     "output_type": "stream",
     "text": [
      "LabelMe annotations converted to COCO format for log detection.\n"
     ]
    }
   ],
   "source": [
    "# Set directory\n",
    "labelme_folder = MY_LOG_LABEL_DATASET_FOLDER\n",
    "export_dir = MY_COCO_ANNOTATIONS_DIR\n",
    "\n",
    "# Convert LabelMe annotations to COCO format\n",
    "category_id_start = 1  # Start category IDs from 1\n",
    "labelme2coco.convert(labelme_folder, export_dir, category_id_start=category_id_start)\n",
    "\n",
    "print(\"LabelMe annotations converted to COCO format for log detection.\")"
   ]
  },
  {
   "cell_type": "code",
   "execution_count": 4,
   "metadata": {},
   "outputs": [],
   "source": [
    "# Custom COCO dataset class\n",
    "class COCODataset(Dataset):\n",
    "    def __init__(self, root, annotation, transforms=None):\n",
    "        self.root = root\n",
    "        self.coco = COCO(annotation)\n",
    "        self.ids = list(sorted(self.coco.imgs.keys()))\n",
    "        self.transforms = transforms\n",
    "\n",
    "    def __getitem__(self, index):\n",
    "        coco = self.coco\n",
    "        img_id = self.ids[index]\n",
    "        ann_ids = coco.getAnnIds(imgIds=img_id)\n",
    "        anns = coco.loadAnns(ann_ids)\n",
    "        img_info = coco.loadImgs(img_id)[0]\n",
    "        path = img_info['file_name']\n",
    "\n",
    "        # Load image\n",
    "        img_path = os.path.join(self.root, path)\n",
    "        img = Image.open(img_path).convert('RGB')\n",
    "\n",
    "        # Load annotations\n",
    "        num_objs = len(anns)\n",
    "        boxes = []\n",
    "        labels = []\n",
    "        masks = []\n",
    "\n",
    "        for ann in anns:\n",
    "            xmin = ann['bbox'][0]\n",
    "            ymin = ann['bbox'][1]\n",
    "            width = ann['bbox'][2]\n",
    "            height = ann['bbox'][3]\n",
    "            xmax = xmin + width\n",
    "            ymax = ymin + height\n",
    "            boxes.append([xmin, ymin, xmax, ymax])\n",
    "            labels.append(ann['category_id'])\n",
    "            masks.append(coco.annToMask(ann))\n",
    "\n",
    "        boxes = torch.as_tensor(boxes, dtype=torch.float32)\n",
    "        labels = torch.as_tensor(labels, dtype=torch.int64)\n",
    "        masks = torch.as_tensor(np.stack(masks, axis=0), dtype=torch.uint8)\n",
    "\n",
    "        image_id = torch.tensor([img_id])\n",
    "        area = (boxes[:, 3] - boxes[:, 1]) * (boxes[:, 2] - boxes[:, 0])\n",
    "        iscrowd = torch.zeros((num_objs,), dtype=torch.int64)\n",
    "\n",
    "        target = {}\n",
    "        target['boxes'] = boxes\n",
    "        target['labels'] = labels\n",
    "        target['masks'] = masks\n",
    "        target['image_id'] = image_id\n",
    "        target['area'] = area\n",
    "        target['iscrowd'] = iscrowd\n",
    "\n",
    "        if self.transforms:\n",
    "            img = self.transforms(img)\n",
    "\n",
    "        return img, target\n",
    "\n",
    "    def __len__(self):\n",
    "        return len(self.ids)"
   ]
  },
  {
   "cell_type": "code",
   "execution_count": null,
   "metadata": {},
   "outputs": [],
   "source": [
    "# Transformations\n",
    "transform = transforms.Compose([\n",
    "    transforms.ToTensor()\n",
    "])\n",
    "\n",
    "# Paths to images and COCO annotations\n",
    "images_dir = LOG_LABEL_DATASET_FOLDER\n",
    "train_json = os.path.join(COCO_ANNOTATIONS_DIR, 'train.json')\n",
    "val_json = os.path.join(COCO_ANNOTATIONS_DIR, 'val.json')\n",
    "\n",
    "# Dataset instances\n",
    "train_dataset = COCODataset(root=images_dir, annotation=train_json, transforms=transform)\n",
    "val_dataset = COCODataset(root=images_dir, annotation=val_json, transforms=transform)\n",
    "\n",
    "# Collate Function\n",
    "def collate_fn(batch):\n",
    "    return tuple(zip(*batch))\n",
    "\n",
    "# DataLoader instances\n",
    "train_loader = DataLoader(\n",
    "    train_dataset,\n",
    "    batch_size=1,       \n",
    "    shuffle=True,\n",
    "    num_workers=0,     \n",
    "    collate_fn=collate_fn  \n",
    ")\n",
    "\n",
    "val_loader = DataLoader(\n",
    "    val_dataset,\n",
    "    batch_size=1,      \n",
    "    shuffle=False,\n",
    "    num_workers=0,      \n",
    "    collate_fn=collate_fn  \n",
    ")\n",
    "\n",
    "print(\"Datasets loaded successfully for Mask R-CNN training.\")"
   ]
  },
  {
   "cell_type": "code",
   "execution_count": 5,
   "metadata": {},
   "outputs": [
    {
     "ename": "NameError",
     "evalue": "name 'train_dataset' is not defined",
     "output_type": "error",
     "traceback": [
      "\u001b[1;31m---------------------------------------------------------------------------\u001b[0m",
      "\u001b[1;31mNameError\u001b[0m                                 Traceback (most recent call last)",
      "Cell \u001b[1;32mIn[5], line 27\u001b[0m\n\u001b[0;32m     24\u001b[0m     plt\u001b[38;5;241m.\u001b[39mshow()\n\u001b[0;32m     26\u001b[0m \u001b[38;5;66;03m# Visualize a random training sample\u001b[39;00m\n\u001b[1;32m---> 27\u001b[0m visualize_sample(\u001b[43mtrain_dataset\u001b[49m)\n\u001b[0;32m     28\u001b[0m visualize_sample(val_dataset)\n",
      "\u001b[1;31mNameError\u001b[0m: name 'train_dataset' is not defined"
     ]
    }
   ],
   "source": [
    "# Visualize a sample from the COCO dataset\n",
    "def visualize_sample(dataset, index=None):\n",
    "    if index is None:\n",
    "        index = random.randint(0, len(dataset) - 1)\n",
    "    \n",
    "    img, target = dataset[index]\n",
    "    img = img.permute(1, 2, 0).numpy()\n",
    "    \n",
    "    boxes = target['boxes'].numpy()\n",
    "    labels = target['labels'].numpy()\n",
    "    masks = target['masks'].numpy()\n",
    "    \n",
    "    plt.figure(figsize=(10, 10))\n",
    "    plt.imshow(img)\n",
    "    \n",
    "    ax = plt.gca()\n",
    "    \n",
    "    for box in boxes:\n",
    "        xmin, ymin, xmax, ymax = box\n",
    "        rect = plt.Rectangle((xmin, ymin), xmax - xmin, ymax - ymin, fill=False, color='red', linewidth=2)\n",
    "        ax.add_patch(rect)\n",
    "    \n",
    "    plt.axis('off')\n",
    "    plt.show()\n",
    "\n",
    "# Visualize a random training sample\n",
    "visualize_sample(train_dataset)\n",
    "visualize_sample(val_dataset)"
   ]
  },
  {
   "cell_type": "code",
   "execution_count": 4,
   "metadata": {},
   "outputs": [
    {
     "ename": "NameError",
     "evalue": "name 'COCODataset' is not defined",
     "output_type": "error",
     "traceback": [
      "\u001b[1;31m---------------------------------------------------------------------------\u001b[0m",
      "\u001b[1;31mNameError\u001b[0m                                 Traceback (most recent call last)",
      "Cell \u001b[1;32mIn[4], line 6\u001b[0m\n\u001b[0;32m      4\u001b[0m images_dir \u001b[38;5;241m=\u001b[39m MY_LOG_LABEL_DATASET_FOLDER\n\u001b[0;32m      5\u001b[0m dataset_json \u001b[38;5;241m=\u001b[39m os\u001b[38;5;241m.\u001b[39mpath\u001b[38;5;241m.\u001b[39mjoin(MY_COCO_ANNOTATIONS_DIR, \u001b[38;5;124m'\u001b[39m\u001b[38;5;124mdataset.json\u001b[39m\u001b[38;5;124m'\u001b[39m)\n\u001b[1;32m----> 6\u001b[0m dataset \u001b[38;5;241m=\u001b[39m \u001b[43mCOCODataset\u001b[49m(root\u001b[38;5;241m=\u001b[39mimages_dir, annotation\u001b[38;5;241m=\u001b[39mdataset_json, transforms\u001b[38;5;241m=\u001b[39mtransform)\n\u001b[0;32m      7\u001b[0m visualize_sample(dataset, index\u001b[38;5;241m=\u001b[39m\u001b[38;5;241m0\u001b[39m)\n",
      "\u001b[1;31mNameError\u001b[0m: name 'COCODataset' is not defined"
     ]
    }
   ],
   "source": [
    "transform = transforms.Compose([\n",
    "    transforms.ToTensor()\n",
    "])\n",
    "images_dir = MY_LOG_LABEL_DATASET_FOLDER\n",
    "dataset_json = os.path.join(MY_COCO_ANNOTATIONS_DIR, 'dataset.json')\n",
    "dataset = COCODataset(root=images_dir, annotation=dataset_json, transforms=transform)\n",
    "visualize_sample(dataset, index=0)"
   ]
  }
 ],
 "metadata": {
  "kernelspec": {
   "display_name": "Python 3",
   "language": "python",
   "name": "python3"
  },
  "language_info": {
   "codemirror_mode": {
    "name": "ipython",
    "version": 3
   },
   "file_extension": ".py",
   "mimetype": "text/x-python",
   "name": "python",
   "nbconvert_exporter": "python",
   "pygments_lexer": "ipython3",
   "version": "3.12.6"
  }
 },
 "nbformat": 4,
 "nbformat_minor": 2
}
