{
 "cells": [
  {
   "cell_type": "markdown",
   "metadata": {},
   "source": [
    "Studio 3"
   ]
  },
  {
   "cell_type": "markdown",
   "metadata": {},
   "source": [
    "Step 1: Data Collection"
   ]
  },
  {
   "cell_type": "code",
   "execution_count": 2,
   "metadata": {},
   "outputs": [
    {
     "name": "stdout",
     "output_type": "stream",
     "text": [
      "   Frame    Neck x    Neck y    Neck z    Head x    Head y    Head z  class\n",
      "0      0  0.207796  0.127939 -0.175130  0.376399  0.202993 -0.182585      0\n",
      "1      1 -0.006589  0.356974  0.286768  0.204439  0.521502  0.198235      0\n",
      "2      2  0.112606  0.043502  0.104975  0.021196  0.197390  0.165812      0\n",
      "3      3 -0.031866  0.037024  0.131005 -0.157759  0.118886  0.201893      0\n",
      "4      4  0.135369  0.019024  0.115650  0.011714  0.096737  0.107186      0\n",
      "(72060, 8)\n"
     ]
    }
   ],
   "source": [
    "import pandas as pd  \n",
    "import numpy as np\n",
    " \n",
    "boning_data = pd.read_csv('./ampc2/Boning.csv') \n",
    "slicing_data = pd.read_csv('./ampc2/Slicing.csv') \n",
    "\n",
    "columns_to_use = ['Frame', 'Neck x', 'Neck y', 'Neck z', 'Head x', 'Head y', 'Head z'] \n",
    "\n",
    "boning_subset = boning_data[columns_to_use].copy() \n",
    "boning_subset['class'] = 0 \n",
    "\n",
    "slicing_subset = slicing_data[columns_to_use].copy() \n",
    "slicing_subset['class'] = 1 \n",
    "\n",
    "combined_data = pd.concat([boning_subset, slicing_subset], ignore_index=True) \n",
    "\n",
    "print(combined_data.head()) \n",
    "print(combined_data.shape)"
   ]
  },
  {
   "cell_type": "markdown",
   "metadata": {},
   "source": [
    "Step 2: Create Composite columns "
   ]
  },
  {
   "cell_type": "code",
   "execution_count": 7,
   "metadata": {},
   "outputs": [
    {
     "name": "stdout",
     "output_type": "stream",
     "text": [
      "   Frame    Neck x    Neck y    Neck z    Head x    Head y    Head z  class  \\\n",
      "0      0  0.207796  0.127939 -0.175130  0.376399  0.202993 -0.182585      0   \n",
      "1      1 -0.006589  0.356974  0.286768  0.204439  0.521502  0.198235      0   \n",
      "2      2  0.112606  0.043502  0.104975  0.021196  0.197390  0.165812      0   \n",
      "3      3 -0.031866  0.037024  0.131005 -0.157759  0.118886  0.201893      0   \n",
      "4      4  0.135369  0.019024  0.115650  0.011714  0.096737  0.107186      0   \n",
      "\n",
      "   rms_xy_neck  rms_yz_neck  rms_zx_neck  rms_xyz_neck  roll_neck  pitch_neck  \\\n",
      "0     0.244023     0.216884     0.271753           NaN  25.210615   43.774063   \n",
      "1     0.357035     0.457894     0.286844      0.643616  51.216647   -0.824380   \n",
      "2     0.120717     0.113631     0.153948      0.345756  15.778909   44.740429   \n",
      "3     0.048849     0.136136     0.134825      0.365227  15.355297  -13.174411   \n",
      "4     0.136699     0.117204     0.178043      0.366519   6.098993   49.113563   \n",
      "\n",
      "   rms_xy_head  rms_yz_head  rms_zx_head  rms_xyz_head  roll_head  pitch_head  \n",
      "0     0.427648     0.273027     0.418346      0.017249  25.883962   54.044176  \n",
      "1     0.560143     0.557908     0.284767      0.715538  61.363191   20.124758  \n",
      "2     0.198525     0.257792     0.167162      0.453017  49.740164    4.700431  \n",
      "3     0.197539     0.234296     0.256220      0.490830  24.891210  -33.953692  \n",
      "4     0.097443     0.144384     0.107824      0.341587  41.897439    4.638284  \n",
      "(72060, 20)\n"
     ]
    },
    {
     "name": "stderr",
     "output_type": "stream",
     "text": [
      "c:\\Users\\cucum\\AppData\\Local\\Programs\\Python\\Python312\\Lib\\site-packages\\pandas\\core\\arraylike.py:399: RuntimeWarning: invalid value encountered in sqrt\n",
      "  result = getattr(ufunc, method)(*inputs, **kwargs)\n"
     ]
    }
   ],
   "source": [
    "def rms(x, y): \n",
    "    return np.sqrt(x**2 + y**2) \n",
    "\n",
    "def roll(x, y, z): \n",
    "    return np.arctan2(y, np.sqrt(x**2 + z**2)) * 180 / np.pi \n",
    "\n",
    "def pitch(x, y, z): \n",
    "    return np.arctan2(x, np.sqrt(y**2 + z**2)) * 180 / np.pi  \n",
    "\n",
    "combined_data['rms_xy_neck'] = rms(combined_data['Neck x'], combined_data['Neck y'])  \n",
    "combined_data['rms_yz_neck'] = rms(combined_data['Neck y'], combined_data['Neck z'])   \n",
    "combined_data['rms_zx_neck'] = rms(combined_data['Neck z'], combined_data['Neck x'])   \n",
    "combined_data['rms_xyz_neck'] = np.sqrt(combined_data['Neck x'] ** 2 + combined_data['Neck y'] ** 2 + combined_data['Neck z'])  \n",
    "combined_data['roll_neck'] = roll(combined_data['Neck x'], combined_data['Neck y'], combined_data['Neck z']) \n",
    "combined_data['pitch_neck'] = pitch(combined_data['Neck x'], combined_data['Neck y'], combined_data['Neck z']) \n",
    "\n",
    "combined_data['rms_xy_head'] = rms(combined_data['Head x'], combined_data['Head y'])  \n",
    "combined_data['rms_yz_head'] = rms(combined_data['Head y'], combined_data['Head z'])   \n",
    "combined_data['rms_zx_head'] = rms(combined_data['Head z'], combined_data['Head x'])   \n",
    "combined_data['rms_xyz_head'] = np.sqrt(combined_data['Head x'] ** 2 + combined_data['Head y'] ** 2 + combined_data['Head z'])  \n",
    "combined_data['roll_head'] = roll(combined_data['Head x'], combined_data['Head y'], combined_data['Head z']) \n",
    "combined_data['pitch_head'] = pitch(combined_data['Head x'], combined_data['Head y'], combined_data['Head z'])  \n",
    "\n",
    "print(combined_data.head()) \n",
    "print(combined_data.shape)\n"
   ]
  },
  {
   "cell_type": "markdown",
   "metadata": {},
   "source": [
    "Step 3: Data pre-processing"
   ]
  },
  {
   "cell_type": "code",
   "execution_count": 19,
   "metadata": {},
   "outputs": [
    {
     "name": "stdout",
     "output_type": "stream",
     "text": [
      "   Frame_mean  Frame_std  Frame_min  Frame_max  Frame_auc  Frame_peaks  \\\n",
      "0        29.5  17.464249        0.0       59.0     1740.5          0.0   \n",
      "1        89.5  17.464249       60.0      119.0     5280.5          0.0   \n",
      "2       149.5  17.464249      120.0      179.0     8820.5          0.0   \n",
      "3       209.5  17.464249      180.0      239.0    12360.5          0.0   \n",
      "4       269.5  17.464249      240.0      299.0    15900.5          0.0   \n",
      "\n",
      "   Neck x_mean  Neck x_std  Neck x_min  Neck x_max  ...  Head y_max  \\\n",
      "0     0.058447    0.258289   -0.595560    0.653929  ...    2.183209   \n",
      "1    -0.096646    0.688439   -1.595246    2.575807  ...    1.228834   \n",
      "2    -0.028674    1.078347   -2.423520    2.001616  ...    1.523143   \n",
      "3     0.165025    1.015397   -2.141650    2.492493  ...    2.855687   \n",
      "4    -0.146506    1.349297   -3.680950    3.637092  ...    4.772228   \n",
      "\n",
      "   Head y_auc  Head y_peaks  Head z_mean  Head z_std  Head z_min  Head z_max  \\\n",
      "0    2.208231          11.0    -0.289862    1.967501  -11.972466    3.597998   \n",
      "1   -1.933110          13.0     0.131251    0.757781   -0.806949    3.060638   \n",
      "2    6.318962          14.0    -0.232173    0.640468   -2.833095    0.898223   \n",
      "3  -15.000081          11.0     0.105348    0.793287   -1.462270    1.965568   \n",
      "4    7.454956          11.0    -0.021706    0.867448   -2.265711    2.376357   \n",
      "\n",
      "   Head z_auc  Head z_peaks  class  \n",
      "0  -17.437341          16.0      0  \n",
      "1    7.166368          14.0      0  \n",
      "2  -13.278812          16.0      0  \n",
      "3    6.544206          11.0      0  \n",
      "4   -1.157321          11.0      0  \n",
      "\n",
      "[5 rows x 43 columns]\n",
      "(1201, 43)\n"
     ]
    }
   ],
   "source": [
    "import numpy as np\n",
    "from scipy.signal import find_peaks\n",
    "\n",
    "def compute_features(group):\n",
    "    features = {}\n",
    "    for col in group.columns:\n",
    "        if col not in ['frame', 'class']:\n",
    "            features[f'{col}_mean'] = group[col].mean()\n",
    "            features[f'{col}_std'] = group[col].std()\n",
    "            features[f'{col}_min'] = group[col].min()\n",
    "            features[f'{col}_max'] = group[col].max()\n",
    "            features[f'{col}_auc'] = np.trapz(group[col])  # Using numpy's trapz instead of simps\n",
    "            features[f'{col}_peaks'] = len(find_peaks(group[col])[0]) \n",
    "            \n",
    "    # Preserve the class label (assuming it's consistent within each group)\n",
    "    features['class'] = group['class'].iloc[0]\n",
    "    return pd.Series(features)\n",
    "\n",
    "# Group by minutes (60 frames) and compute features\n",
    "feature_data = combined_data.groupby(combined_data.index // 60).apply(compute_features).reset_index(drop=True)\n",
    "feature_data['class'] = combined_data.groupby(combined_data.index // 60)['class'].first()\n",
    "\n",
    "print(feature_data.head())\n",
    "print(feature_data.shape)"
   ]
  },
  {
   "cell_type": "markdown",
   "metadata": {},
   "source": [
    "Step 4: Training"
   ]
  },
  {
   "cell_type": "code",
   "execution_count": 20,
   "metadata": {},
   "outputs": [
    {
     "name": "stderr",
     "output_type": "stream",
     "text": [
      "c:\\Users\\cucum\\AppData\\Local\\Programs\\Python\\Python312\\Lib\\site-packages\\sklearn\\feature_selection\\_univariate_selection.py:112: UserWarning: Features [1 5] are constant.\n",
      "  warnings.warn(\"Features %s are constant.\" % constant_features_idx, UserWarning)\n",
      "c:\\Users\\cucum\\AppData\\Local\\Programs\\Python\\Python312\\Lib\\site-packages\\sklearn\\feature_selection\\_univariate_selection.py:113: RuntimeWarning: invalid value encountered in divide\n",
      "  f = msb / msw\n",
      "c:\\Users\\cucum\\AppData\\Local\\Programs\\Python\\Python312\\Lib\\site-packages\\sklearn\\feature_selection\\_univariate_selection.py:112: UserWarning: Features [1 5] are constant.\n",
      "  warnings.warn(\"Features %s are constant.\" % constant_features_idx, UserWarning)\n",
      "c:\\Users\\cucum\\AppData\\Local\\Programs\\Python\\Python312\\Lib\\site-packages\\sklearn\\feature_selection\\_univariate_selection.py:113: RuntimeWarning: invalid value encountered in divide\n",
      "  f = msb / msw\n",
      "c:\\Users\\cucum\\AppData\\Local\\Programs\\Python\\Python312\\Lib\\site-packages\\sklearn\\feature_selection\\_univariate_selection.py:112: UserWarning: Features [1 5] are constant.\n",
      "  warnings.warn(\"Features %s are constant.\" % constant_features_idx, UserWarning)\n",
      "c:\\Users\\cucum\\AppData\\Local\\Programs\\Python\\Python312\\Lib\\site-packages\\sklearn\\feature_selection\\_univariate_selection.py:113: RuntimeWarning: invalid value encountered in divide\n",
      "  f = msb / msw\n",
      "c:\\Users\\cucum\\AppData\\Local\\Programs\\Python\\Python312\\Lib\\site-packages\\sklearn\\feature_selection\\_univariate_selection.py:112: UserWarning: Features [1 5] are constant.\n",
      "  warnings.warn(\"Features %s are constant.\" % constant_features_idx, UserWarning)\n",
      "c:\\Users\\cucum\\AppData\\Local\\Programs\\Python\\Python312\\Lib\\site-packages\\sklearn\\feature_selection\\_univariate_selection.py:113: RuntimeWarning: invalid value encountered in divide\n",
      "  f = msb / msw\n",
      "c:\\Users\\cucum\\AppData\\Local\\Programs\\Python\\Python312\\Lib\\site-packages\\sklearn\\feature_selection\\_univariate_selection.py:112: UserWarning: Features [1 5] are constant.\n",
      "  warnings.warn(\"Features %s are constant.\" % constant_features_idx, UserWarning)\n",
      "c:\\Users\\cucum\\AppData\\Local\\Programs\\Python\\Python312\\Lib\\site-packages\\sklearn\\feature_selection\\_univariate_selection.py:113: RuntimeWarning: invalid value encountered in divide\n",
      "  f = msb / msw\n",
      "c:\\Users\\cucum\\AppData\\Local\\Programs\\Python\\Python312\\Lib\\site-packages\\sklearn\\feature_selection\\_univariate_selection.py:112: UserWarning: Features [1 5] are constant.\n",
      "  warnings.warn(\"Features %s are constant.\" % constant_features_idx, UserWarning)\n",
      "c:\\Users\\cucum\\AppData\\Local\\Programs\\Python\\Python312\\Lib\\site-packages\\sklearn\\feature_selection\\_univariate_selection.py:113: RuntimeWarning: invalid value encountered in divide\n",
      "  f = msb / msw\n",
      "c:\\Users\\cucum\\AppData\\Local\\Programs\\Python\\Python312\\Lib\\site-packages\\sklearn\\feature_selection\\_univariate_selection.py:112: UserWarning: Features [1 5] are constant.\n",
      "  warnings.warn(\"Features %s are constant.\" % constant_features_idx, UserWarning)\n",
      "c:\\Users\\cucum\\AppData\\Local\\Programs\\Python\\Python312\\Lib\\site-packages\\sklearn\\feature_selection\\_univariate_selection.py:113: RuntimeWarning: invalid value encountered in divide\n",
      "  f = msb / msw\n",
      "c:\\Users\\cucum\\AppData\\Local\\Programs\\Python\\Python312\\Lib\\site-packages\\sklearn\\feature_selection\\_univariate_selection.py:112: UserWarning: Features [1 5] are constant.\n",
      "  warnings.warn(\"Features %s are constant.\" % constant_features_idx, UserWarning)\n",
      "c:\\Users\\cucum\\AppData\\Local\\Programs\\Python\\Python312\\Lib\\site-packages\\sklearn\\feature_selection\\_univariate_selection.py:113: RuntimeWarning: invalid value encountered in divide\n",
      "  f = msb / msw\n",
      "c:\\Users\\cucum\\AppData\\Local\\Programs\\Python\\Python312\\Lib\\site-packages\\sklearn\\feature_selection\\_univariate_selection.py:112: UserWarning: Features [1 5] are constant.\n",
      "  warnings.warn(\"Features %s are constant.\" % constant_features_idx, UserWarning)\n",
      "c:\\Users\\cucum\\AppData\\Local\\Programs\\Python\\Python312\\Lib\\site-packages\\sklearn\\feature_selection\\_univariate_selection.py:113: RuntimeWarning: invalid value encountered in divide\n",
      "  f = msb / msw\n",
      "c:\\Users\\cucum\\AppData\\Local\\Programs\\Python\\Python312\\Lib\\site-packages\\sklearn\\feature_selection\\_univariate_selection.py:112: UserWarning: Features [1 5] are constant.\n",
      "  warnings.warn(\"Features %s are constant.\" % constant_features_idx, UserWarning)\n",
      "c:\\Users\\cucum\\AppData\\Local\\Programs\\Python\\Python312\\Lib\\site-packages\\sklearn\\feature_selection\\_univariate_selection.py:113: RuntimeWarning: invalid value encountered in divide\n",
      "  f = msb / msw\n",
      "c:\\Users\\cucum\\AppData\\Local\\Programs\\Python\\Python312\\Lib\\site-packages\\sklearn\\feature_selection\\_univariate_selection.py:112: UserWarning: Features [1 5] are constant.\n",
      "  warnings.warn(\"Features %s are constant.\" % constant_features_idx, UserWarning)\n",
      "c:\\Users\\cucum\\AppData\\Local\\Programs\\Python\\Python312\\Lib\\site-packages\\sklearn\\feature_selection\\_univariate_selection.py:113: RuntimeWarning: invalid value encountered in divide\n",
      "  f = msb / msw\n"
     ]
    },
    {
     "name": "stdout",
     "output_type": "stream",
     "text": [
      "SVM Model 1: Train Score: 0.931, Test Score: 0.881, CV Score: 0.860\n",
      "SVM Model 2: Train Score: 0.931, Test Score: 0.881, CV Score: 0.860\n",
      "SVM Model 3: Train Score: 0.911, Test Score: 0.881, CV Score: 0.825\n",
      "SVM Model 4: Train Score: 0.904, Test Score: 0.881, CV Score: 0.851\n",
      "SGD: Train Score: 0.890, Test Score: 0.850, CV Score: 0.849\n",
      "RandomForest: Train Score: 1.000, Test Score: 0.909, CV Score: 0.805\n"
     ]
    },
    {
     "name": "stderr",
     "output_type": "stream",
     "text": [
      "c:\\Users\\cucum\\AppData\\Local\\Programs\\Python\\Python312\\Lib\\site-packages\\sklearn\\neural_network\\_multilayer_perceptron.py:690: ConvergenceWarning: Stochastic Optimizer: Maximum iterations (200) reached and the optimization hasn't converged yet.\n",
      "  warnings.warn(\n",
      "c:\\Users\\cucum\\AppData\\Local\\Programs\\Python\\Python312\\Lib\\site-packages\\sklearn\\neural_network\\_multilayer_perceptron.py:690: ConvergenceWarning: Stochastic Optimizer: Maximum iterations (200) reached and the optimization hasn't converged yet.\n",
      "  warnings.warn(\n",
      "c:\\Users\\cucum\\AppData\\Local\\Programs\\Python\\Python312\\Lib\\site-packages\\sklearn\\neural_network\\_multilayer_perceptron.py:690: ConvergenceWarning: Stochastic Optimizer: Maximum iterations (200) reached and the optimization hasn't converged yet.\n",
      "  warnings.warn(\n",
      "c:\\Users\\cucum\\AppData\\Local\\Programs\\Python\\Python312\\Lib\\site-packages\\sklearn\\neural_network\\_multilayer_perceptron.py:690: ConvergenceWarning: Stochastic Optimizer: Maximum iterations (200) reached and the optimization hasn't converged yet.\n",
      "  warnings.warn(\n",
      "c:\\Users\\cucum\\AppData\\Local\\Programs\\Python\\Python312\\Lib\\site-packages\\sklearn\\neural_network\\_multilayer_perceptron.py:690: ConvergenceWarning: Stochastic Optimizer: Maximum iterations (200) reached and the optimization hasn't converged yet.\n",
      "  warnings.warn(\n",
      "c:\\Users\\cucum\\AppData\\Local\\Programs\\Python\\Python312\\Lib\\site-packages\\sklearn\\neural_network\\_multilayer_perceptron.py:690: ConvergenceWarning: Stochastic Optimizer: Maximum iterations (200) reached and the optimization hasn't converged yet.\n",
      "  warnings.warn(\n",
      "c:\\Users\\cucum\\AppData\\Local\\Programs\\Python\\Python312\\Lib\\site-packages\\sklearn\\neural_network\\_multilayer_perceptron.py:690: ConvergenceWarning: Stochastic Optimizer: Maximum iterations (200) reached and the optimization hasn't converged yet.\n",
      "  warnings.warn(\n",
      "c:\\Users\\cucum\\AppData\\Local\\Programs\\Python\\Python312\\Lib\\site-packages\\sklearn\\neural_network\\_multilayer_perceptron.py:690: ConvergenceWarning: Stochastic Optimizer: Maximum iterations (200) reached and the optimization hasn't converged yet.\n",
      "  warnings.warn(\n",
      "c:\\Users\\cucum\\AppData\\Local\\Programs\\Python\\Python312\\Lib\\site-packages\\sklearn\\neural_network\\_multilayer_perceptron.py:690: ConvergenceWarning: Stochastic Optimizer: Maximum iterations (200) reached and the optimization hasn't converged yet.\n",
      "  warnings.warn(\n",
      "c:\\Users\\cucum\\AppData\\Local\\Programs\\Python\\Python312\\Lib\\site-packages\\sklearn\\neural_network\\_multilayer_perceptron.py:690: ConvergenceWarning: Stochastic Optimizer: Maximum iterations (200) reached and the optimization hasn't converged yet.\n",
      "  warnings.warn(\n"
     ]
    },
    {
     "name": "stdout",
     "output_type": "stream",
     "text": [
      "MLP: Train Score: 0.987, Test Score: 0.875, CV Score: 0.864\n"
     ]
    },
    {
     "name": "stderr",
     "output_type": "stream",
     "text": [
      "c:\\Users\\cucum\\AppData\\Local\\Programs\\Python\\Python312\\Lib\\site-packages\\sklearn\\neural_network\\_multilayer_perceptron.py:690: ConvergenceWarning: Stochastic Optimizer: Maximum iterations (200) reached and the optimization hasn't converged yet.\n",
      "  warnings.warn(\n"
     ]
    }
   ],
   "source": [
    "from sklearn.model_selection import train_test_split, cross_val_score\n",
    "from sklearn.svm import SVC\n",
    "from sklearn.preprocessing import StandardScaler\n",
    "from sklearn.pipeline import Pipeline\n",
    "from sklearn.model_selection import GridSearchCV\n",
    "from sklearn.feature_selection import SelectKBest, f_classif\n",
    "from sklearn.decomposition import PCA\n",
    "from sklearn.linear_model import SGDClassifier\n",
    "from sklearn.ensemble import RandomForestClassifier\n",
    "from sklearn.neural_network import MLPClassifier\n",
    "\n",
    "# Prepare data\n",
    "X = feature_data.drop('class', axis=1)\n",
    "y = feature_data['class']\n",
    "\n",
    "# Function to train and evaluate SVM\n",
    "def train_evaluate_svm(X, y, cv=10, param_grid=None, feature_selection=None):\n",
    "    X_train, X_test, y_train, y_test = train_test_split(X, y, test_size=0.3, random_state=42)\n",
    "    \n",
    "    pipeline_steps = [\n",
    "        ('scaler', StandardScaler()),\n",
    "        ('svm', SVC(random_state=42))\n",
    "    ]\n",
    "    \n",
    "    if feature_selection == 'selectk':\n",
    "        pipeline_steps.insert(1, ('feature_selection', SelectKBest(f_classif, k=10)))\n",
    "    elif feature_selection == 'pca':\n",
    "        pipeline_steps.insert(1, ('pca', PCA(n_components=10)))\n",
    "    \n",
    "    pipeline = Pipeline(pipeline_steps)\n",
    "    \n",
    "    if param_grid:\n",
    "        grid_search = GridSearchCV(pipeline, param_grid, cv=cv, n_jobs=-1)\n",
    "        grid_search.fit(X_train, y_train)\n",
    "        best_model = grid_search.best_estimator_\n",
    "    else:\n",
    "        best_model = pipeline.fit(X_train, y_train)\n",
    "    \n",
    "    train_score = best_model.score(X_train, y_train)\n",
    "    test_score = best_model.score(X_test, y_test)\n",
    "    cv_score = cross_val_score(best_model, X, y, cv=cv).mean()\n",
    "    \n",
    "    return train_score, test_score, cv_score\n",
    "\n",
    "# Train different SVM models\n",
    "svm_results = []\n",
    "\n",
    "# Basic SVM\n",
    "svm_results.append(train_evaluate_svm(X, y))\n",
    "\n",
    "# SVM with hyperparameter tuning\n",
    "param_grid = {'svm__C': [0.1, 1, 10], 'svm__kernel': ['rbf', 'linear']}\n",
    "svm_results.append(train_evaluate_svm(X, y, param_grid=param_grid))\n",
    "\n",
    "# SVM with hyperparameter tuning and 10 best features\n",
    "svm_results.append(train_evaluate_svm(X, y, param_grid=param_grid, feature_selection='selectk'))\n",
    "\n",
    "# SVM with hyperparameter tuning and 10 principal components\n",
    "svm_results.append(train_evaluate_svm(X, y, param_grid=param_grid, feature_selection='pca'))\n",
    "\n",
    "# Print SVM results\n",
    "for i, result in enumerate(svm_results):\n",
    "    print(f\"SVM Model {i+1}: Train Score: {result[0]:.3f}, Test Score: {result[1]:.3f}, CV Score: {result[2]:.3f}\")\n",
    "\n",
    "# Train and evaluate other models\n",
    "def train_evaluate_model(model, X, y):\n",
    "    X_train, X_test, y_train, y_test = train_test_split(X, y, test_size=0.3, random_state=42)\n",
    "    pipeline = Pipeline([('scaler', StandardScaler()), ('model', model)])\n",
    "    pipeline.fit(X_train, y_train)\n",
    "    train_score = pipeline.score(X_train, y_train)\n",
    "    test_score = pipeline.score(X_test, y_test)\n",
    "    cv_score = cross_val_score(pipeline, X, y, cv=10).mean()\n",
    "    return train_score, test_score, cv_score\n",
    "\n",
    "models = [\n",
    "    ('SGD', SGDClassifier(random_state=42)),\n",
    "    ('RandomForest', RandomForestClassifier(random_state=42)),\n",
    "    ('MLP', MLPClassifier(random_state=42))\n",
    "]\n",
    "\n",
    "for name, model in models:\n",
    "    result = train_evaluate_model(model, X, y)\n",
    "    print(f\"{name}: Train Score: {result[0]:.3f}, Test Score: {result[1]:.3f}, CV Score: {result[2]:.3f}\")"
   ]
  }
 ],
 "metadata": {
  "kernelspec": {
   "display_name": "Python 3",
   "language": "python",
   "name": "python3"
  },
  "language_info": {
   "codemirror_mode": {
    "name": "ipython",
    "version": 3
   },
   "file_extension": ".py",
   "mimetype": "text/x-python",
   "name": "python",
   "nbconvert_exporter": "python",
   "pygments_lexer": "ipython3",
   "version": "3.12.2"
  }
 },
 "nbformat": 4,
 "nbformat_minor": 2
}
