{
 "cells": [
  {
   "cell_type": "markdown",
   "metadata": {},
   "source": [
    "Studio 6"
   ]
  },
  {
   "cell_type": "markdown",
   "metadata": {},
   "source": [
    "Activity 1:"
   ]
  },
  {
   "cell_type": "code",
   "execution_count": 27,
   "metadata": {},
   "outputs": [
    {
     "name": "stdout",
     "output_type": "stream",
     "text": [
      "2067\n",
      "[0]\n"
     ]
    }
   ],
   "source": [
    "import cv2 \n",
    "import glob as glob \n",
    "import os \n",
    " \n",
    "files = glob.glob(\"archive/train/images/*.jpg\") \n",
    "print(len(files))\n",
    "\n",
    "class_names = ['pothole'] \n",
    "hist = [0] \n",
    " \n",
    "if os.path.exists('archive/train/visualized'): \n",
    "    os.system('rm -rf archive/train/visualized') \n",
    "    os.system('mkdir archive/train/visualized') \n",
    "else: \n",
    "    os.system('mkdir archive/train/visualized')  \n",
    "     \n",
    "if os.path.exists('archive/valid/visualized'): \n",
    "    os.system('rm -rf archive/valid/visualized') \n",
    "    os.system('mkdir archive/valid/visualized') \n",
    "else: \n",
    "    os.system('mkdir archive/valid/visualized')   \n",
    "\n",
    "for image_file in glob.glob(r'achive/*/*/*.jpg'): \n",
    "    label_file = image_file.replace('images', 'labels').replace('.jpg', '.txt') \n",
    "    label_file = image_file.replace('png', 'txt') \n",
    "\n",
    "    print(image_file) \n",
    "    print(label_file) \n",
    "\n",
    "    image = cv2.imread(image_file) \n",
    "    height, width, _ = image.shape \n",
    "\n",
    "    out_img = image.copy() \n",
    "\n",
    "    with open(label_file, 'r') as f: \n",
    "        lines = f.readline() \n",
    "        bboxes = [] \n",
    "        labels = [] \n",
    "        for line in lines: \n",
    "            class_id, x, y, w, h = line.split() \n",
    "            x, y, w, h = float(x), float(y), float(w), float(h) \n",
    "             \n",
    "            x, y, w, h = int(x * width), int(y * height), int(w * width), int(h * height)  \n",
    "\n",
    "            top_left = (x - w // 2, y - h // 2) \n",
    "            bottom_right = (x + w // 2, y + h // 2) \n",
    "\n",
    "            cv2.rectangle(out_img, top_left, bottom_right, (255, 0, 0), 2) \n",
    "        out_file = image_file.replace('.jpg', '.png').replace('/images', '/visualised') \n",
    "        print(out_file) \n",
    "        cv2.imwrite(out_file, out_img) \n",
    "        hist[int(class_id)] += 1 \n",
    "print(hist)"
   ]
  },
  {
   "cell_type": "markdown",
   "metadata": {},
   "source": [
    "Activity 2:"
   ]
  },
  {
   "cell_type": "code",
   "execution_count": 28,
   "metadata": {},
   "outputs": [
    {
     "name": "stdout",
     "output_type": "stream",
     "text": [
      "True\n"
     ]
    }
   ],
   "source": [
    "import os\n",
    "\n",
    "# Check if the file exists in the correct location\n",
    "print(os.path.exists(os.path.expanduser(\"~/.kaggle/kaggle.json\")))\n"
   ]
  },
  {
   "cell_type": "code",
   "execution_count": 29,
   "metadata": {},
   "outputs": [
    {
     "ename": "FileNotFoundError",
     "evalue": "[Errno 2] No such file or directory: 'kaggle.json'",
     "output_type": "error",
     "traceback": [
      "\u001b[1;31m---------------------------------------------------------------------------\u001b[0m",
      "\u001b[1;31mFileNotFoundError\u001b[0m                         Traceback (most recent call last)",
      "Cell \u001b[1;32mIn[29], line 11\u001b[0m\n\u001b[0;32m      6\u001b[0m \u001b[38;5;66;03m# Install kaggle (if not installed already)\u001b[39;00m\n\u001b[0;32m      7\u001b[0m \n\u001b[0;32m      8\u001b[0m \n\u001b[0;32m      9\u001b[0m \u001b[38;5;66;03m# Set up Kaggle API credentials\u001b[39;00m\n\u001b[0;32m     10\u001b[0m os\u001b[38;5;241m.\u001b[39mmakedirs(os\u001b[38;5;241m.\u001b[39mpath\u001b[38;5;241m.\u001b[39mexpanduser(\u001b[38;5;124m\"\u001b[39m\u001b[38;5;124m~/.kaggle\u001b[39m\u001b[38;5;124m\"\u001b[39m), exist_ok\u001b[38;5;241m=\u001b[39m\u001b[38;5;28;01mTrue\u001b[39;00m)\n\u001b[1;32m---> 11\u001b[0m \u001b[43mshutil\u001b[49m\u001b[38;5;241;43m.\u001b[39;49m\u001b[43mcopy\u001b[49m\u001b[43m(\u001b[49m\u001b[38;5;124;43m\"\u001b[39;49m\u001b[38;5;124;43mkaggle.json\u001b[39;49m\u001b[38;5;124;43m\"\u001b[39;49m\u001b[43m,\u001b[49m\u001b[43m \u001b[49m\u001b[43mos\u001b[49m\u001b[38;5;241;43m.\u001b[39;49m\u001b[43mpath\u001b[49m\u001b[38;5;241;43m.\u001b[39;49m\u001b[43mexpanduser\u001b[49m\u001b[43m(\u001b[49m\u001b[38;5;124;43m\"\u001b[39;49m\u001b[38;5;124;43m/.kaggle/kaggle.json\u001b[39;49m\u001b[38;5;124;43m\"\u001b[39;49m\u001b[43m)\u001b[49m\u001b[43m)\u001b[49m\n\u001b[0;32m     12\u001b[0m os\u001b[38;5;241m.\u001b[39mchmod(os\u001b[38;5;241m.\u001b[39mpath\u001b[38;5;241m.\u001b[39mexpanduser(\u001b[38;5;124m\"\u001b[39m\u001b[38;5;124m~/.kaggle/kaggle.json\u001b[39m\u001b[38;5;124m\"\u001b[39m), \u001b[38;5;241m0o600\u001b[39m)\n\u001b[0;32m     14\u001b[0m \u001b[38;5;66;03m# Download the dataset\u001b[39;00m\n",
      "File \u001b[1;32mc:\\Users\\cucum\\AppData\\Local\\Programs\\Python\\Python312\\Lib\\shutil.py:435\u001b[0m, in \u001b[0;36mcopy\u001b[1;34m(src, dst, follow_symlinks)\u001b[0m\n\u001b[0;32m    433\u001b[0m \u001b[38;5;28;01mif\u001b[39;00m os\u001b[38;5;241m.\u001b[39mpath\u001b[38;5;241m.\u001b[39misdir(dst):\n\u001b[0;32m    434\u001b[0m     dst \u001b[38;5;241m=\u001b[39m os\u001b[38;5;241m.\u001b[39mpath\u001b[38;5;241m.\u001b[39mjoin(dst, os\u001b[38;5;241m.\u001b[39mpath\u001b[38;5;241m.\u001b[39mbasename(src))\n\u001b[1;32m--> 435\u001b[0m \u001b[43mcopyfile\u001b[49m\u001b[43m(\u001b[49m\u001b[43msrc\u001b[49m\u001b[43m,\u001b[49m\u001b[43m \u001b[49m\u001b[43mdst\u001b[49m\u001b[43m,\u001b[49m\u001b[43m \u001b[49m\u001b[43mfollow_symlinks\u001b[49m\u001b[38;5;241;43m=\u001b[39;49m\u001b[43mfollow_symlinks\u001b[49m\u001b[43m)\u001b[49m\n\u001b[0;32m    436\u001b[0m copymode(src, dst, follow_symlinks\u001b[38;5;241m=\u001b[39mfollow_symlinks)\n\u001b[0;32m    437\u001b[0m \u001b[38;5;28;01mreturn\u001b[39;00m dst\n",
      "File \u001b[1;32mc:\\Users\\cucum\\AppData\\Local\\Programs\\Python\\Python312\\Lib\\shutil.py:260\u001b[0m, in \u001b[0;36mcopyfile\u001b[1;34m(src, dst, follow_symlinks)\u001b[0m\n\u001b[0;32m    258\u001b[0m     os\u001b[38;5;241m.\u001b[39msymlink(os\u001b[38;5;241m.\u001b[39mreadlink(src), dst)\n\u001b[0;32m    259\u001b[0m \u001b[38;5;28;01melse\u001b[39;00m:\n\u001b[1;32m--> 260\u001b[0m     \u001b[38;5;28;01mwith\u001b[39;00m \u001b[38;5;28;43mopen\u001b[39;49m\u001b[43m(\u001b[49m\u001b[43msrc\u001b[49m\u001b[43m,\u001b[49m\u001b[43m \u001b[49m\u001b[38;5;124;43m'\u001b[39;49m\u001b[38;5;124;43mrb\u001b[39;49m\u001b[38;5;124;43m'\u001b[39;49m\u001b[43m)\u001b[49m \u001b[38;5;28;01mas\u001b[39;00m fsrc:\n\u001b[0;32m    261\u001b[0m         \u001b[38;5;28;01mtry\u001b[39;00m:\n\u001b[0;32m    262\u001b[0m             \u001b[38;5;28;01mwith\u001b[39;00m \u001b[38;5;28mopen\u001b[39m(dst, \u001b[38;5;124m'\u001b[39m\u001b[38;5;124mwb\u001b[39m\u001b[38;5;124m'\u001b[39m) \u001b[38;5;28;01mas\u001b[39;00m fdst:\n\u001b[0;32m    263\u001b[0m                 \u001b[38;5;66;03m# macOS\u001b[39;00m\n",
      "\u001b[1;31mFileNotFoundError\u001b[0m: [Errno 2] No such file or directory: 'kaggle.json'"
     ]
    }
   ],
   "source": [
    "import os\n",
    "import shutil\n",
    "import zipfile\n",
    "from kaggle.api.kaggle_api_extended import KaggleApi # type: ignore\n",
    "\n",
    "# Install kaggle (if not installed already)\n",
    "\n",
    "\n",
    "# Set up Kaggle API credentials\n",
    "os.makedirs(os.path.expanduser(\"~/.kaggle\"), exist_ok=True)\n",
    "shutil.copy(\"kaggle.json\", os.path.expanduser(\"/.kaggle/kaggle.json\"))\n",
    "os.chmod(os.path.expanduser(\"~/.kaggle/kaggle.json\"), 0o600)\n",
    "\n",
    "# Download the dataset\n",
    "api = KaggleApi()\n",
    "api.authenticate()\n",
    "api.dataset_download_files('andrewmvd/road-sign-detection', path='data', unzip=True)\n",
    "\n",
    "# Rename the annotations folder to label\n",
    "os.rename('./data/annotations', './data/label')\n"
   ]
  },
  {
   "cell_type": "code",
   "execution_count": 31,
   "metadata": {},
   "outputs": [
    {
     "ename": "ImportError",
     "evalue": "cannot import name 'convert_voc_to_yolo' from 'preprocessing' (c:\\Users\\cucum\\AppData\\Local\\Programs\\Python\\Python312\\Lib\\site-packages\\preprocessing\\__init__.py)",
     "output_type": "error",
     "traceback": [
      "\u001b[1;31m---------------------------------------------------------------------------\u001b[0m",
      "\u001b[1;31mImportError\u001b[0m                               Traceback (most recent call last)",
      "Cell \u001b[1;32mIn[31], line 1\u001b[0m\n\u001b[1;32m----> 1\u001b[0m \u001b[38;5;28;01mfrom\u001b[39;00m \u001b[38;5;21;01mpreprocessing\u001b[39;00m \u001b[38;5;28;01mimport\u001b[39;00m convert_voc_to_yolo\n\u001b[0;32m      2\u001b[0m convert_voc_to_yolo()\n",
      "\u001b[1;31mImportError\u001b[0m: cannot import name 'convert_voc_to_yolo' from 'preprocessing' (c:\\Users\\cucum\\AppData\\Local\\Programs\\Python\\Python312\\Lib\\site-packages\\preprocessing\\__init__.py)"
     ]
    }
   ],
   "source": [
    "from preprocessing import convert_voc_to_yolo\n",
    "convert_voc_to_yolo()"
   ]
  },
  {
   "cell_type": "markdown",
   "metadata": {},
   "source": [
    "Activity 4:"
   ]
  },
  {
   "cell_type": "markdown",
   "metadata": {},
   "source": [
    "Activity 5:"
   ]
  }
 ],
 "metadata": {
  "kernelspec": {
   "display_name": "Python 3",
   "language": "python",
   "name": "python3"
  },
  "language_info": {
   "codemirror_mode": {
    "name": "ipython",
    "version": 3
   },
   "file_extension": ".py",
   "mimetype": "text/x-python",
   "name": "python",
   "nbconvert_exporter": "python",
   "pygments_lexer": "ipython3",
   "version": "3.12.6"
  }
 },
 "nbformat": 4,
 "nbformat_minor": 2
}
