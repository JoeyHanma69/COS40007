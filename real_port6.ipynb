{
 "cells": [
  {
   "cell_type": "markdown",
   "metadata": {},
   "source": [
    "Portfolio 6"
   ]
  },
  {
   "cell_type": "code",
   "execution_count": 1,
   "metadata": {},
   "outputs": [
    {
     "name": "stdout",
     "output_type": "stream",
     "text": [
      "Using device: cpu\n"
     ]
    }
   ],
   "source": [
    "import torch \n",
    "device = torch.device(\"cuda\" if torch.cuda.is_available() else \"cpu\") \n",
    "print(f\"Using device: {device}\")"
   ]
  },
  {
   "cell_type": "markdown",
   "metadata": {},
   "source": [
    "Step 1"
   ]
  },
  {
   "cell_type": "code",
   "execution_count": 2,
   "metadata": {},
   "outputs": [],
   "source": [
    "import pandas as pd \n",
    "import os \n",
    "from ultralytics import YOLO \n",
    "from tqdm import tqdm \n",
    " \n",
    "\n",
    "def convert_annotations(csv_file, images_dir, output_dir, class_mapping): \n",
    "    df = pd.read_csv(csv_file) \n",
    "    grouped = df.groupby('filename')\n",
    "    \n",
    "    if not os.path.exists(output_dir): \n",
    "        os.makedirs(output_dir) \n",
    "    \n",
    "    for filename, group in tqdm(grouped, desc=f'Converting annotation for {csv_file}'): \n",
    "        image_path = os.path.join(images_dir, filename) \n",
    "        if not os.path.exists(image_path): \n",
    "            continue \n",
    "        \n",
    "        img_width = group.iloc[0]['width'] \n",
    "        img_height = group.iloc[0]['height'] \n",
    "        \n",
    "        annotation = [] \n",
    "        for _, row in group.iterrows(): \n",
    "            class_id = class_mapping[row['class']] \n",
    "            xmin = row['xmin'] \n",
    "            ymin = row['ymin'] \n",
    "            xmax = row['xmax'] \n",
    "            ymax = row['ymax'] \n",
    "            \n",
    "            x_center = ((xmin + xmax) / 2) / img_width \n",
    "            y_center = ((ymin + ymax) / 2) / img_height \n",
    "            bbox_width = (xmax - xmin) / img_width \n",
    "            bbox_height = (ymax - ymin) / img_height \n",
    "            \n",
    "            annotation.append(f\"{class_id}, {x_center} {y_center} {bbox_width} {bbox_height}\") \n",
    "            \n",
    "        txt_filename = os.path.splitext(filename)[0] + '.txt' \n",
    "        with open(os.path.join(output_dir, txt_filename), 'w') as f: \n",
    "            for ann in annotation: \n",
    "                f.write(ann + '\\n')"
   ]
  },
  {
   "cell_type": "code",
   "execution_count": 3,
   "metadata": {},
   "outputs": [
    {
     "name": "stderr",
     "output_type": "stream",
     "text": [
      "Converting annotation for C:\\Users\\cucum\\Downloads\\COS40007/week 6/Bounding_boxes/train_labels.csv: 100%|██████████| 813/813 [00:00<00:00, 1374.43it/s]\n",
      "Converting annotation for C:\\Users\\cucum\\Downloads\\COS40007/week 6/Bounding_boxes/test_labels.csv: 100%|██████████| 209/209 [00:00<00:00, 1229.93it/s]\n"
     ]
    }
   ],
   "source": [
    "class_mapping = {'Graffiti': 0} \n",
    "\n",
    "convert_annotations(r'C:\\Users\\cucum\\Downloads\\COS40007/week 6/Bounding_boxes/train_labels.csv', \n",
    "                    r'C:\\Users\\cucum\\Downloads\\COS40007/week 6/images/train',  \n",
    "                    r'C:\\Users\\cucum\\Downloads\\COS40007/week 6/labels/train',  \n",
    "                    class_mapping) \n",
    "\n",
    "convert_annotations(r'C:\\Users\\cucum\\Downloads\\COS40007/week 6/Bounding_boxes/test_labels.csv',  \n",
    "                    r'C:\\Users\\cucum\\Downloads\\COS40007/week 6/images/test',  \n",
    "                    r'C:\\Users\\cucum\\Downloads\\COS40007/week 6/labels/test',  \n",
    "                    class_mapping)"
   ]
  },
  {
   "cell_type": "code",
   "execution_count": 4,
   "metadata": {},
   "outputs": [],
   "source": [
    "import random \n",
    "import shutil\n",
    "def select_random_images(source_dir, dest_dir, num_images, used_images=set()): \n",
    "    images = [f for f in os.listdir(source_dir) if f.endswith('.jpg') and f not in used_images]  \n",
    "    selected_images = random.sample(images, min(num_images, len(images))) \n",
    "    used_images.update(selected_images) \n",
    "    \n",
    "    if not os.path.exists(dest_dir): \n",
    "        os.makedirs(dest_dir) \n",
    "    \n",
    "    for img in selected_images: \n",
    "        shutil.copy(os.path.join(source_dir, img), os.path.join(dest_dir, img)) \n",
    "    return used_images \n",
    "\n",
    "def copy_annotation_files(image_dir, label_source_dir, label_dest_dir): \n",
    "    if not os.path.exists(label_dest_dir): \n",
    "        os.makedirs(label_dest_dir) \n",
    "    for img_file in os.listdir(image_dir): \n",
    "        if img_file.endswith('.jpg'): \n",
    "            base_name = os.path.splitext(img_file)[0] \n",
    "            label_file = base_name + '.txt' \n",
    "            src_label_path = os.path.join(label_source_dir, label_file) \n",
    "            dst_label_path = os.path.join(label_source_dir, label_file)\n",
    "            if os.path.exists(src_label_path): \n",
    "                shutil.copy(src_label_path, dst_label_path)"
   ]
  },
  {
   "cell_type": "markdown",
   "metadata": {},
   "source": [
    "Step 2"
   ]
  },
  {
   "cell_type": "code",
   "execution_count": 5,
   "metadata": {},
   "outputs": [],
   "source": [
    "random.seed(42) \n",
    "\n",
    "used_train_images = set() \n",
    " \n",
    "used_train_images = select_random_images(r'C:\\Users\\cucum\\Downloads\\COS40007/week 6/images/train',  \n",
    "                                         r'C:\\Users\\cucum\\Downloads\\COS40007/images/train_selected', 400, used_train_images) \n",
    "\n",
    "copy_annotation_files(r'C:\\Users\\cucum\\Downloads\\COS40007/week 6/images/train', \n",
    "                      r'C:\\Users\\cucum\\Downloads\\COS40007/week 6/label/train',  \n",
    "                      r'C:\\Users\\cucum\\Downloads\\COS40007/week 6/images/train_selected')"
   ]
  },
  {
   "cell_type": "markdown",
   "metadata": {},
   "source": [
    "Step 3"
   ]
  },
  {
   "cell_type": "code",
   "execution_count": 6,
   "metadata": {},
   "outputs": [],
   "source": [
    "random.seed(42)  \n",
    "\n",
    "used_test_images = set() \n",
    "\n",
    "used_test_images = select_random_images(r'C:\\Users\\cucum\\Downloads\\COS40007/week 6/images/test',  \n",
    "                                         r'C:\\Users\\cucum\\Downloads\\COS40007/week 6/images/test_selected', 40, used_test_images)  \n",
    "\n",
    "copy_annotation_files(r'C:\\Users\\cucum\\Downloads\\COS40007/week 6/images/test', \n",
    "                      r'C:\\Users\\cucum\\Downloads\\COS40007/week 6/label/test',  \n",
    "                      r'C:\\Users\\cucum\\Downloads\\COS40007/week 6/images/test_selected')"
   ]
  },
  {
   "cell_type": "code",
   "execution_count": 7,
   "metadata": {},
   "outputs": [],
   "source": [
    "from torchvision.ops import box_iou   \n",
    "import cv2\n",
    "def compute_iou(pred_boxes, true_boxes):  \n",
    "    pred_boxes = torch.tensor(pred_boxes) \n",
    "    true_boxes = torch.tensor(true_boxes) \n",
    "    \n",
    "    iou = box_iou(pred_boxes, true_boxes) \n",
    "    return iou.diag().numpy() \n",
    "\n",
    "def evaluate_model(model, images_dir, labels_dir, output_images_dir=None): \n",
    "    results = [] \n",
    "    images = [f for f in os.listdir(images_dir) if f.endswith('.jpg')] \n",
    "    \n",
    "    if output_images_dir and not os.path.exists(output_images_dir): \n",
    "        os.makedirs(output_images_dir) \n",
    "        \n",
    "    for img_name in tqdm(images, desc='Evaluating model'): \n",
    "        img_path = os.path.join(images_dir, img_name) \n",
    "        label_path = os.path.join(labels_dir, os.path.splitext(img_name)[0] + '.txt') \n",
    "        \n",
    "        preds = model.predict(img_path, conf=0.25) \n",
    "        \n",
    "        img = cv2.imread(img_path)  \n",
    "        img_height, img_width = img.shape[:2] \n",
    "        \n",
    "        pred_boxes = [] \n",
    "        confidence = [] \n",
    "        for pred in preds: \n",
    "            for box in pred_boxes: \n",
    "                x_min = box.xyxy[0][0].item() \n",
    "                x_max = box.xyxy[0][1].item() \n",
    "                y_min = box.xyxy[0][2].item() \n",
    "                y_max = box.xyxy[0][3].item() \n",
    "                conf = box.conf.item() \n",
    "                pred_boxes.append([x_min, y_min, x_min, x_max]) \n",
    "                confidence.append(conf) \n",
    "                if output_images_dir: \n",
    "                    label = f\"{model.names[int(box.cls)]}: {conf:.2f}\" \n",
    "                    cv2.rectangle(img, (int(x_min), int(y_min)), (int(x_max), int(y_max)), (0, 255, 0), 2) \n",
    "                    cv2.putText(img, label,(int(x_min), int(y_min) - 10), cv2.FONT_HERSHEY_SIMPLEX, 0.5, (0, 255, 0), 2)  \n",
    "                    \n",
    "        true_boxes = [] \n",
    "        if os.path.exists(label_path): \n",
    "            with open(label_path, 'r') as f: \n",
    "                for line in f: \n",
    "                    class_id, x_center, y_center, width, height = map(float, line.strip().split()) \n",
    "                    x_center *= img_width \n",
    "                    y_center *= img_height \n",
    "                    width *= img_width \n",
    "                    height *= img_height \n",
    "                    x_min = x_center -  width / 2 \n",
    "                    y_min = y_center - height / 2 \n",
    "                    x_max = x_center + width / 2 \n",
    "                    y_max = y_center + height / 2 \n",
    "                    true_boxes.append([x_min, y_min, x_max, y_max]) \n",
    "                    \n",
    "                    if output_images_dir: \n",
    "                        cv2.rectangle(img, (int(x_min), int(y_min)), (int(x_max), int(y_max)), (0, 0, 255), 2) \n",
    "                        \n",
    "            if output_images_dir: \n",
    "                output_images_dir = os.path.join(output_images_dir, img_name) \n",
    "                cv2.imwrite(output_images_dir, img) \n",
    "            \n",
    "            if pred_boxes and true_boxes: \n",
    "                ious = compute_iou(pred_boxes, true_boxes) \n",
    "                max_iou = max(ious) \n",
    "                max_conf = confidence[ious.argmax()] \n",
    "            else: \n",
    "                max_iou = 0.0 \n",
    "                max_conf = 0.0 if not confidence else max(confidence) \n",
    "                \n",
    "            results.append({\n",
    "            'image_name': img_name,\n",
    "            'confidence_value': max_conf,\n",
    "            'IoU_value': max_iou\n",
    "        }) \n",
    "            \n",
    "    return pd.DataFrame(results)"
   ]
  },
  {
   "cell_type": "code",
   "execution_count": 8,
   "metadata": {},
   "outputs": [],
   "source": [
    "def create_yaml_file(file_path, train_images, val_images, nc, class_names): \n",
    "    data = {  \n",
    "            'train': train_images, \n",
    "            'val' : val_images, \n",
    "            'nc' : nc, \n",
    "            'names' : class_names\n",
    "            } \n",
    "    with open(file_path, 'w') as f: \n",
    "        for key, value in data.items(): \n",
    "            if isinstance(value, list): \n",
    "                value_str = str(value).replace(\"'\", \"\") \n",
    "                f.write(f\"{key}: {value_str}\\n\") \n",
    "            else: \n",
    "                f.write(f\"{key}: {value}\\n\")"
   ]
  },
  {
   "cell_type": "code",
   "execution_count": 9,
   "metadata": {},
   "outputs": [],
   "source": [
    "yaml_file_path = 'C:\\\\Users\\\\cucum\\\\yolov5\\\\graffiti.yaml' \n",
    "train_images_path = os.path.abspath(r'C:\\Users\\cucum\\Downloads\\COS40007/week 6/images/train_selected') \n",
    "val_images_path = os.path.abspath(r'C:\\Users\\cucum\\Downloads\\COS40007/week 6/images/test_selected') \n",
    "nc = 1 \n",
    "class_name = ['Graffiti'] \n",
    "create_yaml_file(yaml_file_path, train_images_path, val_images_path, nc, class_name)"
   ]
  },
  {
   "cell_type": "code",
   "execution_count": 10,
   "metadata": {},
   "outputs": [
    {
     "name": "stdout",
     "output_type": "stream",
     "text": [
      "Downloading https://github.com/ultralytics/assets/releases/download/v8.2.0/yolov5su.pt to 'yolov5su.pt'...\n"
     ]
    },
    {
     "name": "stderr",
     "output_type": "stream",
     "text": [
      "100%|██████████| 17.7M/17.7M [00:00<00:00, 70.3MB/s]\n"
     ]
    },
    {
     "name": "stdout",
     "output_type": "stream",
     "text": [
      "\u001b[34m\u001b[1mengine\\trainer: \u001b[0mtask=detect, mode=train, model=yolov5su.pt, data=C:\\Users\\cucum\\yolov5\\graffiti.yaml, epochs=4, time=None, patience=100, batch=16, imgsz=640, save=True, save_period=-1, cache=False, device=cpu, workers=8, project=None, name=graffiti_detection6, exist_ok=False, pretrained=True, optimizer=auto, verbose=True, seed=0, deterministic=True, single_cls=False, rect=False, cos_lr=False, close_mosaic=10, resume=False, amp=True, fraction=1.0, profile=False, freeze=None, multi_scale=False, overlap_mask=True, mask_ratio=4, dropout=0.0, val=True, split=val, save_json=False, save_hybrid=False, conf=None, iou=0.7, max_det=300, half=False, dnn=False, plots=True, source=None, vid_stride=1, stream_buffer=False, visualize=False, augment=False, agnostic_nms=False, classes=None, retina_masks=False, embed=None, show=False, save_frames=False, save_txt=False, save_conf=False, save_crop=False, show_labels=True, show_conf=True, show_boxes=True, line_width=None, format=torchscript, keras=False, optimize=False, int8=False, dynamic=False, simplify=False, opset=None, workspace=4, nms=False, lr0=0.01, lrf=0.01, momentum=0.937, weight_decay=0.0005, warmup_epochs=3.0, warmup_momentum=0.8, warmup_bias_lr=0.1, box=7.5, cls=0.5, dfl=1.5, pose=12.0, kobj=1.0, label_smoothing=0.0, nbs=64, hsv_h=0.015, hsv_s=0.7, hsv_v=0.4, degrees=0.0, translate=0.1, scale=0.5, shear=0.0, perspective=0.0, flipud=0.0, fliplr=0.5, bgr=0.0, mosaic=1.0, mixup=0.0, copy_paste=0.0, auto_augment=randaugment, erasing=0.4, crop_fraction=1.0, cfg=None, tracker=botsort.yaml, save_dir=runs\\detect\\graffiti_detection6\n",
      "Overriding model.yaml nc=80 with nc=1\n",
      "\n",
      "                   from  n    params  module                                       arguments                     \n",
      "  0                  -1  1      3520  ultralytics.nn.modules.conv.Conv             [3, 32, 6, 2, 2]              \n",
      "  1                  -1  1     18560  ultralytics.nn.modules.conv.Conv             [32, 64, 3, 2]                \n",
      "  2                  -1  1     18816  ultralytics.nn.modules.block.C3              [64, 64, 1]                   \n",
      "  3                  -1  1     73984  ultralytics.nn.modules.conv.Conv             [64, 128, 3, 2]               \n",
      "  4                  -1  2    115712  ultralytics.nn.modules.block.C3              [128, 128, 2]                 \n",
      "  5                  -1  1    295424  ultralytics.nn.modules.conv.Conv             [128, 256, 3, 2]              \n",
      "  6                  -1  3    625152  ultralytics.nn.modules.block.C3              [256, 256, 3]                 \n",
      "  7                  -1  1   1180672  ultralytics.nn.modules.conv.Conv             [256, 512, 3, 2]              \n",
      "  8                  -1  1   1182720  ultralytics.nn.modules.block.C3              [512, 512, 1]                 \n",
      "  9                  -1  1    656896  ultralytics.nn.modules.block.SPPF            [512, 512, 5]                 \n",
      " 10                  -1  1    131584  ultralytics.nn.modules.conv.Conv             [512, 256, 1, 1]              \n",
      " 11                  -1  1         0  torch.nn.modules.upsampling.Upsample         [None, 2, 'nearest']          \n",
      " 12             [-1, 6]  1         0  ultralytics.nn.modules.conv.Concat           [1]                           \n",
      " 13                  -1  1    361984  ultralytics.nn.modules.block.C3              [512, 256, 1, False]          \n",
      " 14                  -1  1     33024  ultralytics.nn.modules.conv.Conv             [256, 128, 1, 1]              \n",
      " 15                  -1  1         0  torch.nn.modules.upsampling.Upsample         [None, 2, 'nearest']          \n",
      " 16             [-1, 4]  1         0  ultralytics.nn.modules.conv.Concat           [1]                           \n",
      " 17                  -1  1     90880  ultralytics.nn.modules.block.C3              [256, 128, 1, False]          \n",
      " 18                  -1  1    147712  ultralytics.nn.modules.conv.Conv             [128, 128, 3, 2]              \n",
      " 19            [-1, 14]  1         0  ultralytics.nn.modules.conv.Concat           [1]                           \n",
      " 20                  -1  1    296448  ultralytics.nn.modules.block.C3              [256, 256, 1, False]          \n",
      " 21                  -1  1    590336  ultralytics.nn.modules.conv.Conv             [256, 256, 3, 2]              \n",
      " 22            [-1, 10]  1         0  ultralytics.nn.modules.conv.Concat           [1]                           \n",
      " 23                  -1  1   1182720  ultralytics.nn.modules.block.C3              [512, 512, 1, False]          \n",
      " 24        [17, 20, 23]  1   2116435  ultralytics.nn.modules.head.Detect           [1, [128, 256, 512]]          \n",
      "YOLOv5s summary: 262 layers, 9,122,579 parameters, 9,122,563 gradients, 24.0 GFLOPs\n",
      "\n",
      "Transferred 421/427 items from pretrained weights\n",
      "\u001b[34m\u001b[1mTensorBoard: \u001b[0mStart with 'tensorboard --logdir runs\\detect\\graffiti_detection6', view at http://localhost:6006/\n",
      "Freezing layer 'model.24.dfl.conv.weight'\n"
     ]
    },
    {
     "name": "stderr",
     "output_type": "stream",
     "text": [
      "\u001b[34m\u001b[1mtrain: \u001b[0mScanning C:\\Users\\cucum\\Downloads\\COS40007\\week 6\\labels\\train_selected... 0 images, 400 backgrounds, 0 corrupt: 100%|██████████| 400/400 [00:00<00:00, 2767.87it/s]"
     ]
    },
    {
     "name": "stdout",
     "output_type": "stream",
     "text": [
      "\u001b[34m\u001b[1mtrain: \u001b[0mWARNING  No labels found in C:\\Users\\cucum\\Downloads\\COS40007\\week 6\\labels\\train_selected.cache. See https://docs.ultralytics.com/datasets for dataset formatting guidance.\n"
     ]
    },
    {
     "name": "stderr",
     "output_type": "stream",
     "text": [
      "\n"
     ]
    },
    {
     "name": "stdout",
     "output_type": "stream",
     "text": [
      "\u001b[34m\u001b[1mtrain: \u001b[0mNew cache created: C:\\Users\\cucum\\Downloads\\COS40007\\week 6\\labels\\train_selected.cache\n",
      "WARNING  No labels found in C:\\Users\\cucum\\Downloads\\COS40007\\week 6\\labels\\train_selected.cache, training may not work correctly. See https://docs.ultralytics.com/datasets for dataset formatting guidance.\n"
     ]
    },
    {
     "name": "stderr",
     "output_type": "stream",
     "text": [
      "\u001b[34m\u001b[1mval: \u001b[0mScanning C:\\Users\\cucum\\Downloads\\COS40007\\week 6\\labels\\test_selected... 0 images, 71 backgrounds, 0 corrupt: 100%|██████████| 71/71 [00:00<00:00, 3380.93it/s]"
     ]
    },
    {
     "name": "stdout",
     "output_type": "stream",
     "text": [
      "\u001b[34m\u001b[1mval: \u001b[0mWARNING  No labels found in C:\\Users\\cucum\\Downloads\\COS40007\\week 6\\labels\\test_selected.cache. See https://docs.ultralytics.com/datasets for dataset formatting guidance.\n",
      "\u001b[34m\u001b[1mval: \u001b[0mNew cache created: C:\\Users\\cucum\\Downloads\\COS40007\\week 6\\labels\\test_selected.cache\n",
      "WARNING  No labels found in C:\\Users\\cucum\\Downloads\\COS40007\\week 6\\labels\\test_selected.cache, training may not work correctly. See https://docs.ultralytics.com/datasets for dataset formatting guidance.\n"
     ]
    },
    {
     "name": "stderr",
     "output_type": "stream",
     "text": [
      "\n"
     ]
    },
    {
     "name": "stdout",
     "output_type": "stream",
     "text": [
      "Plotting labels to runs\\detect\\graffiti_detection6\\labels.jpg... \n",
      "zero-size array to reduction operation maximum which has no identity\n",
      "\u001b[34m\u001b[1moptimizer:\u001b[0m 'optimizer=auto' found, ignoring 'lr0=0.01' and 'momentum=0.937' and determining best 'optimizer', 'lr0' and 'momentum' automatically... \n",
      "\u001b[34m\u001b[1moptimizer:\u001b[0m AdamW(lr=0.002, momentum=0.9) with parameter groups 69 weight(decay=0.0), 76 weight(decay=0.0005), 75 bias(decay=0.0)\n",
      "\u001b[34m\u001b[1mTensorBoard: \u001b[0mmodel graph visualization added \n",
      "Image sizes 640 train, 640 val\n",
      "Using 0 dataloader workers\n",
      "Logging results to \u001b[1mruns\\detect\\graffiti_detection6\u001b[0m\n",
      "Starting training for 4 epochs...\n",
      "\n",
      "      Epoch    GPU_mem   box_loss   cls_loss   dfl_loss  Instances       Size\n"
     ]
    },
    {
     "name": "stderr",
     "output_type": "stream",
     "text": [
      "        1/4         0G          0      74.56          0          0        640: 100%|██████████| 25/25 [02:55<00:00,  7.01s/it]\n",
      "                 Class     Images  Instances      Box(P          R      mAP50  mAP50-95): 100%|██████████| 3/3 [00:08<00:00,  2.77s/it]"
     ]
    },
    {
     "name": "stdout",
     "output_type": "stream",
     "text": [
      "                   all         71          0          0          0          0          0\n",
      "WARNING  no labels found in detect set, can not compute metrics without labels\n"
     ]
    },
    {
     "name": "stderr",
     "output_type": "stream",
     "text": [
      "\n"
     ]
    },
    {
     "name": "stdout",
     "output_type": "stream",
     "text": [
      "\n",
      "      Epoch    GPU_mem   box_loss   cls_loss   dfl_loss  Instances       Size\n"
     ]
    },
    {
     "name": "stderr",
     "output_type": "stream",
     "text": [
      "        2/4         0G          0      8.966          0          0        640: 100%|██████████| 25/25 [02:49<00:00,  6.76s/it]\n",
      "                 Class     Images  Instances      Box(P          R      mAP50  mAP50-95): 100%|██████████| 3/3 [00:08<00:00,  2.75s/it]"
     ]
    },
    {
     "name": "stdout",
     "output_type": "stream",
     "text": [
      "                   all         71          0          0          0          0          0\n",
      "WARNING  no labels found in detect set, can not compute metrics without labels\n"
     ]
    },
    {
     "name": "stderr",
     "output_type": "stream",
     "text": [
      "\n"
     ]
    },
    {
     "name": "stdout",
     "output_type": "stream",
     "text": [
      "\n",
      "      Epoch    GPU_mem   box_loss   cls_loss   dfl_loss  Instances       Size\n"
     ]
    },
    {
     "name": "stderr",
     "output_type": "stream",
     "text": [
      "        3/4         0G          0      2.709          0          0        640: 100%|██████████| 25/25 [02:49<00:00,  6.79s/it]\n",
      "                 Class     Images  Instances      Box(P          R      mAP50  mAP50-95): 100%|██████████| 3/3 [00:07<00:00,  2.65s/it]"
     ]
    },
    {
     "name": "stdout",
     "output_type": "stream",
     "text": [
      "                   all         71          0          0          0          0          0\n",
      "WARNING  no labels found in detect set, can not compute metrics without labels\n"
     ]
    },
    {
     "name": "stderr",
     "output_type": "stream",
     "text": [
      "\n"
     ]
    },
    {
     "name": "stdout",
     "output_type": "stream",
     "text": [
      "\n",
      "      Epoch    GPU_mem   box_loss   cls_loss   dfl_loss  Instances       Size\n"
     ]
    },
    {
     "name": "stderr",
     "output_type": "stream",
     "text": [
      "        4/4         0G          0      1.129          0          0        640: 100%|██████████| 25/25 [04:13<00:00, 10.12s/it]\n",
      "                 Class     Images  Instances      Box(P          R      mAP50  mAP50-95): 100%|██████████| 3/3 [00:07<00:00,  2.58s/it]"
     ]
    },
    {
     "name": "stdout",
     "output_type": "stream",
     "text": [
      "                   all         71          0          0          0          0          0\n",
      "WARNING  no labels found in detect set, can not compute metrics without labels\n"
     ]
    },
    {
     "name": "stderr",
     "output_type": "stream",
     "text": [
      "\n"
     ]
    },
    {
     "name": "stdout",
     "output_type": "stream",
     "text": [
      "\n",
      "4 epochs completed in 0.224 hours.\n",
      "Optimizer stripped from runs\\detect\\graffiti_detection6\\weights\\last.pt, 18.5MB\n",
      "Optimizer stripped from runs\\detect\\graffiti_detection6\\weights\\best.pt, 18.5MB\n",
      "\n",
      "Validating runs\\detect\\graffiti_detection6\\weights\\best.pt...\n",
      "Ultralytics YOLOv8.2.98  Python-3.12.6 torch-2.4.1+cpu CPU (12th Gen Intel Core(TM) i7-1260P)\n",
      "YOLOv5s summary (fused): 193 layers, 9,111,923 parameters, 0 gradients, 23.8 GFLOPs\n"
     ]
    },
    {
     "name": "stderr",
     "output_type": "stream",
     "text": [
      "                 Class     Images  Instances      Box(P          R      mAP50  mAP50-95): 100%|██████████| 3/3 [00:07<00:00,  2.44s/it]"
     ]
    },
    {
     "name": "stdout",
     "output_type": "stream",
     "text": [
      "                   all         71          0          0          0          0          0\n",
      "WARNING  no labels found in detect set, can not compute metrics without labels\n"
     ]
    },
    {
     "name": "stderr",
     "output_type": "stream",
     "text": [
      "\n"
     ]
    },
    {
     "name": "stdout",
     "output_type": "stream",
     "text": [
      "Speed: 0.7ms preprocess, 93.9ms inference, 0.0ms loss, 0.1ms postprocess per image\n",
      "Results saved to \u001b[1mruns\\detect\\graffiti_detection6\u001b[0m\n"
     ]
    }
   ],
   "source": [
    "from ultralytics import YOLO \n",
    "model = YOLO('yolov5su.pt') \n",
    "results = model.train(data=yaml_file_path, epochs=4, imgsz=640, batch=16, name='graffiti_detection', device=device)"
   ]
  },
  {
   "cell_type": "code",
   "execution_count": 11,
   "metadata": {},
   "outputs": [
    {
     "name": "stderr",
     "output_type": "stream",
     "text": [
      "Evaluating model:   0%|          | 0/71 [00:00<?, ?it/s]"
     ]
    },
    {
     "name": "stdout",
     "output_type": "stream",
     "text": [
      "\n",
      "image 1/1 C:\\Users\\cucum\\Downloads\\COS40007\\week 6\\images\\test_selected\\IMG_1234.jpg: 640x480 (no detections), 118.1ms\n",
      "Speed: 2.0ms preprocess, 118.1ms inference, 0.0ms postprocess per image at shape (1, 3, 640, 480)\n"
     ]
    },
    {
     "name": "stderr",
     "output_type": "stream",
     "text": [
      "Evaluating model:   1%|▏         | 1/71 [00:00<00:15,  4.53it/s]"
     ]
    },
    {
     "name": "stdout",
     "output_type": "stream",
     "text": [
      "\n",
      "image 1/1 C:\\Users\\cucum\\Downloads\\COS40007\\week 6\\images\\test_selected\\IMG_1240.jpg: 640x480 (no detections), 100.0ms\n",
      "Speed: 2.0ms preprocess, 100.0ms inference, 0.0ms postprocess per image at shape (1, 3, 640, 480)\n"
     ]
    },
    {
     "name": "stderr",
     "output_type": "stream",
     "text": [
      "Evaluating model:   3%|▎         | 2/71 [00:00<00:11,  6.26it/s]"
     ]
    },
    {
     "name": "stdout",
     "output_type": "stream",
     "text": [
      "\n",
      "image 1/1 C:\\Users\\cucum\\Downloads\\COS40007\\week 6\\images\\test_selected\\IMG_1243.jpg: 640x480 (no detections), 101.3ms\n",
      "Speed: 2.0ms preprocess, 101.3ms inference, 0.0ms postprocess per image at shape (1, 3, 640, 480)\n"
     ]
    },
    {
     "name": "stderr",
     "output_type": "stream",
     "text": [
      "Evaluating model:   4%|▍         | 3/71 [00:00<00:09,  7.17it/s]"
     ]
    },
    {
     "name": "stdout",
     "output_type": "stream",
     "text": [
      "\n",
      "image 1/1 C:\\Users\\cucum\\Downloads\\COS40007\\week 6\\images\\test_selected\\IMG_1254.jpg: 640x480 (no detections), 99.1ms\n",
      "Speed: 2.0ms preprocess, 99.1ms inference, 0.0ms postprocess per image at shape (1, 3, 640, 480)\n"
     ]
    },
    {
     "name": "stderr",
     "output_type": "stream",
     "text": [
      "Evaluating model:   6%|▌         | 4/71 [00:00<00:08,  7.72it/s]"
     ]
    },
    {
     "name": "stdout",
     "output_type": "stream",
     "text": [
      "\n",
      "image 1/1 C:\\Users\\cucum\\Downloads\\COS40007\\week 6\\images\\test_selected\\IMG_1261.jpg: 640x480 (no detections), 98.6ms\n",
      "Speed: 2.0ms preprocess, 98.6ms inference, 1.0ms postprocess per image at shape (1, 3, 640, 480)\n"
     ]
    },
    {
     "name": "stderr",
     "output_type": "stream",
     "text": [
      "Evaluating model:   7%|▋         | 5/71 [00:00<00:08,  8.03it/s]"
     ]
    },
    {
     "name": "stdout",
     "output_type": "stream",
     "text": [
      "\n",
      "image 1/1 C:\\Users\\cucum\\Downloads\\COS40007\\week 6\\images\\test_selected\\IMG_1262.jpg: 640x480 (no detections), 100.3ms\n",
      "Speed: 2.0ms preprocess, 100.3ms inference, 1.0ms postprocess per image at shape (1, 3, 640, 480)\n"
     ]
    },
    {
     "name": "stderr",
     "output_type": "stream",
     "text": [
      "Evaluating model:   8%|▊         | 6/71 [00:00<00:07,  8.22it/s]"
     ]
    },
    {
     "name": "stdout",
     "output_type": "stream",
     "text": [
      "\n",
      "image 1/1 C:\\Users\\cucum\\Downloads\\COS40007\\week 6\\images\\test_selected\\IMG_1263.jpg: 640x480 (no detections), 101.1ms\n",
      "Speed: 2.0ms preprocess, 101.1ms inference, 0.0ms postprocess per image at shape (1, 3, 640, 480)\n"
     ]
    },
    {
     "name": "stderr",
     "output_type": "stream",
     "text": [
      "Evaluating model:  10%|▉         | 7/71 [00:00<00:07,  8.38it/s]"
     ]
    },
    {
     "name": "stdout",
     "output_type": "stream",
     "text": [
      "\n",
      "image 1/1 C:\\Users\\cucum\\Downloads\\COS40007\\week 6\\images\\test_selected\\IMG_1284.jpg: 640x480 (no detections), 100.5ms\n",
      "Speed: 1.0ms preprocess, 100.5ms inference, 0.0ms postprocess per image at shape (1, 3, 640, 480)\n"
     ]
    },
    {
     "name": "stderr",
     "output_type": "stream",
     "text": [
      "Evaluating model:  11%|█▏        | 8/71 [00:01<00:07,  8.49it/s]"
     ]
    },
    {
     "name": "stdout",
     "output_type": "stream",
     "text": [
      "\n",
      "image 1/1 C:\\Users\\cucum\\Downloads\\COS40007\\week 6\\images\\test_selected\\IMG_20100101_031404.jpg: 640x480 (no detections), 99.5ms\n",
      "Speed: 2.0ms preprocess, 99.5ms inference, 0.0ms postprocess per image at shape (1, 3, 640, 480)\n"
     ]
    },
    {
     "name": "stderr",
     "output_type": "stream",
     "text": [
      "Evaluating model:  13%|█▎        | 9/71 [00:01<00:07,  8.54it/s]"
     ]
    },
    {
     "name": "stdout",
     "output_type": "stream",
     "text": [
      "\n",
      "image 1/1 C:\\Users\\cucum\\Downloads\\COS40007\\week 6\\images\\test_selected\\IMG_20100101_031841.jpg: 640x480 (no detections), 98.0ms\n",
      "Speed: 2.0ms preprocess, 98.0ms inference, 0.0ms postprocess per image at shape (1, 3, 640, 480)\n"
     ]
    },
    {
     "name": "stderr",
     "output_type": "stream",
     "text": [
      "Evaluating model:  14%|█▍        | 10/71 [00:01<00:07,  8.54it/s]"
     ]
    },
    {
     "name": "stdout",
     "output_type": "stream",
     "text": [
      "\n",
      "image 1/1 C:\\Users\\cucum\\Downloads\\COS40007\\week 6\\images\\test_selected\\IMG_20100101_032102.jpg: 640x480 (no detections), 101.0ms\n",
      "Speed: 2.0ms preprocess, 101.0ms inference, 0.0ms postprocess per image at shape (1, 3, 640, 480)\n"
     ]
    },
    {
     "name": "stderr",
     "output_type": "stream",
     "text": [
      "Evaluating model:  15%|█▌        | 11/71 [00:01<00:07,  8.56it/s]"
     ]
    },
    {
     "name": "stdout",
     "output_type": "stream",
     "text": [
      "\n",
      "image 1/1 C:\\Users\\cucum\\Downloads\\COS40007\\week 6\\images\\test_selected\\IMG_20100101_032415.jpg: 640x480 (no detections), 100.1ms\n",
      "Speed: 2.0ms preprocess, 100.1ms inference, 0.0ms postprocess per image at shape (1, 3, 640, 480)\n"
     ]
    },
    {
     "name": "stderr",
     "output_type": "stream",
     "text": [
      "Evaluating model:  17%|█▋        | 12/71 [00:01<00:06,  8.58it/s]"
     ]
    },
    {
     "name": "stdout",
     "output_type": "stream",
     "text": [
      "\n",
      "image 1/1 C:\\Users\\cucum\\Downloads\\COS40007\\week 6\\images\\test_selected\\IMG_20100101_032553.jpg: 640x480 (no detections), 101.0ms\n",
      "Speed: 1.0ms preprocess, 101.0ms inference, 0.0ms postprocess per image at shape (1, 3, 640, 480)\n"
     ]
    },
    {
     "name": "stderr",
     "output_type": "stream",
     "text": [
      "Evaluating model:  18%|█▊        | 13/71 [00:01<00:06,  8.52it/s]"
     ]
    },
    {
     "name": "stdout",
     "output_type": "stream",
     "text": [
      "\n",
      "image 1/1 C:\\Users\\cucum\\Downloads\\COS40007\\week 6\\images\\test_selected\\IMG_20100101_033113.jpg: 640x480 (no detections), 98.5ms\n",
      "Speed: 2.0ms preprocess, 98.5ms inference, 1.0ms postprocess per image at shape (1, 3, 640, 480)\n"
     ]
    },
    {
     "name": "stderr",
     "output_type": "stream",
     "text": [
      "Evaluating model:  20%|█▉        | 14/71 [00:01<00:06,  8.56it/s]"
     ]
    },
    {
     "name": "stdout",
     "output_type": "stream",
     "text": [
      "\n",
      "image 1/1 C:\\Users\\cucum\\Downloads\\COS40007\\week 6\\images\\test_selected\\IMG_20100101_033117.jpg: 640x480 (no detections), 102.0ms\n",
      "Speed: 2.0ms preprocess, 102.0ms inference, 0.0ms postprocess per image at shape (1, 3, 640, 480)\n"
     ]
    },
    {
     "name": "stderr",
     "output_type": "stream",
     "text": [
      "Evaluating model:  21%|██        | 15/71 [00:01<00:06,  8.51it/s]"
     ]
    },
    {
     "name": "stdout",
     "output_type": "stream",
     "text": [
      "\n",
      "image 1/1 C:\\Users\\cucum\\Downloads\\COS40007\\week 6\\images\\test_selected\\IMG_20100101_033207.jpg: 640x480 (no detections), 98.5ms\n",
      "Speed: 2.0ms preprocess, 98.5ms inference, 1.0ms postprocess per image at shape (1, 3, 640, 480)\n"
     ]
    },
    {
     "name": "stderr",
     "output_type": "stream",
     "text": [
      "Evaluating model:  23%|██▎       | 16/71 [00:01<00:06,  8.56it/s]"
     ]
    },
    {
     "name": "stdout",
     "output_type": "stream",
     "text": [
      "\n",
      "image 1/1 C:\\Users\\cucum\\Downloads\\COS40007\\week 6\\images\\test_selected\\IMG_20100101_033559.jpg: 640x480 (no detections), 101.4ms\n",
      "Speed: 1.0ms preprocess, 101.4ms inference, 0.0ms postprocess per image at shape (1, 3, 640, 480)\n"
     ]
    },
    {
     "name": "stderr",
     "output_type": "stream",
     "text": [
      "Evaluating model:  24%|██▍       | 17/71 [00:02<00:06,  8.57it/s]"
     ]
    },
    {
     "name": "stdout",
     "output_type": "stream",
     "text": [
      "\n",
      "image 1/1 C:\\Users\\cucum\\Downloads\\COS40007\\week 6\\images\\test_selected\\IMG_20100101_033637.jpg: 640x480 (no detections), 98.5ms\n",
      "Speed: 2.0ms preprocess, 98.5ms inference, 0.0ms postprocess per image at shape (1, 3, 640, 480)\n"
     ]
    },
    {
     "name": "stderr",
     "output_type": "stream",
     "text": [
      "Evaluating model:  25%|██▌       | 18/71 [00:02<00:06,  8.62it/s]"
     ]
    },
    {
     "name": "stdout",
     "output_type": "stream",
     "text": [
      "\n",
      "image 1/1 C:\\Users\\cucum\\Downloads\\COS40007\\week 6\\images\\test_selected\\IMG_20180713_104842.jpg: 640x480 (no detections), 132.1ms\n",
      "Speed: 2.0ms preprocess, 132.1ms inference, 0.0ms postprocess per image at shape (1, 3, 640, 480)\n"
     ]
    },
    {
     "name": "stderr",
     "output_type": "stream",
     "text": [
      "Evaluating model:  27%|██▋       | 19/71 [00:02<00:06,  7.96it/s]"
     ]
    },
    {
     "name": "stdout",
     "output_type": "stream",
     "text": [
      "\n",
      "image 1/1 C:\\Users\\cucum\\Downloads\\COS40007\\week 6\\images\\test_selected\\IMG_20180713_105001.jpg: 640x480 (no detections), 104.1ms\n",
      "Speed: 2.0ms preprocess, 104.1ms inference, 0.0ms postprocess per image at shape (1, 3, 640, 480)\n"
     ]
    },
    {
     "name": "stderr",
     "output_type": "stream",
     "text": [
      "Evaluating model:  28%|██▊       | 20/71 [00:02<00:06,  7.99it/s]"
     ]
    },
    {
     "name": "stdout",
     "output_type": "stream",
     "text": [
      "\n",
      "image 1/1 C:\\Users\\cucum\\Downloads\\COS40007\\week 6\\images\\test_selected\\IMG_20180713_110324.jpg: 640x480 (no detections), 105.1ms\n",
      "Speed: 1.0ms preprocess, 105.1ms inference, 0.0ms postprocess per image at shape (1, 3, 640, 480)\n"
     ]
    },
    {
     "name": "stderr",
     "output_type": "stream",
     "text": [
      "Evaluating model:  30%|██▉       | 21/71 [00:02<00:06,  8.05it/s]"
     ]
    },
    {
     "name": "stdout",
     "output_type": "stream",
     "text": [
      "\n",
      "image 1/1 C:\\Users\\cucum\\Downloads\\COS40007\\week 6\\images\\test_selected\\IMG_20180714_103316.jpg: 640x480 (no detections), 101.1ms\n",
      "Speed: 1.0ms preprocess, 101.1ms inference, 1.0ms postprocess per image at shape (1, 3, 640, 480)\n"
     ]
    },
    {
     "name": "stderr",
     "output_type": "stream",
     "text": [
      "Evaluating model:  31%|███       | 22/71 [00:02<00:05,  8.20it/s]"
     ]
    },
    {
     "name": "stdout",
     "output_type": "stream",
     "text": [
      "\n",
      "image 1/1 C:\\Users\\cucum\\Downloads\\COS40007\\week 6\\images\\test_selected\\IMG_20180714_103949.jpg: 640x480 (no detections), 105.7ms\n",
      "Speed: 2.1ms preprocess, 105.7ms inference, 1.0ms postprocess per image at shape (1, 3, 640, 480)\n"
     ]
    },
    {
     "name": "stderr",
     "output_type": "stream",
     "text": [
      "Evaluating model:  32%|███▏      | 23/71 [00:02<00:05,  8.14it/s]"
     ]
    },
    {
     "name": "stdout",
     "output_type": "stream",
     "text": [
      "\n",
      "image 1/1 C:\\Users\\cucum\\Downloads\\COS40007\\week 6\\images\\test_selected\\IMG_20180714_105052.jpg: 640x480 (no detections), 105.5ms\n",
      "Speed: 2.0ms preprocess, 105.5ms inference, 1.0ms postprocess per image at shape (1, 3, 640, 480)\n"
     ]
    },
    {
     "name": "stderr",
     "output_type": "stream",
     "text": [
      "Evaluating model:  34%|███▍      | 24/71 [00:02<00:05,  8.17it/s]"
     ]
    },
    {
     "name": "stdout",
     "output_type": "stream",
     "text": [
      "\n",
      "image 1/1 C:\\Users\\cucum\\Downloads\\COS40007\\week 6\\images\\test_selected\\IMG_20180717_095144.jpg: 640x480 (no detections), 111.1ms\n",
      "Speed: 2.0ms preprocess, 111.1ms inference, 0.0ms postprocess per image at shape (1, 3, 640, 480)\n"
     ]
    },
    {
     "name": "stderr",
     "output_type": "stream",
     "text": [
      "Evaluating model:  35%|███▌      | 25/71 [00:03<00:05,  8.04it/s]"
     ]
    },
    {
     "name": "stdout",
     "output_type": "stream",
     "text": [
      "\n",
      "image 1/1 C:\\Users\\cucum\\Downloads\\COS40007\\week 6\\images\\test_selected\\IMG_20180717_095953.jpg: 640x480 (no detections), 103.6ms\n",
      "Speed: 2.0ms preprocess, 103.6ms inference, 0.0ms postprocess per image at shape (1, 3, 640, 480)\n"
     ]
    },
    {
     "name": "stderr",
     "output_type": "stream",
     "text": [
      "Evaluating model:  37%|███▋      | 26/71 [00:03<00:05,  8.11it/s]"
     ]
    },
    {
     "name": "stdout",
     "output_type": "stream",
     "text": [
      "\n",
      "image 1/1 C:\\Users\\cucum\\Downloads\\COS40007\\week 6\\images\\test_selected\\IMG_20180717_105032.jpg: 640x480 (no detections), 105.1ms\n",
      "Speed: 1.0ms preprocess, 105.1ms inference, 1.0ms postprocess per image at shape (1, 3, 640, 480)\n"
     ]
    },
    {
     "name": "stderr",
     "output_type": "stream",
     "text": [
      "Evaluating model:  38%|███▊      | 27/71 [00:03<00:05,  8.10it/s]"
     ]
    },
    {
     "name": "stdout",
     "output_type": "stream",
     "text": [
      "\n",
      "image 1/1 C:\\Users\\cucum\\Downloads\\COS40007\\week 6\\images\\test_selected\\IMG_20180717_120957.jpg: 640x480 (no detections), 108.0ms\n",
      "Speed: 2.0ms preprocess, 108.0ms inference, 1.0ms postprocess per image at shape (1, 3, 640, 480)\n"
     ]
    },
    {
     "name": "stderr",
     "output_type": "stream",
     "text": [
      "Evaluating model:  39%|███▉      | 28/71 [00:03<00:05,  8.01it/s]"
     ]
    },
    {
     "name": "stdout",
     "output_type": "stream",
     "text": [
      "\n",
      "image 1/1 C:\\Users\\cucum\\Downloads\\COS40007\\week 6\\images\\test_selected\\IMG_20180717_122331.jpg: 640x480 (no detections), 113.0ms\n",
      "Speed: 1.0ms preprocess, 113.0ms inference, 1.0ms postprocess per image at shape (1, 3, 640, 480)\n"
     ]
    },
    {
     "name": "stderr",
     "output_type": "stream",
     "text": [
      "Evaluating model:  41%|████      | 29/71 [00:03<00:05,  7.84it/s]"
     ]
    },
    {
     "name": "stdout",
     "output_type": "stream",
     "text": [
      "\n",
      "image 1/1 C:\\Users\\cucum\\Downloads\\COS40007\\week 6\\images\\test_selected\\IMG_20180717_122754.jpg: 640x480 (no detections), 107.1ms\n",
      "Speed: 2.0ms preprocess, 107.1ms inference, 1.0ms postprocess per image at shape (1, 3, 640, 480)\n"
     ]
    },
    {
     "name": "stderr",
     "output_type": "stream",
     "text": [
      "Evaluating model:  42%|████▏     | 30/71 [00:03<00:05,  7.89it/s]"
     ]
    },
    {
     "name": "stdout",
     "output_type": "stream",
     "text": [
      "\n",
      "image 1/1 C:\\Users\\cucum\\Downloads\\COS40007\\week 6\\images\\test_selected\\IMG_20180719_123752.jpg: 640x480 (no detections), 104.5ms\n",
      "Speed: 2.0ms preprocess, 104.5ms inference, 1.0ms postprocess per image at shape (1, 3, 640, 480)\n"
     ]
    },
    {
     "name": "stderr",
     "output_type": "stream",
     "text": [
      "Evaluating model:  44%|████▎     | 31/71 [00:03<00:05,  7.99it/s]"
     ]
    },
    {
     "name": "stdout",
     "output_type": "stream",
     "text": [
      "\n",
      "image 1/1 C:\\Users\\cucum\\Downloads\\COS40007\\week 6\\images\\test_selected\\IMG_20180719_124651.jpg: 640x480 (no detections), 103.1ms\n",
      "Speed: 2.0ms preprocess, 103.1ms inference, 0.0ms postprocess per image at shape (1, 3, 640, 480)\n"
     ]
    },
    {
     "name": "stderr",
     "output_type": "stream",
     "text": [
      "Evaluating model:  45%|████▌     | 32/71 [00:03<00:04,  8.07it/s]"
     ]
    },
    {
     "name": "stdout",
     "output_type": "stream",
     "text": [
      "\n",
      "image 1/1 C:\\Users\\cucum\\Downloads\\COS40007\\week 6\\images\\test_selected\\IMG_20180719_124828.jpg: 640x480 (no detections), 107.1ms\n",
      "Speed: 2.0ms preprocess, 107.1ms inference, 0.0ms postprocess per image at shape (1, 3, 640, 480)\n"
     ]
    },
    {
     "name": "stderr",
     "output_type": "stream",
     "text": [
      "Evaluating model:  46%|████▋     | 33/71 [00:04<00:04,  8.07it/s]"
     ]
    },
    {
     "name": "stdout",
     "output_type": "stream",
     "text": [
      "\n",
      "image 1/1 C:\\Users\\cucum\\Downloads\\COS40007\\week 6\\images\\test_selected\\IMG_20180719_143723.jpg: 640x480 (no detections), 104.5ms\n",
      "Speed: 2.2ms preprocess, 104.5ms inference, 0.0ms postprocess per image at shape (1, 3, 640, 480)\n"
     ]
    },
    {
     "name": "stderr",
     "output_type": "stream",
     "text": [
      "Evaluating model:  48%|████▊     | 34/71 [00:04<00:04,  8.12it/s]"
     ]
    },
    {
     "name": "stdout",
     "output_type": "stream",
     "text": [
      "\n",
      "image 1/1 C:\\Users\\cucum\\Downloads\\COS40007\\week 6\\images\\test_selected\\IMG_20180720_142111.jpg: 640x480 (no detections), 104.5ms\n",
      "Speed: 2.0ms preprocess, 104.5ms inference, 0.0ms postprocess per image at shape (1, 3, 640, 480)\n"
     ]
    },
    {
     "name": "stderr",
     "output_type": "stream",
     "text": [
      "Evaluating model:  49%|████▉     | 35/71 [00:04<00:04,  8.14it/s]"
     ]
    },
    {
     "name": "stdout",
     "output_type": "stream",
     "text": [
      "\n",
      "image 1/1 C:\\Users\\cucum\\Downloads\\COS40007\\week 6\\images\\test_selected\\IMG_20180720_142150.jpg: 640x480 (no detections), 115.1ms\n",
      "Speed: 2.0ms preprocess, 115.1ms inference, 0.0ms postprocess per image at shape (1, 3, 640, 480)\n"
     ]
    },
    {
     "name": "stderr",
     "output_type": "stream",
     "text": [
      "Evaluating model:  51%|█████     | 36/71 [00:04<00:04,  7.94it/s]"
     ]
    },
    {
     "name": "stdout",
     "output_type": "stream",
     "text": [
      "\n",
      "image 1/1 C:\\Users\\cucum\\Downloads\\COS40007\\week 6\\images\\test_selected\\IMG_20180720_142458.jpg: 640x480 (no detections), 104.5ms\n",
      "Speed: 2.0ms preprocess, 104.5ms inference, 1.0ms postprocess per image at shape (1, 3, 640, 480)\n"
     ]
    },
    {
     "name": "stderr",
     "output_type": "stream",
     "text": [
      "Evaluating model:  52%|█████▏    | 37/71 [00:04<00:04,  8.03it/s]"
     ]
    },
    {
     "name": "stdout",
     "output_type": "stream",
     "text": [
      "\n",
      "image 1/1 C:\\Users\\cucum\\Downloads\\COS40007\\week 6\\images\\test_selected\\IMG_20180720_142558.jpg: 640x480 (no detections), 102.5ms\n",
      "Speed: 2.0ms preprocess, 102.5ms inference, 0.0ms postprocess per image at shape (1, 3, 640, 480)\n"
     ]
    },
    {
     "name": "stderr",
     "output_type": "stream",
     "text": [
      "Evaluating model:  54%|█████▎    | 38/71 [00:04<00:04,  8.15it/s]"
     ]
    },
    {
     "name": "stdout",
     "output_type": "stream",
     "text": [
      "\n",
      "image 1/1 C:\\Users\\cucum\\Downloads\\COS40007\\week 6\\images\\test_selected\\IMG_20180720_142731.jpg: 640x480 (no detections), 104.3ms\n",
      "Speed: 1.0ms preprocess, 104.3ms inference, 0.0ms postprocess per image at shape (1, 3, 640, 480)\n"
     ]
    },
    {
     "name": "stderr",
     "output_type": "stream",
     "text": [
      "Evaluating model:  55%|█████▍    | 39/71 [00:04<00:03,  8.20it/s]"
     ]
    },
    {
     "name": "stdout",
     "output_type": "stream",
     "text": [
      "\n",
      "image 1/1 C:\\Users\\cucum\\Downloads\\COS40007\\week 6\\images\\test_selected\\IMG_20180720_143100.jpg: 640x480 (no detections), 136.7ms\n",
      "Speed: 2.2ms preprocess, 136.7ms inference, 0.0ms postprocess per image at shape (1, 3, 640, 480)\n"
     ]
    },
    {
     "name": "stderr",
     "output_type": "stream",
     "text": [
      "Evaluating model:  56%|█████▋    | 40/71 [00:04<00:04,  7.60it/s]"
     ]
    },
    {
     "name": "stdout",
     "output_type": "stream",
     "text": [
      "\n",
      "image 1/1 C:\\Users\\cucum\\Downloads\\COS40007\\week 6\\images\\test_selected\\IMG_20180721_090127.jpg: 640x480 (no detections), 107.5ms\n",
      "Speed: 1.0ms preprocess, 107.5ms inference, 1.0ms postprocess per image at shape (1, 3, 640, 480)\n"
     ]
    },
    {
     "name": "stderr",
     "output_type": "stream",
     "text": [
      "Evaluating model:  58%|█████▊    | 41/71 [00:05<00:03,  7.73it/s]"
     ]
    },
    {
     "name": "stdout",
     "output_type": "stream",
     "text": [
      "\n",
      "image 1/1 C:\\Users\\cucum\\Downloads\\COS40007\\week 6\\images\\test_selected\\IMG_20180721_091732.jpg: 640x480 (no detections), 104.0ms\n",
      "Speed: 2.0ms preprocess, 104.0ms inference, 0.0ms postprocess per image at shape (1, 3, 640, 480)\n"
     ]
    },
    {
     "name": "stderr",
     "output_type": "stream",
     "text": [
      "Evaluating model:  59%|█████▉    | 42/71 [00:05<00:03,  7.83it/s]"
     ]
    },
    {
     "name": "stdout",
     "output_type": "stream",
     "text": [
      "\n",
      "image 1/1 C:\\Users\\cucum\\Downloads\\COS40007\\week 6\\images\\test_selected\\IMG_20180723_123106.jpg: 640x480 (no detections), 104.4ms\n",
      "Speed: 1.0ms preprocess, 104.4ms inference, 0.0ms postprocess per image at shape (1, 3, 640, 480)\n"
     ]
    },
    {
     "name": "stderr",
     "output_type": "stream",
     "text": [
      "Evaluating model:  61%|██████    | 43/71 [00:05<00:03,  7.98it/s]"
     ]
    },
    {
     "name": "stdout",
     "output_type": "stream",
     "text": [
      "\n",
      "image 1/1 C:\\Users\\cucum\\Downloads\\COS40007\\week 6\\images\\test_selected\\IMG_20180723_123119.jpg: 640x480 (no detections), 104.5ms\n",
      "Speed: 2.0ms preprocess, 104.5ms inference, 0.0ms postprocess per image at shape (1, 3, 640, 480)\n"
     ]
    },
    {
     "name": "stderr",
     "output_type": "stream",
     "text": [
      "Evaluating model:  62%|██████▏   | 44/71 [00:05<00:03,  8.04it/s]"
     ]
    },
    {
     "name": "stdout",
     "output_type": "stream",
     "text": [
      "\n",
      "image 1/1 C:\\Users\\cucum\\Downloads\\COS40007\\week 6\\images\\test_selected\\IMG_20180723_123134.jpg: 640x480 (no detections), 101.4ms\n",
      "Speed: 2.0ms preprocess, 101.4ms inference, 0.0ms postprocess per image at shape (1, 3, 640, 480)\n"
     ]
    },
    {
     "name": "stderr",
     "output_type": "stream",
     "text": [
      "Evaluating model:  63%|██████▎   | 45/71 [00:05<00:03,  8.02it/s]"
     ]
    },
    {
     "name": "stdout",
     "output_type": "stream",
     "text": [
      "\n",
      "image 1/1 C:\\Users\\cucum\\Downloads\\COS40007\\week 6\\images\\test_selected\\IMG_20180723_123154.jpg: 640x480 (no detections), 104.5ms\n",
      "Speed: 1.0ms preprocess, 104.5ms inference, 0.0ms postprocess per image at shape (1, 3, 640, 480)\n"
     ]
    },
    {
     "name": "stderr",
     "output_type": "stream",
     "text": [
      "Evaluating model:  65%|██████▍   | 46/71 [00:05<00:03,  8.10it/s]"
     ]
    },
    {
     "name": "stdout",
     "output_type": "stream",
     "text": [
      "\n",
      "image 1/1 C:\\Users\\cucum\\Downloads\\COS40007\\week 6\\images\\test_selected\\IMG_20180723_123302.jpg: 640x480 (no detections), 108.5ms\n",
      "Speed: 2.0ms preprocess, 108.5ms inference, 0.0ms postprocess per image at shape (1, 3, 640, 480)\n"
     ]
    },
    {
     "name": "stderr",
     "output_type": "stream",
     "text": [
      "Evaluating model:  66%|██████▌   | 47/71 [00:05<00:02,  8.07it/s]"
     ]
    },
    {
     "name": "stdout",
     "output_type": "stream",
     "text": [
      "\n",
      "image 1/1 C:\\Users\\cucum\\Downloads\\COS40007\\week 6\\images\\test_selected\\IMG_20180723_123340.jpg: 640x480 (no detections), 105.4ms\n",
      "Speed: 2.0ms preprocess, 105.4ms inference, 0.0ms postprocess per image at shape (1, 3, 640, 480)\n"
     ]
    },
    {
     "name": "stderr",
     "output_type": "stream",
     "text": [
      "Evaluating model:  68%|██████▊   | 48/71 [00:05<00:02,  8.12it/s]"
     ]
    },
    {
     "name": "stdout",
     "output_type": "stream",
     "text": [
      "\n",
      "image 1/1 C:\\Users\\cucum\\Downloads\\COS40007\\week 6\\images\\test_selected\\IMG_20180723_145744.jpg: 640x480 (no detections), 105.5ms\n",
      "Speed: 1.0ms preprocess, 105.5ms inference, 0.0ms postprocess per image at shape (1, 3, 640, 480)\n"
     ]
    },
    {
     "name": "stderr",
     "output_type": "stream",
     "text": [
      "Evaluating model:  69%|██████▉   | 49/71 [00:06<00:02,  8.13it/s]"
     ]
    },
    {
     "name": "stdout",
     "output_type": "stream",
     "text": [
      "\n",
      "image 1/1 C:\\Users\\cucum\\Downloads\\COS40007\\week 6\\images\\test_selected\\IMG_20180724_121309.jpg: 640x480 (no detections), 107.6ms\n",
      "Speed: 2.0ms preprocess, 107.6ms inference, 0.0ms postprocess per image at shape (1, 3, 640, 480)\n"
     ]
    },
    {
     "name": "stderr",
     "output_type": "stream",
     "text": [
      "Evaluating model:  70%|███████   | 50/71 [00:06<00:02,  8.14it/s]"
     ]
    },
    {
     "name": "stdout",
     "output_type": "stream",
     "text": [
      "\n",
      "image 1/1 C:\\Users\\cucum\\Downloads\\COS40007\\week 6\\images\\test_selected\\IMG_20180724_121832.jpg: 640x480 (no detections), 103.8ms\n",
      "Speed: 1.0ms preprocess, 103.8ms inference, 0.0ms postprocess per image at shape (1, 3, 640, 480)\n"
     ]
    },
    {
     "name": "stderr",
     "output_type": "stream",
     "text": [
      "Evaluating model:  72%|███████▏  | 51/71 [00:06<00:02,  8.22it/s]"
     ]
    },
    {
     "name": "stdout",
     "output_type": "stream",
     "text": [
      "\n",
      "image 1/1 C:\\Users\\cucum\\Downloads\\COS40007\\week 6\\images\\test_selected\\IMG_20180724_121957.jpg: 640x480 (no detections), 106.5ms\n",
      "Speed: 2.0ms preprocess, 106.5ms inference, 1.0ms postprocess per image at shape (1, 3, 640, 480)\n"
     ]
    },
    {
     "name": "stderr",
     "output_type": "stream",
     "text": [
      "Evaluating model:  73%|███████▎  | 52/71 [00:06<00:02,  8.18it/s]"
     ]
    },
    {
     "name": "stdout",
     "output_type": "stream",
     "text": [
      "\n",
      "image 1/1 C:\\Users\\cucum\\Downloads\\COS40007\\week 6\\images\\test_selected\\IMG_20180724_123021.jpg: 640x480 (no detections), 106.5ms\n",
      "Speed: 2.0ms preprocess, 106.5ms inference, 1.0ms postprocess per image at shape (1, 3, 640, 480)\n"
     ]
    },
    {
     "name": "stderr",
     "output_type": "stream",
     "text": [
      "Evaluating model:  75%|███████▍  | 53/71 [00:06<00:02,  7.92it/s]"
     ]
    },
    {
     "name": "stdout",
     "output_type": "stream",
     "text": [
      "\n",
      "image 1/1 C:\\Users\\cucum\\Downloads\\COS40007\\week 6\\images\\test_selected\\IMG_20180724_123530.jpg: 640x480 (no detections), 104.6ms\n",
      "Speed: 2.0ms preprocess, 104.6ms inference, 0.0ms postprocess per image at shape (1, 3, 640, 480)\n"
     ]
    },
    {
     "name": "stderr",
     "output_type": "stream",
     "text": [
      "Evaluating model:  76%|███████▌  | 54/71 [00:06<00:02,  7.99it/s]"
     ]
    },
    {
     "name": "stdout",
     "output_type": "stream",
     "text": [
      "\n",
      "image 1/1 C:\\Users\\cucum\\Downloads\\COS40007\\week 6\\images\\test_selected\\IMG_20180724_123732.jpg: 640x480 (no detections), 108.3ms\n",
      "Speed: 2.0ms preprocess, 108.3ms inference, 0.0ms postprocess per image at shape (1, 3, 640, 480)\n"
     ]
    },
    {
     "name": "stderr",
     "output_type": "stream",
     "text": [
      "Evaluating model:  77%|███████▋  | 55/71 [00:06<00:02,  7.99it/s]"
     ]
    },
    {
     "name": "stdout",
     "output_type": "stream",
     "text": [
      "\n",
      "image 1/1 C:\\Users\\cucum\\Downloads\\COS40007\\week 6\\images\\test_selected\\IMG_20180724_124841.jpg: 640x480 (no detections), 107.2ms\n",
      "Speed: 2.0ms preprocess, 107.2ms inference, 0.0ms postprocess per image at shape (1, 3, 640, 480)\n"
     ]
    },
    {
     "name": "stderr",
     "output_type": "stream",
     "text": [
      "Evaluating model:  79%|███████▉  | 56/71 [00:06<00:01,  7.95it/s]"
     ]
    },
    {
     "name": "stdout",
     "output_type": "stream",
     "text": [
      "\n",
      "image 1/1 C:\\Users\\cucum\\Downloads\\COS40007\\week 6\\images\\test_selected\\IMG_20180724_125716.jpg: 640x480 (no detections), 107.5ms\n",
      "Speed: 2.0ms preprocess, 107.5ms inference, 0.0ms postprocess per image at shape (1, 3, 640, 480)\n"
     ]
    },
    {
     "name": "stderr",
     "output_type": "stream",
     "text": [
      "Evaluating model:  80%|████████  | 57/71 [00:07<00:01,  7.95it/s]"
     ]
    },
    {
     "name": "stdout",
     "output_type": "stream",
     "text": [
      "\n",
      "image 1/1 C:\\Users\\cucum\\Downloads\\COS40007\\week 6\\images\\test_selected\\IMG_20180724_150928.jpg: 640x480 (no detections), 106.5ms\n",
      "Speed: 1.0ms preprocess, 106.5ms inference, 0.0ms postprocess per image at shape (1, 3, 640, 480)\n"
     ]
    },
    {
     "name": "stderr",
     "output_type": "stream",
     "text": [
      "Evaluating model:  82%|████████▏ | 58/71 [00:07<00:01,  8.01it/s]"
     ]
    },
    {
     "name": "stdout",
     "output_type": "stream",
     "text": [
      "\n",
      "image 1/1 C:\\Users\\cucum\\Downloads\\COS40007\\week 6\\images\\test_selected\\IMG_20180725_120143.jpg: 640x480 (no detections), 105.4ms\n",
      "Speed: 2.0ms preprocess, 105.4ms inference, 1.0ms postprocess per image at shape (1, 3, 640, 480)\n"
     ]
    },
    {
     "name": "stderr",
     "output_type": "stream",
     "text": [
      "Evaluating model:  83%|████████▎ | 59/71 [00:07<00:01,  8.04it/s]"
     ]
    },
    {
     "name": "stdout",
     "output_type": "stream",
     "text": [
      "\n",
      "image 1/1 C:\\Users\\cucum\\Downloads\\COS40007\\week 6\\images\\test_selected\\IMG_20180725_122016.jpg: 640x480 (no detections), 158.1ms\n",
      "Speed: 6.0ms preprocess, 158.1ms inference, 0.0ms postprocess per image at shape (1, 3, 640, 480)\n"
     ]
    },
    {
     "name": "stderr",
     "output_type": "stream",
     "text": [
      "Evaluating model:  85%|████████▍ | 60/71 [00:07<00:01,  7.09it/s]"
     ]
    },
    {
     "name": "stdout",
     "output_type": "stream",
     "text": [
      "\n",
      "image 1/1 C:\\Users\\cucum\\Downloads\\COS40007\\week 6\\images\\test_selected\\IMG_20180725_122039.jpg: 640x480 (no detections), 132.1ms\n",
      "Speed: 2.0ms preprocess, 132.1ms inference, 0.0ms postprocess per image at shape (1, 3, 640, 480)\n"
     ]
    },
    {
     "name": "stderr",
     "output_type": "stream",
     "text": [
      "Evaluating model:  86%|████████▌ | 61/71 [00:07<00:01,  6.98it/s]"
     ]
    },
    {
     "name": "stdout",
     "output_type": "stream",
     "text": [
      "\n",
      "image 1/1 C:\\Users\\cucum\\Downloads\\COS40007\\week 6\\images\\test_selected\\IMG_20180725_122619.jpg: 640x480 (no detections), 108.5ms\n",
      "Speed: 2.0ms preprocess, 108.5ms inference, 0.0ms postprocess per image at shape (1, 3, 640, 480)\n"
     ]
    },
    {
     "name": "stderr",
     "output_type": "stream",
     "text": [
      "Evaluating model:  87%|████████▋ | 62/71 [00:07<00:01,  7.26it/s]"
     ]
    },
    {
     "name": "stdout",
     "output_type": "stream",
     "text": [
      "\n",
      "image 1/1 C:\\Users\\cucum\\Downloads\\COS40007\\week 6\\images\\test_selected\\IMG_20180726_122312.jpg: 640x480 (no detections), 106.1ms\n",
      "Speed: 2.0ms preprocess, 106.1ms inference, 0.0ms postprocess per image at shape (1, 3, 640, 480)\n"
     ]
    },
    {
     "name": "stderr",
     "output_type": "stream",
     "text": [
      "Evaluating model:  89%|████████▊ | 63/71 [00:07<00:01,  7.50it/s]"
     ]
    },
    {
     "name": "stdout",
     "output_type": "stream",
     "text": [
      "\n",
      "image 1/1 C:\\Users\\cucum\\Downloads\\COS40007\\week 6\\images\\test_selected\\IMG_20180726_122652.jpg: 640x480 (no detections), 106.7ms\n",
      "Speed: 2.1ms preprocess, 106.7ms inference, 0.0ms postprocess per image at shape (1, 3, 640, 480)\n"
     ]
    },
    {
     "name": "stderr",
     "output_type": "stream",
     "text": [
      "Evaluating model:  90%|█████████ | 64/71 [00:08<00:00,  7.64it/s]"
     ]
    },
    {
     "name": "stdout",
     "output_type": "stream",
     "text": [
      "\n",
      "image 1/1 C:\\Users\\cucum\\Downloads\\COS40007\\week 6\\images\\test_selected\\IMG_20180810_085645.jpg: 640x480 (no detections), 108.1ms\n",
      "Speed: 2.0ms preprocess, 108.1ms inference, 1.0ms postprocess per image at shape (1, 3, 640, 480)\n"
     ]
    },
    {
     "name": "stderr",
     "output_type": "stream",
     "text": [
      "Evaluating model:  92%|█████████▏| 65/71 [00:08<00:00,  7.76it/s]"
     ]
    },
    {
     "name": "stdout",
     "output_type": "stream",
     "text": [
      "\n",
      "image 1/1 C:\\Users\\cucum\\Downloads\\COS40007\\week 6\\images\\test_selected\\IMG_20180810_092723.jpg: 640x480 (no detections), 103.0ms\n",
      "Speed: 2.0ms preprocess, 103.0ms inference, 0.0ms postprocess per image at shape (1, 3, 640, 480)\n"
     ]
    },
    {
     "name": "stderr",
     "output_type": "stream",
     "text": [
      "Evaluating model:  93%|█████████▎| 66/71 [00:08<00:00,  7.94it/s]"
     ]
    },
    {
     "name": "stdout",
     "output_type": "stream",
     "text": [
      "\n",
      "image 1/1 C:\\Users\\cucum\\Downloads\\COS40007\\week 6\\images\\test_selected\\IMG_20180810_092957.jpg: 640x480 (no detections), 113.6ms\n",
      "Speed: 2.0ms preprocess, 113.6ms inference, 0.0ms postprocess per image at shape (1, 3, 640, 480)\n"
     ]
    },
    {
     "name": "stderr",
     "output_type": "stream",
     "text": [
      "Evaluating model:  94%|█████████▍| 67/71 [00:08<00:00,  7.86it/s]"
     ]
    },
    {
     "name": "stdout",
     "output_type": "stream",
     "text": [
      "\n",
      "image 1/1 C:\\Users\\cucum\\Downloads\\COS40007\\week 6\\images\\test_selected\\IMG_20180810_093037.jpg: 640x480 (no detections), 110.1ms\n",
      "Speed: 1.0ms preprocess, 110.1ms inference, 0.0ms postprocess per image at shape (1, 3, 640, 480)\n"
     ]
    },
    {
     "name": "stderr",
     "output_type": "stream",
     "text": [
      "Evaluating model:  96%|█████████▌| 68/71 [00:08<00:00,  7.88it/s]"
     ]
    },
    {
     "name": "stdout",
     "output_type": "stream",
     "text": [
      "\n",
      "image 1/1 C:\\Users\\cucum\\Downloads\\COS40007\\week 6\\images\\test_selected\\IMG_20180810_093330.jpg: 640x480 (no detections), 110.5ms\n",
      "Speed: 1.0ms preprocess, 110.5ms inference, 1.0ms postprocess per image at shape (1, 3, 640, 480)\n"
     ]
    },
    {
     "name": "stderr",
     "output_type": "stream",
     "text": [
      "Evaluating model:  97%|█████████▋| 69/71 [00:08<00:00,  7.85it/s]"
     ]
    },
    {
     "name": "stdout",
     "output_type": "stream",
     "text": [
      "\n",
      "image 1/1 C:\\Users\\cucum\\Downloads\\COS40007\\week 6\\images\\test_selected\\IMG_20180811_083610.jpg: 640x480 (no detections), 107.0ms\n",
      "Speed: 2.0ms preprocess, 107.0ms inference, 0.0ms postprocess per image at shape (1, 3, 640, 480)\n"
     ]
    },
    {
     "name": "stderr",
     "output_type": "stream",
     "text": [
      "Evaluating model:  99%|█████████▊| 70/71 [00:08<00:00,  7.91it/s]"
     ]
    },
    {
     "name": "stdout",
     "output_type": "stream",
     "text": [
      "\n",
      "image 1/1 C:\\Users\\cucum\\Downloads\\COS40007\\week 6\\images\\test_selected\\IMG_20180811_083858.jpg: 640x480 (no detections), 109.1ms\n",
      "Speed: 2.0ms preprocess, 109.1ms inference, 0.0ms postprocess per image at shape (1, 3, 640, 480)\n"
     ]
    },
    {
     "name": "stderr",
     "output_type": "stream",
     "text": [
      "Evaluating model: 100%|██████████| 71/71 [00:08<00:00,  7.98it/s]\n"
     ]
    }
   ],
   "source": [
    "df_results = evaluate_model(model,  \n",
    "                            r'C:\\Users\\cucum\\Downloads\\COS40007/week 6/images/test_selected',  \n",
    "                            r'C:\\Users\\cucum\\Downloads\\COS40007/week 6/labels/test_selected',  \n",
    "                            'week-06-portfolio/evaluation_images') \n",
    "df_results.to_csv('GrafitiDetectionResults.csv', index=False)"
   ]
  },
  {
   "cell_type": "markdown",
   "metadata": {},
   "source": [
    "Step 4"
   ]
  },
  {
   "cell_type": "code",
   "execution_count": 19,
   "metadata": {},
   "outputs": [
    {
     "name": "stdout",
     "output_type": "stream",
     "text": [
      "\n",
      "Starting iteration: 1\n",
      "\u001b[34m\u001b[1mengine\\trainer: \u001b[0mtask=detect, mode=train, model=yolov5su.pt, data=yaml/graffiti_iter_1.yaml, epochs=5, time=None, patience=100, batch=16, imgsz=640, save=True, save_period=-1, cache=False, device=cpu, workers=8, project=week 6/runs/train, name=graffiti_detection_iter_16, exist_ok=False, pretrained=True, optimizer=auto, verbose=True, seed=0, deterministic=True, single_cls=False, rect=False, cos_lr=False, close_mosaic=10, resume=False, amp=True, fraction=1.0, profile=False, freeze=None, multi_scale=False, overlap_mask=True, mask_ratio=4, dropout=0.0, val=True, split=val, save_json=False, save_hybrid=False, conf=None, iou=0.7, max_det=300, half=False, dnn=False, plots=True, source=None, vid_stride=1, stream_buffer=False, visualize=False, augment=False, agnostic_nms=False, classes=None, retina_masks=False, embed=None, show=False, save_frames=False, save_txt=False, save_conf=False, save_crop=False, show_labels=True, show_conf=True, show_boxes=True, line_width=None, format=torchscript, keras=False, optimize=False, int8=False, dynamic=False, simplify=False, opset=None, workspace=4, nms=False, lr0=0.01, lrf=0.01, momentum=0.937, weight_decay=0.0005, warmup_epochs=3.0, warmup_momentum=0.8, warmup_bias_lr=0.1, box=7.5, cls=0.5, dfl=1.5, pose=12.0, kobj=1.0, label_smoothing=0.0, nbs=64, hsv_h=0.015, hsv_s=0.7, hsv_v=0.4, degrees=0.0, translate=0.1, scale=0.5, shear=0.0, perspective=0.0, flipud=0.0, fliplr=0.5, bgr=0.0, mosaic=1.0, mixup=0.0, copy_paste=0.0, auto_augment=randaugment, erasing=0.4, crop_fraction=1.0, cfg=None, tracker=botsort.yaml, save_dir=week 6\\runs\\train\\graffiti_detection_iter_16\n",
      "Overriding model.yaml nc=80 with nc=1\n",
      "\n",
      "                   from  n    params  module                                       arguments                     \n",
      "  0                  -1  1      3520  ultralytics.nn.modules.conv.Conv             [3, 32, 6, 2, 2]              \n",
      "  1                  -1  1     18560  ultralytics.nn.modules.conv.Conv             [32, 64, 3, 2]                \n",
      "  2                  -1  1     18816  ultralytics.nn.modules.block.C3              [64, 64, 1]                   \n",
      "  3                  -1  1     73984  ultralytics.nn.modules.conv.Conv             [64, 128, 3, 2]               \n",
      "  4                  -1  2    115712  ultralytics.nn.modules.block.C3              [128, 128, 2]                 \n",
      "  5                  -1  1    295424  ultralytics.nn.modules.conv.Conv             [128, 256, 3, 2]              \n",
      "  6                  -1  3    625152  ultralytics.nn.modules.block.C3              [256, 256, 3]                 \n",
      "  7                  -1  1   1180672  ultralytics.nn.modules.conv.Conv             [256, 512, 3, 2]              \n",
      "  8                  -1  1   1182720  ultralytics.nn.modules.block.C3              [512, 512, 1]                 \n",
      "  9                  -1  1    656896  ultralytics.nn.modules.block.SPPF            [512, 512, 5]                 \n",
      " 10                  -1  1    131584  ultralytics.nn.modules.conv.Conv             [512, 256, 1, 1]              \n",
      " 11                  -1  1         0  torch.nn.modules.upsampling.Upsample         [None, 2, 'nearest']          \n",
      " 12             [-1, 6]  1         0  ultralytics.nn.modules.conv.Concat           [1]                           \n",
      " 13                  -1  1    361984  ultralytics.nn.modules.block.C3              [512, 256, 1, False]          \n",
      " 14                  -1  1     33024  ultralytics.nn.modules.conv.Conv             [256, 128, 1, 1]              \n",
      " 15                  -1  1         0  torch.nn.modules.upsampling.Upsample         [None, 2, 'nearest']          \n",
      " 16             [-1, 4]  1         0  ultralytics.nn.modules.conv.Concat           [1]                           \n",
      " 17                  -1  1     90880  ultralytics.nn.modules.block.C3              [256, 128, 1, False]          \n",
      " 18                  -1  1    147712  ultralytics.nn.modules.conv.Conv             [128, 128, 3, 2]              \n",
      " 19            [-1, 14]  1         0  ultralytics.nn.modules.conv.Concat           [1]                           \n",
      " 20                  -1  1    296448  ultralytics.nn.modules.block.C3              [256, 256, 1, False]          \n",
      " 21                  -1  1    590336  ultralytics.nn.modules.conv.Conv             [256, 256, 3, 2]              \n",
      " 22            [-1, 10]  1         0  ultralytics.nn.modules.conv.Concat           [1]                           \n",
      " 23                  -1  1   1182720  ultralytics.nn.modules.block.C3              [512, 512, 1, False]          \n",
      " 24        [17, 20, 23]  1   2116435  ultralytics.nn.modules.head.Detect           [1, [128, 256, 512]]          \n",
      "YOLOv5s summary: 262 layers, 9,122,579 parameters, 9,122,563 gradients, 24.0 GFLOPs\n",
      "\n",
      "Transferred 421/427 items from pretrained weights\n",
      "\u001b[34m\u001b[1mTensorBoard: \u001b[0mStart with 'tensorboard --logdir week 6\\runs\\train\\graffiti_detection_iter_16', view at http://localhost:6006/\n",
      "Freezing layer 'model.24.dfl.conv.weight'\n"
     ]
    },
    {
     "name": "stderr",
     "output_type": "stream",
     "text": [
      "\u001b[34m\u001b[1mtrain: \u001b[0mScanning C:\\Users\\cucum\\Downloads\\COS40007\\week 6\\labels\\train_selected_iter_1... 813 images, 0 backgrounds, 783 corrupt: 100%|██████████| 813/813 [00:00<00:00, 2377.97it/s]"
     ]
    },
    {
     "name": "stdout",
     "output_type": "stream",
     "text": [
      "\u001b[34m\u001b[1mtrain: \u001b[0mWARNING  C:\\Users\\cucum\\Downloads\\COS40007\\week 6\\images\\train_selected_iter_1\\IMG_0020.JPG: ignoring corrupt image/label: could not convert string to float: '0,'\n",
      "\u001b[34m\u001b[1mtrain: \u001b[0mWARNING  C:\\Users\\cucum\\Downloads\\COS40007\\week 6\\images\\train_selected_iter_1\\IMG_0026.JPG: ignoring corrupt image/label: could not convert string to float: '0,'\n",
      "\u001b[34m\u001b[1mtrain: \u001b[0mWARNING  C:\\Users\\cucum\\Downloads\\COS40007\\week 6\\images\\train_selected_iter_1\\IMG_0027.JPG: ignoring corrupt image/label: could not convert string to float: '0,'\n",
      "\u001b[34m\u001b[1mtrain: \u001b[0mWARNING  C:\\Users\\cucum\\Downloads\\COS40007\\week 6\\images\\train_selected_iter_1\\IMG_0028.JPG: ignoring corrupt image/label: could not convert string to float: '0,'\n",
      "\u001b[34m\u001b[1mtrain: \u001b[0mWARNING  C:\\Users\\cucum\\Downloads\\COS40007\\week 6\\images\\train_selected_iter_1\\IMG_0031.JPG: ignoring corrupt image/label: could not convert string to float: '0,'\n",
      "\u001b[34m\u001b[1mtrain: \u001b[0mWARNING  C:\\Users\\cucum\\Downloads\\COS40007\\week 6\\images\\train_selected_iter_1\\IMG_0034.JPG: ignoring corrupt image/label: could not convert string to float: '0,'\n",
      "\u001b[34m\u001b[1mtrain: \u001b[0mWARNING  C:\\Users\\cucum\\Downloads\\COS40007\\week 6\\images\\train_selected_iter_1\\IMG_0036.JPG: ignoring corrupt image/label: could not convert string to float: '0,'\n",
      "\u001b[34m\u001b[1mtrain: \u001b[0mWARNING  C:\\Users\\cucum\\Downloads\\COS40007\\week 6\\images\\train_selected_iter_1\\IMG_0039.JPG: ignoring corrupt image/label: could not convert string to float: '0,'\n",
      "\u001b[34m\u001b[1mtrain: \u001b[0mWARNING  C:\\Users\\cucum\\Downloads\\COS40007\\week 6\\images\\train_selected_iter_1\\IMG_0044.JPG: ignoring corrupt image/label: could not convert string to float: '0,'\n",
      "\u001b[34m\u001b[1mtrain: \u001b[0mWARNING  C:\\Users\\cucum\\Downloads\\COS40007\\week 6\\images\\train_selected_iter_1\\IMG_0056.JPG: ignoring corrupt image/label: could not convert string to float: '0,'\n",
      "\u001b[34m\u001b[1mtrain: \u001b[0mWARNING  C:\\Users\\cucum\\Downloads\\COS40007\\week 6\\images\\train_selected_iter_1\\IMG_0058.JPG: ignoring corrupt image/label: could not convert string to float: '0,'\n",
      "\u001b[34m\u001b[1mtrain: \u001b[0mWARNING  C:\\Users\\cucum\\Downloads\\COS40007\\week 6\\images\\train_selected_iter_1\\IMG_0061.JPG: ignoring corrupt image/label: could not convert string to float: '0,'\n",
      "\u001b[34m\u001b[1mtrain: \u001b[0mWARNING  C:\\Users\\cucum\\Downloads\\COS40007\\week 6\\images\\train_selected_iter_1\\IMG_0063.JPG: ignoring corrupt image/label: could not convert string to float: '0,'\n",
      "\u001b[34m\u001b[1mtrain: \u001b[0mWARNING  C:\\Users\\cucum\\Downloads\\COS40007\\week 6\\images\\train_selected_iter_1\\IMG_0065.JPG: ignoring corrupt image/label: could not convert string to float: '0,'\n",
      "\u001b[34m\u001b[1mtrain: \u001b[0mWARNING  C:\\Users\\cucum\\Downloads\\COS40007\\week 6\\images\\train_selected_iter_1\\IMG_0070.JPG: ignoring corrupt image/label: could not convert string to float: '0,'\n",
      "\u001b[34m\u001b[1mtrain: \u001b[0mWARNING  C:\\Users\\cucum\\Downloads\\COS40007\\week 6\\images\\train_selected_iter_1\\IMG_0074.JPG: ignoring corrupt image/label: could not convert string to float: '0,'\n",
      "\u001b[34m\u001b[1mtrain: \u001b[0mWARNING  C:\\Users\\cucum\\Downloads\\COS40007\\week 6\\images\\train_selected_iter_1\\IMG_0076.JPG: ignoring corrupt image/label: could not convert string to float: '0,'\n",
      "\u001b[34m\u001b[1mtrain: \u001b[0mWARNING  C:\\Users\\cucum\\Downloads\\COS40007\\week 6\\images\\train_selected_iter_1\\IMG_0077.JPG: ignoring corrupt image/label: could not convert string to float: '0,'\n",
      "\u001b[34m\u001b[1mtrain: \u001b[0mWARNING  C:\\Users\\cucum\\Downloads\\COS40007\\week 6\\images\\train_selected_iter_1\\IMG_0078.JPG: ignoring corrupt image/label: could not convert string to float: '0,'\n",
      "\u001b[34m\u001b[1mtrain: \u001b[0mWARNING  C:\\Users\\cucum\\Downloads\\COS40007\\week 6\\images\\train_selected_iter_1\\IMG_0089.JPG: ignoring corrupt image/label: could not convert string to float: '0,'\n",
      "\u001b[34m\u001b[1mtrain: \u001b[0mWARNING  C:\\Users\\cucum\\Downloads\\COS40007\\week 6\\images\\train_selected_iter_1\\IMG_0124.JPG: ignoring corrupt image/label: could not convert string to float: '0,'\n",
      "\u001b[34m\u001b[1mtrain: \u001b[0mWARNING  C:\\Users\\cucum\\Downloads\\COS40007\\week 6\\images\\train_selected_iter_1\\IMG_0129.JPG: ignoring corrupt image/label: could not convert string to float: '0,'\n",
      "\u001b[34m\u001b[1mtrain: \u001b[0mWARNING  C:\\Users\\cucum\\Downloads\\COS40007\\week 6\\images\\train_selected_iter_1\\IMG_0130.JPG: ignoring corrupt image/label: could not convert string to float: '0,'\n",
      "\u001b[34m\u001b[1mtrain: \u001b[0mWARNING  C:\\Users\\cucum\\Downloads\\COS40007\\week 6\\images\\train_selected_iter_1\\IMG_0136.JPG: ignoring corrupt image/label: could not convert string to float: '0,'\n",
      "\u001b[34m\u001b[1mtrain: \u001b[0mWARNING  C:\\Users\\cucum\\Downloads\\COS40007\\week 6\\images\\train_selected_iter_1\\IMG_0157.JPG: ignoring corrupt image/label: could not convert string to float: '0,'\n",
      "\u001b[34m\u001b[1mtrain: \u001b[0mWARNING  C:\\Users\\cucum\\Downloads\\COS40007\\week 6\\images\\train_selected_iter_1\\IMG_0158.JPG: ignoring corrupt image/label: could not convert string to float: '0,'\n",
      "\u001b[34m\u001b[1mtrain: \u001b[0mWARNING  C:\\Users\\cucum\\Downloads\\COS40007\\week 6\\images\\train_selected_iter_1\\IMG_0160.JPG: ignoring corrupt image/label: could not convert string to float: '0,'\n",
      "\u001b[34m\u001b[1mtrain: \u001b[0mWARNING  C:\\Users\\cucum\\Downloads\\COS40007\\week 6\\images\\train_selected_iter_1\\IMG_0162.JPG: ignoring corrupt image/label: could not convert string to float: '0,'\n",
      "\u001b[34m\u001b[1mtrain: \u001b[0mWARNING  C:\\Users\\cucum\\Downloads\\COS40007\\week 6\\images\\train_selected_iter_1\\IMG_0165.JPG: ignoring corrupt image/label: could not convert string to float: '0,'\n",
      "\u001b[34m\u001b[1mtrain: \u001b[0mWARNING  C:\\Users\\cucum\\Downloads\\COS40007\\week 6\\images\\train_selected_iter_1\\IMG_0166.JPG: ignoring corrupt image/label: could not convert string to float: '0,'\n",
      "\u001b[34m\u001b[1mtrain: \u001b[0mWARNING  C:\\Users\\cucum\\Downloads\\COS40007\\week 6\\images\\train_selected_iter_1\\IMG_0167.JPG: ignoring corrupt image/label: could not convert string to float: '0,'\n",
      "\u001b[34m\u001b[1mtrain: \u001b[0mWARNING  C:\\Users\\cucum\\Downloads\\COS40007\\week 6\\images\\train_selected_iter_1\\IMG_0168.JPG: ignoring corrupt image/label: could not convert string to float: '0,'\n",
      "\u001b[34m\u001b[1mtrain: \u001b[0mWARNING  C:\\Users\\cucum\\Downloads\\COS40007\\week 6\\images\\train_selected_iter_1\\IMG_0169.JPG: ignoring corrupt image/label: could not convert string to float: '0,'\n",
      "\u001b[34m\u001b[1mtrain: \u001b[0mWARNING  C:\\Users\\cucum\\Downloads\\COS40007\\week 6\\images\\train_selected_iter_1\\IMG_0171.JPG: ignoring corrupt image/label: could not convert string to float: '0,'\n",
      "\u001b[34m\u001b[1mtrain: \u001b[0mWARNING  C:\\Users\\cucum\\Downloads\\COS40007\\week 6\\images\\train_selected_iter_1\\IMG_0197.JPG: ignoring corrupt image/label: could not convert string to float: '0,'\n",
      "\u001b[34m\u001b[1mtrain: \u001b[0mWARNING  C:\\Users\\cucum\\Downloads\\COS40007\\week 6\\images\\train_selected_iter_1\\IMG_0204.JPG: ignoring corrupt image/label: could not convert string to float: '0,'\n",
      "\u001b[34m\u001b[1mtrain: \u001b[0mWARNING  C:\\Users\\cucum\\Downloads\\COS40007\\week 6\\images\\train_selected_iter_1\\IMG_0206.JPG: ignoring corrupt image/label: could not convert string to float: '0,'\n",
      "\u001b[34m\u001b[1mtrain: \u001b[0mWARNING  C:\\Users\\cucum\\Downloads\\COS40007\\week 6\\images\\train_selected_iter_1\\IMG_0212.JPG: ignoring corrupt image/label: could not convert string to float: '0,'\n",
      "\u001b[34m\u001b[1mtrain: \u001b[0mWARNING  C:\\Users\\cucum\\Downloads\\COS40007\\week 6\\images\\train_selected_iter_1\\IMG_0216.JPG: ignoring corrupt image/label: could not convert string to float: '0,'\n",
      "\u001b[34m\u001b[1mtrain: \u001b[0mWARNING  C:\\Users\\cucum\\Downloads\\COS40007\\week 6\\images\\train_selected_iter_1\\IMG_0221.JPG: ignoring corrupt image/label: could not convert string to float: '0,'\n",
      "\u001b[34m\u001b[1mtrain: \u001b[0mWARNING  C:\\Users\\cucum\\Downloads\\COS40007\\week 6\\images\\train_selected_iter_1\\IMG_0226.JPG: ignoring corrupt image/label: could not convert string to float: '0,'\n",
      "\u001b[34m\u001b[1mtrain: \u001b[0mWARNING  C:\\Users\\cucum\\Downloads\\COS40007\\week 6\\images\\train_selected_iter_1\\IMG_0227.JPG: ignoring corrupt image/label: could not convert string to float: '0,'\n",
      "\u001b[34m\u001b[1mtrain: \u001b[0mWARNING  C:\\Users\\cucum\\Downloads\\COS40007\\week 6\\images\\train_selected_iter_1\\IMG_0228.JPG: ignoring corrupt image/label: could not convert string to float: '0,'\n",
      "\u001b[34m\u001b[1mtrain: \u001b[0mWARNING  C:\\Users\\cucum\\Downloads\\COS40007\\week 6\\images\\train_selected_iter_1\\IMG_0229.JPG: ignoring corrupt image/label: could not convert string to float: '0,'\n",
      "\u001b[34m\u001b[1mtrain: \u001b[0mWARNING  C:\\Users\\cucum\\Downloads\\COS40007\\week 6\\images\\train_selected_iter_1\\IMG_0230.JPG: ignoring corrupt image/label: could not convert string to float: '0,'\n",
      "\u001b[34m\u001b[1mtrain: \u001b[0mWARNING  C:\\Users\\cucum\\Downloads\\COS40007\\week 6\\images\\train_selected_iter_1\\IMG_1228.jpg: ignoring corrupt image/label: could not convert string to float: '0,'\n",
      "\u001b[34m\u001b[1mtrain: \u001b[0mWARNING  C:\\Users\\cucum\\Downloads\\COS40007\\week 6\\images\\train_selected_iter_1\\IMG_1229.jpg: ignoring corrupt image/label: could not convert string to float: '0,'\n",
      "\u001b[34m\u001b[1mtrain: \u001b[0mWARNING  C:\\Users\\cucum\\Downloads\\COS40007\\week 6\\images\\train_selected_iter_1\\IMG_1230.jpg: ignoring corrupt image/label: could not convert string to float: '0,'\n",
      "\u001b[34m\u001b[1mtrain: \u001b[0mWARNING  C:\\Users\\cucum\\Downloads\\COS40007\\week 6\\images\\train_selected_iter_1\\IMG_1231.jpg: ignoring corrupt image/label: could not convert string to float: '0,'\n",
      "\u001b[34m\u001b[1mtrain: \u001b[0mWARNING  C:\\Users\\cucum\\Downloads\\COS40007\\week 6\\images\\train_selected_iter_1\\IMG_1232.jpg: ignoring corrupt image/label: could not convert string to float: '0,'\n",
      "\u001b[34m\u001b[1mtrain: \u001b[0mWARNING  C:\\Users\\cucum\\Downloads\\COS40007\\week 6\\images\\train_selected_iter_1\\IMG_1233.jpg: ignoring corrupt image/label: could not convert string to float: '0,'\n",
      "\u001b[34m\u001b[1mtrain: \u001b[0mWARNING  C:\\Users\\cucum\\Downloads\\COS40007\\week 6\\images\\train_selected_iter_1\\IMG_1235.jpg: ignoring corrupt image/label: could not convert string to float: '0,'\n",
      "\u001b[34m\u001b[1mtrain: \u001b[0mWARNING  C:\\Users\\cucum\\Downloads\\COS40007\\week 6\\images\\train_selected_iter_1\\IMG_1236.jpg: ignoring corrupt image/label: could not convert string to float: '0,'\n",
      "\u001b[34m\u001b[1mtrain: \u001b[0mWARNING  C:\\Users\\cucum\\Downloads\\COS40007\\week 6\\images\\train_selected_iter_1\\IMG_1237.jpg: ignoring corrupt image/label: could not convert string to float: '0,'\n",
      "\u001b[34m\u001b[1mtrain: \u001b[0mWARNING  C:\\Users\\cucum\\Downloads\\COS40007\\week 6\\images\\train_selected_iter_1\\IMG_1238.jpg: ignoring corrupt image/label: could not convert string to float: '0,'\n",
      "\u001b[34m\u001b[1mtrain: \u001b[0mWARNING  C:\\Users\\cucum\\Downloads\\COS40007\\week 6\\images\\train_selected_iter_1\\IMG_1239.jpg: ignoring corrupt image/label: could not convert string to float: '0,'\n",
      "\u001b[34m\u001b[1mtrain: \u001b[0mWARNING  C:\\Users\\cucum\\Downloads\\COS40007\\week 6\\images\\train_selected_iter_1\\IMG_1241.jpg: ignoring corrupt image/label: could not convert string to float: '0,'\n",
      "\u001b[34m\u001b[1mtrain: \u001b[0mWARNING  C:\\Users\\cucum\\Downloads\\COS40007\\week 6\\images\\train_selected_iter_1\\IMG_1242.jpg: ignoring corrupt image/label: could not convert string to float: '0,'\n",
      "\u001b[34m\u001b[1mtrain: \u001b[0mWARNING  C:\\Users\\cucum\\Downloads\\COS40007\\week 6\\images\\train_selected_iter_1\\IMG_1245.jpg: ignoring corrupt image/label: could not convert string to float: '0,'\n",
      "\u001b[34m\u001b[1mtrain: \u001b[0mWARNING  C:\\Users\\cucum\\Downloads\\COS40007\\week 6\\images\\train_selected_iter_1\\IMG_1247.jpg: ignoring corrupt image/label: could not convert string to float: '0,'\n",
      "\u001b[34m\u001b[1mtrain: \u001b[0mWARNING  C:\\Users\\cucum\\Downloads\\COS40007\\week 6\\images\\train_selected_iter_1\\IMG_1248.jpg: ignoring corrupt image/label: could not convert string to float: '0,'\n",
      "\u001b[34m\u001b[1mtrain: \u001b[0mWARNING  C:\\Users\\cucum\\Downloads\\COS40007\\week 6\\images\\train_selected_iter_1\\IMG_1249.jpg: ignoring corrupt image/label: could not convert string to float: '0,'\n",
      "\u001b[34m\u001b[1mtrain: \u001b[0mWARNING  C:\\Users\\cucum\\Downloads\\COS40007\\week 6\\images\\train_selected_iter_1\\IMG_1250.jpg: ignoring corrupt image/label: could not convert string to float: '0,'\n",
      "\u001b[34m\u001b[1mtrain: \u001b[0mWARNING  C:\\Users\\cucum\\Downloads\\COS40007\\week 6\\images\\train_selected_iter_1\\IMG_1252.jpg: ignoring corrupt image/label: could not convert string to float: '0,'\n",
      "\u001b[34m\u001b[1mtrain: \u001b[0mWARNING  C:\\Users\\cucum\\Downloads\\COS40007\\week 6\\images\\train_selected_iter_1\\IMG_1253.jpg: ignoring corrupt image/label: could not convert string to float: '0,'\n",
      "\u001b[34m\u001b[1mtrain: \u001b[0mWARNING  C:\\Users\\cucum\\Downloads\\COS40007\\week 6\\images\\train_selected_iter_1\\IMG_1255.jpg: ignoring corrupt image/label: could not convert string to float: '0,'\n",
      "\u001b[34m\u001b[1mtrain: \u001b[0mWARNING  C:\\Users\\cucum\\Downloads\\COS40007\\week 6\\images\\train_selected_iter_1\\IMG_1256.jpg: ignoring corrupt image/label: could not convert string to float: '0,'\n",
      "\u001b[34m\u001b[1mtrain: \u001b[0mWARNING  C:\\Users\\cucum\\Downloads\\COS40007\\week 6\\images\\train_selected_iter_1\\IMG_1257.jpg: ignoring corrupt image/label: could not convert string to float: '0,'\n",
      "\u001b[34m\u001b[1mtrain: \u001b[0mWARNING  C:\\Users\\cucum\\Downloads\\COS40007\\week 6\\images\\train_selected_iter_1\\IMG_1258.jpg: ignoring corrupt image/label: could not convert string to float: '0,'\n",
      "\u001b[34m\u001b[1mtrain: \u001b[0mWARNING  C:\\Users\\cucum\\Downloads\\COS40007\\week 6\\images\\train_selected_iter_1\\IMG_1260.jpg: ignoring corrupt image/label: could not convert string to float: '0,'\n",
      "\u001b[34m\u001b[1mtrain: \u001b[0mWARNING  C:\\Users\\cucum\\Downloads\\COS40007\\week 6\\images\\train_selected_iter_1\\IMG_1266.jpg: ignoring corrupt image/label: could not convert string to float: '0,'\n",
      "\u001b[34m\u001b[1mtrain: \u001b[0mWARNING  C:\\Users\\cucum\\Downloads\\COS40007\\week 6\\images\\train_selected_iter_1\\IMG_1285.jpg: ignoring corrupt image/label: could not convert string to float: '0,'\n",
      "\u001b[34m\u001b[1mtrain: \u001b[0mWARNING  C:\\Users\\cucum\\Downloads\\COS40007\\week 6\\images\\train_selected_iter_1\\IMG_1286.jpg: ignoring corrupt image/label: could not convert string to float: '0,'\n",
      "\u001b[34m\u001b[1mtrain: \u001b[0mWARNING  C:\\Users\\cucum\\Downloads\\COS40007\\week 6\\images\\train_selected_iter_1\\IMG_1287.jpg: ignoring corrupt image/label: could not convert string to float: '0,'\n",
      "\u001b[34m\u001b[1mtrain: \u001b[0mWARNING  C:\\Users\\cucum\\Downloads\\COS40007\\week 6\\images\\train_selected_iter_1\\IMG_1288.jpg: ignoring corrupt image/label: could not convert string to float: '0,'\n",
      "\u001b[34m\u001b[1mtrain: \u001b[0mWARNING  C:\\Users\\cucum\\Downloads\\COS40007\\week 6\\images\\train_selected_iter_1\\IMG_1289.jpg: ignoring corrupt image/label: could not convert string to float: '0,'\n",
      "\u001b[34m\u001b[1mtrain: \u001b[0mWARNING  C:\\Users\\cucum\\Downloads\\COS40007\\week 6\\images\\train_selected_iter_1\\IMG_1292.jpg: ignoring corrupt image/label: could not convert string to float: '0,'\n",
      "\u001b[34m\u001b[1mtrain: \u001b[0mWARNING  C:\\Users\\cucum\\Downloads\\COS40007\\week 6\\images\\train_selected_iter_1\\IMG_1294.jpg: ignoring corrupt image/label: could not convert string to float: '0,'\n",
      "\u001b[34m\u001b[1mtrain: \u001b[0mWARNING  C:\\Users\\cucum\\Downloads\\COS40007\\week 6\\images\\train_selected_iter_1\\IMG_1295.jpg: ignoring corrupt image/label: could not convert string to float: '0,'\n",
      "\u001b[34m\u001b[1mtrain: \u001b[0mWARNING  C:\\Users\\cucum\\Downloads\\COS40007\\week 6\\images\\train_selected_iter_1\\IMG_1296.jpg: ignoring corrupt image/label: could not convert string to float: '0,'\n",
      "\u001b[34m\u001b[1mtrain: \u001b[0mWARNING  C:\\Users\\cucum\\Downloads\\COS40007\\week 6\\images\\train_selected_iter_1\\IMG_1299.jpg: ignoring corrupt image/label: could not convert string to float: '0,'\n",
      "\u001b[34m\u001b[1mtrain: \u001b[0mWARNING  C:\\Users\\cucum\\Downloads\\COS40007\\week 6\\images\\train_selected_iter_1\\IMG_1300.jpg: ignoring corrupt image/label: could not convert string to float: '0,'\n",
      "\u001b[34m\u001b[1mtrain: \u001b[0mWARNING  C:\\Users\\cucum\\Downloads\\COS40007\\week 6\\images\\train_selected_iter_1\\IMG_1308.jpg: ignoring corrupt image/label: could not convert string to float: '0,'\n",
      "\u001b[34m\u001b[1mtrain: \u001b[0mWARNING  C:\\Users\\cucum\\Downloads\\COS40007\\week 6\\images\\train_selected_iter_1\\IMG_1309.jpg: ignoring corrupt image/label: could not convert string to float: '0,'\n",
      "\u001b[34m\u001b[1mtrain: \u001b[0mWARNING  C:\\Users\\cucum\\Downloads\\COS40007\\week 6\\images\\train_selected_iter_1\\IMG_1310.jpg: ignoring corrupt image/label: could not convert string to float: '0,'\n",
      "\u001b[34m\u001b[1mtrain: \u001b[0mWARNING  C:\\Users\\cucum\\Downloads\\COS40007\\week 6\\images\\train_selected_iter_1\\IMG_1311.jpg: ignoring corrupt image/label: could not convert string to float: '0,'\n",
      "\u001b[34m\u001b[1mtrain: \u001b[0mWARNING  C:\\Users\\cucum\\Downloads\\COS40007\\week 6\\images\\train_selected_iter_1\\IMG_1313.jpg: ignoring corrupt image/label: could not convert string to float: '0,'\n",
      "\u001b[34m\u001b[1mtrain: \u001b[0mWARNING  C:\\Users\\cucum\\Downloads\\COS40007\\week 6\\images\\train_selected_iter_1\\IMG_1315.jpg: ignoring corrupt image/label: could not convert string to float: '0,'\n",
      "\u001b[34m\u001b[1mtrain: \u001b[0mWARNING  C:\\Users\\cucum\\Downloads\\COS40007\\week 6\\images\\train_selected_iter_1\\IMG_1317.jpg: ignoring corrupt image/label: could not convert string to float: '0,'\n",
      "\u001b[34m\u001b[1mtrain: \u001b[0mWARNING  C:\\Users\\cucum\\Downloads\\COS40007\\week 6\\images\\train_selected_iter_1\\IMG_20100101_021455.jpg: ignoring corrupt image/label: could not convert string to float: '0,'\n",
      "\u001b[34m\u001b[1mtrain: \u001b[0mWARNING  C:\\Users\\cucum\\Downloads\\COS40007\\week 6\\images\\train_selected_iter_1\\IMG_20100101_021505.jpg: ignoring corrupt image/label: could not convert string to float: '0,'\n",
      "\u001b[34m\u001b[1mtrain: \u001b[0mWARNING  C:\\Users\\cucum\\Downloads\\COS40007\\week 6\\images\\train_selected_iter_1\\IMG_20100101_021612.jpg: ignoring corrupt image/label: could not convert string to float: '0,'\n",
      "\u001b[34m\u001b[1mtrain: \u001b[0mWARNING  C:\\Users\\cucum\\Downloads\\COS40007\\week 6\\images\\train_selected_iter_1\\IMG_20100101_021651.jpg: ignoring corrupt image/label: could not convert string to float: '0,'\n",
      "\u001b[34m\u001b[1mtrain: \u001b[0mWARNING  C:\\Users\\cucum\\Downloads\\COS40007\\week 6\\images\\train_selected_iter_1\\IMG_20100101_021715.jpg: ignoring corrupt image/label: could not convert string to float: '0,'\n",
      "\u001b[34m\u001b[1mtrain: \u001b[0mWARNING  C:\\Users\\cucum\\Downloads\\COS40007\\week 6\\images\\train_selected_iter_1\\IMG_20100101_021749.jpg: ignoring corrupt image/label: could not convert string to float: '0,'\n",
      "\u001b[34m\u001b[1mtrain: \u001b[0mWARNING  C:\\Users\\cucum\\Downloads\\COS40007\\week 6\\images\\train_selected_iter_1\\IMG_20100101_021758.jpg: ignoring corrupt image/label: could not convert string to float: '0,'\n",
      "\u001b[34m\u001b[1mtrain: \u001b[0mWARNING  C:\\Users\\cucum\\Downloads\\COS40007\\week 6\\images\\train_selected_iter_1\\IMG_20100101_021826.jpg: ignoring corrupt image/label: could not convert string to float: '0,'\n",
      "\u001b[34m\u001b[1mtrain: \u001b[0mWARNING  C:\\Users\\cucum\\Downloads\\COS40007\\week 6\\images\\train_selected_iter_1\\IMG_20100101_021938.jpg: ignoring corrupt image/label: could not convert string to float: '0,'\n",
      "\u001b[34m\u001b[1mtrain: \u001b[0mWARNING  C:\\Users\\cucum\\Downloads\\COS40007\\week 6\\images\\train_selected_iter_1\\IMG_20100101_021949.jpg: ignoring corrupt image/label: could not convert string to float: '0,'\n",
      "\u001b[34m\u001b[1mtrain: \u001b[0mWARNING  C:\\Users\\cucum\\Downloads\\COS40007\\week 6\\images\\train_selected_iter_1\\IMG_20100101_022113.jpg: ignoring corrupt image/label: could not convert string to float: '0,'\n",
      "\u001b[34m\u001b[1mtrain: \u001b[0mWARNING  C:\\Users\\cucum\\Downloads\\COS40007\\week 6\\images\\train_selected_iter_1\\IMG_20100101_022131.jpg: ignoring corrupt image/label: could not convert string to float: '0,'\n",
      "\u001b[34m\u001b[1mtrain: \u001b[0mWARNING  C:\\Users\\cucum\\Downloads\\COS40007\\week 6\\images\\train_selected_iter_1\\IMG_20100101_022226.jpg: ignoring corrupt image/label: could not convert string to float: '0,'\n",
      "\u001b[34m\u001b[1mtrain: \u001b[0mWARNING  C:\\Users\\cucum\\Downloads\\COS40007\\week 6\\images\\train_selected_iter_1\\IMG_20100101_022327.jpg: ignoring corrupt image/label: could not convert string to float: '0,'\n",
      "\u001b[34m\u001b[1mtrain: \u001b[0mWARNING  C:\\Users\\cucum\\Downloads\\COS40007\\week 6\\images\\train_selected_iter_1\\IMG_20100101_022336.jpg: ignoring corrupt image/label: could not convert string to float: '0,'\n",
      "\u001b[34m\u001b[1mtrain: \u001b[0mWARNING  C:\\Users\\cucum\\Downloads\\COS40007\\week 6\\images\\train_selected_iter_1\\IMG_20100101_022449.jpg: ignoring corrupt image/label: could not convert string to float: '0,'\n",
      "\u001b[34m\u001b[1mtrain: \u001b[0mWARNING  C:\\Users\\cucum\\Downloads\\COS40007\\week 6\\images\\train_selected_iter_1\\IMG_20100101_022529.jpg: ignoring corrupt image/label: could not convert string to float: '0,'\n",
      "\u001b[34m\u001b[1mtrain: \u001b[0mWARNING  C:\\Users\\cucum\\Downloads\\COS40007\\week 6\\images\\train_selected_iter_1\\IMG_20100101_022541.jpg: ignoring corrupt image/label: could not convert string to float: '0,'\n",
      "\u001b[34m\u001b[1mtrain: \u001b[0mWARNING  C:\\Users\\cucum\\Downloads\\COS40007\\week 6\\images\\train_selected_iter_1\\IMG_20100101_022658.jpg: ignoring corrupt image/label: could not convert string to float: '0,'\n",
      "\u001b[34m\u001b[1mtrain: \u001b[0mWARNING  C:\\Users\\cucum\\Downloads\\COS40007\\week 6\\images\\train_selected_iter_1\\IMG_20100101_022907.jpg: ignoring corrupt image/label: could not convert string to float: '0,'\n",
      "\u001b[34m\u001b[1mtrain: \u001b[0mWARNING  C:\\Users\\cucum\\Downloads\\COS40007\\week 6\\images\\train_selected_iter_1\\IMG_20100101_022957.jpg: ignoring corrupt image/label: could not convert string to float: '0,'\n",
      "\u001b[34m\u001b[1mtrain: \u001b[0mWARNING  C:\\Users\\cucum\\Downloads\\COS40007\\week 6\\images\\train_selected_iter_1\\IMG_20100101_023024.jpg: ignoring corrupt image/label: could not convert string to float: '0,'\n",
      "\u001b[34m\u001b[1mtrain: \u001b[0mWARNING  C:\\Users\\cucum\\Downloads\\COS40007\\week 6\\images\\train_selected_iter_1\\IMG_20100101_023206.jpg: ignoring corrupt image/label: could not convert string to float: '0,'\n",
      "\u001b[34m\u001b[1mtrain: \u001b[0mWARNING  C:\\Users\\cucum\\Downloads\\COS40007\\week 6\\images\\train_selected_iter_1\\IMG_20100101_023250.jpg: ignoring corrupt image/label: could not convert string to float: '0,'\n",
      "\u001b[34m\u001b[1mtrain: \u001b[0mWARNING  C:\\Users\\cucum\\Downloads\\COS40007\\week 6\\images\\train_selected_iter_1\\IMG_20100101_030140.jpg: ignoring corrupt image/label: could not convert string to float: '0,'\n",
      "\u001b[34m\u001b[1mtrain: \u001b[0mWARNING  C:\\Users\\cucum\\Downloads\\COS40007\\week 6\\images\\train_selected_iter_1\\IMG_20100101_030428.jpg: ignoring corrupt image/label: could not convert string to float: '0,'\n",
      "\u001b[34m\u001b[1mtrain: \u001b[0mWARNING  C:\\Users\\cucum\\Downloads\\COS40007\\week 6\\images\\train_selected_iter_1\\IMG_20100101_030622.jpg: ignoring corrupt image/label: could not convert string to float: '0,'\n",
      "\u001b[34m\u001b[1mtrain: \u001b[0mWARNING  C:\\Users\\cucum\\Downloads\\COS40007\\week 6\\images\\train_selected_iter_1\\IMG_20100101_030701.jpg: ignoring corrupt image/label: could not convert string to float: '0,'\n",
      "\u001b[34m\u001b[1mtrain: \u001b[0mWARNING  C:\\Users\\cucum\\Downloads\\COS40007\\week 6\\images\\train_selected_iter_1\\IMG_20100101_030741.jpg: ignoring corrupt image/label: could not convert string to float: '0,'\n",
      "\u001b[34m\u001b[1mtrain: \u001b[0mWARNING  C:\\Users\\cucum\\Downloads\\COS40007\\week 6\\images\\train_selected_iter_1\\IMG_20100101_030848.jpg: ignoring corrupt image/label: could not convert string to float: '0,'\n",
      "\u001b[34m\u001b[1mtrain: \u001b[0mWARNING  C:\\Users\\cucum\\Downloads\\COS40007\\week 6\\images\\train_selected_iter_1\\IMG_20100101_030924.jpg: ignoring corrupt image/label: could not convert string to float: '0,'\n",
      "\u001b[34m\u001b[1mtrain: \u001b[0mWARNING  C:\\Users\\cucum\\Downloads\\COS40007\\week 6\\images\\train_selected_iter_1\\IMG_20100101_031000.jpg: ignoring corrupt image/label: could not convert string to float: '0,'\n",
      "\u001b[34m\u001b[1mtrain: \u001b[0mWARNING  C:\\Users\\cucum\\Downloads\\COS40007\\week 6\\images\\train_selected_iter_1\\IMG_20100101_031055.jpg: ignoring corrupt image/label: could not convert string to float: '0,'\n",
      "\u001b[34m\u001b[1mtrain: \u001b[0mWARNING  C:\\Users\\cucum\\Downloads\\COS40007\\week 6\\images\\train_selected_iter_1\\IMG_20100101_031423.jpg: ignoring corrupt image/label: could not convert string to float: '0,'\n",
      "\u001b[34m\u001b[1mtrain: \u001b[0mWARNING  C:\\Users\\cucum\\Downloads\\COS40007\\week 6\\images\\train_selected_iter_1\\IMG_20100101_031438.jpg: ignoring corrupt image/label: could not convert string to float: '0,'\n",
      "\u001b[34m\u001b[1mtrain: \u001b[0mWARNING  C:\\Users\\cucum\\Downloads\\COS40007\\week 6\\images\\train_selected_iter_1\\IMG_20100101_031506.jpg: ignoring corrupt image/label: could not convert string to float: '0,'\n",
      "\u001b[34m\u001b[1mtrain: \u001b[0mWARNING  C:\\Users\\cucum\\Downloads\\COS40007\\week 6\\images\\train_selected_iter_1\\IMG_20100101_031519.jpg: ignoring corrupt image/label: could not convert string to float: '0,'\n",
      "\u001b[34m\u001b[1mtrain: \u001b[0mWARNING  C:\\Users\\cucum\\Downloads\\COS40007\\week 6\\images\\train_selected_iter_1\\IMG_20100101_031606.jpg: ignoring corrupt image/label: could not convert string to float: '0,'\n",
      "\u001b[34m\u001b[1mtrain: \u001b[0mWARNING  C:\\Users\\cucum\\Downloads\\COS40007\\week 6\\images\\train_selected_iter_1\\IMG_20100101_031618.jpg: ignoring corrupt image/label: could not convert string to float: '0,'\n",
      "\u001b[34m\u001b[1mtrain: \u001b[0mWARNING  C:\\Users\\cucum\\Downloads\\COS40007\\week 6\\images\\train_selected_iter_1\\IMG_20100101_031702.jpg: ignoring corrupt image/label: could not convert string to float: '0,'\n",
      "\u001b[34m\u001b[1mtrain: \u001b[0mWARNING  C:\\Users\\cucum\\Downloads\\COS40007\\week 6\\images\\train_selected_iter_1\\IMG_20100101_031717.jpg: ignoring corrupt image/label: could not convert string to float: '0,'\n",
      "\u001b[34m\u001b[1mtrain: \u001b[0mWARNING  C:\\Users\\cucum\\Downloads\\COS40007\\week 6\\images\\train_selected_iter_1\\IMG_20100101_031744.jpg: ignoring corrupt image/label: could not convert string to float: '0,'\n",
      "\u001b[34m\u001b[1mtrain: \u001b[0mWARNING  C:\\Users\\cucum\\Downloads\\COS40007\\week 6\\images\\train_selected_iter_1\\IMG_20100101_031811.jpg: ignoring corrupt image/label: could not convert string to float: '0,'\n",
      "\u001b[34m\u001b[1mtrain: \u001b[0mWARNING  C:\\Users\\cucum\\Downloads\\COS40007\\week 6\\images\\train_selected_iter_1\\IMG_20100101_031820.jpg: ignoring corrupt image/label: could not convert string to float: '0,'\n",
      "\u001b[34m\u001b[1mtrain: \u001b[0mWARNING  C:\\Users\\cucum\\Downloads\\COS40007\\week 6\\images\\train_selected_iter_1\\IMG_20100101_031918.jpg: ignoring corrupt image/label: could not convert string to float: '0,'\n",
      "\u001b[34m\u001b[1mtrain: \u001b[0mWARNING  C:\\Users\\cucum\\Downloads\\COS40007\\week 6\\images\\train_selected_iter_1\\IMG_20100101_031929.jpg: ignoring corrupt image/label: could not convert string to float: '0,'\n",
      "\u001b[34m\u001b[1mtrain: \u001b[0mWARNING  C:\\Users\\cucum\\Downloads\\COS40007\\week 6\\images\\train_selected_iter_1\\IMG_20100101_031947.jpg: ignoring corrupt image/label: could not convert string to float: '0,'\n",
      "\u001b[34m\u001b[1mtrain: \u001b[0mWARNING  C:\\Users\\cucum\\Downloads\\COS40007\\week 6\\images\\train_selected_iter_1\\IMG_20100101_032006.jpg: ignoring corrupt image/label: could not convert string to float: '0,'\n",
      "\u001b[34m\u001b[1mtrain: \u001b[0mWARNING  C:\\Users\\cucum\\Downloads\\COS40007\\week 6\\images\\train_selected_iter_1\\IMG_20100101_032030.jpg: ignoring corrupt image/label: could not convert string to float: '0,'\n",
      "\u001b[34m\u001b[1mtrain: \u001b[0mWARNING  C:\\Users\\cucum\\Downloads\\COS40007\\week 6\\images\\train_selected_iter_1\\IMG_20100101_032037.jpg: ignoring corrupt image/label: could not convert string to float: '0,'\n",
      "\u001b[34m\u001b[1mtrain: \u001b[0mWARNING  C:\\Users\\cucum\\Downloads\\COS40007\\week 6\\images\\train_selected_iter_1\\IMG_20100101_032130.jpg: ignoring corrupt image/label: could not convert string to float: '0,'\n",
      "\u001b[34m\u001b[1mtrain: \u001b[0mWARNING  C:\\Users\\cucum\\Downloads\\COS40007\\week 6\\images\\train_selected_iter_1\\IMG_20100101_032203.jpg: ignoring corrupt image/label: could not convert string to float: '0,'\n",
      "\u001b[34m\u001b[1mtrain: \u001b[0mWARNING  C:\\Users\\cucum\\Downloads\\COS40007\\week 6\\images\\train_selected_iter_1\\IMG_20100101_032210.jpg: ignoring corrupt image/label: could not convert string to float: '0,'\n",
      "\u001b[34m\u001b[1mtrain: \u001b[0mWARNING  C:\\Users\\cucum\\Downloads\\COS40007\\week 6\\images\\train_selected_iter_1\\IMG_20100101_032231.jpg: ignoring corrupt image/label: could not convert string to float: '0,'\n",
      "\u001b[34m\u001b[1mtrain: \u001b[0mWARNING  C:\\Users\\cucum\\Downloads\\COS40007\\week 6\\images\\train_selected_iter_1\\IMG_20100101_032301.jpg: ignoring corrupt image/label: could not convert string to float: '0,'\n",
      "\u001b[34m\u001b[1mtrain: \u001b[0mWARNING  C:\\Users\\cucum\\Downloads\\COS40007\\week 6\\images\\train_selected_iter_1\\IMG_20100101_032347.jpg: ignoring corrupt image/label: could not convert string to float: '0,'\n",
      "\u001b[34m\u001b[1mtrain: \u001b[0mWARNING  C:\\Users\\cucum\\Downloads\\COS40007\\week 6\\images\\train_selected_iter_1\\IMG_20100101_032407.jpg: ignoring corrupt image/label: could not convert string to float: '0,'\n",
      "\u001b[34m\u001b[1mtrain: \u001b[0mWARNING  C:\\Users\\cucum\\Downloads\\COS40007\\week 6\\images\\train_selected_iter_1\\IMG_20100101_032423.jpg: ignoring corrupt image/label: could not convert string to float: '0,'\n",
      "\u001b[34m\u001b[1mtrain: \u001b[0mWARNING  C:\\Users\\cucum\\Downloads\\COS40007\\week 6\\images\\train_selected_iter_1\\IMG_20100101_032543.jpg: ignoring corrupt image/label: could not convert string to float: '0,'\n",
      "\u001b[34m\u001b[1mtrain: \u001b[0mWARNING  C:\\Users\\cucum\\Downloads\\COS40007\\week 6\\images\\train_selected_iter_1\\IMG_20100101_032603.jpg: ignoring corrupt image/label: could not convert string to float: '0,'\n",
      "\u001b[34m\u001b[1mtrain: \u001b[0mWARNING  C:\\Users\\cucum\\Downloads\\COS40007\\week 6\\images\\train_selected_iter_1\\IMG_20100101_032654.jpg: ignoring corrupt image/label: could not convert string to float: '0,'\n",
      "\u001b[34m\u001b[1mtrain: \u001b[0mWARNING  C:\\Users\\cucum\\Downloads\\COS40007\\week 6\\images\\train_selected_iter_1\\IMG_20100101_032707.jpg: ignoring corrupt image/label: could not convert string to float: '0,'\n",
      "\u001b[34m\u001b[1mtrain: \u001b[0mWARNING  C:\\Users\\cucum\\Downloads\\COS40007\\week 6\\images\\train_selected_iter_1\\IMG_20100101_032744.jpg: ignoring corrupt image/label: could not convert string to float: '0,'\n",
      "\u001b[34m\u001b[1mtrain: \u001b[0mWARNING  C:\\Users\\cucum\\Downloads\\COS40007\\week 6\\images\\train_selected_iter_1\\IMG_20100101_032941.jpg: ignoring corrupt image/label: could not convert string to float: '0,'\n",
      "\u001b[34m\u001b[1mtrain: \u001b[0mWARNING  C:\\Users\\cucum\\Downloads\\COS40007\\week 6\\images\\train_selected_iter_1\\IMG_20100101_032949.jpg: ignoring corrupt image/label: could not convert string to float: '0,'\n",
      "\u001b[34m\u001b[1mtrain: \u001b[0mWARNING  C:\\Users\\cucum\\Downloads\\COS40007\\week 6\\images\\train_selected_iter_1\\IMG_20100101_033046.jpg: ignoring corrupt image/label: could not convert string to float: '0,'\n",
      "\u001b[34m\u001b[1mtrain: \u001b[0mWARNING  C:\\Users\\cucum\\Downloads\\COS40007\\week 6\\images\\train_selected_iter_1\\IMG_20100101_033139.jpg: ignoring corrupt image/label: could not convert string to float: '0,'\n",
      "\u001b[34m\u001b[1mtrain: \u001b[0mWARNING  C:\\Users\\cucum\\Downloads\\COS40007\\week 6\\images\\train_selected_iter_1\\IMG_20100101_033259.jpg: ignoring corrupt image/label: could not convert string to float: '0,'\n",
      "\u001b[34m\u001b[1mtrain: \u001b[0mWARNING  C:\\Users\\cucum\\Downloads\\COS40007\\week 6\\images\\train_selected_iter_1\\IMG_20100101_033320.jpg: ignoring corrupt image/label: could not convert string to float: '0,'\n",
      "\u001b[34m\u001b[1mtrain: \u001b[0mWARNING  C:\\Users\\cucum\\Downloads\\COS40007\\week 6\\images\\train_selected_iter_1\\IMG_20100101_033353.jpg: ignoring corrupt image/label: could not convert string to float: '0,'\n",
      "\u001b[34m\u001b[1mtrain: \u001b[0mWARNING  C:\\Users\\cucum\\Downloads\\COS40007\\week 6\\images\\train_selected_iter_1\\IMG_20100101_033537.jpg: ignoring corrupt image/label: could not convert string to float: '0,'\n",
      "\u001b[34m\u001b[1mtrain: \u001b[0mWARNING  C:\\Users\\cucum\\Downloads\\COS40007\\week 6\\images\\train_selected_iter_1\\IMG_20100101_033541.jpg: ignoring corrupt image/label: could not convert string to float: '0,'\n",
      "\u001b[34m\u001b[1mtrain: \u001b[0mWARNING  C:\\Users\\cucum\\Downloads\\COS40007\\week 6\\images\\train_selected_iter_1\\IMG_20100101_033551.jpg: ignoring corrupt image/label: could not convert string to float: '0,'\n",
      "\u001b[34m\u001b[1mtrain: \u001b[0mWARNING  C:\\Users\\cucum\\Downloads\\COS40007\\week 6\\images\\train_selected_iter_1\\IMG_20100101_033626.jpg: ignoring corrupt image/label: could not convert string to float: '0,'\n",
      "\u001b[34m\u001b[1mtrain: \u001b[0mWARNING  C:\\Users\\cucum\\Downloads\\COS40007\\week 6\\images\\train_selected_iter_1\\IMG_20180712_221631.jpg: ignoring corrupt image/label: could not convert string to float: '0,'\n",
      "\u001b[34m\u001b[1mtrain: \u001b[0mWARNING  C:\\Users\\cucum\\Downloads\\COS40007\\week 6\\images\\train_selected_iter_1\\IMG_20180712_221652.jpg: ignoring corrupt image/label: could not convert string to float: '0,'\n",
      "\u001b[34m\u001b[1mtrain: \u001b[0mWARNING  C:\\Users\\cucum\\Downloads\\COS40007\\week 6\\images\\train_selected_iter_1\\IMG_20180712_221658.jpg: ignoring corrupt image/label: could not convert string to float: '0,'\n",
      "\u001b[34m\u001b[1mtrain: \u001b[0mWARNING  C:\\Users\\cucum\\Downloads\\COS40007\\week 6\\images\\train_selected_iter_1\\IMG_20180712_221713.jpg: ignoring corrupt image/label: could not convert string to float: '0,'\n",
      "\u001b[34m\u001b[1mtrain: \u001b[0mWARNING  C:\\Users\\cucum\\Downloads\\COS40007\\week 6\\images\\train_selected_iter_1\\IMG_20180713_104837.jpg: ignoring corrupt image/label: could not convert string to float: '0,'\n",
      "\u001b[34m\u001b[1mtrain: \u001b[0mWARNING  C:\\Users\\cucum\\Downloads\\COS40007\\week 6\\images\\train_selected_iter_1\\IMG_20180713_104848.jpg: ignoring corrupt image/label: could not convert string to float: '0,'\n",
      "\u001b[34m\u001b[1mtrain: \u001b[0mWARNING  C:\\Users\\cucum\\Downloads\\COS40007\\week 6\\images\\train_selected_iter_1\\IMG_20180713_104900.jpg: ignoring corrupt image/label: could not convert string to float: '0,'\n",
      "\u001b[34m\u001b[1mtrain: \u001b[0mWARNING  C:\\Users\\cucum\\Downloads\\COS40007\\week 6\\images\\train_selected_iter_1\\IMG_20180713_104906.jpg: ignoring corrupt image/label: could not convert string to float: '0,'\n",
      "\u001b[34m\u001b[1mtrain: \u001b[0mWARNING  C:\\Users\\cucum\\Downloads\\COS40007\\week 6\\images\\train_selected_iter_1\\IMG_20180713_105046.jpg: ignoring corrupt image/label: could not convert string to float: '0,'\n",
      "\u001b[34m\u001b[1mtrain: \u001b[0mWARNING  C:\\Users\\cucum\\Downloads\\COS40007\\week 6\\images\\train_selected_iter_1\\IMG_20180713_105056.jpg: ignoring corrupt image/label: could not convert string to float: '0,'\n",
      "\u001b[34m\u001b[1mtrain: \u001b[0mWARNING  C:\\Users\\cucum\\Downloads\\COS40007\\week 6\\images\\train_selected_iter_1\\IMG_20180713_110053.jpg: ignoring corrupt image/label: could not convert string to float: '0,'\n",
      "\u001b[34m\u001b[1mtrain: \u001b[0mWARNING  C:\\Users\\cucum\\Downloads\\COS40007\\week 6\\images\\train_selected_iter_1\\IMG_20180713_110059.jpg: ignoring corrupt image/label: could not convert string to float: '0,'\n",
      "\u001b[34m\u001b[1mtrain: \u001b[0mWARNING  C:\\Users\\cucum\\Downloads\\COS40007\\week 6\\images\\train_selected_iter_1\\IMG_20180713_110209.jpg: ignoring corrupt image/label: could not convert string to float: '0,'\n",
      "\u001b[34m\u001b[1mtrain: \u001b[0mWARNING  C:\\Users\\cucum\\Downloads\\COS40007\\week 6\\images\\train_selected_iter_1\\IMG_20180713_110216.jpg: ignoring corrupt image/label: could not convert string to float: '0,'\n",
      "\u001b[34m\u001b[1mtrain: \u001b[0mWARNING  C:\\Users\\cucum\\Downloads\\COS40007\\week 6\\images\\train_selected_iter_1\\IMG_20180713_110542.jpg: ignoring corrupt image/label: could not convert string to float: '0,'\n",
      "\u001b[34m\u001b[1mtrain: \u001b[0mWARNING  C:\\Users\\cucum\\Downloads\\COS40007\\week 6\\images\\train_selected_iter_1\\IMG_20180713_110546.jpg: ignoring corrupt image/label: could not convert string to float: '0,'\n",
      "\u001b[34m\u001b[1mtrain: \u001b[0mWARNING  C:\\Users\\cucum\\Downloads\\COS40007\\week 6\\images\\train_selected_iter_1\\IMG_20180713_111112.jpg: ignoring corrupt image/label: could not convert string to float: '0,'\n",
      "\u001b[34m\u001b[1mtrain: \u001b[0mWARNING  C:\\Users\\cucum\\Downloads\\COS40007\\week 6\\images\\train_selected_iter_1\\IMG_20180713_111230.jpg: ignoring corrupt image/label: could not convert string to float: '0,'\n",
      "\u001b[34m\u001b[1mtrain: \u001b[0mWARNING  C:\\Users\\cucum\\Downloads\\COS40007\\week 6\\images\\train_selected_iter_1\\IMG_20180713_111345.jpg: ignoring corrupt image/label: could not convert string to float: '0,'\n",
      "\u001b[34m\u001b[1mtrain: \u001b[0mWARNING  C:\\Users\\cucum\\Downloads\\COS40007\\week 6\\images\\train_selected_iter_1\\IMG_20180713_111359.jpg: ignoring corrupt image/label: could not convert string to float: '0,'\n",
      "\u001b[34m\u001b[1mtrain: \u001b[0mWARNING  C:\\Users\\cucum\\Downloads\\COS40007\\week 6\\images\\train_selected_iter_1\\IMG_20180713_111419.jpg: ignoring corrupt image/label: could not convert string to float: '0,'\n",
      "\u001b[34m\u001b[1mtrain: \u001b[0mWARNING  C:\\Users\\cucum\\Downloads\\COS40007\\week 6\\images\\train_selected_iter_1\\IMG_20180713_111457.jpg: ignoring corrupt image/label: could not convert string to float: '0,'\n",
      "\u001b[34m\u001b[1mtrain: \u001b[0mWARNING  C:\\Users\\cucum\\Downloads\\COS40007\\week 6\\images\\train_selected_iter_1\\IMG_20180713_111504.jpg: ignoring corrupt image/label: could not convert string to float: '0,'\n",
      "\u001b[34m\u001b[1mtrain: \u001b[0mWARNING  C:\\Users\\cucum\\Downloads\\COS40007\\week 6\\images\\train_selected_iter_1\\IMG_20180713_111517.jpg: ignoring corrupt image/label: could not convert string to float: '0,'\n",
      "\u001b[34m\u001b[1mtrain: \u001b[0mWARNING  C:\\Users\\cucum\\Downloads\\COS40007\\week 6\\images\\train_selected_iter_1\\IMG_20180713_111539.jpg: ignoring corrupt image/label: could not convert string to float: '0,'\n",
      "\u001b[34m\u001b[1mtrain: \u001b[0mWARNING  C:\\Users\\cucum\\Downloads\\COS40007\\week 6\\images\\train_selected_iter_1\\IMG_20180714_094934.jpg: ignoring corrupt image/label: could not convert string to float: '0,'\n",
      "\u001b[34m\u001b[1mtrain: \u001b[0mWARNING  C:\\Users\\cucum\\Downloads\\COS40007\\week 6\\images\\train_selected_iter_1\\IMG_20180714_095301.jpg: ignoring corrupt image/label: could not convert string to float: '0,'\n",
      "\u001b[34m\u001b[1mtrain: \u001b[0mWARNING  C:\\Users\\cucum\\Downloads\\COS40007\\week 6\\images\\train_selected_iter_1\\IMG_20180714_095902.jpg: ignoring corrupt image/label: could not convert string to float: '0,'\n",
      "\u001b[34m\u001b[1mtrain: \u001b[0mWARNING  C:\\Users\\cucum\\Downloads\\COS40007\\week 6\\images\\train_selected_iter_1\\IMG_20180714_102330.jpg: ignoring corrupt image/label: could not convert string to float: '0,'\n",
      "\u001b[34m\u001b[1mtrain: \u001b[0mWARNING  C:\\Users\\cucum\\Downloads\\COS40007\\week 6\\images\\train_selected_iter_1\\IMG_20180714_102413.jpg: ignoring corrupt image/label: could not convert string to float: '0,'\n",
      "\u001b[34m\u001b[1mtrain: \u001b[0mWARNING  C:\\Users\\cucum\\Downloads\\COS40007\\week 6\\images\\train_selected_iter_1\\IMG_20180714_102503.jpg: ignoring corrupt image/label: could not convert string to float: '0,'\n",
      "\u001b[34m\u001b[1mtrain: \u001b[0mWARNING  C:\\Users\\cucum\\Downloads\\COS40007\\week 6\\images\\train_selected_iter_1\\IMG_20180714_102509.jpg: ignoring corrupt image/label: could not convert string to float: '0,'\n",
      "\u001b[34m\u001b[1mtrain: \u001b[0mWARNING  C:\\Users\\cucum\\Downloads\\COS40007\\week 6\\images\\train_selected_iter_1\\IMG_20180714_102521.jpg: ignoring corrupt image/label: could not convert string to float: '0,'\n",
      "\u001b[34m\u001b[1mtrain: \u001b[0mWARNING  C:\\Users\\cucum\\Downloads\\COS40007\\week 6\\images\\train_selected_iter_1\\IMG_20180714_102617.jpg: ignoring corrupt image/label: could not convert string to float: '0,'\n",
      "\u001b[34m\u001b[1mtrain: \u001b[0mWARNING  C:\\Users\\cucum\\Downloads\\COS40007\\week 6\\images\\train_selected_iter_1\\IMG_20180714_102620.jpg: ignoring corrupt image/label: could not convert string to float: '0,'\n",
      "\u001b[34m\u001b[1mtrain: \u001b[0mWARNING  C:\\Users\\cucum\\Downloads\\COS40007\\week 6\\images\\train_selected_iter_1\\IMG_20180714_102623.jpg: ignoring corrupt image/label: could not convert string to float: '0,'\n",
      "\u001b[34m\u001b[1mtrain: \u001b[0mWARNING  C:\\Users\\cucum\\Downloads\\COS40007\\week 6\\images\\train_selected_iter_1\\IMG_20180714_102627.jpg: ignoring corrupt image/label: could not convert string to float: '0,'\n",
      "\u001b[34m\u001b[1mtrain: \u001b[0mWARNING  C:\\Users\\cucum\\Downloads\\COS40007\\week 6\\images\\train_selected_iter_1\\IMG_20180714_102636.jpg: ignoring corrupt image/label: could not convert string to float: '0,'\n",
      "\u001b[34m\u001b[1mtrain: \u001b[0mWARNING  C:\\Users\\cucum\\Downloads\\COS40007\\week 6\\images\\train_selected_iter_1\\IMG_20180714_102644.jpg: ignoring corrupt image/label: could not convert string to float: '0,'\n",
      "\u001b[34m\u001b[1mtrain: \u001b[0mWARNING  C:\\Users\\cucum\\Downloads\\COS40007\\week 6\\images\\train_selected_iter_1\\IMG_20180714_102730.jpg: ignoring corrupt image/label: could not convert string to float: '0,'\n",
      "\u001b[34m\u001b[1mtrain: \u001b[0mWARNING  C:\\Users\\cucum\\Downloads\\COS40007\\week 6\\images\\train_selected_iter_1\\IMG_20180714_102742.jpg: ignoring corrupt image/label: could not convert string to float: '0,'\n",
      "\u001b[34m\u001b[1mtrain: \u001b[0mWARNING  C:\\Users\\cucum\\Downloads\\COS40007\\week 6\\images\\train_selected_iter_1\\IMG_20180714_102747.jpg: ignoring corrupt image/label: could not convert string to float: '0,'\n",
      "\u001b[34m\u001b[1mtrain: \u001b[0mWARNING  C:\\Users\\cucum\\Downloads\\COS40007\\week 6\\images\\train_selected_iter_1\\IMG_20180714_102952.jpg: ignoring corrupt image/label: could not convert string to float: '0,'\n",
      "\u001b[34m\u001b[1mtrain: \u001b[0mWARNING  C:\\Users\\cucum\\Downloads\\COS40007\\week 6\\images\\train_selected_iter_1\\IMG_20180714_103024.jpg: ignoring corrupt image/label: could not convert string to float: '0,'\n",
      "\u001b[34m\u001b[1mtrain: \u001b[0mWARNING  C:\\Users\\cucum\\Downloads\\COS40007\\week 6\\images\\train_selected_iter_1\\IMG_20180714_103033.jpg: ignoring corrupt image/label: could not convert string to float: '0,'\n",
      "\u001b[34m\u001b[1mtrain: \u001b[0mWARNING  C:\\Users\\cucum\\Downloads\\COS40007\\week 6\\images\\train_selected_iter_1\\IMG_20180714_103038.jpg: ignoring corrupt image/label: could not convert string to float: '0,'\n",
      "\u001b[34m\u001b[1mtrain: \u001b[0mWARNING  C:\\Users\\cucum\\Downloads\\COS40007\\week 6\\images\\train_selected_iter_1\\IMG_20180714_103044.jpg: ignoring corrupt image/label: could not convert string to float: '0,'\n",
      "\u001b[34m\u001b[1mtrain: \u001b[0mWARNING  C:\\Users\\cucum\\Downloads\\COS40007\\week 6\\images\\train_selected_iter_1\\IMG_20180714_103056.jpg: ignoring corrupt image/label: could not convert string to float: '0,'\n",
      "\u001b[34m\u001b[1mtrain: \u001b[0mWARNING  C:\\Users\\cucum\\Downloads\\COS40007\\week 6\\images\\train_selected_iter_1\\IMG_20180714_103109.jpg: ignoring corrupt image/label: could not convert string to float: '0,'\n",
      "\u001b[34m\u001b[1mtrain: \u001b[0mWARNING  C:\\Users\\cucum\\Downloads\\COS40007\\week 6\\images\\train_selected_iter_1\\IMG_20180714_103124.jpg: ignoring corrupt image/label: could not convert string to float: '0,'\n",
      "\u001b[34m\u001b[1mtrain: \u001b[0mWARNING  C:\\Users\\cucum\\Downloads\\COS40007\\week 6\\images\\train_selected_iter_1\\IMG_20180714_103155.jpg: ignoring corrupt image/label: could not convert string to float: '0,'\n",
      "\u001b[34m\u001b[1mtrain: \u001b[0mWARNING  C:\\Users\\cucum\\Downloads\\COS40007\\week 6\\images\\train_selected_iter_1\\IMG_20180714_103206.jpg: ignoring corrupt image/label: could not convert string to float: '0,'\n",
      "\u001b[34m\u001b[1mtrain: \u001b[0mWARNING  C:\\Users\\cucum\\Downloads\\COS40007\\week 6\\images\\train_selected_iter_1\\IMG_20180714_103229.jpg: ignoring corrupt image/label: could not convert string to float: '0,'\n",
      "\u001b[34m\u001b[1mtrain: \u001b[0mWARNING  C:\\Users\\cucum\\Downloads\\COS40007\\week 6\\images\\train_selected_iter_1\\IMG_20180714_103303.jpg: ignoring corrupt image/label: could not convert string to float: '0,'\n",
      "\u001b[34m\u001b[1mtrain: \u001b[0mWARNING  C:\\Users\\cucum\\Downloads\\COS40007\\week 6\\images\\train_selected_iter_1\\IMG_20180714_103329.jpg: ignoring corrupt image/label: could not convert string to float: '0,'\n",
      "\u001b[34m\u001b[1mtrain: \u001b[0mWARNING  C:\\Users\\cucum\\Downloads\\COS40007\\week 6\\images\\train_selected_iter_1\\IMG_20180714_103352.jpg: ignoring corrupt image/label: could not convert string to float: '0,'\n",
      "\u001b[34m\u001b[1mtrain: \u001b[0mWARNING  C:\\Users\\cucum\\Downloads\\COS40007\\week 6\\images\\train_selected_iter_1\\IMG_20180714_103417.jpg: ignoring corrupt image/label: could not convert string to float: '0,'\n",
      "\u001b[34m\u001b[1mtrain: \u001b[0mWARNING  C:\\Users\\cucum\\Downloads\\COS40007\\week 6\\images\\train_selected_iter_1\\IMG_20180714_103542.jpg: ignoring corrupt image/label: could not convert string to float: '0,'\n",
      "\u001b[34m\u001b[1mtrain: \u001b[0mWARNING  C:\\Users\\cucum\\Downloads\\COS40007\\week 6\\images\\train_selected_iter_1\\IMG_20180714_103621.jpg: ignoring corrupt image/label: could not convert string to float: '0,'\n",
      "\u001b[34m\u001b[1mtrain: \u001b[0mWARNING  C:\\Users\\cucum\\Downloads\\COS40007\\week 6\\images\\train_selected_iter_1\\IMG_20180714_103632.jpg: ignoring corrupt image/label: could not convert string to float: '0,'\n",
      "\u001b[34m\u001b[1mtrain: \u001b[0mWARNING  C:\\Users\\cucum\\Downloads\\COS40007\\week 6\\images\\train_selected_iter_1\\IMG_20180714_103942.jpg: ignoring corrupt image/label: could not convert string to float: '0,'\n",
      "\u001b[34m\u001b[1mtrain: \u001b[0mWARNING  C:\\Users\\cucum\\Downloads\\COS40007\\week 6\\images\\train_selected_iter_1\\IMG_20180714_104148.jpg: ignoring corrupt image/label: could not convert string to float: '0,'\n",
      "\u001b[34m\u001b[1mtrain: \u001b[0mWARNING  C:\\Users\\cucum\\Downloads\\COS40007\\week 6\\images\\train_selected_iter_1\\IMG_20180714_104443.jpg: ignoring corrupt image/label: could not convert string to float: '0,'\n",
      "\u001b[34m\u001b[1mtrain: \u001b[0mWARNING  C:\\Users\\cucum\\Downloads\\COS40007\\week 6\\images\\train_selected_iter_1\\IMG_20180714_104444.jpg: ignoring corrupt image/label: could not convert string to float: '0,'\n",
      "\u001b[34m\u001b[1mtrain: \u001b[0mWARNING  C:\\Users\\cucum\\Downloads\\COS40007\\week 6\\images\\train_selected_iter_1\\IMG_20180714_104445.jpg: ignoring corrupt image/label: could not convert string to float: '0,'\n",
      "\u001b[34m\u001b[1mtrain: \u001b[0mWARNING  C:\\Users\\cucum\\Downloads\\COS40007\\week 6\\images\\train_selected_iter_1\\IMG_20180714_104446.jpg: ignoring corrupt image/label: could not convert string to float: '0,'\n",
      "\u001b[34m\u001b[1mtrain: \u001b[0mWARNING  C:\\Users\\cucum\\Downloads\\COS40007\\week 6\\images\\train_selected_iter_1\\IMG_20180714_104448.jpg: ignoring corrupt image/label: could not convert string to float: '0,'\n",
      "\u001b[34m\u001b[1mtrain: \u001b[0mWARNING  C:\\Users\\cucum\\Downloads\\COS40007\\week 6\\images\\train_selected_iter_1\\IMG_20180714_104624.jpg: ignoring corrupt image/label: could not convert string to float: '0,'\n",
      "\u001b[34m\u001b[1mtrain: \u001b[0mWARNING  C:\\Users\\cucum\\Downloads\\COS40007\\week 6\\images\\train_selected_iter_1\\IMG_20180714_104627.jpg: ignoring corrupt image/label: could not convert string to float: '0,'\n",
      "\u001b[34m\u001b[1mtrain: \u001b[0mWARNING  C:\\Users\\cucum\\Downloads\\COS40007\\week 6\\images\\train_selected_iter_1\\IMG_20180714_105011.jpg: ignoring corrupt image/label: could not convert string to float: '0,'\n",
      "\u001b[34m\u001b[1mtrain: \u001b[0mWARNING  C:\\Users\\cucum\\Downloads\\COS40007\\week 6\\images\\train_selected_iter_1\\IMG_20180714_105115.jpg: ignoring corrupt image/label: could not convert string to float: '0,'\n",
      "\u001b[34m\u001b[1mtrain: \u001b[0mWARNING  C:\\Users\\cucum\\Downloads\\COS40007\\week 6\\images\\train_selected_iter_1\\IMG_20180714_105117.jpg: ignoring corrupt image/label: could not convert string to float: '0,'\n",
      "\u001b[34m\u001b[1mtrain: \u001b[0mWARNING  C:\\Users\\cucum\\Downloads\\COS40007\\week 6\\images\\train_selected_iter_1\\IMG_20180717_095109.jpg: ignoring corrupt image/label: could not convert string to float: '0,'\n",
      "\u001b[34m\u001b[1mtrain: \u001b[0mWARNING  C:\\Users\\cucum\\Downloads\\COS40007\\week 6\\images\\train_selected_iter_1\\IMG_20180717_095153.jpg: ignoring corrupt image/label: could not convert string to float: '0,'\n",
      "\u001b[34m\u001b[1mtrain: \u001b[0mWARNING  C:\\Users\\cucum\\Downloads\\COS40007\\week 6\\images\\train_selected_iter_1\\IMG_20180717_095319.jpg: ignoring corrupt image/label: could not convert string to float: '0,'\n",
      "\u001b[34m\u001b[1mtrain: \u001b[0mWARNING  C:\\Users\\cucum\\Downloads\\COS40007\\week 6\\images\\train_selected_iter_1\\IMG_20180717_095345.jpg: ignoring corrupt image/label: could not convert string to float: '0,'\n",
      "\u001b[34m\u001b[1mtrain: \u001b[0mWARNING  C:\\Users\\cucum\\Downloads\\COS40007\\week 6\\images\\train_selected_iter_1\\IMG_20180717_095534.jpg: ignoring corrupt image/label: could not convert string to float: '0,'\n",
      "\u001b[34m\u001b[1mtrain: \u001b[0mWARNING  C:\\Users\\cucum\\Downloads\\COS40007\\week 6\\images\\train_selected_iter_1\\IMG_20180717_095735.jpg: ignoring corrupt image/label: could not convert string to float: '0,'\n",
      "\u001b[34m\u001b[1mtrain: \u001b[0mWARNING  C:\\Users\\cucum\\Downloads\\COS40007\\week 6\\images\\train_selected_iter_1\\IMG_20180717_095751.jpg: ignoring corrupt image/label: could not convert string to float: '0,'\n",
      "\u001b[34m\u001b[1mtrain: \u001b[0mWARNING  C:\\Users\\cucum\\Downloads\\COS40007\\week 6\\images\\train_selected_iter_1\\IMG_20180717_095822.jpg: ignoring corrupt image/label: could not convert string to float: '0,'\n",
      "\u001b[34m\u001b[1mtrain: \u001b[0mWARNING  C:\\Users\\cucum\\Downloads\\COS40007\\week 6\\images\\train_selected_iter_1\\IMG_20180717_104224.jpg: ignoring corrupt image/label: could not convert string to float: '0,'\n",
      "\u001b[34m\u001b[1mtrain: \u001b[0mWARNING  C:\\Users\\cucum\\Downloads\\COS40007\\week 6\\images\\train_selected_iter_1\\IMG_20180717_104430.jpg: ignoring corrupt image/label: could not convert string to float: '0,'\n",
      "\u001b[34m\u001b[1mtrain: \u001b[0mWARNING  C:\\Users\\cucum\\Downloads\\COS40007\\week 6\\images\\train_selected_iter_1\\IMG_20180717_104504.jpg: ignoring corrupt image/label: could not convert string to float: '0,'\n",
      "\u001b[34m\u001b[1mtrain: \u001b[0mWARNING  C:\\Users\\cucum\\Downloads\\COS40007\\week 6\\images\\train_selected_iter_1\\IMG_20180717_104525.jpg: ignoring corrupt image/label: could not convert string to float: '0,'\n",
      "\u001b[34m\u001b[1mtrain: \u001b[0mWARNING  C:\\Users\\cucum\\Downloads\\COS40007\\week 6\\images\\train_selected_iter_1\\IMG_20180717_104631.jpg: ignoring corrupt image/label: could not convert string to float: '0,'\n",
      "\u001b[34m\u001b[1mtrain: \u001b[0mWARNING  C:\\Users\\cucum\\Downloads\\COS40007\\week 6\\images\\train_selected_iter_1\\IMG_20180717_105052.jpg: ignoring corrupt image/label: could not convert string to float: '0,'\n",
      "\u001b[34m\u001b[1mtrain: \u001b[0mWARNING  C:\\Users\\cucum\\Downloads\\COS40007\\week 6\\images\\train_selected_iter_1\\IMG_20180717_105121.jpg: ignoring corrupt image/label: could not convert string to float: '0,'\n",
      "\u001b[34m\u001b[1mtrain: \u001b[0mWARNING  C:\\Users\\cucum\\Downloads\\COS40007\\week 6\\images\\train_selected_iter_1\\IMG_20180717_105138.jpg: ignoring corrupt image/label: could not convert string to float: '0,'\n",
      "\u001b[34m\u001b[1mtrain: \u001b[0mWARNING  C:\\Users\\cucum\\Downloads\\COS40007\\week 6\\images\\train_selected_iter_1\\IMG_20180717_105155.jpg: ignoring corrupt image/label: could not convert string to float: '0,'\n",
      "\u001b[34m\u001b[1mtrain: \u001b[0mWARNING  C:\\Users\\cucum\\Downloads\\COS40007\\week 6\\images\\train_selected_iter_1\\IMG_20180717_120735.jpg: ignoring corrupt image/label: could not convert string to float: '0,'\n",
      "\u001b[34m\u001b[1mtrain: \u001b[0mWARNING  C:\\Users\\cucum\\Downloads\\COS40007\\week 6\\images\\train_selected_iter_1\\IMG_20180717_120747.jpg: ignoring corrupt image/label: could not convert string to float: '0,'\n",
      "\u001b[34m\u001b[1mtrain: \u001b[0mWARNING  C:\\Users\\cucum\\Downloads\\COS40007\\week 6\\images\\train_selected_iter_1\\IMG_20180717_120802.jpg: ignoring corrupt image/label: could not convert string to float: '0,'\n",
      "\u001b[34m\u001b[1mtrain: \u001b[0mWARNING  C:\\Users\\cucum\\Downloads\\COS40007\\week 6\\images\\train_selected_iter_1\\IMG_20180717_120936.jpg: ignoring corrupt image/label: could not convert string to float: '0,'\n",
      "\u001b[34m\u001b[1mtrain: \u001b[0mWARNING  C:\\Users\\cucum\\Downloads\\COS40007\\week 6\\images\\train_selected_iter_1\\IMG_20180717_121115.jpg: ignoring corrupt image/label: could not convert string to float: '0,'\n",
      "\u001b[34m\u001b[1mtrain: \u001b[0mWARNING  C:\\Users\\cucum\\Downloads\\COS40007\\week 6\\images\\train_selected_iter_1\\IMG_20180717_121231.jpg: ignoring corrupt image/label: could not convert string to float: '0,'\n",
      "\u001b[34m\u001b[1mtrain: \u001b[0mWARNING  C:\\Users\\cucum\\Downloads\\COS40007\\week 6\\images\\train_selected_iter_1\\IMG_20180717_121240.jpg: ignoring corrupt image/label: could not convert string to float: '0,'\n",
      "\u001b[34m\u001b[1mtrain: \u001b[0mWARNING  C:\\Users\\cucum\\Downloads\\COS40007\\week 6\\images\\train_selected_iter_1\\IMG_20180717_121252.jpg: ignoring corrupt image/label: could not convert string to float: '0,'\n",
      "\u001b[34m\u001b[1mtrain: \u001b[0mWARNING  C:\\Users\\cucum\\Downloads\\COS40007\\week 6\\images\\train_selected_iter_1\\IMG_20180717_121303.jpg: ignoring corrupt image/label: could not convert string to float: '0,'\n",
      "\u001b[34m\u001b[1mtrain: \u001b[0mWARNING  C:\\Users\\cucum\\Downloads\\COS40007\\week 6\\images\\train_selected_iter_1\\IMG_20180717_121325.jpg: ignoring corrupt image/label: could not convert string to float: '0,'\n",
      "\u001b[34m\u001b[1mtrain: \u001b[0mWARNING  C:\\Users\\cucum\\Downloads\\COS40007\\week 6\\images\\train_selected_iter_1\\IMG_20180717_121404.jpg: ignoring corrupt image/label: could not convert string to float: '0,'\n",
      "\u001b[34m\u001b[1mtrain: \u001b[0mWARNING  C:\\Users\\cucum\\Downloads\\COS40007\\week 6\\images\\train_selected_iter_1\\IMG_20180717_121631.jpg: ignoring corrupt image/label: could not convert string to float: '0,'\n",
      "\u001b[34m\u001b[1mtrain: \u001b[0mWARNING  C:\\Users\\cucum\\Downloads\\COS40007\\week 6\\images\\train_selected_iter_1\\IMG_20180717_121822.jpg: ignoring corrupt image/label: could not convert string to float: '0,'\n",
      "\u001b[34m\u001b[1mtrain: \u001b[0mWARNING  C:\\Users\\cucum\\Downloads\\COS40007\\week 6\\images\\train_selected_iter_1\\IMG_20180717_121839.jpg: ignoring corrupt image/label: could not convert string to float: '0,'\n",
      "\u001b[34m\u001b[1mtrain: \u001b[0mWARNING  C:\\Users\\cucum\\Downloads\\COS40007\\week 6\\images\\train_selected_iter_1\\IMG_20180717_121929.jpg: ignoring corrupt image/label: could not convert string to float: '0,'\n",
      "\u001b[34m\u001b[1mtrain: \u001b[0mWARNING  C:\\Users\\cucum\\Downloads\\COS40007\\week 6\\images\\train_selected_iter_1\\IMG_20180717_122322.jpg: ignoring corrupt image/label: could not convert string to float: '0,'\n",
      "\u001b[34m\u001b[1mtrain: \u001b[0mWARNING  C:\\Users\\cucum\\Downloads\\COS40007\\week 6\\images\\train_selected_iter_1\\IMG_20180717_122348.jpg: ignoring corrupt image/label: could not convert string to float: '0,'\n",
      "\u001b[34m\u001b[1mtrain: \u001b[0mWARNING  C:\\Users\\cucum\\Downloads\\COS40007\\week 6\\images\\train_selected_iter_1\\IMG_20180717_122524.jpg: ignoring corrupt image/label: could not convert string to float: '0,'\n",
      "\u001b[34m\u001b[1mtrain: \u001b[0mWARNING  C:\\Users\\cucum\\Downloads\\COS40007\\week 6\\images\\train_selected_iter_1\\IMG_20180717_122646.jpg: ignoring corrupt image/label: could not convert string to float: '0,'\n",
      "\u001b[34m\u001b[1mtrain: \u001b[0mWARNING  C:\\Users\\cucum\\Downloads\\COS40007\\week 6\\images\\train_selected_iter_1\\IMG_20180717_122938.jpg: ignoring corrupt image/label: could not convert string to float: '0,'\n",
      "\u001b[34m\u001b[1mtrain: \u001b[0mWARNING  C:\\Users\\cucum\\Downloads\\COS40007\\week 6\\images\\train_selected_iter_1\\IMG_20180717_123003.jpg: ignoring corrupt image/label: could not convert string to float: '0,'\n",
      "\u001b[34m\u001b[1mtrain: \u001b[0mWARNING  C:\\Users\\cucum\\Downloads\\COS40007\\week 6\\images\\train_selected_iter_1\\IMG_20180717_123156.jpg: ignoring corrupt image/label: could not convert string to float: '0,'\n",
      "\u001b[34m\u001b[1mtrain: \u001b[0mWARNING  C:\\Users\\cucum\\Downloads\\COS40007\\week 6\\images\\train_selected_iter_1\\IMG_20180717_123507.jpg: ignoring corrupt image/label: could not convert string to float: '0,'\n",
      "\u001b[34m\u001b[1mtrain: \u001b[0mWARNING  C:\\Users\\cucum\\Downloads\\COS40007\\week 6\\images\\train_selected_iter_1\\IMG_20180717_142541.jpg: ignoring corrupt image/label: could not convert string to float: '0,'\n",
      "\u001b[34m\u001b[1mtrain: \u001b[0mWARNING  C:\\Users\\cucum\\Downloads\\COS40007\\week 6\\images\\train_selected_iter_1\\IMG_20180717_143333.jpg: ignoring corrupt image/label: could not convert string to float: '0,'\n",
      "\u001b[34m\u001b[1mtrain: \u001b[0mWARNING  C:\\Users\\cucum\\Downloads\\COS40007\\week 6\\images\\train_selected_iter_1\\IMG_20180717_144253.jpg: ignoring corrupt image/label: could not convert string to float: '0,'\n",
      "\u001b[34m\u001b[1mtrain: \u001b[0mWARNING  C:\\Users\\cucum\\Downloads\\COS40007\\week 6\\images\\train_selected_iter_1\\IMG_20180718_105325.jpg: ignoring corrupt image/label: could not convert string to float: '0,'\n",
      "\u001b[34m\u001b[1mtrain: \u001b[0mWARNING  C:\\Users\\cucum\\Downloads\\COS40007\\week 6\\images\\train_selected_iter_1\\IMG_20180718_105742.jpg: ignoring corrupt image/label: could not convert string to float: '0,'\n",
      "\u001b[34m\u001b[1mtrain: \u001b[0mWARNING  C:\\Users\\cucum\\Downloads\\COS40007\\week 6\\images\\train_selected_iter_1\\IMG_20180719_123622.jpg: ignoring corrupt image/label: could not convert string to float: '0,'\n",
      "\u001b[34m\u001b[1mtrain: \u001b[0mWARNING  C:\\Users\\cucum\\Downloads\\COS40007\\week 6\\images\\train_selected_iter_1\\IMG_20180719_123643.jpg: ignoring corrupt image/label: could not convert string to float: '0,'\n",
      "\u001b[34m\u001b[1mtrain: \u001b[0mWARNING  C:\\Users\\cucum\\Downloads\\COS40007\\week 6\\images\\train_selected_iter_1\\IMG_20180719_123648.jpg: ignoring corrupt image/label: could not convert string to float: '0,'\n",
      "\u001b[34m\u001b[1mtrain: \u001b[0mWARNING  C:\\Users\\cucum\\Downloads\\COS40007\\week 6\\images\\train_selected_iter_1\\IMG_20180719_123704.jpg: ignoring corrupt image/label: could not convert string to float: '0,'\n",
      "\u001b[34m\u001b[1mtrain: \u001b[0mWARNING  C:\\Users\\cucum\\Downloads\\COS40007\\week 6\\images\\train_selected_iter_1\\IMG_20180719_123710.jpg: ignoring corrupt image/label: could not convert string to float: '0,'\n",
      "\u001b[34m\u001b[1mtrain: \u001b[0mWARNING  C:\\Users\\cucum\\Downloads\\COS40007\\week 6\\images\\train_selected_iter_1\\IMG_20180719_123729.jpg: ignoring corrupt image/label: could not convert string to float: '0,'\n",
      "\u001b[34m\u001b[1mtrain: \u001b[0mWARNING  C:\\Users\\cucum\\Downloads\\COS40007\\week 6\\images\\train_selected_iter_1\\IMG_20180719_123743.jpg: ignoring corrupt image/label: could not convert string to float: '0,'\n",
      "\u001b[34m\u001b[1mtrain: \u001b[0mWARNING  C:\\Users\\cucum\\Downloads\\COS40007\\week 6\\images\\train_selected_iter_1\\IMG_20180719_123900.jpg: ignoring corrupt image/label: could not convert string to float: '0,'\n",
      "\u001b[34m\u001b[1mtrain: \u001b[0mWARNING  C:\\Users\\cucum\\Downloads\\COS40007\\week 6\\images\\train_selected_iter_1\\IMG_20180719_123953.jpg: ignoring corrupt image/label: could not convert string to float: '0,'\n",
      "\u001b[34m\u001b[1mtrain: \u001b[0mWARNING  C:\\Users\\cucum\\Downloads\\COS40007\\week 6\\images\\train_selected_iter_1\\IMG_20180719_124008.jpg: ignoring corrupt image/label: could not convert string to float: '0,'\n",
      "\u001b[34m\u001b[1mtrain: \u001b[0mWARNING  C:\\Users\\cucum\\Downloads\\COS40007\\week 6\\images\\train_selected_iter_1\\IMG_20180719_124029.jpg: ignoring corrupt image/label: could not convert string to float: '0,'\n",
      "\u001b[34m\u001b[1mtrain: \u001b[0mWARNING  C:\\Users\\cucum\\Downloads\\COS40007\\week 6\\images\\train_selected_iter_1\\IMG_20180719_124040.jpg: ignoring corrupt image/label: could not convert string to float: '0,'\n",
      "\u001b[34m\u001b[1mtrain: \u001b[0mWARNING  C:\\Users\\cucum\\Downloads\\COS40007\\week 6\\images\\train_selected_iter_1\\IMG_20180719_124145.jpg: ignoring corrupt image/label: could not convert string to float: '0,'\n",
      "\u001b[34m\u001b[1mtrain: \u001b[0mWARNING  C:\\Users\\cucum\\Downloads\\COS40007\\week 6\\images\\train_selected_iter_1\\IMG_20180719_124206.jpg: ignoring corrupt image/label: could not convert string to float: '0,'\n",
      "\u001b[34m\u001b[1mtrain: \u001b[0mWARNING  C:\\Users\\cucum\\Downloads\\COS40007\\week 6\\images\\train_selected_iter_1\\IMG_20180719_124213.jpg: ignoring corrupt image/label: could not convert string to float: '0,'\n",
      "\u001b[34m\u001b[1mtrain: \u001b[0mWARNING  C:\\Users\\cucum\\Downloads\\COS40007\\week 6\\images\\train_selected_iter_1\\IMG_20180719_124316.jpg: ignoring corrupt image/label: could not convert string to float: '0,'\n",
      "\u001b[34m\u001b[1mtrain: \u001b[0mWARNING  C:\\Users\\cucum\\Downloads\\COS40007\\week 6\\images\\train_selected_iter_1\\IMG_20180719_124340.jpg: ignoring corrupt image/label: could not convert string to float: '0,'\n",
      "\u001b[34m\u001b[1mtrain: \u001b[0mWARNING  C:\\Users\\cucum\\Downloads\\COS40007\\week 6\\images\\train_selected_iter_1\\IMG_20180719_124351.jpg: ignoring corrupt image/label: could not convert string to float: '0,'\n",
      "\u001b[34m\u001b[1mtrain: \u001b[0mWARNING  C:\\Users\\cucum\\Downloads\\COS40007\\week 6\\images\\train_selected_iter_1\\IMG_20180719_124405.jpg: ignoring corrupt image/label: could not convert string to float: '0,'\n",
      "\u001b[34m\u001b[1mtrain: \u001b[0mWARNING  C:\\Users\\cucum\\Downloads\\COS40007\\week 6\\images\\train_selected_iter_1\\IMG_20180719_124416.jpg: ignoring corrupt image/label: could not convert string to float: '0,'\n",
      "\u001b[34m\u001b[1mtrain: \u001b[0mWARNING  C:\\Users\\cucum\\Downloads\\COS40007\\week 6\\images\\train_selected_iter_1\\IMG_20180719_124442.jpg: ignoring corrupt image/label: could not convert string to float: '0,'\n",
      "\u001b[34m\u001b[1mtrain: \u001b[0mWARNING  C:\\Users\\cucum\\Downloads\\COS40007\\week 6\\images\\train_selected_iter_1\\IMG_20180719_124458.jpg: ignoring corrupt image/label: could not convert string to float: '0,'\n",
      "\u001b[34m\u001b[1mtrain: \u001b[0mWARNING  C:\\Users\\cucum\\Downloads\\COS40007\\week 6\\images\\train_selected_iter_1\\IMG_20180719_124517.jpg: ignoring corrupt image/label: could not convert string to float: '0,'\n",
      "\u001b[34m\u001b[1mtrain: \u001b[0mWARNING  C:\\Users\\cucum\\Downloads\\COS40007\\week 6\\images\\train_selected_iter_1\\IMG_20180719_124538.jpg: ignoring corrupt image/label: could not convert string to float: '0,'\n",
      "\u001b[34m\u001b[1mtrain: \u001b[0mWARNING  C:\\Users\\cucum\\Downloads\\COS40007\\week 6\\images\\train_selected_iter_1\\IMG_20180719_124553.jpg: ignoring corrupt image/label: could not convert string to float: '0,'\n",
      "\u001b[34m\u001b[1mtrain: \u001b[0mWARNING  C:\\Users\\cucum\\Downloads\\COS40007\\week 6\\images\\train_selected_iter_1\\IMG_20180719_124625.jpg: ignoring corrupt image/label: could not convert string to float: '0,'\n",
      "\u001b[34m\u001b[1mtrain: \u001b[0mWARNING  C:\\Users\\cucum\\Downloads\\COS40007\\week 6\\images\\train_selected_iter_1\\IMG_20180719_124636.jpg: ignoring corrupt image/label: could not convert string to float: '0,'\n",
      "\u001b[34m\u001b[1mtrain: \u001b[0mWARNING  C:\\Users\\cucum\\Downloads\\COS40007\\week 6\\images\\train_selected_iter_1\\IMG_20180719_124805.jpg: ignoring corrupt image/label: could not convert string to float: '0,'\n",
      "\u001b[34m\u001b[1mtrain: \u001b[0mWARNING  C:\\Users\\cucum\\Downloads\\COS40007\\week 6\\images\\train_selected_iter_1\\IMG_20180719_124812.jpg: ignoring corrupt image/label: could not convert string to float: '0,'\n",
      "\u001b[34m\u001b[1mtrain: \u001b[0mWARNING  C:\\Users\\cucum\\Downloads\\COS40007\\week 6\\images\\train_selected_iter_1\\IMG_20180719_124852.jpg: ignoring corrupt image/label: could not convert string to float: '0,'\n",
      "\u001b[34m\u001b[1mtrain: \u001b[0mWARNING  C:\\Users\\cucum\\Downloads\\COS40007\\week 6\\images\\train_selected_iter_1\\IMG_20180719_124903.jpg: ignoring corrupt image/label: could not convert string to float: '0,'\n",
      "\u001b[34m\u001b[1mtrain: \u001b[0mWARNING  C:\\Users\\cucum\\Downloads\\COS40007\\week 6\\images\\train_selected_iter_1\\IMG_20180719_124906.jpg: ignoring corrupt image/label: could not convert string to float: '0,'\n",
      "\u001b[34m\u001b[1mtrain: \u001b[0mWARNING  C:\\Users\\cucum\\Downloads\\COS40007\\week 6\\images\\train_selected_iter_1\\IMG_20180719_124919.jpg: ignoring corrupt image/label: could not convert string to float: '0,'\n",
      "\u001b[34m\u001b[1mtrain: \u001b[0mWARNING  C:\\Users\\cucum\\Downloads\\COS40007\\week 6\\images\\train_selected_iter_1\\IMG_20180719_124931.jpg: ignoring corrupt image/label: could not convert string to float: '0,'\n",
      "\u001b[34m\u001b[1mtrain: \u001b[0mWARNING  C:\\Users\\cucum\\Downloads\\COS40007\\week 6\\images\\train_selected_iter_1\\IMG_20180719_124953.jpg: ignoring corrupt image/label: could not convert string to float: '0,'\n",
      "\u001b[34m\u001b[1mtrain: \u001b[0mWARNING  C:\\Users\\cucum\\Downloads\\COS40007\\week 6\\images\\train_selected_iter_1\\IMG_20180719_125020.jpg: ignoring corrupt image/label: could not convert string to float: '0,'\n",
      "\u001b[34m\u001b[1mtrain: \u001b[0mWARNING  C:\\Users\\cucum\\Downloads\\COS40007\\week 6\\images\\train_selected_iter_1\\IMG_20180719_125040.jpg: ignoring corrupt image/label: could not convert string to float: '0,'\n",
      "\u001b[34m\u001b[1mtrain: \u001b[0mWARNING  C:\\Users\\cucum\\Downloads\\COS40007\\week 6\\images\\train_selected_iter_1\\IMG_20180719_125049.jpg: ignoring corrupt image/label: could not convert string to float: '0,'\n",
      "\u001b[34m\u001b[1mtrain: \u001b[0mWARNING  C:\\Users\\cucum\\Downloads\\COS40007\\week 6\\images\\train_selected_iter_1\\IMG_20180719_125134.jpg: ignoring corrupt image/label: could not convert string to float: '0,'\n",
      "\u001b[34m\u001b[1mtrain: \u001b[0mWARNING  C:\\Users\\cucum\\Downloads\\COS40007\\week 6\\images\\train_selected_iter_1\\IMG_20180719_125308.jpg: ignoring corrupt image/label: could not convert string to float: '0,'\n",
      "\u001b[34m\u001b[1mtrain: \u001b[0mWARNING  C:\\Users\\cucum\\Downloads\\COS40007\\week 6\\images\\train_selected_iter_1\\IMG_20180719_125528.jpg: ignoring corrupt image/label: could not convert string to float: '0,'\n",
      "\u001b[34m\u001b[1mtrain: \u001b[0mWARNING  C:\\Users\\cucum\\Downloads\\COS40007\\week 6\\images\\train_selected_iter_1\\IMG_20180719_141737.jpg: ignoring corrupt image/label: could not convert string to float: '0,'\n",
      "\u001b[34m\u001b[1mtrain: \u001b[0mWARNING  C:\\Users\\cucum\\Downloads\\COS40007\\week 6\\images\\train_selected_iter_1\\IMG_20180719_141754.jpg: ignoring corrupt image/label: could not convert string to float: '0,'\n",
      "\u001b[34m\u001b[1mtrain: \u001b[0mWARNING  C:\\Users\\cucum\\Downloads\\COS40007\\week 6\\images\\train_selected_iter_1\\IMG_20180719_141933.jpg: ignoring corrupt image/label: could not convert string to float: '0,'\n",
      "\u001b[34m\u001b[1mtrain: \u001b[0mWARNING  C:\\Users\\cucum\\Downloads\\COS40007\\week 6\\images\\train_selected_iter_1\\IMG_20180719_142001.jpg: ignoring corrupt image/label: could not convert string to float: '0,'\n",
      "\u001b[34m\u001b[1mtrain: \u001b[0mWARNING  C:\\Users\\cucum\\Downloads\\COS40007\\week 6\\images\\train_selected_iter_1\\IMG_20180719_142041.jpg: ignoring corrupt image/label: could not convert string to float: '0,'\n",
      "\u001b[34m\u001b[1mtrain: \u001b[0mWARNING  C:\\Users\\cucum\\Downloads\\COS40007\\week 6\\images\\train_selected_iter_1\\IMG_20180719_142138.jpg: ignoring corrupt image/label: could not convert string to float: '0,'\n",
      "\u001b[34m\u001b[1mtrain: \u001b[0mWARNING  C:\\Users\\cucum\\Downloads\\COS40007\\week 6\\images\\train_selected_iter_1\\IMG_20180719_142223.jpg: ignoring corrupt image/label: could not convert string to float: '0,'\n",
      "\u001b[34m\u001b[1mtrain: \u001b[0mWARNING  C:\\Users\\cucum\\Downloads\\COS40007\\week 6\\images\\train_selected_iter_1\\IMG_20180719_142232.jpg: ignoring corrupt image/label: could not convert string to float: '0,'\n",
      "\u001b[34m\u001b[1mtrain: \u001b[0mWARNING  C:\\Users\\cucum\\Downloads\\COS40007\\week 6\\images\\train_selected_iter_1\\IMG_20180719_142627.jpg: ignoring corrupt image/label: could not convert string to float: '0,'\n",
      "\u001b[34m\u001b[1mtrain: \u001b[0mWARNING  C:\\Users\\cucum\\Downloads\\COS40007\\week 6\\images\\train_selected_iter_1\\IMG_20180719_142738.jpg: ignoring corrupt image/label: could not convert string to float: '0,'\n",
      "\u001b[34m\u001b[1mtrain: \u001b[0mWARNING  C:\\Users\\cucum\\Downloads\\COS40007\\week 6\\images\\train_selected_iter_1\\IMG_20180719_142820.jpg: ignoring corrupt image/label: could not convert string to float: '0,'\n",
      "\u001b[34m\u001b[1mtrain: \u001b[0mWARNING  C:\\Users\\cucum\\Downloads\\COS40007\\week 6\\images\\train_selected_iter_1\\IMG_20180719_142841.jpg: ignoring corrupt image/label: could not convert string to float: '0,'\n",
      "\u001b[34m\u001b[1mtrain: \u001b[0mWARNING  C:\\Users\\cucum\\Downloads\\COS40007\\week 6\\images\\train_selected_iter_1\\IMG_20180719_142853.jpg: ignoring corrupt image/label: could not convert string to float: '0,'\n",
      "\u001b[34m\u001b[1mtrain: \u001b[0mWARNING  C:\\Users\\cucum\\Downloads\\COS40007\\week 6\\images\\train_selected_iter_1\\IMG_20180719_142911.jpg: ignoring corrupt image/label: could not convert string to float: '0,'\n",
      "\u001b[34m\u001b[1mtrain: \u001b[0mWARNING  C:\\Users\\cucum\\Downloads\\COS40007\\week 6\\images\\train_selected_iter_1\\IMG_20180719_142920.jpg: ignoring corrupt image/label: could not convert string to float: '0,'\n",
      "\u001b[34m\u001b[1mtrain: \u001b[0mWARNING  C:\\Users\\cucum\\Downloads\\COS40007\\week 6\\images\\train_selected_iter_1\\IMG_20180719_142947.jpg: ignoring corrupt image/label: could not convert string to float: '0,'\n",
      "\u001b[34m\u001b[1mtrain: \u001b[0mWARNING  C:\\Users\\cucum\\Downloads\\COS40007\\week 6\\images\\train_selected_iter_1\\IMG_20180719_142955.jpg: ignoring corrupt image/label: could not convert string to float: '0,'\n",
      "\u001b[34m\u001b[1mtrain: \u001b[0mWARNING  C:\\Users\\cucum\\Downloads\\COS40007\\week 6\\images\\train_selected_iter_1\\IMG_20180719_143022.jpg: ignoring corrupt image/label: could not convert string to float: '0,'\n",
      "\u001b[34m\u001b[1mtrain: \u001b[0mWARNING  C:\\Users\\cucum\\Downloads\\COS40007\\week 6\\images\\train_selected_iter_1\\IMG_20180719_143049.jpg: ignoring corrupt image/label: could not convert string to float: '0,'\n",
      "\u001b[34m\u001b[1mtrain: \u001b[0mWARNING  C:\\Users\\cucum\\Downloads\\COS40007\\week 6\\images\\train_selected_iter_1\\IMG_20180719_143143.jpg: ignoring corrupt image/label: could not convert string to float: '0,'\n",
      "\u001b[34m\u001b[1mtrain: \u001b[0mWARNING  C:\\Users\\cucum\\Downloads\\COS40007\\week 6\\images\\train_selected_iter_1\\IMG_20180719_143232.jpg: ignoring corrupt image/label: could not convert string to float: '0,'\n",
      "\u001b[34m\u001b[1mtrain: \u001b[0mWARNING  C:\\Users\\cucum\\Downloads\\COS40007\\week 6\\images\\train_selected_iter_1\\IMG_20180719_143623.jpg: ignoring corrupt image/label: could not convert string to float: '0,'\n",
      "\u001b[34m\u001b[1mtrain: \u001b[0mWARNING  C:\\Users\\cucum\\Downloads\\COS40007\\week 6\\images\\train_selected_iter_1\\IMG_20180719_143919.jpg: ignoring corrupt image/label: could not convert string to float: '0,'\n",
      "\u001b[34m\u001b[1mtrain: \u001b[0mWARNING  C:\\Users\\cucum\\Downloads\\COS40007\\week 6\\images\\train_selected_iter_1\\IMG_20180719_144000.jpg: ignoring corrupt image/label: could not convert string to float: '0,'\n",
      "\u001b[34m\u001b[1mtrain: \u001b[0mWARNING  C:\\Users\\cucum\\Downloads\\COS40007\\week 6\\images\\train_selected_iter_1\\IMG_20180719_144116.jpg: ignoring corrupt image/label: could not convert string to float: '0,'\n",
      "\u001b[34m\u001b[1mtrain: \u001b[0mWARNING  C:\\Users\\cucum\\Downloads\\COS40007\\week 6\\images\\train_selected_iter_1\\IMG_20180720_123359.jpg: ignoring corrupt image/label: could not convert string to float: '0,'\n",
      "\u001b[34m\u001b[1mtrain: \u001b[0mWARNING  C:\\Users\\cucum\\Downloads\\COS40007\\week 6\\images\\train_selected_iter_1\\IMG_20180720_123404.jpg: ignoring corrupt image/label: could not convert string to float: '0,'\n",
      "\u001b[34m\u001b[1mtrain: \u001b[0mWARNING  C:\\Users\\cucum\\Downloads\\COS40007\\week 6\\images\\train_selected_iter_1\\IMG_20180720_123409.jpg: ignoring corrupt image/label: could not convert string to float: '0,'\n",
      "\u001b[34m\u001b[1mtrain: \u001b[0mWARNING  C:\\Users\\cucum\\Downloads\\COS40007\\week 6\\images\\train_selected_iter_1\\IMG_20180720_123433.jpg: ignoring corrupt image/label: could not convert string to float: '0,'\n",
      "\u001b[34m\u001b[1mtrain: \u001b[0mWARNING  C:\\Users\\cucum\\Downloads\\COS40007\\week 6\\images\\train_selected_iter_1\\IMG_20180720_123508.jpg: ignoring corrupt image/label: could not convert string to float: '0,'\n",
      "\u001b[34m\u001b[1mtrain: \u001b[0mWARNING  C:\\Users\\cucum\\Downloads\\COS40007\\week 6\\images\\train_selected_iter_1\\IMG_20180720_123624.jpg: ignoring corrupt image/label: could not convert string to float: '0,'\n",
      "\u001b[34m\u001b[1mtrain: \u001b[0mWARNING  C:\\Users\\cucum\\Downloads\\COS40007\\week 6\\images\\train_selected_iter_1\\IMG_20180720_123651.jpg: ignoring corrupt image/label: could not convert string to float: '0,'\n",
      "\u001b[34m\u001b[1mtrain: \u001b[0mWARNING  C:\\Users\\cucum\\Downloads\\COS40007\\week 6\\images\\train_selected_iter_1\\IMG_20180720_123656.jpg: ignoring corrupt image/label: could not convert string to float: '0,'\n",
      "\u001b[34m\u001b[1mtrain: \u001b[0mWARNING  C:\\Users\\cucum\\Downloads\\COS40007\\week 6\\images\\train_selected_iter_1\\IMG_20180720_123828.jpg: ignoring corrupt image/label: could not convert string to float: '0,'\n",
      "\u001b[34m\u001b[1mtrain: \u001b[0mWARNING  C:\\Users\\cucum\\Downloads\\COS40007\\week 6\\images\\train_selected_iter_1\\IMG_20180720_123932.jpg: ignoring corrupt image/label: could not convert string to float: '0,'\n",
      "\u001b[34m\u001b[1mtrain: \u001b[0mWARNING  C:\\Users\\cucum\\Downloads\\COS40007\\week 6\\images\\train_selected_iter_1\\IMG_20180720_124029.jpg: ignoring corrupt image/label: could not convert string to float: '0,'\n",
      "\u001b[34m\u001b[1mtrain: \u001b[0mWARNING  C:\\Users\\cucum\\Downloads\\COS40007\\week 6\\images\\train_selected_iter_1\\IMG_20180720_124107.jpg: ignoring corrupt image/label: could not convert string to float: '0,'\n",
      "\u001b[34m\u001b[1mtrain: \u001b[0mWARNING  C:\\Users\\cucum\\Downloads\\COS40007\\week 6\\images\\train_selected_iter_1\\IMG_20180720_124123.jpg: ignoring corrupt image/label: could not convert string to float: '0,'\n",
      "\u001b[34m\u001b[1mtrain: \u001b[0mWARNING  C:\\Users\\cucum\\Downloads\\COS40007\\week 6\\images\\train_selected_iter_1\\IMG_20180720_124153.jpg: ignoring corrupt image/label: could not convert string to float: '0,'\n",
      "\u001b[34m\u001b[1mtrain: \u001b[0mWARNING  C:\\Users\\cucum\\Downloads\\COS40007\\week 6\\images\\train_selected_iter_1\\IMG_20180720_124211.jpg: ignoring corrupt image/label: could not convert string to float: '0,'\n",
      "\u001b[34m\u001b[1mtrain: \u001b[0mWARNING  C:\\Users\\cucum\\Downloads\\COS40007\\week 6\\images\\train_selected_iter_1\\IMG_20180720_124214.jpg: ignoring corrupt image/label: could not convert string to float: '0,'\n",
      "\u001b[34m\u001b[1mtrain: \u001b[0mWARNING  C:\\Users\\cucum\\Downloads\\COS40007\\week 6\\images\\train_selected_iter_1\\IMG_20180720_124223.jpg: ignoring corrupt image/label: could not convert string to float: '0,'\n",
      "\u001b[34m\u001b[1mtrain: \u001b[0mWARNING  C:\\Users\\cucum\\Downloads\\COS40007\\week 6\\images\\train_selected_iter_1\\IMG_20180720_124227.jpg: ignoring corrupt image/label: could not convert string to float: '0,'\n",
      "\u001b[34m\u001b[1mtrain: \u001b[0mWARNING  C:\\Users\\cucum\\Downloads\\COS40007\\week 6\\images\\train_selected_iter_1\\IMG_20180720_124234.jpg: ignoring corrupt image/label: could not convert string to float: '0,'\n",
      "\u001b[34m\u001b[1mtrain: \u001b[0mWARNING  C:\\Users\\cucum\\Downloads\\COS40007\\week 6\\images\\train_selected_iter_1\\IMG_20180720_124320.jpg: ignoring corrupt image/label: could not convert string to float: '0,'\n",
      "\u001b[34m\u001b[1mtrain: \u001b[0mWARNING  C:\\Users\\cucum\\Downloads\\COS40007\\week 6\\images\\train_selected_iter_1\\IMG_20180720_124326.jpg: ignoring corrupt image/label: could not convert string to float: '0,'\n",
      "\u001b[34m\u001b[1mtrain: \u001b[0mWARNING  C:\\Users\\cucum\\Downloads\\COS40007\\week 6\\images\\train_selected_iter_1\\IMG_20180720_124333.jpg: ignoring corrupt image/label: could not convert string to float: '0,'\n",
      "\u001b[34m\u001b[1mtrain: \u001b[0mWARNING  C:\\Users\\cucum\\Downloads\\COS40007\\week 6\\images\\train_selected_iter_1\\IMG_20180720_124444.jpg: ignoring corrupt image/label: could not convert string to float: '0,'\n",
      "\u001b[34m\u001b[1mtrain: \u001b[0mWARNING  C:\\Users\\cucum\\Downloads\\COS40007\\week 6\\images\\train_selected_iter_1\\IMG_20180720_124457.jpg: ignoring corrupt image/label: could not convert string to float: '0,'\n",
      "\u001b[34m\u001b[1mtrain: \u001b[0mWARNING  C:\\Users\\cucum\\Downloads\\COS40007\\week 6\\images\\train_selected_iter_1\\IMG_20180720_124553.jpg: ignoring corrupt image/label: could not convert string to float: '0,'\n",
      "\u001b[34m\u001b[1mtrain: \u001b[0mWARNING  C:\\Users\\cucum\\Downloads\\COS40007\\week 6\\images\\train_selected_iter_1\\IMG_20180720_124636.jpg: ignoring corrupt image/label: could not convert string to float: '0,'\n",
      "\u001b[34m\u001b[1mtrain: \u001b[0mWARNING  C:\\Users\\cucum\\Downloads\\COS40007\\week 6\\images\\train_selected_iter_1\\IMG_20180720_124841.jpg: ignoring corrupt image/label: could not convert string to float: '0,'\n",
      "\u001b[34m\u001b[1mtrain: \u001b[0mWARNING  C:\\Users\\cucum\\Downloads\\COS40007\\week 6\\images\\train_selected_iter_1\\IMG_20180720_141121.jpg: ignoring corrupt image/label: could not convert string to float: '0,'\n",
      "\u001b[34m\u001b[1mtrain: \u001b[0mWARNING  C:\\Users\\cucum\\Downloads\\COS40007\\week 6\\images\\train_selected_iter_1\\IMG_20180720_141225.jpg: ignoring corrupt image/label: could not convert string to float: '0,'\n",
      "\u001b[34m\u001b[1mtrain: \u001b[0mWARNING  C:\\Users\\cucum\\Downloads\\COS40007\\week 6\\images\\train_selected_iter_1\\IMG_20180720_141242.jpg: ignoring corrupt image/label: could not convert string to float: '0,'\n",
      "\u001b[34m\u001b[1mtrain: \u001b[0mWARNING  C:\\Users\\cucum\\Downloads\\COS40007\\week 6\\images\\train_selected_iter_1\\IMG_20180720_141446.jpg: ignoring corrupt image/label: could not convert string to float: '0,'\n",
      "\u001b[34m\u001b[1mtrain: \u001b[0mWARNING  C:\\Users\\cucum\\Downloads\\COS40007\\week 6\\images\\train_selected_iter_1\\IMG_20180720_141537.jpg: ignoring corrupt image/label: could not convert string to float: '0,'\n",
      "\u001b[34m\u001b[1mtrain: \u001b[0mWARNING  C:\\Users\\cucum\\Downloads\\COS40007\\week 6\\images\\train_selected_iter_1\\IMG_20180720_141555.jpg: ignoring corrupt image/label: could not convert string to float: '0,'\n",
      "\u001b[34m\u001b[1mtrain: \u001b[0mWARNING  C:\\Users\\cucum\\Downloads\\COS40007\\week 6\\images\\train_selected_iter_1\\IMG_20180720_141709.jpg: ignoring corrupt image/label: could not convert string to float: '0,'\n",
      "\u001b[34m\u001b[1mtrain: \u001b[0mWARNING  C:\\Users\\cucum\\Downloads\\COS40007\\week 6\\images\\train_selected_iter_1\\IMG_20180720_141721.jpg: ignoring corrupt image/label: could not convert string to float: '0,'\n",
      "\u001b[34m\u001b[1mtrain: \u001b[0mWARNING  C:\\Users\\cucum\\Downloads\\COS40007\\week 6\\images\\train_selected_iter_1\\IMG_20180720_141727.jpg: ignoring corrupt image/label: could not convert string to float: '0,'\n",
      "\u001b[34m\u001b[1mtrain: \u001b[0mWARNING  C:\\Users\\cucum\\Downloads\\COS40007\\week 6\\images\\train_selected_iter_1\\IMG_20180720_141749.jpg: ignoring corrupt image/label: could not convert string to float: '0,'\n",
      "\u001b[34m\u001b[1mtrain: \u001b[0mWARNING  C:\\Users\\cucum\\Downloads\\COS40007\\week 6\\images\\train_selected_iter_1\\IMG_20180720_141907.jpg: ignoring corrupt image/label: could not convert string to float: '0,'\n",
      "\u001b[34m\u001b[1mtrain: \u001b[0mWARNING  C:\\Users\\cucum\\Downloads\\COS40007\\week 6\\images\\train_selected_iter_1\\IMG_20180720_141911.jpg: ignoring corrupt image/label: could not convert string to float: '0,'\n",
      "\u001b[34m\u001b[1mtrain: \u001b[0mWARNING  C:\\Users\\cucum\\Downloads\\COS40007\\week 6\\images\\train_selected_iter_1\\IMG_20180720_142017.jpg: ignoring corrupt image/label: could not convert string to float: '0,'\n",
      "\u001b[34m\u001b[1mtrain: \u001b[0mWARNING  C:\\Users\\cucum\\Downloads\\COS40007\\week 6\\images\\train_selected_iter_1\\IMG_20180720_142038.jpg: ignoring corrupt image/label: could not convert string to float: '0,'\n",
      "\u001b[34m\u001b[1mtrain: \u001b[0mWARNING  C:\\Users\\cucum\\Downloads\\COS40007\\week 6\\images\\train_selected_iter_1\\IMG_20180720_142048.jpg: ignoring corrupt image/label: could not convert string to float: '0,'\n",
      "\u001b[34m\u001b[1mtrain: \u001b[0mWARNING  C:\\Users\\cucum\\Downloads\\COS40007\\week 6\\images\\train_selected_iter_1\\IMG_20180720_142131.jpg: ignoring corrupt image/label: could not convert string to float: '0,'\n",
      "\u001b[34m\u001b[1mtrain: \u001b[0mWARNING  C:\\Users\\cucum\\Downloads\\COS40007\\week 6\\images\\train_selected_iter_1\\IMG_20180720_142141.jpg: ignoring corrupt image/label: could not convert string to float: '0,'\n",
      "\u001b[34m\u001b[1mtrain: \u001b[0mWARNING  C:\\Users\\cucum\\Downloads\\COS40007\\week 6\\images\\train_selected_iter_1\\IMG_20180720_142202.jpg: ignoring corrupt image/label: could not convert string to float: '0,'\n",
      "\u001b[34m\u001b[1mtrain: \u001b[0mWARNING  C:\\Users\\cucum\\Downloads\\COS40007\\week 6\\images\\train_selected_iter_1\\IMG_20180720_142216.jpg: ignoring corrupt image/label: could not convert string to float: '0,'\n",
      "\u001b[34m\u001b[1mtrain: \u001b[0mWARNING  C:\\Users\\cucum\\Downloads\\COS40007\\week 6\\images\\train_selected_iter_1\\IMG_20180720_142220.jpg: ignoring corrupt image/label: could not convert string to float: '0,'\n",
      "\u001b[34m\u001b[1mtrain: \u001b[0mWARNING  C:\\Users\\cucum\\Downloads\\COS40007\\week 6\\images\\train_selected_iter_1\\IMG_20180720_142447.jpg: ignoring corrupt image/label: could not convert string to float: '0,'\n",
      "\u001b[34m\u001b[1mtrain: \u001b[0mWARNING  C:\\Users\\cucum\\Downloads\\COS40007\\week 6\\images\\train_selected_iter_1\\IMG_20180720_142536.jpg: ignoring corrupt image/label: could not convert string to float: '0,'\n",
      "\u001b[34m\u001b[1mtrain: \u001b[0mWARNING  C:\\Users\\cucum\\Downloads\\COS40007\\week 6\\images\\train_selected_iter_1\\IMG_20180720_142605.jpg: ignoring corrupt image/label: could not convert string to float: '0,'\n",
      "\u001b[34m\u001b[1mtrain: \u001b[0mWARNING  C:\\Users\\cucum\\Downloads\\COS40007\\week 6\\images\\train_selected_iter_1\\IMG_20180720_142625.jpg: ignoring corrupt image/label: could not convert string to float: '0,'\n",
      "\u001b[34m\u001b[1mtrain: \u001b[0mWARNING  C:\\Users\\cucum\\Downloads\\COS40007\\week 6\\images\\train_selected_iter_1\\IMG_20180720_142650.jpg: ignoring corrupt image/label: could not convert string to float: '0,'\n",
      "\u001b[34m\u001b[1mtrain: \u001b[0mWARNING  C:\\Users\\cucum\\Downloads\\COS40007\\week 6\\images\\train_selected_iter_1\\IMG_20180720_142708.jpg: ignoring corrupt image/label: could not convert string to float: '0,'\n",
      "\u001b[34m\u001b[1mtrain: \u001b[0mWARNING  C:\\Users\\cucum\\Downloads\\COS40007\\week 6\\images\\train_selected_iter_1\\IMG_20180720_142814.jpg: ignoring corrupt image/label: could not convert string to float: '0,'\n",
      "\u001b[34m\u001b[1mtrain: \u001b[0mWARNING  C:\\Users\\cucum\\Downloads\\COS40007\\week 6\\images\\train_selected_iter_1\\IMG_20180720_142846.jpg: ignoring corrupt image/label: could not convert string to float: '0,'\n",
      "\u001b[34m\u001b[1mtrain: \u001b[0mWARNING  C:\\Users\\cucum\\Downloads\\COS40007\\week 6\\images\\train_selected_iter_1\\IMG_20180720_142853.jpg: ignoring corrupt image/label: could not convert string to float: '0,'\n",
      "\u001b[34m\u001b[1mtrain: \u001b[0mWARNING  C:\\Users\\cucum\\Downloads\\COS40007\\week 6\\images\\train_selected_iter_1\\IMG_20180720_142900.jpg: ignoring corrupt image/label: could not convert string to float: '0,'\n",
      "\u001b[34m\u001b[1mtrain: \u001b[0mWARNING  C:\\Users\\cucum\\Downloads\\COS40007\\week 6\\images\\train_selected_iter_1\\IMG_20180720_142912.jpg: ignoring corrupt image/label: could not convert string to float: '0,'\n",
      "\u001b[34m\u001b[1mtrain: \u001b[0mWARNING  C:\\Users\\cucum\\Downloads\\COS40007\\week 6\\images\\train_selected_iter_1\\IMG_20180720_142920.jpg: ignoring corrupt image/label: could not convert string to float: '0,'\n",
      "\u001b[34m\u001b[1mtrain: \u001b[0mWARNING  C:\\Users\\cucum\\Downloads\\COS40007\\week 6\\images\\train_selected_iter_1\\IMG_20180720_142949.jpg: ignoring corrupt image/label: could not convert string to float: '0,'\n",
      "\u001b[34m\u001b[1mtrain: \u001b[0mWARNING  C:\\Users\\cucum\\Downloads\\COS40007\\week 6\\images\\train_selected_iter_1\\IMG_20180720_143002.jpg: ignoring corrupt image/label: could not convert string to float: '0,'\n",
      "\u001b[34m\u001b[1mtrain: \u001b[0mWARNING  C:\\Users\\cucum\\Downloads\\COS40007\\week 6\\images\\train_selected_iter_1\\IMG_20180720_143014.jpg: ignoring corrupt image/label: could not convert string to float: '0,'\n",
      "\u001b[34m\u001b[1mtrain: \u001b[0mWARNING  C:\\Users\\cucum\\Downloads\\COS40007\\week 6\\images\\train_selected_iter_1\\IMG_20180720_143051.jpg: ignoring corrupt image/label: could not convert string to float: '0,'\n",
      "\u001b[34m\u001b[1mtrain: \u001b[0mWARNING  C:\\Users\\cucum\\Downloads\\COS40007\\week 6\\images\\train_selected_iter_1\\IMG_20180720_143136.jpg: ignoring corrupt image/label: could not convert string to float: '0,'\n",
      "\u001b[34m\u001b[1mtrain: \u001b[0mWARNING  C:\\Users\\cucum\\Downloads\\COS40007\\week 6\\images\\train_selected_iter_1\\IMG_20180720_143232.jpg: ignoring corrupt image/label: could not convert string to float: '0,'\n",
      "\u001b[34m\u001b[1mtrain: \u001b[0mWARNING  C:\\Users\\cucum\\Downloads\\COS40007\\week 6\\images\\train_selected_iter_1\\IMG_20180720_143252.jpg: ignoring corrupt image/label: could not convert string to float: '0,'\n",
      "\u001b[34m\u001b[1mtrain: \u001b[0mWARNING  C:\\Users\\cucum\\Downloads\\COS40007\\week 6\\images\\train_selected_iter_1\\IMG_20180720_143255.jpg: ignoring corrupt image/label: could not convert string to float: '0,'\n",
      "\u001b[34m\u001b[1mtrain: \u001b[0mWARNING  C:\\Users\\cucum\\Downloads\\COS40007\\week 6\\images\\train_selected_iter_1\\IMG_20180720_143319.jpg: ignoring corrupt image/label: could not convert string to float: '0,'\n",
      "\u001b[34m\u001b[1mtrain: \u001b[0mWARNING  C:\\Users\\cucum\\Downloads\\COS40007\\week 6\\images\\train_selected_iter_1\\IMG_20180721_090007.jpg: ignoring corrupt image/label: could not convert string to float: '0,'\n",
      "\u001b[34m\u001b[1mtrain: \u001b[0mWARNING  C:\\Users\\cucum\\Downloads\\COS40007\\week 6\\images\\train_selected_iter_1\\IMG_20180721_090036.jpg: ignoring corrupt image/label: could not convert string to float: '0,'\n",
      "\u001b[34m\u001b[1mtrain: \u001b[0mWARNING  C:\\Users\\cucum\\Downloads\\COS40007\\week 6\\images\\train_selected_iter_1\\IMG_20180721_090102.jpg: ignoring corrupt image/label: could not convert string to float: '0,'\n",
      "\u001b[34m\u001b[1mtrain: \u001b[0mWARNING  C:\\Users\\cucum\\Downloads\\COS40007\\week 6\\images\\train_selected_iter_1\\IMG_20180721_090210.jpg: ignoring corrupt image/label: could not convert string to float: '0,'\n",
      "\u001b[34m\u001b[1mtrain: \u001b[0mWARNING  C:\\Users\\cucum\\Downloads\\COS40007\\week 6\\images\\train_selected_iter_1\\IMG_20180721_090222.jpg: ignoring corrupt image/label: could not convert string to float: '0,'\n",
      "\u001b[34m\u001b[1mtrain: \u001b[0mWARNING  C:\\Users\\cucum\\Downloads\\COS40007\\week 6\\images\\train_selected_iter_1\\IMG_20180721_090244.jpg: ignoring corrupt image/label: could not convert string to float: '0,'\n",
      "\u001b[34m\u001b[1mtrain: \u001b[0mWARNING  C:\\Users\\cucum\\Downloads\\COS40007\\week 6\\images\\train_selected_iter_1\\IMG_20180721_090259.jpg: ignoring corrupt image/label: could not convert string to float: '0,'\n",
      "\u001b[34m\u001b[1mtrain: \u001b[0mWARNING  C:\\Users\\cucum\\Downloads\\COS40007\\week 6\\images\\train_selected_iter_1\\IMG_20180721_090323.jpg: ignoring corrupt image/label: could not convert string to float: '0,'\n",
      "\u001b[34m\u001b[1mtrain: \u001b[0mWARNING  C:\\Users\\cucum\\Downloads\\COS40007\\week 6\\images\\train_selected_iter_1\\IMG_20180721_090331.jpg: ignoring corrupt image/label: could not convert string to float: '0,'\n",
      "\u001b[34m\u001b[1mtrain: \u001b[0mWARNING  C:\\Users\\cucum\\Downloads\\COS40007\\week 6\\images\\train_selected_iter_1\\IMG_20180721_090342.jpg: ignoring corrupt image/label: could not convert string to float: '0,'\n",
      "\u001b[34m\u001b[1mtrain: \u001b[0mWARNING  C:\\Users\\cucum\\Downloads\\COS40007\\week 6\\images\\train_selected_iter_1\\IMG_20180721_090352.jpg: ignoring corrupt image/label: could not convert string to float: '0,'\n",
      "\u001b[34m\u001b[1mtrain: \u001b[0mWARNING  C:\\Users\\cucum\\Downloads\\COS40007\\week 6\\images\\train_selected_iter_1\\IMG_20180721_090414.jpg: ignoring corrupt image/label: could not convert string to float: '0,'\n",
      "\u001b[34m\u001b[1mtrain: \u001b[0mWARNING  C:\\Users\\cucum\\Downloads\\COS40007\\week 6\\images\\train_selected_iter_1\\IMG_20180721_090446.jpg: ignoring corrupt image/label: could not convert string to float: '0,'\n",
      "\u001b[34m\u001b[1mtrain: \u001b[0mWARNING  C:\\Users\\cucum\\Downloads\\COS40007\\week 6\\images\\train_selected_iter_1\\IMG_20180721_090527.jpg: ignoring corrupt image/label: could not convert string to float: '0,'\n",
      "\u001b[34m\u001b[1mtrain: \u001b[0mWARNING  C:\\Users\\cucum\\Downloads\\COS40007\\week 6\\images\\train_selected_iter_1\\IMG_20180721_090532.jpg: ignoring corrupt image/label: could not convert string to float: '0,'\n",
      "\u001b[34m\u001b[1mtrain: \u001b[0mWARNING  C:\\Users\\cucum\\Downloads\\COS40007\\week 6\\images\\train_selected_iter_1\\IMG_20180721_090845.jpg: ignoring corrupt image/label: could not convert string to float: '0,'\n",
      "\u001b[34m\u001b[1mtrain: \u001b[0mWARNING  C:\\Users\\cucum\\Downloads\\COS40007\\week 6\\images\\train_selected_iter_1\\IMG_20180721_090858.jpg: ignoring corrupt image/label: could not convert string to float: '0,'\n",
      "\u001b[34m\u001b[1mtrain: \u001b[0mWARNING  C:\\Users\\cucum\\Downloads\\COS40007\\week 6\\images\\train_selected_iter_1\\IMG_20180721_090911.jpg: ignoring corrupt image/label: could not convert string to float: '0,'\n",
      "\u001b[34m\u001b[1mtrain: \u001b[0mWARNING  C:\\Users\\cucum\\Downloads\\COS40007\\week 6\\images\\train_selected_iter_1\\IMG_20180721_090938.jpg: ignoring corrupt image/label: could not convert string to float: '0,'\n",
      "\u001b[34m\u001b[1mtrain: \u001b[0mWARNING  C:\\Users\\cucum\\Downloads\\COS40007\\week 6\\images\\train_selected_iter_1\\IMG_20180721_090955.jpg: ignoring corrupt image/label: could not convert string to float: '0,'\n",
      "\u001b[34m\u001b[1mtrain: \u001b[0mWARNING  C:\\Users\\cucum\\Downloads\\COS40007\\week 6\\images\\train_selected_iter_1\\IMG_20180721_091004.jpg: ignoring corrupt image/label: could not convert string to float: '0,'\n",
      "\u001b[34m\u001b[1mtrain: \u001b[0mWARNING  C:\\Users\\cucum\\Downloads\\COS40007\\week 6\\images\\train_selected_iter_1\\IMG_20180721_091015.jpg: ignoring corrupt image/label: could not convert string to float: '0,'\n",
      "\u001b[34m\u001b[1mtrain: \u001b[0mWARNING  C:\\Users\\cucum\\Downloads\\COS40007\\week 6\\images\\train_selected_iter_1\\IMG_20180721_091154.jpg: ignoring corrupt image/label: could not convert string to float: '0,'\n",
      "\u001b[34m\u001b[1mtrain: \u001b[0mWARNING  C:\\Users\\cucum\\Downloads\\COS40007\\week 6\\images\\train_selected_iter_1\\IMG_20180721_091207.jpg: ignoring corrupt image/label: could not convert string to float: '0,'\n",
      "\u001b[34m\u001b[1mtrain: \u001b[0mWARNING  C:\\Users\\cucum\\Downloads\\COS40007\\week 6\\images\\train_selected_iter_1\\IMG_20180721_091241.jpg: ignoring corrupt image/label: could not convert string to float: '0,'\n",
      "\u001b[34m\u001b[1mtrain: \u001b[0mWARNING  C:\\Users\\cucum\\Downloads\\COS40007\\week 6\\images\\train_selected_iter_1\\IMG_20180721_091322.jpg: ignoring corrupt image/label: could not convert string to float: '0,'\n",
      "\u001b[34m\u001b[1mtrain: \u001b[0mWARNING  C:\\Users\\cucum\\Downloads\\COS40007\\week 6\\images\\train_selected_iter_1\\IMG_20180721_091335.jpg: ignoring corrupt image/label: could not convert string to float: '0,'\n",
      "\u001b[34m\u001b[1mtrain: \u001b[0mWARNING  C:\\Users\\cucum\\Downloads\\COS40007\\week 6\\images\\train_selected_iter_1\\IMG_20180721_091400.jpg: ignoring corrupt image/label: could not convert string to float: '0,'\n",
      "\u001b[34m\u001b[1mtrain: \u001b[0mWARNING  C:\\Users\\cucum\\Downloads\\COS40007\\week 6\\images\\train_selected_iter_1\\IMG_20180721_091425.jpg: ignoring corrupt image/label: could not convert string to float: '0,'\n",
      "\u001b[34m\u001b[1mtrain: \u001b[0mWARNING  C:\\Users\\cucum\\Downloads\\COS40007\\week 6\\images\\train_selected_iter_1\\IMG_20180721_091441.jpg: ignoring corrupt image/label: could not convert string to float: '0,'\n",
      "\u001b[34m\u001b[1mtrain: \u001b[0mWARNING  C:\\Users\\cucum\\Downloads\\COS40007\\week 6\\images\\train_selected_iter_1\\IMG_20180721_091504.jpg: ignoring corrupt image/label: could not convert string to float: '0,'\n",
      "\u001b[34m\u001b[1mtrain: \u001b[0mWARNING  C:\\Users\\cucum\\Downloads\\COS40007\\week 6\\images\\train_selected_iter_1\\IMG_20180721_091524.jpg: ignoring corrupt image/label: could not convert string to float: '0,'\n",
      "\u001b[34m\u001b[1mtrain: \u001b[0mWARNING  C:\\Users\\cucum\\Downloads\\COS40007\\week 6\\images\\train_selected_iter_1\\IMG_20180721_091616.jpg: ignoring corrupt image/label: could not convert string to float: '0,'\n",
      "\u001b[34m\u001b[1mtrain: \u001b[0mWARNING  C:\\Users\\cucum\\Downloads\\COS40007\\week 6\\images\\train_selected_iter_1\\IMG_20180721_091705.jpg: ignoring corrupt image/label: could not convert string to float: '0,'\n",
      "\u001b[34m\u001b[1mtrain: \u001b[0mWARNING  C:\\Users\\cucum\\Downloads\\COS40007\\week 6\\images\\train_selected_iter_1\\IMG_20180721_091749.jpg: ignoring corrupt image/label: could not convert string to float: '0,'\n",
      "\u001b[34m\u001b[1mtrain: \u001b[0mWARNING  C:\\Users\\cucum\\Downloads\\COS40007\\week 6\\images\\train_selected_iter_1\\IMG_20180721_091759.jpg: ignoring corrupt image/label: could not convert string to float: '0,'\n",
      "\u001b[34m\u001b[1mtrain: \u001b[0mWARNING  C:\\Users\\cucum\\Downloads\\COS40007\\week 6\\images\\train_selected_iter_1\\IMG_20180721_091815.jpg: ignoring corrupt image/label: could not convert string to float: '0,'\n",
      "\u001b[34m\u001b[1mtrain: \u001b[0mWARNING  C:\\Users\\cucum\\Downloads\\COS40007\\week 6\\images\\train_selected_iter_1\\IMG_20180723_122033.jpg: ignoring corrupt image/label: could not convert string to float: '0,'\n",
      "\u001b[34m\u001b[1mtrain: \u001b[0mWARNING  C:\\Users\\cucum\\Downloads\\COS40007\\week 6\\images\\train_selected_iter_1\\IMG_20180723_122049.jpg: ignoring corrupt image/label: could not convert string to float: '0,'\n",
      "\u001b[34m\u001b[1mtrain: \u001b[0mWARNING  C:\\Users\\cucum\\Downloads\\COS40007\\week 6\\images\\train_selected_iter_1\\IMG_20180723_122338.jpg: ignoring corrupt image/label: could not convert string to float: '0,'\n",
      "\u001b[34m\u001b[1mtrain: \u001b[0mWARNING  C:\\Users\\cucum\\Downloads\\COS40007\\week 6\\images\\train_selected_iter_1\\IMG_20180723_122347.jpg: ignoring corrupt image/label: could not convert string to float: '0,'\n",
      "\u001b[34m\u001b[1mtrain: \u001b[0mWARNING  C:\\Users\\cucum\\Downloads\\COS40007\\week 6\\images\\train_selected_iter_1\\IMG_20180723_122353.jpg: ignoring corrupt image/label: could not convert string to float: '0,'\n",
      "\u001b[34m\u001b[1mtrain: \u001b[0mWARNING  C:\\Users\\cucum\\Downloads\\COS40007\\week 6\\images\\train_selected_iter_1\\IMG_20180723_122404.jpg: ignoring corrupt image/label: could not convert string to float: '0,'\n",
      "\u001b[34m\u001b[1mtrain: \u001b[0mWARNING  C:\\Users\\cucum\\Downloads\\COS40007\\week 6\\images\\train_selected_iter_1\\IMG_20180723_122436.jpg: ignoring corrupt image/label: could not convert string to float: '0,'\n",
      "\u001b[34m\u001b[1mtrain: \u001b[0mWARNING  C:\\Users\\cucum\\Downloads\\COS40007\\week 6\\images\\train_selected_iter_1\\IMG_20180723_122444.jpg: ignoring corrupt image/label: could not convert string to float: '0,'\n",
      "\u001b[34m\u001b[1mtrain: \u001b[0mWARNING  C:\\Users\\cucum\\Downloads\\COS40007\\week 6\\images\\train_selected_iter_1\\IMG_20180723_122450.jpg: ignoring corrupt image/label: could not convert string to float: '0,'\n",
      "\u001b[34m\u001b[1mtrain: \u001b[0mWARNING  C:\\Users\\cucum\\Downloads\\COS40007\\week 6\\images\\train_selected_iter_1\\IMG_20180723_122511.jpg: ignoring corrupt image/label: could not convert string to float: '0,'\n",
      "\u001b[34m\u001b[1mtrain: \u001b[0mWARNING  C:\\Users\\cucum\\Downloads\\COS40007\\week 6\\images\\train_selected_iter_1\\IMG_20180723_122515.jpg: ignoring corrupt image/label: could not convert string to float: '0,'\n",
      "\u001b[34m\u001b[1mtrain: \u001b[0mWARNING  C:\\Users\\cucum\\Downloads\\COS40007\\week 6\\images\\train_selected_iter_1\\IMG_20180723_122536.jpg: ignoring corrupt image/label: could not convert string to float: '0,'\n",
      "\u001b[34m\u001b[1mtrain: \u001b[0mWARNING  C:\\Users\\cucum\\Downloads\\COS40007\\week 6\\images\\train_selected_iter_1\\IMG_20180723_122614.jpg: ignoring corrupt image/label: could not convert string to float: '0,'\n",
      "\u001b[34m\u001b[1mtrain: \u001b[0mWARNING  C:\\Users\\cucum\\Downloads\\COS40007\\week 6\\images\\train_selected_iter_1\\IMG_20180723_122641.jpg: ignoring corrupt image/label: could not convert string to float: '0,'\n",
      "\u001b[34m\u001b[1mtrain: \u001b[0mWARNING  C:\\Users\\cucum\\Downloads\\COS40007\\week 6\\images\\train_selected_iter_1\\IMG_20180723_122707.jpg: ignoring corrupt image/label: could not convert string to float: '0,'\n",
      "\u001b[34m\u001b[1mtrain: \u001b[0mWARNING  C:\\Users\\cucum\\Downloads\\COS40007\\week 6\\images\\train_selected_iter_1\\IMG_20180723_122751.jpg: ignoring corrupt image/label: could not convert string to float: '0,'\n",
      "\u001b[34m\u001b[1mtrain: \u001b[0mWARNING  C:\\Users\\cucum\\Downloads\\COS40007\\week 6\\images\\train_selected_iter_1\\IMG_20180723_122828.jpg: ignoring corrupt image/label: could not convert string to float: '0,'\n",
      "\u001b[34m\u001b[1mtrain: \u001b[0mWARNING  C:\\Users\\cucum\\Downloads\\COS40007\\week 6\\images\\train_selected_iter_1\\IMG_20180723_122833.jpg: ignoring corrupt image/label: could not convert string to float: '0,'\n",
      "\u001b[34m\u001b[1mtrain: \u001b[0mWARNING  C:\\Users\\cucum\\Downloads\\COS40007\\week 6\\images\\train_selected_iter_1\\IMG_20180723_122905.jpg: ignoring corrupt image/label: could not convert string to float: '0,'\n",
      "\u001b[34m\u001b[1mtrain: \u001b[0mWARNING  C:\\Users\\cucum\\Downloads\\COS40007\\week 6\\images\\train_selected_iter_1\\IMG_20180723_122918.jpg: ignoring corrupt image/label: could not convert string to float: '0,'\n",
      "\u001b[34m\u001b[1mtrain: \u001b[0mWARNING  C:\\Users\\cucum\\Downloads\\COS40007\\week 6\\images\\train_selected_iter_1\\IMG_20180723_122941.jpg: ignoring corrupt image/label: could not convert string to float: '0,'\n",
      "\u001b[34m\u001b[1mtrain: \u001b[0mWARNING  C:\\Users\\cucum\\Downloads\\COS40007\\week 6\\images\\train_selected_iter_1\\IMG_20180723_122946.jpg: ignoring corrupt image/label: could not convert string to float: '0,'\n",
      "\u001b[34m\u001b[1mtrain: \u001b[0mWARNING  C:\\Users\\cucum\\Downloads\\COS40007\\week 6\\images\\train_selected_iter_1\\IMG_20180723_122952.jpg: ignoring corrupt image/label: could not convert string to float: '0,'\n",
      "\u001b[34m\u001b[1mtrain: \u001b[0mWARNING  C:\\Users\\cucum\\Downloads\\COS40007\\week 6\\images\\train_selected_iter_1\\IMG_20180723_122959.jpg: ignoring corrupt image/label: could not convert string to float: '0,'\n",
      "\u001b[34m\u001b[1mtrain: \u001b[0mWARNING  C:\\Users\\cucum\\Downloads\\COS40007\\week 6\\images\\train_selected_iter_1\\IMG_20180723_123015.jpg: ignoring corrupt image/label: could not convert string to float: '0,'\n",
      "\u001b[34m\u001b[1mtrain: \u001b[0mWARNING  C:\\Users\\cucum\\Downloads\\COS40007\\week 6\\images\\train_selected_iter_1\\IMG_20180723_123055.jpg: ignoring corrupt image/label: could not convert string to float: '0,'\n",
      "\u001b[34m\u001b[1mtrain: \u001b[0mWARNING  C:\\Users\\cucum\\Downloads\\COS40007\\week 6\\images\\train_selected_iter_1\\IMG_20180723_123209.jpg: ignoring corrupt image/label: could not convert string to float: '0,'\n",
      "\u001b[34m\u001b[1mtrain: \u001b[0mWARNING  C:\\Users\\cucum\\Downloads\\COS40007\\week 6\\images\\train_selected_iter_1\\IMG_20180723_123231.jpg: ignoring corrupt image/label: could not convert string to float: '0,'\n",
      "\u001b[34m\u001b[1mtrain: \u001b[0mWARNING  C:\\Users\\cucum\\Downloads\\COS40007\\week 6\\images\\train_selected_iter_1\\IMG_20180723_123317.jpg: ignoring corrupt image/label: could not convert string to float: '0,'\n",
      "\u001b[34m\u001b[1mtrain: \u001b[0mWARNING  C:\\Users\\cucum\\Downloads\\COS40007\\week 6\\images\\train_selected_iter_1\\IMG_20180723_123328.jpg: ignoring corrupt image/label: could not convert string to float: '0,'\n",
      "\u001b[34m\u001b[1mtrain: \u001b[0mWARNING  C:\\Users\\cucum\\Downloads\\COS40007\\week 6\\images\\train_selected_iter_1\\IMG_20180723_123428.jpg: ignoring corrupt image/label: could not convert string to float: '0,'\n",
      "\u001b[34m\u001b[1mtrain: \u001b[0mWARNING  C:\\Users\\cucum\\Downloads\\COS40007\\week 6\\images\\train_selected_iter_1\\IMG_20180723_123454.jpg: ignoring corrupt image/label: could not convert string to float: '0,'\n",
      "\u001b[34m\u001b[1mtrain: \u001b[0mWARNING  C:\\Users\\cucum\\Downloads\\COS40007\\week 6\\images\\train_selected_iter_1\\IMG_20180723_123522.jpg: ignoring corrupt image/label: could not convert string to float: '0,'\n",
      "\u001b[34m\u001b[1mtrain: \u001b[0mWARNING  C:\\Users\\cucum\\Downloads\\COS40007\\week 6\\images\\train_selected_iter_1\\IMG_20180723_123534.jpg: ignoring corrupt image/label: could not convert string to float: '0,'\n",
      "\u001b[34m\u001b[1mtrain: \u001b[0mWARNING  C:\\Users\\cucum\\Downloads\\COS40007\\week 6\\images\\train_selected_iter_1\\IMG_20180723_123547.jpg: ignoring corrupt image/label: could not convert string to float: '0,'\n",
      "\u001b[34m\u001b[1mtrain: \u001b[0mWARNING  C:\\Users\\cucum\\Downloads\\COS40007\\week 6\\images\\train_selected_iter_1\\IMG_20180723_123611.jpg: ignoring corrupt image/label: could not convert string to float: '0,'\n",
      "\u001b[34m\u001b[1mtrain: \u001b[0mWARNING  C:\\Users\\cucum\\Downloads\\COS40007\\week 6\\images\\train_selected_iter_1\\IMG_20180723_123624.jpg: ignoring corrupt image/label: could not convert string to float: '0,'\n",
      "\u001b[34m\u001b[1mtrain: \u001b[0mWARNING  C:\\Users\\cucum\\Downloads\\COS40007\\week 6\\images\\train_selected_iter_1\\IMG_20180723_123638.jpg: ignoring corrupt image/label: could not convert string to float: '0,'\n",
      "\u001b[34m\u001b[1mtrain: \u001b[0mWARNING  C:\\Users\\cucum\\Downloads\\COS40007\\week 6\\images\\train_selected_iter_1\\IMG_20180723_123708.jpg: ignoring corrupt image/label: could not convert string to float: '0,'\n",
      "\u001b[34m\u001b[1mtrain: \u001b[0mWARNING  C:\\Users\\cucum\\Downloads\\COS40007\\week 6\\images\\train_selected_iter_1\\IMG_20180723_123720.jpg: ignoring corrupt image/label: could not convert string to float: '0,'\n",
      "\u001b[34m\u001b[1mtrain: \u001b[0mWARNING  C:\\Users\\cucum\\Downloads\\COS40007\\week 6\\images\\train_selected_iter_1\\IMG_20180723_123726.jpg: ignoring corrupt image/label: could not convert string to float: '0,'\n",
      "\u001b[34m\u001b[1mtrain: \u001b[0mWARNING  C:\\Users\\cucum\\Downloads\\COS40007\\week 6\\images\\train_selected_iter_1\\IMG_20180723_123733.jpg: ignoring corrupt image/label: could not convert string to float: '0,'\n",
      "\u001b[34m\u001b[1mtrain: \u001b[0mWARNING  C:\\Users\\cucum\\Downloads\\COS40007\\week 6\\images\\train_selected_iter_1\\IMG_20180723_123830.jpg: ignoring corrupt image/label: could not convert string to float: '0,'\n",
      "\u001b[34m\u001b[1mtrain: \u001b[0mWARNING  C:\\Users\\cucum\\Downloads\\COS40007\\week 6\\images\\train_selected_iter_1\\IMG_20180723_123906.jpg: ignoring corrupt image/label: could not convert string to float: '0,'\n",
      "\u001b[34m\u001b[1mtrain: \u001b[0mWARNING  C:\\Users\\cucum\\Downloads\\COS40007\\week 6\\images\\train_selected_iter_1\\IMG_20180723_123911.jpg: ignoring corrupt image/label: could not convert string to float: '0,'\n",
      "\u001b[34m\u001b[1mtrain: \u001b[0mWARNING  C:\\Users\\cucum\\Downloads\\COS40007\\week 6\\images\\train_selected_iter_1\\IMG_20180723_124020.jpg: ignoring corrupt image/label: could not convert string to float: '0,'\n",
      "\u001b[34m\u001b[1mtrain: \u001b[0mWARNING  C:\\Users\\cucum\\Downloads\\COS40007\\week 6\\images\\train_selected_iter_1\\IMG_20180723_124116.jpg: ignoring corrupt image/label: could not convert string to float: '0,'\n",
      "\u001b[34m\u001b[1mtrain: \u001b[0mWARNING  C:\\Users\\cucum\\Downloads\\COS40007\\week 6\\images\\train_selected_iter_1\\IMG_20180723_124206.jpg: ignoring corrupt image/label: could not convert string to float: '0,'\n",
      "\u001b[34m\u001b[1mtrain: \u001b[0mWARNING  C:\\Users\\cucum\\Downloads\\COS40007\\week 6\\images\\train_selected_iter_1\\IMG_20180723_124215.jpg: ignoring corrupt image/label: could not convert string to float: '0,'\n",
      "\u001b[34m\u001b[1mtrain: \u001b[0mWARNING  C:\\Users\\cucum\\Downloads\\COS40007\\week 6\\images\\train_selected_iter_1\\IMG_20180723_124233.jpg: ignoring corrupt image/label: could not convert string to float: '0,'\n",
      "\u001b[34m\u001b[1mtrain: \u001b[0mWARNING  C:\\Users\\cucum\\Downloads\\COS40007\\week 6\\images\\train_selected_iter_1\\IMG_20180723_124251.jpg: ignoring corrupt image/label: could not convert string to float: '0,'\n",
      "\u001b[34m\u001b[1mtrain: \u001b[0mWARNING  C:\\Users\\cucum\\Downloads\\COS40007\\week 6\\images\\train_selected_iter_1\\IMG_20180723_124259.jpg: ignoring corrupt image/label: could not convert string to float: '0,'\n",
      "\u001b[34m\u001b[1mtrain: \u001b[0mWARNING  C:\\Users\\cucum\\Downloads\\COS40007\\week 6\\images\\train_selected_iter_1\\IMG_20180723_124331.jpg: ignoring corrupt image/label: could not convert string to float: '0,'\n",
      "\u001b[34m\u001b[1mtrain: \u001b[0mWARNING  C:\\Users\\cucum\\Downloads\\COS40007\\week 6\\images\\train_selected_iter_1\\IMG_20180723_124338.jpg: ignoring corrupt image/label: could not convert string to float: '0,'\n",
      "\u001b[34m\u001b[1mtrain: \u001b[0mWARNING  C:\\Users\\cucum\\Downloads\\COS40007\\week 6\\images\\train_selected_iter_1\\IMG_20180723_124712.jpg: ignoring corrupt image/label: could not convert string to float: '0,'\n",
      "\u001b[34m\u001b[1mtrain: \u001b[0mWARNING  C:\\Users\\cucum\\Downloads\\COS40007\\week 6\\images\\train_selected_iter_1\\IMG_20180723_124720.jpg: ignoring corrupt image/label: could not convert string to float: '0,'\n",
      "\u001b[34m\u001b[1mtrain: \u001b[0mWARNING  C:\\Users\\cucum\\Downloads\\COS40007\\week 6\\images\\train_selected_iter_1\\IMG_20180723_124738.jpg: ignoring corrupt image/label: could not convert string to float: '0,'\n",
      "\u001b[34m\u001b[1mtrain: \u001b[0mWARNING  C:\\Users\\cucum\\Downloads\\COS40007\\week 6\\images\\train_selected_iter_1\\IMG_20180723_144816.jpg: ignoring corrupt image/label: could not convert string to float: '0,'\n",
      "\u001b[34m\u001b[1mtrain: \u001b[0mWARNING  C:\\Users\\cucum\\Downloads\\COS40007\\week 6\\images\\train_selected_iter_1\\IMG_20180723_144845.jpg: ignoring corrupt image/label: could not convert string to float: '0,'\n",
      "\u001b[34m\u001b[1mtrain: \u001b[0mWARNING  C:\\Users\\cucum\\Downloads\\COS40007\\week 6\\images\\train_selected_iter_1\\IMG_20180723_144902.jpg: ignoring corrupt image/label: could not convert string to float: '0,'\n",
      "\u001b[34m\u001b[1mtrain: \u001b[0mWARNING  C:\\Users\\cucum\\Downloads\\COS40007\\week 6\\images\\train_selected_iter_1\\IMG_20180723_144921.jpg: ignoring corrupt image/label: could not convert string to float: '0,'\n",
      "\u001b[34m\u001b[1mtrain: \u001b[0mWARNING  C:\\Users\\cucum\\Downloads\\COS40007\\week 6\\images\\train_selected_iter_1\\IMG_20180723_145000.jpg: ignoring corrupt image/label: could not convert string to float: '0,'\n",
      "\u001b[34m\u001b[1mtrain: \u001b[0mWARNING  C:\\Users\\cucum\\Downloads\\COS40007\\week 6\\images\\train_selected_iter_1\\IMG_20180723_145027.jpg: ignoring corrupt image/label: could not convert string to float: '0,'\n",
      "\u001b[34m\u001b[1mtrain: \u001b[0mWARNING  C:\\Users\\cucum\\Downloads\\COS40007\\week 6\\images\\train_selected_iter_1\\IMG_20180723_145104.jpg: ignoring corrupt image/label: could not convert string to float: '0,'\n",
      "\u001b[34m\u001b[1mtrain: \u001b[0mWARNING  C:\\Users\\cucum\\Downloads\\COS40007\\week 6\\images\\train_selected_iter_1\\IMG_20180723_145150.jpg: ignoring corrupt image/label: could not convert string to float: '0,'\n",
      "\u001b[34m\u001b[1mtrain: \u001b[0mWARNING  C:\\Users\\cucum\\Downloads\\COS40007\\week 6\\images\\train_selected_iter_1\\IMG_20180723_145334.jpg: ignoring corrupt image/label: could not convert string to float: '0,'\n",
      "\u001b[34m\u001b[1mtrain: \u001b[0mWARNING  C:\\Users\\cucum\\Downloads\\COS40007\\week 6\\images\\train_selected_iter_1\\IMG_20180723_145406.jpg: ignoring corrupt image/label: could not convert string to float: '0,'\n",
      "\u001b[34m\u001b[1mtrain: \u001b[0mWARNING  C:\\Users\\cucum\\Downloads\\COS40007\\week 6\\images\\train_selected_iter_1\\IMG_20180723_145451.jpg: ignoring corrupt image/label: could not convert string to float: '0,'\n",
      "\u001b[34m\u001b[1mtrain: \u001b[0mWARNING  C:\\Users\\cucum\\Downloads\\COS40007\\week 6\\images\\train_selected_iter_1\\IMG_20180723_145515.jpg: ignoring corrupt image/label: could not convert string to float: '0,'\n",
      "\u001b[34m\u001b[1mtrain: \u001b[0mWARNING  C:\\Users\\cucum\\Downloads\\COS40007\\week 6\\images\\train_selected_iter_1\\IMG_20180723_145550.jpg: ignoring corrupt image/label: could not convert string to float: '0,'\n",
      "\u001b[34m\u001b[1mtrain: \u001b[0mWARNING  C:\\Users\\cucum\\Downloads\\COS40007\\week 6\\images\\train_selected_iter_1\\IMG_20180723_145624.jpg: ignoring corrupt image/label: could not convert string to float: '0,'\n",
      "\u001b[34m\u001b[1mtrain: \u001b[0mWARNING  C:\\Users\\cucum\\Downloads\\COS40007\\week 6\\images\\train_selected_iter_1\\IMG_20180723_145631.jpg: ignoring corrupt image/label: could not convert string to float: '0,'\n",
      "\u001b[34m\u001b[1mtrain: \u001b[0mWARNING  C:\\Users\\cucum\\Downloads\\COS40007\\week 6\\images\\train_selected_iter_1\\IMG_20180723_145651.jpg: ignoring corrupt image/label: could not convert string to float: '0,'\n",
      "\u001b[34m\u001b[1mtrain: \u001b[0mWARNING  C:\\Users\\cucum\\Downloads\\COS40007\\week 6\\images\\train_selected_iter_1\\IMG_20180723_145703.jpg: ignoring corrupt image/label: could not convert string to float: '0,'\n",
      "\u001b[34m\u001b[1mtrain: \u001b[0mWARNING  C:\\Users\\cucum\\Downloads\\COS40007\\week 6\\images\\train_selected_iter_1\\IMG_20180723_145733.jpg: ignoring corrupt image/label: could not convert string to float: '0,'\n",
      "\u001b[34m\u001b[1mtrain: \u001b[0mWARNING  C:\\Users\\cucum\\Downloads\\COS40007\\week 6\\images\\train_selected_iter_1\\IMG_20180723_145811.jpg: ignoring corrupt image/label: could not convert string to float: '0,'\n",
      "\u001b[34m\u001b[1mtrain: \u001b[0mWARNING  C:\\Users\\cucum\\Downloads\\COS40007\\week 6\\images\\train_selected_iter_1\\IMG_20180723_145827.jpg: ignoring corrupt image/label: could not convert string to float: '0,'\n",
      "\u001b[34m\u001b[1mtrain: \u001b[0mWARNING  C:\\Users\\cucum\\Downloads\\COS40007\\week 6\\images\\train_selected_iter_1\\IMG_20180723_145924.jpg: ignoring corrupt image/label: could not convert string to float: '0,'\n",
      "\u001b[34m\u001b[1mtrain: \u001b[0mWARNING  C:\\Users\\cucum\\Downloads\\COS40007\\week 6\\images\\train_selected_iter_1\\IMG_20180723_145937.jpg: ignoring corrupt image/label: could not convert string to float: '0,'\n",
      "\u001b[34m\u001b[1mtrain: \u001b[0mWARNING  C:\\Users\\cucum\\Downloads\\COS40007\\week 6\\images\\train_selected_iter_1\\IMG_20180723_150037.jpg: ignoring corrupt image/label: could not convert string to float: '0,'\n",
      "\u001b[34m\u001b[1mtrain: \u001b[0mWARNING  C:\\Users\\cucum\\Downloads\\COS40007\\week 6\\images\\train_selected_iter_1\\IMG_20180723_150044.jpg: ignoring corrupt image/label: could not convert string to float: '0,'\n",
      "\u001b[34m\u001b[1mtrain: \u001b[0mWARNING  C:\\Users\\cucum\\Downloads\\COS40007\\week 6\\images\\train_selected_iter_1\\IMG_20180723_150054.jpg: ignoring corrupt image/label: could not convert string to float: '0,'\n",
      "\u001b[34m\u001b[1mtrain: \u001b[0mWARNING  C:\\Users\\cucum\\Downloads\\COS40007\\week 6\\images\\train_selected_iter_1\\IMG_20180723_150104.jpg: ignoring corrupt image/label: could not convert string to float: '0,'\n",
      "\u001b[34m\u001b[1mtrain: \u001b[0mWARNING  C:\\Users\\cucum\\Downloads\\COS40007\\week 6\\images\\train_selected_iter_1\\IMG_20180723_150147.jpg: ignoring corrupt image/label: could not convert string to float: '0,'\n",
      "\u001b[34m\u001b[1mtrain: \u001b[0mWARNING  C:\\Users\\cucum\\Downloads\\COS40007\\week 6\\images\\train_selected_iter_1\\IMG_20180723_150532.jpg: ignoring corrupt image/label: could not convert string to float: '0,'\n",
      "\u001b[34m\u001b[1mtrain: \u001b[0mWARNING  C:\\Users\\cucum\\Downloads\\COS40007\\week 6\\images\\train_selected_iter_1\\IMG_20180723_150704.jpg: ignoring corrupt image/label: could not convert string to float: '0,'\n",
      "\u001b[34m\u001b[1mtrain: \u001b[0mWARNING  C:\\Users\\cucum\\Downloads\\COS40007\\week 6\\images\\train_selected_iter_1\\IMG_20180723_150941.jpg: ignoring corrupt image/label: could not convert string to float: '0,'\n",
      "\u001b[34m\u001b[1mtrain: \u001b[0mWARNING  C:\\Users\\cucum\\Downloads\\COS40007\\week 6\\images\\train_selected_iter_1\\IMG_20180723_151021.jpg: ignoring corrupt image/label: could not convert string to float: '0,'\n",
      "\u001b[34m\u001b[1mtrain: \u001b[0mWARNING  C:\\Users\\cucum\\Downloads\\COS40007\\week 6\\images\\train_selected_iter_1\\IMG_20180723_151257.jpg: ignoring corrupt image/label: could not convert string to float: '0,'\n",
      "\u001b[34m\u001b[1mtrain: \u001b[0mWARNING  C:\\Users\\cucum\\Downloads\\COS40007\\week 6\\images\\train_selected_iter_1\\IMG_20180723_151417.jpg: ignoring corrupt image/label: could not convert string to float: '0,'\n",
      "\u001b[34m\u001b[1mtrain: \u001b[0mWARNING  C:\\Users\\cucum\\Downloads\\COS40007\\week 6\\images\\train_selected_iter_1\\IMG_20180723_151429.jpg: ignoring corrupt image/label: could not convert string to float: '0,'\n",
      "\u001b[34m\u001b[1mtrain: \u001b[0mWARNING  C:\\Users\\cucum\\Downloads\\COS40007\\week 6\\images\\train_selected_iter_1\\IMG_20180723_151534.jpg: ignoring corrupt image/label: could not convert string to float: '0,'\n",
      "\u001b[34m\u001b[1mtrain: \u001b[0mWARNING  C:\\Users\\cucum\\Downloads\\COS40007\\week 6\\images\\train_selected_iter_1\\IMG_20180723_151713.jpg: ignoring corrupt image/label: could not convert string to float: '0,'\n",
      "\u001b[34m\u001b[1mtrain: \u001b[0mWARNING  C:\\Users\\cucum\\Downloads\\COS40007\\week 6\\images\\train_selected_iter_1\\IMG_20180723_152110.jpg: ignoring corrupt image/label: could not convert string to float: '0,'\n",
      "\u001b[34m\u001b[1mtrain: \u001b[0mWARNING  C:\\Users\\cucum\\Downloads\\COS40007\\week 6\\images\\train_selected_iter_1\\IMG_20180723_152133.jpg: ignoring corrupt image/label: could not convert string to float: '0,'\n",
      "\u001b[34m\u001b[1mtrain: \u001b[0mWARNING  C:\\Users\\cucum\\Downloads\\COS40007\\week 6\\images\\train_selected_iter_1\\IMG_20180723_152213.jpg: ignoring corrupt image/label: could not convert string to float: '0,'\n",
      "\u001b[34m\u001b[1mtrain: \u001b[0mWARNING  C:\\Users\\cucum\\Downloads\\COS40007\\week 6\\images\\train_selected_iter_1\\IMG_20180723_152231.jpg: ignoring corrupt image/label: could not convert string to float: '0,'\n",
      "\u001b[34m\u001b[1mtrain: \u001b[0mWARNING  C:\\Users\\cucum\\Downloads\\COS40007\\week 6\\images\\train_selected_iter_1\\IMG_20180723_152239.jpg: ignoring corrupt image/label: could not convert string to float: '0,'\n",
      "\u001b[34m\u001b[1mtrain: \u001b[0mWARNING  C:\\Users\\cucum\\Downloads\\COS40007\\week 6\\images\\train_selected_iter_1\\IMG_20180724_120834.jpg: ignoring corrupt image/label: could not convert string to float: '0,'\n",
      "\u001b[34m\u001b[1mtrain: \u001b[0mWARNING  C:\\Users\\cucum\\Downloads\\COS40007\\week 6\\images\\train_selected_iter_1\\IMG_20180724_120903.jpg: ignoring corrupt image/label: could not convert string to float: '0,'\n",
      "\u001b[34m\u001b[1mtrain: \u001b[0mWARNING  C:\\Users\\cucum\\Downloads\\COS40007\\week 6\\images\\train_selected_iter_1\\IMG_20180724_120919.jpg: ignoring corrupt image/label: could not convert string to float: '0,'\n",
      "\u001b[34m\u001b[1mtrain: \u001b[0mWARNING  C:\\Users\\cucum\\Downloads\\COS40007\\week 6\\images\\train_selected_iter_1\\IMG_20180724_120932.jpg: ignoring corrupt image/label: could not convert string to float: '0,'\n",
      "\u001b[34m\u001b[1mtrain: \u001b[0mWARNING  C:\\Users\\cucum\\Downloads\\COS40007\\week 6\\images\\train_selected_iter_1\\IMG_20180724_120959.jpg: ignoring corrupt image/label: could not convert string to float: '0,'\n",
      "\u001b[34m\u001b[1mtrain: \u001b[0mWARNING  C:\\Users\\cucum\\Downloads\\COS40007\\week 6\\images\\train_selected_iter_1\\IMG_20180724_121006.jpg: ignoring corrupt image/label: could not convert string to float: '0,'\n",
      "\u001b[34m\u001b[1mtrain: \u001b[0mWARNING  C:\\Users\\cucum\\Downloads\\COS40007\\week 6\\images\\train_selected_iter_1\\IMG_20180724_121014.jpg: ignoring corrupt image/label: could not convert string to float: '0,'\n",
      "\u001b[34m\u001b[1mtrain: \u001b[0mWARNING  C:\\Users\\cucum\\Downloads\\COS40007\\week 6\\images\\train_selected_iter_1\\IMG_20180724_121017.jpg: ignoring corrupt image/label: could not convert string to float: '0,'\n",
      "\u001b[34m\u001b[1mtrain: \u001b[0mWARNING  C:\\Users\\cucum\\Downloads\\COS40007\\week 6\\images\\train_selected_iter_1\\IMG_20180724_121102.jpg: ignoring corrupt image/label: could not convert string to float: '0,'\n",
      "\u001b[34m\u001b[1mtrain: \u001b[0mWARNING  C:\\Users\\cucum\\Downloads\\COS40007\\week 6\\images\\train_selected_iter_1\\IMG_20180724_121113.jpg: ignoring corrupt image/label: could not convert string to float: '0,'\n",
      "\u001b[34m\u001b[1mtrain: \u001b[0mWARNING  C:\\Users\\cucum\\Downloads\\COS40007\\week 6\\images\\train_selected_iter_1\\IMG_20180724_121149.jpg: ignoring corrupt image/label: could not convert string to float: '0,'\n",
      "\u001b[34m\u001b[1mtrain: \u001b[0mWARNING  C:\\Users\\cucum\\Downloads\\COS40007\\week 6\\images\\train_selected_iter_1\\IMG_20180724_121229.jpg: ignoring corrupt image/label: could not convert string to float: '0,'\n",
      "\u001b[34m\u001b[1mtrain: \u001b[0mWARNING  C:\\Users\\cucum\\Downloads\\COS40007\\week 6\\images\\train_selected_iter_1\\IMG_20180724_121233.jpg: ignoring corrupt image/label: could not convert string to float: '0,'\n",
      "\u001b[34m\u001b[1mtrain: \u001b[0mWARNING  C:\\Users\\cucum\\Downloads\\COS40007\\week 6\\images\\train_selected_iter_1\\IMG_20180724_121315.jpg: ignoring corrupt image/label: could not convert string to float: '0,'\n",
      "\u001b[34m\u001b[1mtrain: \u001b[0mWARNING  C:\\Users\\cucum\\Downloads\\COS40007\\week 6\\images\\train_selected_iter_1\\IMG_20180724_121334.jpg: ignoring corrupt image/label: could not convert string to float: '0,'\n",
      "\u001b[34m\u001b[1mtrain: \u001b[0mWARNING  C:\\Users\\cucum\\Downloads\\COS40007\\week 6\\images\\train_selected_iter_1\\IMG_20180724_121340.jpg: ignoring corrupt image/label: could not convert string to float: '0,'\n",
      "\u001b[34m\u001b[1mtrain: \u001b[0mWARNING  C:\\Users\\cucum\\Downloads\\COS40007\\week 6\\images\\train_selected_iter_1\\IMG_20180724_121345.jpg: ignoring corrupt image/label: could not convert string to float: '0,'\n",
      "\u001b[34m\u001b[1mtrain: \u001b[0mWARNING  C:\\Users\\cucum\\Downloads\\COS40007\\week 6\\images\\train_selected_iter_1\\IMG_20180724_121351.jpg: ignoring corrupt image/label: could not convert string to float: '0,'\n",
      "\u001b[34m\u001b[1mtrain: \u001b[0mWARNING  C:\\Users\\cucum\\Downloads\\COS40007\\week 6\\images\\train_selected_iter_1\\IMG_20180724_121432.jpg: ignoring corrupt image/label: could not convert string to float: '0,'\n",
      "\u001b[34m\u001b[1mtrain: \u001b[0mWARNING  C:\\Users\\cucum\\Downloads\\COS40007\\week 6\\images\\train_selected_iter_1\\IMG_20180724_121502.jpg: ignoring corrupt image/label: could not convert string to float: '0,'\n",
      "\u001b[34m\u001b[1mtrain: \u001b[0mWARNING  C:\\Users\\cucum\\Downloads\\COS40007\\week 6\\images\\train_selected_iter_1\\IMG_20180724_121553.jpg: ignoring corrupt image/label: could not convert string to float: '0,'\n",
      "\u001b[34m\u001b[1mtrain: \u001b[0mWARNING  C:\\Users\\cucum\\Downloads\\COS40007\\week 6\\images\\train_selected_iter_1\\IMG_20180724_121606.jpg: ignoring corrupt image/label: could not convert string to float: '0,'\n",
      "\u001b[34m\u001b[1mtrain: \u001b[0mWARNING  C:\\Users\\cucum\\Downloads\\COS40007\\week 6\\images\\train_selected_iter_1\\IMG_20180724_121614.jpg: ignoring corrupt image/label: could not convert string to float: '0,'\n",
      "\u001b[34m\u001b[1mtrain: \u001b[0mWARNING  C:\\Users\\cucum\\Downloads\\COS40007\\week 6\\images\\train_selected_iter_1\\IMG_20180724_121629.jpg: ignoring corrupt image/label: could not convert string to float: '0,'\n",
      "\u001b[34m\u001b[1mtrain: \u001b[0mWARNING  C:\\Users\\cucum\\Downloads\\COS40007\\week 6\\images\\train_selected_iter_1\\IMG_20180724_121657.jpg: ignoring corrupt image/label: could not convert string to float: '0,'\n",
      "\u001b[34m\u001b[1mtrain: \u001b[0mWARNING  C:\\Users\\cucum\\Downloads\\COS40007\\week 6\\images\\train_selected_iter_1\\IMG_20180724_121704.jpg: ignoring corrupt image/label: could not convert string to float: '0,'\n",
      "\u001b[34m\u001b[1mtrain: \u001b[0mWARNING  C:\\Users\\cucum\\Downloads\\COS40007\\week 6\\images\\train_selected_iter_1\\IMG_20180724_121759.jpg: ignoring corrupt image/label: could not convert string to float: '0,'\n",
      "\u001b[34m\u001b[1mtrain: \u001b[0mWARNING  C:\\Users\\cucum\\Downloads\\COS40007\\week 6\\images\\train_selected_iter_1\\IMG_20180724_121819.jpg: ignoring corrupt image/label: could not convert string to float: '0,'\n",
      "\u001b[34m\u001b[1mtrain: \u001b[0mWARNING  C:\\Users\\cucum\\Downloads\\COS40007\\week 6\\images\\train_selected_iter_1\\IMG_20180724_121853.jpg: ignoring corrupt image/label: could not convert string to float: '0,'\n",
      "\u001b[34m\u001b[1mtrain: \u001b[0mWARNING  C:\\Users\\cucum\\Downloads\\COS40007\\week 6\\images\\train_selected_iter_1\\IMG_20180724_121905.jpg: ignoring corrupt image/label: could not convert string to float: '0,'\n",
      "\u001b[34m\u001b[1mtrain: \u001b[0mWARNING  C:\\Users\\cucum\\Downloads\\COS40007\\week 6\\images\\train_selected_iter_1\\IMG_20180724_121910.jpg: ignoring corrupt image/label: could not convert string to float: '0,'\n",
      "\u001b[34m\u001b[1mtrain: \u001b[0mWARNING  C:\\Users\\cucum\\Downloads\\COS40007\\week 6\\images\\train_selected_iter_1\\IMG_20180724_121936.jpg: ignoring corrupt image/label: could not convert string to float: '0,'\n",
      "\u001b[34m\u001b[1mtrain: \u001b[0mWARNING  C:\\Users\\cucum\\Downloads\\COS40007\\week 6\\images\\train_selected_iter_1\\IMG_20180724_122017.jpg: ignoring corrupt image/label: could not convert string to float: '0,'\n",
      "\u001b[34m\u001b[1mtrain: \u001b[0mWARNING  C:\\Users\\cucum\\Downloads\\COS40007\\week 6\\images\\train_selected_iter_1\\IMG_20180724_122123.jpg: ignoring corrupt image/label: could not convert string to float: '0,'\n",
      "\u001b[34m\u001b[1mtrain: \u001b[0mWARNING  C:\\Users\\cucum\\Downloads\\COS40007\\week 6\\images\\train_selected_iter_1\\IMG_20180724_122133.jpg: ignoring corrupt image/label: could not convert string to float: '0,'\n",
      "\u001b[34m\u001b[1mtrain: \u001b[0mWARNING  C:\\Users\\cucum\\Downloads\\COS40007\\week 6\\images\\train_selected_iter_1\\IMG_20180724_122143.jpg: ignoring corrupt image/label: could not convert string to float: '0,'\n",
      "\u001b[34m\u001b[1mtrain: \u001b[0mWARNING  C:\\Users\\cucum\\Downloads\\COS40007\\week 6\\images\\train_selected_iter_1\\IMG_20180724_122241.jpg: ignoring corrupt image/label: could not convert string to float: '0,'\n",
      "\u001b[34m\u001b[1mtrain: \u001b[0mWARNING  C:\\Users\\cucum\\Downloads\\COS40007\\week 6\\images\\train_selected_iter_1\\IMG_20180724_122314.jpg: ignoring corrupt image/label: could not convert string to float: '0,'\n",
      "\u001b[34m\u001b[1mtrain: \u001b[0mWARNING  C:\\Users\\cucum\\Downloads\\COS40007\\week 6\\images\\train_selected_iter_1\\IMG_20180724_122327.jpg: ignoring corrupt image/label: could not convert string to float: '0,'\n",
      "\u001b[34m\u001b[1mtrain: \u001b[0mWARNING  C:\\Users\\cucum\\Downloads\\COS40007\\week 6\\images\\train_selected_iter_1\\IMG_20180724_122345.jpg: ignoring corrupt image/label: could not convert string to float: '0,'\n",
      "\u001b[34m\u001b[1mtrain: \u001b[0mWARNING  C:\\Users\\cucum\\Downloads\\COS40007\\week 6\\images\\train_selected_iter_1\\IMG_20180724_122419.jpg: ignoring corrupt image/label: could not convert string to float: '0,'\n",
      "\u001b[34m\u001b[1mtrain: \u001b[0mWARNING  C:\\Users\\cucum\\Downloads\\COS40007\\week 6\\images\\train_selected_iter_1\\IMG_20180724_122440.jpg: ignoring corrupt image/label: could not convert string to float: '0,'\n",
      "\u001b[34m\u001b[1mtrain: \u001b[0mWARNING  C:\\Users\\cucum\\Downloads\\COS40007\\week 6\\images\\train_selected_iter_1\\IMG_20180724_122446.jpg: ignoring corrupt image/label: could not convert string to float: '0,'\n",
      "\u001b[34m\u001b[1mtrain: \u001b[0mWARNING  C:\\Users\\cucum\\Downloads\\COS40007\\week 6\\images\\train_selected_iter_1\\IMG_20180724_122509.jpg: ignoring corrupt image/label: could not convert string to float: '0,'\n",
      "\u001b[34m\u001b[1mtrain: \u001b[0mWARNING  C:\\Users\\cucum\\Downloads\\COS40007\\week 6\\images\\train_selected_iter_1\\IMG_20180724_122513.jpg: ignoring corrupt image/label: could not convert string to float: '0,'\n",
      "\u001b[34m\u001b[1mtrain: \u001b[0mWARNING  C:\\Users\\cucum\\Downloads\\COS40007\\week 6\\images\\train_selected_iter_1\\IMG_20180724_122534.jpg: ignoring corrupt image/label: could not convert string to float: '0,'\n",
      "\u001b[34m\u001b[1mtrain: \u001b[0mWARNING  C:\\Users\\cucum\\Downloads\\COS40007\\week 6\\images\\train_selected_iter_1\\IMG_20180724_122546.jpg: ignoring corrupt image/label: could not convert string to float: '0,'\n",
      "\u001b[34m\u001b[1mtrain: \u001b[0mWARNING  C:\\Users\\cucum\\Downloads\\COS40007\\week 6\\images\\train_selected_iter_1\\IMG_20180724_122601.jpg: ignoring corrupt image/label: could not convert string to float: '0,'\n",
      "\u001b[34m\u001b[1mtrain: \u001b[0mWARNING  C:\\Users\\cucum\\Downloads\\COS40007\\week 6\\images\\train_selected_iter_1\\IMG_20180724_122638.jpg: ignoring corrupt image/label: could not convert string to float: '0,'\n",
      "\u001b[34m\u001b[1mtrain: \u001b[0mWARNING  C:\\Users\\cucum\\Downloads\\COS40007\\week 6\\images\\train_selected_iter_1\\IMG_20180724_122650.jpg: ignoring corrupt image/label: could not convert string to float: '0,'\n",
      "\u001b[34m\u001b[1mtrain: \u001b[0mWARNING  C:\\Users\\cucum\\Downloads\\COS40007\\week 6\\images\\train_selected_iter_1\\IMG_20180724_122659.jpg: ignoring corrupt image/label: could not convert string to float: '0,'\n",
      "\u001b[34m\u001b[1mtrain: \u001b[0mWARNING  C:\\Users\\cucum\\Downloads\\COS40007\\week 6\\images\\train_selected_iter_1\\IMG_20180724_122823.jpg: ignoring corrupt image/label: could not convert string to float: '0,'\n",
      "\u001b[34m\u001b[1mtrain: \u001b[0mWARNING  C:\\Users\\cucum\\Downloads\\COS40007\\week 6\\images\\train_selected_iter_1\\IMG_20180724_122831.jpg: ignoring corrupt image/label: could not convert string to float: '0,'\n",
      "\u001b[34m\u001b[1mtrain: \u001b[0mWARNING  C:\\Users\\cucum\\Downloads\\COS40007\\week 6\\images\\train_selected_iter_1\\IMG_20180724_122840.jpg: ignoring corrupt image/label: could not convert string to float: '0,'\n",
      "\u001b[34m\u001b[1mtrain: \u001b[0mWARNING  C:\\Users\\cucum\\Downloads\\COS40007\\week 6\\images\\train_selected_iter_1\\IMG_20180724_123557.jpg: ignoring corrupt image/label: could not convert string to float: '0,'\n",
      "\u001b[34m\u001b[1mtrain: \u001b[0mWARNING  C:\\Users\\cucum\\Downloads\\COS40007\\week 6\\images\\train_selected_iter_1\\IMG_20180724_123610.jpg: ignoring corrupt image/label: could not convert string to float: '0,'\n",
      "\u001b[34m\u001b[1mtrain: \u001b[0mWARNING  C:\\Users\\cucum\\Downloads\\COS40007\\week 6\\images\\train_selected_iter_1\\IMG_20180724_123619.jpg: ignoring corrupt image/label: could not convert string to float: '0,'\n",
      "\u001b[34m\u001b[1mtrain: \u001b[0mWARNING  C:\\Users\\cucum\\Downloads\\COS40007\\week 6\\images\\train_selected_iter_1\\IMG_20180724_123638.jpg: ignoring corrupt image/label: could not convert string to float: '0,'\n",
      "\u001b[34m\u001b[1mtrain: \u001b[0mWARNING  C:\\Users\\cucum\\Downloads\\COS40007\\week 6\\images\\train_selected_iter_1\\IMG_20180724_123653.jpg: ignoring corrupt image/label: could not convert string to float: '0,'\n",
      "\u001b[34m\u001b[1mtrain: \u001b[0mWARNING  C:\\Users\\cucum\\Downloads\\COS40007\\week 6\\images\\train_selected_iter_1\\IMG_20180724_123702.jpg: ignoring corrupt image/label: could not convert string to float: '0,'\n",
      "\u001b[34m\u001b[1mtrain: \u001b[0mWARNING  C:\\Users\\cucum\\Downloads\\COS40007\\week 6\\images\\train_selected_iter_1\\IMG_20180724_123708.jpg: ignoring corrupt image/label: could not convert string to float: '0,'\n",
      "\u001b[34m\u001b[1mtrain: \u001b[0mWARNING  C:\\Users\\cucum\\Downloads\\COS40007\\week 6\\images\\train_selected_iter_1\\IMG_20180724_123723.jpg: ignoring corrupt image/label: could not convert string to float: '0,'\n",
      "\u001b[34m\u001b[1mtrain: \u001b[0mWARNING  C:\\Users\\cucum\\Downloads\\COS40007\\week 6\\images\\train_selected_iter_1\\IMG_20180724_123757.jpg: ignoring corrupt image/label: could not convert string to float: '0,'\n",
      "\u001b[34m\u001b[1mtrain: \u001b[0mWARNING  C:\\Users\\cucum\\Downloads\\COS40007\\week 6\\images\\train_selected_iter_1\\IMG_20180724_123818.jpg: ignoring corrupt image/label: could not convert string to float: '0,'\n",
      "\u001b[34m\u001b[1mtrain: \u001b[0mWARNING  C:\\Users\\cucum\\Downloads\\COS40007\\week 6\\images\\train_selected_iter_1\\IMG_20180724_123829.jpg: ignoring corrupt image/label: could not convert string to float: '0,'\n",
      "\u001b[34m\u001b[1mtrain: \u001b[0mWARNING  C:\\Users\\cucum\\Downloads\\COS40007\\week 6\\images\\train_selected_iter_1\\IMG_20180724_123908.jpg: ignoring corrupt image/label: could not convert string to float: '0,'\n",
      "\u001b[34m\u001b[1mtrain: \u001b[0mWARNING  C:\\Users\\cucum\\Downloads\\COS40007\\week 6\\images\\train_selected_iter_1\\IMG_20180724_124135.jpg: ignoring corrupt image/label: could not convert string to float: '0,'\n",
      "\u001b[34m\u001b[1mtrain: \u001b[0mWARNING  C:\\Users\\cucum\\Downloads\\COS40007\\week 6\\images\\train_selected_iter_1\\IMG_20180724_124150.jpg: ignoring corrupt image/label: could not convert string to float: '0,'\n",
      "\u001b[34m\u001b[1mtrain: \u001b[0mWARNING  C:\\Users\\cucum\\Downloads\\COS40007\\week 6\\images\\train_selected_iter_1\\IMG_20180724_124210.jpg: ignoring corrupt image/label: could not convert string to float: '0,'\n",
      "\u001b[34m\u001b[1mtrain: \u001b[0mWARNING  C:\\Users\\cucum\\Downloads\\COS40007\\week 6\\images\\train_selected_iter_1\\IMG_20180724_124239.jpg: ignoring corrupt image/label: could not convert string to float: '0,'\n",
      "\u001b[34m\u001b[1mtrain: \u001b[0mWARNING  C:\\Users\\cucum\\Downloads\\COS40007\\week 6\\images\\train_selected_iter_1\\IMG_20180724_124332.jpg: ignoring corrupt image/label: could not convert string to float: '0,'\n",
      "\u001b[34m\u001b[1mtrain: \u001b[0mWARNING  C:\\Users\\cucum\\Downloads\\COS40007\\week 6\\images\\train_selected_iter_1\\IMG_20180724_124339.jpg: ignoring corrupt image/label: could not convert string to float: '0,'\n",
      "\u001b[34m\u001b[1mtrain: \u001b[0mWARNING  C:\\Users\\cucum\\Downloads\\COS40007\\week 6\\images\\train_selected_iter_1\\IMG_20180724_124414.jpg: ignoring corrupt image/label: could not convert string to float: '0,'\n",
      "\u001b[34m\u001b[1mtrain: \u001b[0mWARNING  C:\\Users\\cucum\\Downloads\\COS40007\\week 6\\images\\train_selected_iter_1\\IMG_20180724_124508.jpg: ignoring corrupt image/label: could not convert string to float: '0,'\n",
      "\u001b[34m\u001b[1mtrain: \u001b[0mWARNING  C:\\Users\\cucum\\Downloads\\COS40007\\week 6\\images\\train_selected_iter_1\\IMG_20180724_124521.jpg: ignoring corrupt image/label: could not convert string to float: '0,'\n",
      "\u001b[34m\u001b[1mtrain: \u001b[0mWARNING  C:\\Users\\cucum\\Downloads\\COS40007\\week 6\\images\\train_selected_iter_1\\IMG_20180724_124526.jpg: ignoring corrupt image/label: could not convert string to float: '0,'\n",
      "\u001b[34m\u001b[1mtrain: \u001b[0mWARNING  C:\\Users\\cucum\\Downloads\\COS40007\\week 6\\images\\train_selected_iter_1\\IMG_20180724_124532.jpg: ignoring corrupt image/label: could not convert string to float: '0,'\n",
      "\u001b[34m\u001b[1mtrain: \u001b[0mWARNING  C:\\Users\\cucum\\Downloads\\COS40007\\week 6\\images\\train_selected_iter_1\\IMG_20180724_124548.jpg: ignoring corrupt image/label: could not convert string to float: '0,'\n",
      "\u001b[34m\u001b[1mtrain: \u001b[0mWARNING  C:\\Users\\cucum\\Downloads\\COS40007\\week 6\\images\\train_selected_iter_1\\IMG_20180724_124557.jpg: ignoring corrupt image/label: could not convert string to float: '0,'\n",
      "\u001b[34m\u001b[1mtrain: \u001b[0mWARNING  C:\\Users\\cucum\\Downloads\\COS40007\\week 6\\images\\train_selected_iter_1\\IMG_20180724_124612.jpg: ignoring corrupt image/label: could not convert string to float: '0,'\n",
      "\u001b[34m\u001b[1mtrain: \u001b[0mWARNING  C:\\Users\\cucum\\Downloads\\COS40007\\week 6\\images\\train_selected_iter_1\\IMG_20180724_124738.jpg: ignoring corrupt image/label: could not convert string to float: '0,'\n",
      "\u001b[34m\u001b[1mtrain: \u001b[0mWARNING  C:\\Users\\cucum\\Downloads\\COS40007\\week 6\\images\\train_selected_iter_1\\IMG_20180724_124810.jpg: ignoring corrupt image/label: could not convert string to float: '0,'\n",
      "\u001b[34m\u001b[1mtrain: \u001b[0mWARNING  C:\\Users\\cucum\\Downloads\\COS40007\\week 6\\images\\train_selected_iter_1\\IMG_20180724_124820.jpg: ignoring corrupt image/label: could not convert string to float: '0,'\n",
      "\u001b[34m\u001b[1mtrain: \u001b[0mWARNING  C:\\Users\\cucum\\Downloads\\COS40007\\week 6\\images\\train_selected_iter_1\\IMG_20180724_124833.jpg: ignoring corrupt image/label: could not convert string to float: '0,'\n",
      "\u001b[34m\u001b[1mtrain: \u001b[0mWARNING  C:\\Users\\cucum\\Downloads\\COS40007\\week 6\\images\\train_selected_iter_1\\IMG_20180724_124918.jpg: ignoring corrupt image/label: could not convert string to float: '0,'\n",
      "\u001b[34m\u001b[1mtrain: \u001b[0mWARNING  C:\\Users\\cucum\\Downloads\\COS40007\\week 6\\images\\train_selected_iter_1\\IMG_20180724_124946.jpg: ignoring corrupt image/label: could not convert string to float: '0,'\n",
      "\u001b[34m\u001b[1mtrain: \u001b[0mWARNING  C:\\Users\\cucum\\Downloads\\COS40007\\week 6\\images\\train_selected_iter_1\\IMG_20180724_125152.jpg: ignoring corrupt image/label: could not convert string to float: '0,'\n",
      "\u001b[34m\u001b[1mtrain: \u001b[0mWARNING  C:\\Users\\cucum\\Downloads\\COS40007\\week 6\\images\\train_selected_iter_1\\IMG_20180724_125258.jpg: ignoring corrupt image/label: could not convert string to float: '0,'\n",
      "\u001b[34m\u001b[1mtrain: \u001b[0mWARNING  C:\\Users\\cucum\\Downloads\\COS40007\\week 6\\images\\train_selected_iter_1\\IMG_20180724_125339.jpg: ignoring corrupt image/label: could not convert string to float: '0,'\n",
      "\u001b[34m\u001b[1mtrain: \u001b[0mWARNING  C:\\Users\\cucum\\Downloads\\COS40007\\week 6\\images\\train_selected_iter_1\\IMG_20180724_125919.jpg: ignoring corrupt image/label: could not convert string to float: '0,'\n",
      "\u001b[34m\u001b[1mtrain: \u001b[0mWARNING  C:\\Users\\cucum\\Downloads\\COS40007\\week 6\\images\\train_selected_iter_1\\IMG_20180724_130053.jpg: ignoring corrupt image/label: could not convert string to float: '0,'\n",
      "\u001b[34m\u001b[1mtrain: \u001b[0mWARNING  C:\\Users\\cucum\\Downloads\\COS40007\\week 6\\images\\train_selected_iter_1\\IMG_20180724_145832.jpg: ignoring corrupt image/label: could not convert string to float: '0,'\n",
      "\u001b[34m\u001b[1mtrain: \u001b[0mWARNING  C:\\Users\\cucum\\Downloads\\COS40007\\week 6\\images\\train_selected_iter_1\\IMG_20180724_150602.jpg: ignoring corrupt image/label: could not convert string to float: '0,'\n",
      "\u001b[34m\u001b[1mtrain: \u001b[0mWARNING  C:\\Users\\cucum\\Downloads\\COS40007\\week 6\\images\\train_selected_iter_1\\IMG_20180724_150626.jpg: ignoring corrupt image/label: could not convert string to float: '0,'\n",
      "\u001b[34m\u001b[1mtrain: \u001b[0mWARNING  C:\\Users\\cucum\\Downloads\\COS40007\\week 6\\images\\train_selected_iter_1\\IMG_20180724_150828.jpg: ignoring corrupt image/label: could not convert string to float: '0,'\n",
      "\u001b[34m\u001b[1mtrain: \u001b[0mWARNING  C:\\Users\\cucum\\Downloads\\COS40007\\week 6\\images\\train_selected_iter_1\\IMG_20180724_150952.jpg: ignoring corrupt image/label: could not convert string to float: '0,'\n",
      "\u001b[34m\u001b[1mtrain: \u001b[0mWARNING  C:\\Users\\cucum\\Downloads\\COS40007\\week 6\\images\\train_selected_iter_1\\IMG_20180724_151727.jpg: ignoring corrupt image/label: could not convert string to float: '0,'\n",
      "\u001b[34m\u001b[1mtrain: \u001b[0mWARNING  C:\\Users\\cucum\\Downloads\\COS40007\\week 6\\images\\train_selected_iter_1\\IMG_20180725_113905.jpg: ignoring corrupt image/label: could not convert string to float: '0,'\n",
      "\u001b[34m\u001b[1mtrain: \u001b[0mWARNING  C:\\Users\\cucum\\Downloads\\COS40007\\week 6\\images\\train_selected_iter_1\\IMG_20180725_113912.jpg: ignoring corrupt image/label: could not convert string to float: '0,'\n",
      "\u001b[34m\u001b[1mtrain: \u001b[0mWARNING  C:\\Users\\cucum\\Downloads\\COS40007\\week 6\\images\\train_selected_iter_1\\IMG_20180725_114019.jpg: ignoring corrupt image/label: could not convert string to float: '0,'\n",
      "\u001b[34m\u001b[1mtrain: \u001b[0mWARNING  C:\\Users\\cucum\\Downloads\\COS40007\\week 6\\images\\train_selected_iter_1\\IMG_20180725_114025.jpg: ignoring corrupt image/label: could not convert string to float: '0,'\n",
      "\u001b[34m\u001b[1mtrain: \u001b[0mWARNING  C:\\Users\\cucum\\Downloads\\COS40007\\week 6\\images\\train_selected_iter_1\\IMG_20180725_114159.jpg: ignoring corrupt image/label: could not convert string to float: '0,'\n",
      "\u001b[34m\u001b[1mtrain: \u001b[0mWARNING  C:\\Users\\cucum\\Downloads\\COS40007\\week 6\\images\\train_selected_iter_1\\IMG_20180725_114228.jpg: ignoring corrupt image/label: could not convert string to float: '0,'\n",
      "\u001b[34m\u001b[1mtrain: \u001b[0mWARNING  C:\\Users\\cucum\\Downloads\\COS40007\\week 6\\images\\train_selected_iter_1\\IMG_20180725_114316.jpg: ignoring corrupt image/label: could not convert string to float: '0,'\n",
      "\u001b[34m\u001b[1mtrain: \u001b[0mWARNING  C:\\Users\\cucum\\Downloads\\COS40007\\week 6\\images\\train_selected_iter_1\\IMG_20180725_114413.jpg: ignoring corrupt image/label: could not convert string to float: '0,'\n",
      "\u001b[34m\u001b[1mtrain: \u001b[0mWARNING  C:\\Users\\cucum\\Downloads\\COS40007\\week 6\\images\\train_selected_iter_1\\IMG_20180725_114748.jpg: ignoring corrupt image/label: could not convert string to float: '0,'\n",
      "\u001b[34m\u001b[1mtrain: \u001b[0mWARNING  C:\\Users\\cucum\\Downloads\\COS40007\\week 6\\images\\train_selected_iter_1\\IMG_20180725_114849.jpg: ignoring corrupt image/label: could not convert string to float: '0,'\n",
      "\u001b[34m\u001b[1mtrain: \u001b[0mWARNING  C:\\Users\\cucum\\Downloads\\COS40007\\week 6\\images\\train_selected_iter_1\\IMG_20180725_114909.jpg: ignoring corrupt image/label: could not convert string to float: '0,'\n",
      "\u001b[34m\u001b[1mtrain: \u001b[0mWARNING  C:\\Users\\cucum\\Downloads\\COS40007\\week 6\\images\\train_selected_iter_1\\IMG_20180725_115024.jpg: ignoring corrupt image/label: could not convert string to float: '0,'\n",
      "\u001b[34m\u001b[1mtrain: \u001b[0mWARNING  C:\\Users\\cucum\\Downloads\\COS40007\\week 6\\images\\train_selected_iter_1\\IMG_20180725_115227.jpg: ignoring corrupt image/label: could not convert string to float: '0,'\n",
      "\u001b[34m\u001b[1mtrain: \u001b[0mWARNING  C:\\Users\\cucum\\Downloads\\COS40007\\week 6\\images\\train_selected_iter_1\\IMG_20180725_115234.jpg: ignoring corrupt image/label: could not convert string to float: '0,'\n",
      "\u001b[34m\u001b[1mtrain: \u001b[0mWARNING  C:\\Users\\cucum\\Downloads\\COS40007\\week 6\\images\\train_selected_iter_1\\IMG_20180725_115651.jpg: ignoring corrupt image/label: could not convert string to float: '0,'\n",
      "\u001b[34m\u001b[1mtrain: \u001b[0mWARNING  C:\\Users\\cucum\\Downloads\\COS40007\\week 6\\images\\train_selected_iter_1\\IMG_20180725_120120.jpg: ignoring corrupt image/label: could not convert string to float: '0,'\n",
      "\u001b[34m\u001b[1mtrain: \u001b[0mWARNING  C:\\Users\\cucum\\Downloads\\COS40007\\week 6\\images\\train_selected_iter_1\\IMG_20180725_120256.jpg: ignoring corrupt image/label: could not convert string to float: '0,'\n",
      "\u001b[34m\u001b[1mtrain: \u001b[0mWARNING  C:\\Users\\cucum\\Downloads\\COS40007\\week 6\\images\\train_selected_iter_1\\IMG_20180725_120313.jpg: ignoring corrupt image/label: could not convert string to float: '0,'\n",
      "\u001b[34m\u001b[1mtrain: \u001b[0mWARNING  C:\\Users\\cucum\\Downloads\\COS40007\\week 6\\images\\train_selected_iter_1\\IMG_20180725_120349.jpg: ignoring corrupt image/label: could not convert string to float: '0,'\n",
      "\u001b[34m\u001b[1mtrain: \u001b[0mWARNING  C:\\Users\\cucum\\Downloads\\COS40007\\week 6\\images\\train_selected_iter_1\\IMG_20180725_120716.jpg: ignoring corrupt image/label: could not convert string to float: '0,'\n",
      "\u001b[34m\u001b[1mtrain: \u001b[0mWARNING  C:\\Users\\cucum\\Downloads\\COS40007\\week 6\\images\\train_selected_iter_1\\IMG_20180725_120722.jpg: ignoring corrupt image/label: could not convert string to float: '0,'\n",
      "\u001b[34m\u001b[1mtrain: \u001b[0mWARNING  C:\\Users\\cucum\\Downloads\\COS40007\\week 6\\images\\train_selected_iter_1\\IMG_20180725_121211.jpg: ignoring corrupt image/label: could not convert string to float: '0,'\n",
      "\u001b[34m\u001b[1mtrain: \u001b[0mWARNING  C:\\Users\\cucum\\Downloads\\COS40007\\week 6\\images\\train_selected_iter_1\\IMG_20180725_121222.jpg: ignoring corrupt image/label: could not convert string to float: '0,'\n",
      "\u001b[34m\u001b[1mtrain: \u001b[0mWARNING  C:\\Users\\cucum\\Downloads\\COS40007\\week 6\\images\\train_selected_iter_1\\IMG_20180725_121228.jpg: ignoring corrupt image/label: could not convert string to float: '0,'\n",
      "\u001b[34m\u001b[1mtrain: \u001b[0mWARNING  C:\\Users\\cucum\\Downloads\\COS40007\\week 6\\images\\train_selected_iter_1\\IMG_20180725_121240.jpg: ignoring corrupt image/label: could not convert string to float: '0,'\n",
      "\u001b[34m\u001b[1mtrain: \u001b[0mWARNING  C:\\Users\\cucum\\Downloads\\COS40007\\week 6\\images\\train_selected_iter_1\\IMG_20180725_121324.jpg: ignoring corrupt image/label: could not convert string to float: '0,'\n",
      "\u001b[34m\u001b[1mtrain: \u001b[0mWARNING  C:\\Users\\cucum\\Downloads\\COS40007\\week 6\\images\\train_selected_iter_1\\IMG_20180725_121400.jpg: ignoring corrupt image/label: could not convert string to float: '0,'\n",
      "\u001b[34m\u001b[1mtrain: \u001b[0mWARNING  C:\\Users\\cucum\\Downloads\\COS40007\\week 6\\images\\train_selected_iter_1\\IMG_20180725_121405.jpg: ignoring corrupt image/label: could not convert string to float: '0,'\n",
      "\u001b[34m\u001b[1mtrain: \u001b[0mWARNING  C:\\Users\\cucum\\Downloads\\COS40007\\week 6\\images\\train_selected_iter_1\\IMG_20180725_121519.jpg: ignoring corrupt image/label: could not convert string to float: '0,'\n",
      "\u001b[34m\u001b[1mtrain: \u001b[0mWARNING  C:\\Users\\cucum\\Downloads\\COS40007\\week 6\\images\\train_selected_iter_1\\IMG_20180725_121700.jpg: ignoring corrupt image/label: could not convert string to float: '0,'\n",
      "\u001b[34m\u001b[1mtrain: \u001b[0mWARNING  C:\\Users\\cucum\\Downloads\\COS40007\\week 6\\images\\train_selected_iter_1\\IMG_20180725_121811.jpg: ignoring corrupt image/label: could not convert string to float: '0,'\n",
      "\u001b[34m\u001b[1mtrain: \u001b[0mWARNING  C:\\Users\\cucum\\Downloads\\COS40007\\week 6\\images\\train_selected_iter_1\\IMG_20180725_121845.jpg: ignoring corrupt image/label: could not convert string to float: '0,'\n",
      "\u001b[34m\u001b[1mtrain: \u001b[0mWARNING  C:\\Users\\cucum\\Downloads\\COS40007\\week 6\\images\\train_selected_iter_1\\IMG_20180725_121925.jpg: ignoring corrupt image/label: could not convert string to float: '0,'\n",
      "\u001b[34m\u001b[1mtrain: \u001b[0mWARNING  C:\\Users\\cucum\\Downloads\\COS40007\\week 6\\images\\train_selected_iter_1\\IMG_20180725_121946.jpg: ignoring corrupt image/label: could not convert string to float: '0,'\n",
      "\u001b[34m\u001b[1mtrain: \u001b[0mWARNING  C:\\Users\\cucum\\Downloads\\COS40007\\week 6\\images\\train_selected_iter_1\\IMG_20180725_121952.jpg: ignoring corrupt image/label: could not convert string to float: '0,'\n",
      "\u001b[34m\u001b[1mtrain: \u001b[0mWARNING  C:\\Users\\cucum\\Downloads\\COS40007\\week 6\\images\\train_selected_iter_1\\IMG_20180725_122025.jpg: ignoring corrupt image/label: could not convert string to float: '0,'\n",
      "\u001b[34m\u001b[1mtrain: \u001b[0mWARNING  C:\\Users\\cucum\\Downloads\\COS40007\\week 6\\images\\train_selected_iter_1\\IMG_20180725_122102.jpg: ignoring corrupt image/label: could not convert string to float: '0,'\n",
      "\u001b[34m\u001b[1mtrain: \u001b[0mWARNING  C:\\Users\\cucum\\Downloads\\COS40007\\week 6\\images\\train_selected_iter_1\\IMG_20180725_122106.jpg: ignoring corrupt image/label: could not convert string to float: '0,'\n",
      "\u001b[34m\u001b[1mtrain: \u001b[0mWARNING  C:\\Users\\cucum\\Downloads\\COS40007\\week 6\\images\\train_selected_iter_1\\IMG_20180725_122345.jpg: ignoring corrupt image/label: could not convert string to float: '0,'\n",
      "\u001b[34m\u001b[1mtrain: \u001b[0mWARNING  C:\\Users\\cucum\\Downloads\\COS40007\\week 6\\images\\train_selected_iter_1\\IMG_20180725_122605.jpg: ignoring corrupt image/label: could not convert string to float: '0,'\n",
      "\u001b[34m\u001b[1mtrain: \u001b[0mWARNING  C:\\Users\\cucum\\Downloads\\COS40007\\week 6\\images\\train_selected_iter_1\\IMG_20180725_122754.jpg: ignoring corrupt image/label: could not convert string to float: '0,'\n",
      "\u001b[34m\u001b[1mtrain: \u001b[0mWARNING  C:\\Users\\cucum\\Downloads\\COS40007\\week 6\\images\\train_selected_iter_1\\IMG_20180726_122206.jpg: ignoring corrupt image/label: could not convert string to float: '0,'\n",
      "\u001b[34m\u001b[1mtrain: \u001b[0mWARNING  C:\\Users\\cucum\\Downloads\\COS40007\\week 6\\images\\train_selected_iter_1\\IMG_20180726_122215.jpg: ignoring corrupt image/label: could not convert string to float: '0,'\n",
      "\u001b[34m\u001b[1mtrain: \u001b[0mWARNING  C:\\Users\\cucum\\Downloads\\COS40007\\week 6\\images\\train_selected_iter_1\\IMG_20180726_122238.jpg: ignoring corrupt image/label: could not convert string to float: '0,'\n",
      "\u001b[34m\u001b[1mtrain: \u001b[0mWARNING  C:\\Users\\cucum\\Downloads\\COS40007\\week 6\\images\\train_selected_iter_1\\IMG_20180726_122306.jpg: ignoring corrupt image/label: could not convert string to float: '0,'\n",
      "\u001b[34m\u001b[1mtrain: \u001b[0mWARNING  C:\\Users\\cucum\\Downloads\\COS40007\\week 6\\images\\train_selected_iter_1\\IMG_20180726_122322.jpg: ignoring corrupt image/label: could not convert string to float: '0,'\n",
      "\u001b[34m\u001b[1mtrain: \u001b[0mWARNING  C:\\Users\\cucum\\Downloads\\COS40007\\week 6\\images\\train_selected_iter_1\\IMG_20180726_122332.jpg: ignoring corrupt image/label: could not convert string to float: '0,'\n",
      "\u001b[34m\u001b[1mtrain: \u001b[0mWARNING  C:\\Users\\cucum\\Downloads\\COS40007\\week 6\\images\\train_selected_iter_1\\IMG_20180726_122342.jpg: ignoring corrupt image/label: could not convert string to float: '0,'\n",
      "\u001b[34m\u001b[1mtrain: \u001b[0mWARNING  C:\\Users\\cucum\\Downloads\\COS40007\\week 6\\images\\train_selected_iter_1\\IMG_20180726_122350.jpg: ignoring corrupt image/label: could not convert string to float: '0,'\n",
      "\u001b[34m\u001b[1mtrain: \u001b[0mWARNING  C:\\Users\\cucum\\Downloads\\COS40007\\week 6\\images\\train_selected_iter_1\\IMG_20180726_122400.jpg: ignoring corrupt image/label: could not convert string to float: '0,'\n",
      "\u001b[34m\u001b[1mtrain: \u001b[0mWARNING  C:\\Users\\cucum\\Downloads\\COS40007\\week 6\\images\\train_selected_iter_1\\IMG_20180726_122542.jpg: ignoring corrupt image/label: could not convert string to float: '0,'\n",
      "\u001b[34m\u001b[1mtrain: \u001b[0mWARNING  C:\\Users\\cucum\\Downloads\\COS40007\\week 6\\images\\train_selected_iter_1\\IMG_20180726_122552.jpg: ignoring corrupt image/label: could not convert string to float: '0,'\n",
      "\u001b[34m\u001b[1mtrain: \u001b[0mWARNING  C:\\Users\\cucum\\Downloads\\COS40007\\week 6\\images\\train_selected_iter_1\\IMG_20180726_122605.jpg: ignoring corrupt image/label: could not convert string to float: '0,'\n",
      "\u001b[34m\u001b[1mtrain: \u001b[0mWARNING  C:\\Users\\cucum\\Downloads\\COS40007\\week 6\\images\\train_selected_iter_1\\IMG_20180726_122619.jpg: ignoring corrupt image/label: could not convert string to float: '0,'\n",
      "\u001b[34m\u001b[1mtrain: \u001b[0mWARNING  C:\\Users\\cucum\\Downloads\\COS40007\\week 6\\images\\train_selected_iter_1\\IMG_20180726_122638.jpg: ignoring corrupt image/label: could not convert string to float: '0,'\n",
      "\u001b[34m\u001b[1mtrain: \u001b[0mWARNING  C:\\Users\\cucum\\Downloads\\COS40007\\week 6\\images\\train_selected_iter_1\\IMG_20180726_122706.jpg: ignoring corrupt image/label: could not convert string to float: '0,'\n",
      "\u001b[34m\u001b[1mtrain: \u001b[0mWARNING  C:\\Users\\cucum\\Downloads\\COS40007\\week 6\\images\\train_selected_iter_1\\IMG_20180726_122732.jpg: ignoring corrupt image/label: could not convert string to float: '0,'\n",
      "\u001b[34m\u001b[1mtrain: \u001b[0mWARNING  C:\\Users\\cucum\\Downloads\\COS40007\\week 6\\images\\train_selected_iter_1\\IMG_20180726_123002.jpg: ignoring corrupt image/label: could not convert string to float: '0,'\n",
      "\u001b[34m\u001b[1mtrain: \u001b[0mWARNING  C:\\Users\\cucum\\Downloads\\COS40007\\week 6\\images\\train_selected_iter_1\\IMG_20180726_123013.jpg: ignoring corrupt image/label: could not convert string to float: '0,'\n",
      "\u001b[34m\u001b[1mtrain: \u001b[0mWARNING  C:\\Users\\cucum\\Downloads\\COS40007\\week 6\\images\\train_selected_iter_1\\IMG_20180726_123103.jpg: ignoring corrupt image/label: could not convert string to float: '0,'\n",
      "\u001b[34m\u001b[1mtrain: \u001b[0mWARNING  C:\\Users\\cucum\\Downloads\\COS40007\\week 6\\images\\train_selected_iter_1\\IMG_20180726_123154.jpg: ignoring corrupt image/label: could not convert string to float: '0,'\n",
      "\u001b[34m\u001b[1mtrain: \u001b[0mWARNING  C:\\Users\\cucum\\Downloads\\COS40007\\week 6\\images\\train_selected_iter_1\\IMG_20180726_123203.jpg: ignoring corrupt image/label: could not convert string to float: '0,'\n",
      "\u001b[34m\u001b[1mtrain: \u001b[0mWARNING  C:\\Users\\cucum\\Downloads\\COS40007\\week 6\\images\\train_selected_iter_1\\IMG_20180727_122948.jpg: ignoring corrupt image/label: could not convert string to float: '0,'\n",
      "\u001b[34m\u001b[1mtrain: \u001b[0mWARNING  C:\\Users\\cucum\\Downloads\\COS40007\\week 6\\images\\train_selected_iter_1\\IMG_20180730_122522.jpg: ignoring corrupt image/label: could not convert string to float: '0,'\n",
      "\u001b[34m\u001b[1mtrain: \u001b[0mWARNING  C:\\Users\\cucum\\Downloads\\COS40007\\week 6\\images\\train_selected_iter_1\\IMG_20180805_082857.jpg: ignoring corrupt image/label: could not convert string to float: '0,'\n",
      "\u001b[34m\u001b[1mtrain: \u001b[0mWARNING  C:\\Users\\cucum\\Downloads\\COS40007\\week 6\\images\\train_selected_iter_1\\IMG_20180806_075151.jpg: ignoring corrupt image/label: could not convert string to float: '0,'\n",
      "\u001b[34m\u001b[1mtrain: \u001b[0mWARNING  C:\\Users\\cucum\\Downloads\\COS40007\\week 6\\images\\train_selected_iter_1\\IMG_20180807_083115.jpg: ignoring corrupt image/label: could not convert string to float: '0,'\n",
      "\u001b[34m\u001b[1mtrain: \u001b[0mWARNING  C:\\Users\\cucum\\Downloads\\COS40007\\week 6\\images\\train_selected_iter_1\\IMG_20180810_082705.jpg: ignoring corrupt image/label: could not convert string to float: '0,'\n",
      "\u001b[34m\u001b[1mtrain: \u001b[0mWARNING  C:\\Users\\cucum\\Downloads\\COS40007\\week 6\\images\\train_selected_iter_1\\IMG_20180810_090257.jpg: ignoring corrupt image/label: could not convert string to float: '0,'\n",
      "\u001b[34m\u001b[1mtrain: \u001b[0mWARNING  C:\\Users\\cucum\\Downloads\\COS40007\\week 6\\images\\train_selected_iter_1\\IMG_20180810_090309.jpg: ignoring corrupt image/label: could not convert string to float: '0,'\n",
      "\u001b[34m\u001b[1mtrain: \u001b[0mWARNING  C:\\Users\\cucum\\Downloads\\COS40007\\week 6\\images\\train_selected_iter_1\\IMG_20180810_090316.jpg: ignoring corrupt image/label: could not convert string to float: '0,'\n",
      "\u001b[34m\u001b[1mtrain: \u001b[0mWARNING  C:\\Users\\cucum\\Downloads\\COS40007\\week 6\\images\\train_selected_iter_1\\IMG_20180810_090336.jpg: ignoring corrupt image/label: could not convert string to float: '0,'\n",
      "\u001b[34m\u001b[1mtrain: \u001b[0mWARNING  C:\\Users\\cucum\\Downloads\\COS40007\\week 6\\images\\train_selected_iter_1\\IMG_20180810_090415.jpg: ignoring corrupt image/label: could not convert string to float: '0,'\n",
      "\u001b[34m\u001b[1mtrain: \u001b[0mWARNING  C:\\Users\\cucum\\Downloads\\COS40007\\week 6\\images\\train_selected_iter_1\\IMG_20180810_090445.jpg: ignoring corrupt image/label: could not convert string to float: '0,'\n",
      "\u001b[34m\u001b[1mtrain: \u001b[0mWARNING  C:\\Users\\cucum\\Downloads\\COS40007\\week 6\\images\\train_selected_iter_1\\IMG_20180810_090507.jpg: ignoring corrupt image/label: could not convert string to float: '0,'\n",
      "\u001b[34m\u001b[1mtrain: \u001b[0mWARNING  C:\\Users\\cucum\\Downloads\\COS40007\\week 6\\images\\train_selected_iter_1\\IMG_20180810_090521.jpg: ignoring corrupt image/label: could not convert string to float: '0,'\n",
      "\u001b[34m\u001b[1mtrain: \u001b[0mWARNING  C:\\Users\\cucum\\Downloads\\COS40007\\week 6\\images\\train_selected_iter_1\\IMG_20180810_090524.jpg: ignoring corrupt image/label: could not convert string to float: '0,'\n",
      "\u001b[34m\u001b[1mtrain: \u001b[0mWARNING  C:\\Users\\cucum\\Downloads\\COS40007\\week 6\\images\\train_selected_iter_1\\IMG_20180810_090555.jpg: ignoring corrupt image/label: could not convert string to float: '0,'\n",
      "\u001b[34m\u001b[1mtrain: \u001b[0mWARNING  C:\\Users\\cucum\\Downloads\\COS40007\\week 6\\images\\train_selected_iter_1\\IMG_20180810_090618.jpg: ignoring corrupt image/label: could not convert string to float: '0,'\n",
      "\u001b[34m\u001b[1mtrain: \u001b[0mWARNING  C:\\Users\\cucum\\Downloads\\COS40007\\week 6\\images\\train_selected_iter_1\\IMG_20180810_090804.jpg: ignoring corrupt image/label: could not convert string to float: '0,'\n",
      "\u001b[34m\u001b[1mtrain: \u001b[0mWARNING  C:\\Users\\cucum\\Downloads\\COS40007\\week 6\\images\\train_selected_iter_1\\IMG_20180810_091623.jpg: ignoring corrupt image/label: could not convert string to float: '0,'\n",
      "\u001b[34m\u001b[1mtrain: \u001b[0mWARNING  C:\\Users\\cucum\\Downloads\\COS40007\\week 6\\images\\train_selected_iter_1\\IMG_20180810_091648.jpg: ignoring corrupt image/label: could not convert string to float: '0,'\n",
      "\u001b[34m\u001b[1mtrain: \u001b[0mWARNING  C:\\Users\\cucum\\Downloads\\COS40007\\week 6\\images\\train_selected_iter_1\\IMG_20180810_091707.jpg: ignoring corrupt image/label: could not convert string to float: '0,'\n",
      "\u001b[34m\u001b[1mtrain: \u001b[0mWARNING  C:\\Users\\cucum\\Downloads\\COS40007\\week 6\\images\\train_selected_iter_1\\IMG_20180810_091808.jpg: ignoring corrupt image/label: could not convert string to float: '0,'\n",
      "\u001b[34m\u001b[1mtrain: \u001b[0mWARNING  C:\\Users\\cucum\\Downloads\\COS40007\\week 6\\images\\train_selected_iter_1\\IMG_20180810_091812.jpg: ignoring corrupt image/label: could not convert string to float: '0,'\n",
      "\u001b[34m\u001b[1mtrain: \u001b[0mWARNING  C:\\Users\\cucum\\Downloads\\COS40007\\week 6\\images\\train_selected_iter_1\\IMG_20180810_091819.jpg: ignoring corrupt image/label: could not convert string to float: '0,'\n",
      "\u001b[34m\u001b[1mtrain: \u001b[0mWARNING  C:\\Users\\cucum\\Downloads\\COS40007\\week 6\\images\\train_selected_iter_1\\IMG_20180810_092143.jpg: ignoring corrupt image/label: could not convert string to float: '0,'\n",
      "\u001b[34m\u001b[1mtrain: \u001b[0mWARNING  C:\\Users\\cucum\\Downloads\\COS40007\\week 6\\images\\train_selected_iter_1\\IMG_20180810_092204.jpg: ignoring corrupt image/label: could not convert string to float: '0,'\n",
      "\u001b[34m\u001b[1mtrain: \u001b[0mWARNING  C:\\Users\\cucum\\Downloads\\COS40007\\week 6\\images\\train_selected_iter_1\\IMG_20180810_092223.jpg: ignoring corrupt image/label: could not convert string to float: '0,'\n",
      "\u001b[34m\u001b[1mtrain: \u001b[0mWARNING  C:\\Users\\cucum\\Downloads\\COS40007\\week 6\\images\\train_selected_iter_1\\IMG_20180810_092236.jpg: ignoring corrupt image/label: could not convert string to float: '0,'\n",
      "\u001b[34m\u001b[1mtrain: \u001b[0mWARNING  C:\\Users\\cucum\\Downloads\\COS40007\\week 6\\images\\train_selected_iter_1\\IMG_20180810_092254.jpg: ignoring corrupt image/label: could not convert string to float: '0,'\n",
      "\u001b[34m\u001b[1mtrain: \u001b[0mWARNING  C:\\Users\\cucum\\Downloads\\COS40007\\week 6\\images\\train_selected_iter_1\\IMG_20180810_092325.jpg: ignoring corrupt image/label: could not convert string to float: '0,'\n",
      "\u001b[34m\u001b[1mtrain: \u001b[0mWARNING  C:\\Users\\cucum\\Downloads\\COS40007\\week 6\\images\\train_selected_iter_1\\IMG_20180810_092351.jpg: ignoring corrupt image/label: could not convert string to float: '0,'\n",
      "\u001b[34m\u001b[1mtrain: \u001b[0mWARNING  C:\\Users\\cucum\\Downloads\\COS40007\\week 6\\images\\train_selected_iter_1\\IMG_20180810_092729.jpg: ignoring corrupt image/label: could not convert string to float: '0,'\n",
      "\u001b[34m\u001b[1mtrain: \u001b[0mWARNING  C:\\Users\\cucum\\Downloads\\COS40007\\week 6\\images\\train_selected_iter_1\\IMG_20180810_092744.jpg: ignoring corrupt image/label: could not convert string to float: '0,'\n",
      "\u001b[34m\u001b[1mtrain: \u001b[0mWARNING  C:\\Users\\cucum\\Downloads\\COS40007\\week 6\\images\\train_selected_iter_1\\IMG_20180810_092842.jpg: ignoring corrupt image/label: could not convert string to float: '0,'\n",
      "\u001b[34m\u001b[1mtrain: \u001b[0mWARNING  C:\\Users\\cucum\\Downloads\\COS40007\\week 6\\images\\train_selected_iter_1\\IMG_20180810_092850.jpg: ignoring corrupt image/label: could not convert string to float: '0,'\n",
      "\u001b[34m\u001b[1mtrain: \u001b[0mWARNING  C:\\Users\\cucum\\Downloads\\COS40007\\week 6\\images\\train_selected_iter_1\\IMG_20180810_092900.jpg: ignoring corrupt image/label: could not convert string to float: '0,'\n",
      "\u001b[34m\u001b[1mtrain: \u001b[0mWARNING  C:\\Users\\cucum\\Downloads\\COS40007\\week 6\\images\\train_selected_iter_1\\IMG_20180810_092925.jpg: ignoring corrupt image/label: could not convert string to float: '0,'\n",
      "\u001b[34m\u001b[1mtrain: \u001b[0mWARNING  C:\\Users\\cucum\\Downloads\\COS40007\\week 6\\images\\train_selected_iter_1\\IMG_20180810_092948.jpg: ignoring corrupt image/label: could not convert string to float: '0,'\n",
      "\u001b[34m\u001b[1mtrain: \u001b[0mWARNING  C:\\Users\\cucum\\Downloads\\COS40007\\week 6\\images\\train_selected_iter_1\\IMG_20180810_093055.jpg: ignoring corrupt image/label: could not convert string to float: '0,'\n",
      "\u001b[34m\u001b[1mtrain: \u001b[0mWARNING  C:\\Users\\cucum\\Downloads\\COS40007\\week 6\\images\\train_selected_iter_1\\IMG_20180811_083436.jpg: ignoring corrupt image/label: could not convert string to float: '0,'\n",
      "\u001b[34m\u001b[1mtrain: \u001b[0mWARNING  C:\\Users\\cucum\\Downloads\\COS40007\\week 6\\images\\train_selected_iter_1\\IMG_20180811_083459.jpg: ignoring corrupt image/label: could not convert string to float: '0,'\n",
      "\u001b[34m\u001b[1mtrain: \u001b[0mWARNING  C:\\Users\\cucum\\Downloads\\COS40007\\week 6\\images\\train_selected_iter_1\\IMG_20180811_083505.jpg: ignoring corrupt image/label: could not convert string to float: '0,'\n",
      "\u001b[34m\u001b[1mtrain: \u001b[0mWARNING  C:\\Users\\cucum\\Downloads\\COS40007\\week 6\\images\\train_selected_iter_1\\IMG_20180811_083513.jpg: ignoring corrupt image/label: could not convert string to float: '0,'\n",
      "\u001b[34m\u001b[1mtrain: \u001b[0mWARNING  C:\\Users\\cucum\\Downloads\\COS40007\\week 6\\images\\train_selected_iter_1\\IMG_20180811_083535.jpg: ignoring corrupt image/label: could not convert string to float: '0,'\n",
      "\u001b[34m\u001b[1mtrain: \u001b[0mWARNING  C:\\Users\\cucum\\Downloads\\COS40007\\week 6\\images\\train_selected_iter_1\\IMG_20180811_083542.jpg: ignoring corrupt image/label: could not convert string to float: '0,'\n",
      "\u001b[34m\u001b[1mtrain: \u001b[0mWARNING  C:\\Users\\cucum\\Downloads\\COS40007\\week 6\\images\\train_selected_iter_1\\IMG_20180811_083552.jpg: ignoring corrupt image/label: could not convert string to float: '0,'\n",
      "\u001b[34m\u001b[1mtrain: \u001b[0mWARNING  C:\\Users\\cucum\\Downloads\\COS40007\\week 6\\images\\train_selected_iter_1\\IMG_20180811_083604.jpg: ignoring corrupt image/label: could not convert string to float: '0,'\n",
      "\u001b[34m\u001b[1mtrain: \u001b[0mWARNING  C:\\Users\\cucum\\Downloads\\COS40007\\week 6\\images\\train_selected_iter_1\\IMG_20180811_083633.jpg: ignoring corrupt image/label: could not convert string to float: '0,'\n",
      "\u001b[34m\u001b[1mtrain: \u001b[0mWARNING  C:\\Users\\cucum\\Downloads\\COS40007\\week 6\\images\\train_selected_iter_1\\IMG_20180811_083643.jpg: ignoring corrupt image/label: could not convert string to float: '0,'\n",
      "\u001b[34m\u001b[1mtrain: \u001b[0mWARNING  C:\\Users\\cucum\\Downloads\\COS40007\\week 6\\images\\train_selected_iter_1\\IMG_20180811_083703.jpg: ignoring corrupt image/label: could not convert string to float: '0,'\n",
      "\u001b[34m\u001b[1mtrain: \u001b[0mWARNING  C:\\Users\\cucum\\Downloads\\COS40007\\week 6\\images\\train_selected_iter_1\\IMG_20180811_083713.jpg: ignoring corrupt image/label: could not convert string to float: '0,'\n",
      "\u001b[34m\u001b[1mtrain: \u001b[0mWARNING  C:\\Users\\cucum\\Downloads\\COS40007\\week 6\\images\\train_selected_iter_1\\IMG_20180811_083742.jpg: ignoring corrupt image/label: could not convert string to float: '0,'\n",
      "\u001b[34m\u001b[1mtrain: \u001b[0mWARNING  C:\\Users\\cucum\\Downloads\\COS40007\\week 6\\images\\train_selected_iter_1\\IMG_20180811_083816.jpg: ignoring corrupt image/label: could not convert string to float: '0,'\n",
      "\u001b[34m\u001b[1mtrain: \u001b[0mWARNING  C:\\Users\\cucum\\Downloads\\COS40007\\week 6\\images\\train_selected_iter_1\\IMG_20180811_083828.jpg: ignoring corrupt image/label: could not convert string to float: '0,'\n",
      "\u001b[34m\u001b[1mtrain: \u001b[0mWARNING  C:\\Users\\cucum\\Downloads\\COS40007\\week 6\\images\\train_selected_iter_1\\IMG_20180811_083849.jpg: ignoring corrupt image/label: could not convert string to float: '0,'\n",
      "\u001b[34m\u001b[1mtrain: \u001b[0mWARNING  C:\\Users\\cucum\\Downloads\\COS40007\\week 6\\images\\train_selected_iter_1\\IMG_20180811_083912.jpg: ignoring corrupt image/label: could not convert string to float: '0,'\n",
      "\u001b[34m\u001b[1mtrain: \u001b[0mWARNING  C:\\Users\\cucum\\Downloads\\COS40007\\week 6\\images\\train_selected_iter_1\\IMG_20180811_083925.jpg: ignoring corrupt image/label: could not convert string to float: '0,'\n",
      "\u001b[34m\u001b[1mtrain: \u001b[0mWARNING  C:\\Users\\cucum\\Downloads\\COS40007\\week 6\\images\\train_selected_iter_1\\IMG_20180811_083929.jpg: ignoring corrupt image/label: could not convert string to float: '0,'\n",
      "\u001b[34m\u001b[1mtrain: \u001b[0mWARNING  C:\\Users\\cucum\\Downloads\\COS40007\\week 6\\images\\train_selected_iter_1\\IMG_20180811_083933.jpg: ignoring corrupt image/label: could not convert string to float: '0,'\n",
      "\u001b[34m\u001b[1mtrain: \u001b[0mWARNING  C:\\Users\\cucum\\Downloads\\COS40007\\week 6\\images\\train_selected_iter_1\\IMG_20180811_083937.jpg: ignoring corrupt image/label: could not convert string to float: '0,'\n",
      "\u001b[34m\u001b[1mtrain: \u001b[0mWARNING  C:\\Users\\cucum\\Downloads\\COS40007\\week 6\\images\\train_selected_iter_1\\IMG_20180811_083939.jpg: ignoring corrupt image/label: could not convert string to float: '0,'\n",
      "\u001b[34m\u001b[1mtrain: \u001b[0mWARNING  C:\\Users\\cucum\\Downloads\\COS40007\\week 6\\images\\train_selected_iter_1\\IMG_20180811_083942.jpg: ignoring corrupt image/label: could not convert string to float: '0,'\n",
      "\u001b[34m\u001b[1mtrain: \u001b[0mWARNING  C:\\Users\\cucum\\Downloads\\COS40007\\week 6\\images\\train_selected_iter_1\\IMG_20180811_083951.jpg: ignoring corrupt image/label: could not convert string to float: '0,'\n",
      "\u001b[34m\u001b[1mtrain: \u001b[0mWARNING  C:\\Users\\cucum\\Downloads\\COS40007\\week 6\\images\\train_selected_iter_1\\IMG_20180811_084006.jpg: ignoring corrupt image/label: could not convert string to float: '0,'\n",
      "\u001b[34m\u001b[1mtrain: \u001b[0mWARNING  C:\\Users\\cucum\\Downloads\\COS40007\\week 6\\images\\train_selected_iter_1\\IMG_20180811_084012.jpg: ignoring corrupt image/label: could not convert string to float: '0,'\n",
      "\u001b[34m\u001b[1mtrain: \u001b[0mWARNING  C:\\Users\\cucum\\Downloads\\COS40007\\week 6\\images\\train_selected_iter_1\\IMG_20180811_084022.jpg: ignoring corrupt image/label: could not convert string to float: '0,'\n",
      "\u001b[34m\u001b[1mtrain: \u001b[0mWARNING  C:\\Users\\cucum\\Downloads\\COS40007\\week 6\\images\\train_selected_iter_1\\IMG_20180811_084101.jpg: ignoring corrupt image/label: could not convert string to float: '0,'\n",
      "\u001b[34m\u001b[1mtrain: \u001b[0mWARNING  C:\\Users\\cucum\\Downloads\\COS40007\\week 6\\images\\train_selected_iter_1\\IMG_20180811_084135.jpg: ignoring corrupt image/label: could not convert string to float: '0,'\n",
      "\u001b[34m\u001b[1mtrain: \u001b[0mWARNING  C:\\Users\\cucum\\Downloads\\COS40007\\week 6\\images\\train_selected_iter_1\\IMG_20180811_084200.jpg: ignoring corrupt image/label: could not convert string to float: '0,'\n",
      "\u001b[34m\u001b[1mtrain: \u001b[0mWARNING  C:\\Users\\cucum\\Downloads\\COS40007\\week 6\\images\\train_selected_iter_1\\IMG_20180811_084218.jpg: ignoring corrupt image/label: could not convert string to float: '0,'\n",
      "\u001b[34m\u001b[1mtrain: \u001b[0mWARNING  C:\\Users\\cucum\\Downloads\\COS40007\\week 6\\images\\train_selected_iter_1\\IMG_20180811_084236.jpg: ignoring corrupt image/label: could not convert string to float: '0,'\n",
      "\u001b[34m\u001b[1mtrain: \u001b[0mWARNING  C:\\Users\\cucum\\Downloads\\COS40007\\week 6\\images\\train_selected_iter_1\\IMG_20180811_084250.jpg: ignoring corrupt image/label: could not convert string to float: '0,'\n",
      "\u001b[34m\u001b[1mtrain: \u001b[0mWARNING  C:\\Users\\cucum\\Downloads\\COS40007\\week 6\\images\\train_selected_iter_1\\IMG_20180811_084321.jpg: ignoring corrupt image/label: could not convert string to float: '0,'\n",
      "\u001b[34m\u001b[1mtrain: \u001b[0mWARNING  C:\\Users\\cucum\\Downloads\\COS40007\\week 6\\images\\train_selected_iter_1\\IMG_20180811_084341.jpg: ignoring corrupt image/label: could not convert string to float: '0,'\n",
      "\u001b[34m\u001b[1mtrain: \u001b[0mWARNING  C:\\Users\\cucum\\Downloads\\COS40007\\week 6\\images\\train_selected_iter_1\\IMG_20180811_084419.jpg: ignoring corrupt image/label: could not convert string to float: '0,'\n"
     ]
    },
    {
     "name": "stderr",
     "output_type": "stream",
     "text": [
      "\n"
     ]
    },
    {
     "name": "stdout",
     "output_type": "stream",
     "text": [
      "\u001b[34m\u001b[1mtrain: \u001b[0mNew cache created: C:\\Users\\cucum\\Downloads\\COS40007\\week 6\\labels\\train_selected_iter_1.cache\n"
     ]
    },
    {
     "name": "stderr",
     "output_type": "stream",
     "text": [
      "\u001b[34m\u001b[1mval: \u001b[0mScanning C:\\Users\\cucum\\Downloads\\COS40007\\week 6\\labels\\test_selected.cache... 0 images, 71 backgrounds, 0 corrupt: 100%|██████████| 71/71 [00:00<?, ?it/s]"
     ]
    },
    {
     "name": "stdout",
     "output_type": "stream",
     "text": [
      "WARNING  No labels found in C:\\Users\\cucum\\Downloads\\COS40007\\week 6\\labels\\test_selected.cache, training may not work correctly. See https://docs.ultralytics.com/datasets for dataset formatting guidance.\n",
      "Plotting labels to week 6\\runs\\train\\graffiti_detection_iter_16\\labels.jpg... \n"
     ]
    },
    {
     "name": "stderr",
     "output_type": "stream",
     "text": [
      "\n"
     ]
    },
    {
     "name": "stdout",
     "output_type": "stream",
     "text": [
      "\u001b[34m\u001b[1moptimizer:\u001b[0m 'optimizer=auto' found, ignoring 'lr0=0.01' and 'momentum=0.937' and determining best 'optimizer', 'lr0' and 'momentum' automatically... \n",
      "\u001b[34m\u001b[1moptimizer:\u001b[0m AdamW(lr=0.002, momentum=0.9) with parameter groups 69 weight(decay=0.0), 76 weight(decay=0.0005), 75 bias(decay=0.0)\n",
      "\u001b[34m\u001b[1mTensorBoard: \u001b[0mmodel graph visualization added \n",
      "Image sizes 640 train, 640 val\n",
      "Using 0 dataloader workers\n",
      "Logging results to \u001b[1mweek 6\\runs\\train\\graffiti_detection_iter_16\u001b[0m\n",
      "Starting training for 5 epochs...\n",
      "\n",
      "      Epoch    GPU_mem   box_loss   cls_loss   dfl_loss  Instances       Size\n"
     ]
    },
    {
     "name": "stderr",
     "output_type": "stream",
     "text": [
      "        1/5         0G      1.649      4.141      1.675         35        640: 100%|██████████| 2/2 [00:13<00:00,  6.66s/it]\n",
      "                 Class     Images  Instances      Box(P          R      mAP50  mAP50-95): 100%|██████████| 3/3 [00:08<00:00,  2.82s/it]"
     ]
    },
    {
     "name": "stdout",
     "output_type": "stream",
     "text": [
      "                   all         71          0          0          0          0          0\n",
      "WARNING  no labels found in detect set, can not compute metrics without labels\n"
     ]
    },
    {
     "name": "stderr",
     "output_type": "stream",
     "text": [
      "\n"
     ]
    },
    {
     "name": "stdout",
     "output_type": "stream",
     "text": [
      "\n",
      "      Epoch    GPU_mem   box_loss   cls_loss   dfl_loss  Instances       Size\n"
     ]
    },
    {
     "name": "stderr",
     "output_type": "stream",
     "text": [
      "        2/5         0G      1.537       3.63      1.559         49        640: 100%|██████████| 2/2 [00:12<00:00,  6.16s/it]\n",
      "                 Class     Images  Instances      Box(P          R      mAP50  mAP50-95): 100%|██████████| 3/3 [00:08<00:00,  2.88s/it]"
     ]
    },
    {
     "name": "stdout",
     "output_type": "stream",
     "text": [
      "                   all         71          0          0          0          0          0\n",
      "WARNING  no labels found in detect set, can not compute metrics without labels\n"
     ]
    },
    {
     "name": "stderr",
     "output_type": "stream",
     "text": [
      "\n"
     ]
    },
    {
     "name": "stdout",
     "output_type": "stream",
     "text": [
      "\n",
      "      Epoch    GPU_mem   box_loss   cls_loss   dfl_loss  Instances       Size\n"
     ]
    },
    {
     "name": "stderr",
     "output_type": "stream",
     "text": [
      "        3/5         0G      1.489      3.349      1.506         27        640: 100%|██████████| 2/2 [00:12<00:00,  6.27s/it]\n",
      "                 Class     Images  Instances      Box(P          R      mAP50  mAP50-95): 100%|██████████| 3/3 [00:08<00:00,  2.96s/it]"
     ]
    },
    {
     "name": "stdout",
     "output_type": "stream",
     "text": [
      "                   all         71          0          0          0          0          0\n",
      "WARNING  no labels found in detect set, can not compute metrics without labels\n"
     ]
    },
    {
     "name": "stderr",
     "output_type": "stream",
     "text": [
      "\n"
     ]
    },
    {
     "name": "stdout",
     "output_type": "stream",
     "text": [
      "\n",
      "      Epoch    GPU_mem   box_loss   cls_loss   dfl_loss  Instances       Size\n"
     ]
    },
    {
     "name": "stderr",
     "output_type": "stream",
     "text": [
      "        4/5         0G       1.27       2.66      1.325         31        640: 100%|██████████| 2/2 [00:12<00:00,  6.35s/it]\n",
      "                 Class     Images  Instances      Box(P          R      mAP50  mAP50-95): 100%|██████████| 3/3 [00:08<00:00,  2.99s/it]"
     ]
    },
    {
     "name": "stdout",
     "output_type": "stream",
     "text": [
      "                   all         71          0          0          0          0          0\n",
      "WARNING  no labels found in detect set, can not compute metrics without labels\n"
     ]
    },
    {
     "name": "stderr",
     "output_type": "stream",
     "text": [
      "\n"
     ]
    },
    {
     "name": "stdout",
     "output_type": "stream",
     "text": [
      "\n",
      "      Epoch    GPU_mem   box_loss   cls_loss   dfl_loss  Instances       Size\n"
     ]
    },
    {
     "name": "stderr",
     "output_type": "stream",
     "text": [
      "        5/5         0G      1.132      2.173      1.222         44        640: 100%|██████████| 2/2 [00:12<00:00,  6.48s/it]\n",
      "                 Class     Images  Instances      Box(P          R      mAP50  mAP50-95): 100%|██████████| 3/3 [00:08<00:00,  2.99s/it]"
     ]
    },
    {
     "name": "stdout",
     "output_type": "stream",
     "text": [
      "                   all         71          0          0          0          0          0\n",
      "WARNING  no labels found in detect set, can not compute metrics without labels\n"
     ]
    },
    {
     "name": "stderr",
     "output_type": "stream",
     "text": [
      "\n"
     ]
    },
    {
     "name": "stdout",
     "output_type": "stream",
     "text": [
      "\n",
      "5 epochs completed in 0.032 hours.\n",
      "Optimizer stripped from week 6\\runs\\train\\graffiti_detection_iter_16\\weights\\last.pt, 18.5MB\n",
      "Optimizer stripped from week 6\\runs\\train\\graffiti_detection_iter_16\\weights\\best.pt, 18.5MB\n",
      "\n",
      "Validating week 6\\runs\\train\\graffiti_detection_iter_16\\weights\\best.pt...\n",
      "Ultralytics YOLOv8.2.98  Python-3.12.6 torch-2.4.1+cpu CPU (12th Gen Intel Core(TM) i7-1260P)\n",
      "YOLOv5s summary (fused): 193 layers, 9,111,923 parameters, 0 gradients, 23.8 GFLOPs\n"
     ]
    },
    {
     "name": "stderr",
     "output_type": "stream",
     "text": [
      "                 Class     Images  Instances      Box(P          R      mAP50  mAP50-95): 100%|██████████| 3/3 [00:08<00:00,  2.70s/it]"
     ]
    },
    {
     "name": "stdout",
     "output_type": "stream",
     "text": [
      "                   all         71          0          0          0          0          0\n",
      "WARNING  no labels found in detect set, can not compute metrics without labels\n"
     ]
    },
    {
     "name": "stderr",
     "output_type": "stream",
     "text": [
      "\n"
     ]
    },
    {
     "name": "stdout",
     "output_type": "stream",
     "text": [
      "Speed: 1.2ms preprocess, 100.1ms inference, 0.0ms loss, 4.7ms postprocess per image\n",
      "Results saved to \u001b[1mweek 6\\runs\\train\\graffiti_detection_iter_16\u001b[0m\n"
     ]
    },
    {
     "name": "stderr",
     "output_type": "stream",
     "text": [
      "Evaluating model:   0%|          | 0/71 [00:00<?, ?it/s]"
     ]
    },
    {
     "name": "stdout",
     "output_type": "stream",
     "text": [
      "\n",
      "image 1/1 C:\\Users\\cucum\\Downloads\\COS40007\\week 6\\images\\test_selected\\IMG_1234.jpg: 640x480 1 Graffiti, 105.6ms\n",
      "Speed: 1.0ms preprocess, 105.6ms inference, 1.0ms postprocess per image at shape (1, 3, 640, 480)\n"
     ]
    },
    {
     "name": "stderr",
     "output_type": "stream",
     "text": [
      "Evaluating model:   1%|▏         | 1/71 [00:00<00:15,  4.65it/s]"
     ]
    },
    {
     "name": "stdout",
     "output_type": "stream",
     "text": [
      "\n",
      "image 1/1 C:\\Users\\cucum\\Downloads\\COS40007\\week 6\\images\\test_selected\\IMG_1240.jpg: 640x480 1 Graffiti, 113.7ms\n",
      "Speed: 2.0ms preprocess, 113.7ms inference, 1.0ms postprocess per image at shape (1, 3, 640, 480)\n"
     ]
    },
    {
     "name": "stderr",
     "output_type": "stream",
     "text": [
      "Evaluating model:   3%|▎         | 2/71 [00:00<00:11,  6.03it/s]"
     ]
    },
    {
     "name": "stdout",
     "output_type": "stream",
     "text": [
      "\n",
      "image 1/1 C:\\Users\\cucum\\Downloads\\COS40007\\week 6\\images\\test_selected\\IMG_1243.jpg: 640x480 1 Graffiti, 159.5ms\n",
      "Speed: 2.0ms preprocess, 159.5ms inference, 1.0ms postprocess per image at shape (1, 3, 640, 480)\n"
     ]
    },
    {
     "name": "stderr",
     "output_type": "stream",
     "text": [
      "Evaluating model:   4%|▍         | 3/71 [00:00<00:11,  5.87it/s]"
     ]
    },
    {
     "name": "stdout",
     "output_type": "stream",
     "text": [
      "\n",
      "image 1/1 C:\\Users\\cucum\\Downloads\\COS40007\\week 6\\images\\test_selected\\IMG_1254.jpg: 640x480 1 Graffiti, 123.9ms\n",
      "Speed: 2.0ms preprocess, 123.9ms inference, 1.0ms postprocess per image at shape (1, 3, 640, 480)\n"
     ]
    },
    {
     "name": "stderr",
     "output_type": "stream",
     "text": [
      "Evaluating model:   6%|▌         | 4/71 [00:00<00:10,  6.29it/s]"
     ]
    },
    {
     "name": "stdout",
     "output_type": "stream",
     "text": [
      "\n",
      "image 1/1 C:\\Users\\cucum\\Downloads\\COS40007\\week 6\\images\\test_selected\\IMG_1261.jpg: 640x480 1 Graffiti, 121.4ms\n",
      "Speed: 1.0ms preprocess, 121.4ms inference, 1.0ms postprocess per image at shape (1, 3, 640, 480)\n"
     ]
    },
    {
     "name": "stderr",
     "output_type": "stream",
     "text": [
      "Evaluating model:   7%|▋         | 5/71 [00:00<00:10,  6.60it/s]"
     ]
    },
    {
     "name": "stdout",
     "output_type": "stream",
     "text": [
      "\n",
      "image 1/1 C:\\Users\\cucum\\Downloads\\COS40007\\week 6\\images\\test_selected\\IMG_1262.jpg: 640x480 1 Graffiti, 125.7ms\n",
      "Speed: 2.0ms preprocess, 125.7ms inference, 0.0ms postprocess per image at shape (1, 3, 640, 480)\n"
     ]
    },
    {
     "name": "stderr",
     "output_type": "stream",
     "text": [
      "Evaluating model:   8%|▊         | 6/71 [00:00<00:09,  6.72it/s]"
     ]
    },
    {
     "name": "stdout",
     "output_type": "stream",
     "text": [
      "\n",
      "image 1/1 C:\\Users\\cucum\\Downloads\\COS40007\\week 6\\images\\test_selected\\IMG_1263.jpg: 640x480 1 Graffiti, 135.8ms\n",
      "Speed: 1.0ms preprocess, 135.8ms inference, 0.0ms postprocess per image at shape (1, 3, 640, 480)\n"
     ]
    },
    {
     "name": "stderr",
     "output_type": "stream",
     "text": [
      "Evaluating model:  10%|▉         | 7/71 [00:01<00:09,  6.66it/s]"
     ]
    },
    {
     "name": "stdout",
     "output_type": "stream",
     "text": [
      "\n",
      "image 1/1 C:\\Users\\cucum\\Downloads\\COS40007\\week 6\\images\\test_selected\\IMG_1284.jpg: 640x480 2 Graffitis, 123.8ms\n",
      "Speed: 3.0ms preprocess, 123.8ms inference, 1.0ms postprocess per image at shape (1, 3, 640, 480)\n"
     ]
    },
    {
     "name": "stderr",
     "output_type": "stream",
     "text": [
      "Evaluating model:  11%|█▏        | 8/71 [00:01<00:09,  6.74it/s]"
     ]
    },
    {
     "name": "stdout",
     "output_type": "stream",
     "text": [
      "\n",
      "image 1/1 C:\\Users\\cucum\\Downloads\\COS40007\\week 6\\images\\test_selected\\IMG_20100101_031404.jpg: 640x480 (no detections), 122.7ms\n",
      "Speed: 2.0ms preprocess, 122.7ms inference, 0.0ms postprocess per image at shape (1, 3, 640, 480)\n"
     ]
    },
    {
     "name": "stderr",
     "output_type": "stream",
     "text": [
      "Evaluating model:  13%|█▎        | 9/71 [00:01<00:09,  6.85it/s]"
     ]
    },
    {
     "name": "stdout",
     "output_type": "stream",
     "text": [
      "\n",
      "image 1/1 C:\\Users\\cucum\\Downloads\\COS40007\\week 6\\images\\test_selected\\IMG_20100101_031841.jpg: 640x480 (no detections), 123.8ms\n",
      "Speed: 2.6ms preprocess, 123.8ms inference, 0.0ms postprocess per image at shape (1, 3, 640, 480)\n"
     ]
    },
    {
     "name": "stderr",
     "output_type": "stream",
     "text": [
      "Evaluating model:  14%|█▍        | 10/71 [00:01<00:08,  6.93it/s]"
     ]
    },
    {
     "name": "stdout",
     "output_type": "stream",
     "text": [
      "\n",
      "image 1/1 C:\\Users\\cucum\\Downloads\\COS40007\\week 6\\images\\test_selected\\IMG_20100101_032102.jpg: 640x480 3 Graffitis, 168.6ms\n",
      "Speed: 2.0ms preprocess, 168.6ms inference, 0.0ms postprocess per image at shape (1, 3, 640, 480)\n"
     ]
    },
    {
     "name": "stderr",
     "output_type": "stream",
     "text": [
      "Evaluating model:  15%|█▌        | 11/71 [00:01<00:09,  6.39it/s]"
     ]
    },
    {
     "name": "stdout",
     "output_type": "stream",
     "text": [
      "\n",
      "image 1/1 C:\\Users\\cucum\\Downloads\\COS40007\\week 6\\images\\test_selected\\IMG_20100101_032415.jpg: 640x480 (no detections), 147.6ms\n",
      "Speed: 1.0ms preprocess, 147.6ms inference, 0.0ms postprocess per image at shape (1, 3, 640, 480)\n"
     ]
    },
    {
     "name": "stderr",
     "output_type": "stream",
     "text": [
      "Evaluating model:  17%|█▋        | 12/71 [00:01<00:09,  6.28it/s]"
     ]
    },
    {
     "name": "stdout",
     "output_type": "stream",
     "text": [
      "\n",
      "image 1/1 C:\\Users\\cucum\\Downloads\\COS40007\\week 6\\images\\test_selected\\IMG_20100101_032553.jpg: 640x480 (no detections), 132.5ms\n",
      "Speed: 1.9ms preprocess, 132.5ms inference, 0.0ms postprocess per image at shape (1, 3, 640, 480)\n"
     ]
    },
    {
     "name": "stderr",
     "output_type": "stream",
     "text": [
      "Evaluating model:  18%|█▊        | 13/71 [00:02<00:09,  6.41it/s]"
     ]
    },
    {
     "name": "stdout",
     "output_type": "stream",
     "text": [
      "\n",
      "image 1/1 C:\\Users\\cucum\\Downloads\\COS40007\\week 6\\images\\test_selected\\IMG_20100101_033113.jpg: 640x480 1 Graffiti, 125.7ms\n",
      "Speed: 1.0ms preprocess, 125.7ms inference, 1.0ms postprocess per image at shape (1, 3, 640, 480)\n"
     ]
    },
    {
     "name": "stderr",
     "output_type": "stream",
     "text": [
      "Evaluating model:  20%|█▉        | 14/71 [00:02<00:08,  6.56it/s]"
     ]
    },
    {
     "name": "stdout",
     "output_type": "stream",
     "text": [
      "\n",
      "image 1/1 C:\\Users\\cucum\\Downloads\\COS40007\\week 6\\images\\test_selected\\IMG_20100101_033117.jpg: 640x480 1 Graffiti, 118.4ms\n",
      "Speed: 2.0ms preprocess, 118.4ms inference, 0.0ms postprocess per image at shape (1, 3, 640, 480)\n"
     ]
    },
    {
     "name": "stderr",
     "output_type": "stream",
     "text": [
      "Evaluating model:  21%|██        | 15/71 [00:02<00:08,  6.79it/s]"
     ]
    },
    {
     "name": "stdout",
     "output_type": "stream",
     "text": [
      "\n",
      "image 1/1 C:\\Users\\cucum\\Downloads\\COS40007\\week 6\\images\\test_selected\\IMG_20100101_033207.jpg: 640x480 1 Graffiti, 120.8ms\n",
      "Speed: 2.0ms preprocess, 120.8ms inference, 1.0ms postprocess per image at shape (1, 3, 640, 480)\n"
     ]
    },
    {
     "name": "stderr",
     "output_type": "stream",
     "text": [
      "Evaluating model:  23%|██▎       | 16/71 [00:02<00:07,  6.88it/s]"
     ]
    },
    {
     "name": "stdout",
     "output_type": "stream",
     "text": [
      "\n",
      "image 1/1 C:\\Users\\cucum\\Downloads\\COS40007\\week 6\\images\\test_selected\\IMG_20100101_033559.jpg: 640x480 (no detections), 122.6ms\n",
      "Speed: 1.0ms preprocess, 122.6ms inference, 0.0ms postprocess per image at shape (1, 3, 640, 480)\n"
     ]
    },
    {
     "name": "stderr",
     "output_type": "stream",
     "text": [
      "Evaluating model:  24%|██▍       | 17/71 [00:02<00:07,  6.98it/s]"
     ]
    },
    {
     "name": "stdout",
     "output_type": "stream",
     "text": [
      "\n",
      "image 1/1 C:\\Users\\cucum\\Downloads\\COS40007\\week 6\\images\\test_selected\\IMG_20100101_033637.jpg: 640x480 1 Graffiti, 113.3ms\n",
      "Speed: 2.0ms preprocess, 113.3ms inference, 0.0ms postprocess per image at shape (1, 3, 640, 480)\n"
     ]
    },
    {
     "name": "stderr",
     "output_type": "stream",
     "text": [
      "Evaluating model:  25%|██▌       | 18/71 [00:02<00:07,  7.17it/s]"
     ]
    },
    {
     "name": "stdout",
     "output_type": "stream",
     "text": [
      "\n",
      "image 1/1 C:\\Users\\cucum\\Downloads\\COS40007\\week 6\\images\\test_selected\\IMG_20180713_104842.jpg: 640x480 2 Graffitis, 124.9ms\n",
      "Speed: 18.0ms preprocess, 124.9ms inference, 1.0ms postprocess per image at shape (1, 3, 640, 480)\n"
     ]
    },
    {
     "name": "stderr",
     "output_type": "stream",
     "text": [
      "Evaluating model:  27%|██▋       | 19/71 [00:02<00:07,  6.76it/s]"
     ]
    },
    {
     "name": "stdout",
     "output_type": "stream",
     "text": [
      "\n",
      "image 1/1 C:\\Users\\cucum\\Downloads\\COS40007\\week 6\\images\\test_selected\\IMG_20180713_105001.jpg: 640x480 1 Graffiti, 130.3ms\n",
      "Speed: 2.0ms preprocess, 130.3ms inference, 0.0ms postprocess per image at shape (1, 3, 640, 480)\n"
     ]
    },
    {
     "name": "stderr",
     "output_type": "stream",
     "text": [
      "Evaluating model:  28%|██▊       | 20/71 [00:03<00:07,  6.75it/s]"
     ]
    },
    {
     "name": "stdout",
     "output_type": "stream",
     "text": [
      "\n",
      "image 1/1 C:\\Users\\cucum\\Downloads\\COS40007\\week 6\\images\\test_selected\\IMG_20180713_110324.jpg: 640x480 1 Graffiti, 124.7ms\n",
      "Speed: 3.1ms preprocess, 124.7ms inference, 0.0ms postprocess per image at shape (1, 3, 640, 480)\n"
     ]
    },
    {
     "name": "stderr",
     "output_type": "stream",
     "text": [
      "Evaluating model:  30%|██▉       | 21/71 [00:03<00:07,  6.81it/s]"
     ]
    },
    {
     "name": "stdout",
     "output_type": "stream",
     "text": [
      "\n",
      "image 1/1 C:\\Users\\cucum\\Downloads\\COS40007\\week 6\\images\\test_selected\\IMG_20180714_103316.jpg: 640x480 3 Graffitis, 118.3ms\n",
      "Speed: 3.1ms preprocess, 118.3ms inference, 1.0ms postprocess per image at shape (1, 3, 640, 480)\n"
     ]
    },
    {
     "name": "stderr",
     "output_type": "stream",
     "text": [
      "Evaluating model:  31%|███       | 22/71 [00:03<00:07,  6.93it/s]"
     ]
    },
    {
     "name": "stdout",
     "output_type": "stream",
     "text": [
      "\n",
      "image 1/1 C:\\Users\\cucum\\Downloads\\COS40007\\week 6\\images\\test_selected\\IMG_20180714_103949.jpg: 640x480 1 Graffiti, 117.9ms\n",
      "Speed: 1.9ms preprocess, 117.9ms inference, 1.1ms postprocess per image at shape (1, 3, 640, 480)\n"
     ]
    },
    {
     "name": "stderr",
     "output_type": "stream",
     "text": [
      "Evaluating model:  32%|███▏      | 23/71 [00:03<00:06,  7.05it/s]"
     ]
    },
    {
     "name": "stdout",
     "output_type": "stream",
     "text": [
      "\n",
      "image 1/1 C:\\Users\\cucum\\Downloads\\COS40007\\week 6\\images\\test_selected\\IMG_20180714_105052.jpg: 640x480 2 Graffitis, 114.5ms\n",
      "Speed: 2.0ms preprocess, 114.5ms inference, 0.0ms postprocess per image at shape (1, 3, 640, 480)\n"
     ]
    },
    {
     "name": "stderr",
     "output_type": "stream",
     "text": [
      "Evaluating model:  34%|███▍      | 24/71 [00:03<00:06,  7.21it/s]"
     ]
    },
    {
     "name": "stdout",
     "output_type": "stream",
     "text": [
      "\n",
      "image 1/1 C:\\Users\\cucum\\Downloads\\COS40007\\week 6\\images\\test_selected\\IMG_20180717_095144.jpg: 640x480 1 Graffiti, 116.3ms\n",
      "Speed: 3.0ms preprocess, 116.3ms inference, 0.0ms postprocess per image at shape (1, 3, 640, 480)\n"
     ]
    },
    {
     "name": "stderr",
     "output_type": "stream",
     "text": [
      "Evaluating model:  35%|███▌      | 25/71 [00:03<00:06,  7.25it/s]"
     ]
    },
    {
     "name": "stdout",
     "output_type": "stream",
     "text": [
      "\n",
      "image 1/1 C:\\Users\\cucum\\Downloads\\COS40007\\week 6\\images\\test_selected\\IMG_20180717_095953.jpg: 640x480 7 Graffitis, 111.5ms\n",
      "Speed: 3.0ms preprocess, 111.5ms inference, 1.0ms postprocess per image at shape (1, 3, 640, 480)\n"
     ]
    },
    {
     "name": "stderr",
     "output_type": "stream",
     "text": [
      "Evaluating model:  37%|███▋      | 26/71 [00:03<00:06,  7.33it/s]"
     ]
    },
    {
     "name": "stdout",
     "output_type": "stream",
     "text": [
      "\n",
      "image 1/1 C:\\Users\\cucum\\Downloads\\COS40007\\week 6\\images\\test_selected\\IMG_20180717_105032.jpg: 640x480 (no detections), 164.6ms\n",
      "Speed: 2.0ms preprocess, 164.6ms inference, 0.0ms postprocess per image at shape (1, 3, 640, 480)\n"
     ]
    },
    {
     "name": "stderr",
     "output_type": "stream",
     "text": [
      "Evaluating model:  38%|███▊      | 27/71 [00:04<00:06,  6.66it/s]"
     ]
    },
    {
     "name": "stdout",
     "output_type": "stream",
     "text": [
      "\n",
      "image 1/1 C:\\Users\\cucum\\Downloads\\COS40007\\week 6\\images\\test_selected\\IMG_20180717_120957.jpg: 640x480 2 Graffitis, 121.5ms\n",
      "Speed: 2.0ms preprocess, 121.5ms inference, 1.0ms postprocess per image at shape (1, 3, 640, 480)\n"
     ]
    },
    {
     "name": "stderr",
     "output_type": "stream",
     "text": [
      "Evaluating model:  39%|███▉      | 28/71 [00:04<00:06,  6.82it/s]"
     ]
    },
    {
     "name": "stdout",
     "output_type": "stream",
     "text": [
      "\n",
      "image 1/1 C:\\Users\\cucum\\Downloads\\COS40007\\week 6\\images\\test_selected\\IMG_20180717_122331.jpg: 640x480 3 Graffitis, 113.2ms\n",
      "Speed: 1.0ms preprocess, 113.2ms inference, 1.0ms postprocess per image at shape (1, 3, 640, 480)\n"
     ]
    },
    {
     "name": "stderr",
     "output_type": "stream",
     "text": [
      "Evaluating model:  41%|████      | 29/71 [00:04<00:05,  7.04it/s]"
     ]
    },
    {
     "name": "stdout",
     "output_type": "stream",
     "text": [
      "\n",
      "image 1/1 C:\\Users\\cucum\\Downloads\\COS40007\\week 6\\images\\test_selected\\IMG_20180717_122754.jpg: 640x480 2 Graffitis, 119.4ms\n",
      "Speed: 2.0ms preprocess, 119.4ms inference, 0.0ms postprocess per image at shape (1, 3, 640, 480)\n"
     ]
    },
    {
     "name": "stderr",
     "output_type": "stream",
     "text": [
      "Evaluating model:  42%|████▏     | 30/71 [00:04<00:05,  7.14it/s]"
     ]
    },
    {
     "name": "stdout",
     "output_type": "stream",
     "text": [
      "\n",
      "image 1/1 C:\\Users\\cucum\\Downloads\\COS40007\\week 6\\images\\test_selected\\IMG_20180719_123752.jpg: 640x480 3 Graffitis, 115.6ms\n",
      "Speed: 1.0ms preprocess, 115.6ms inference, 1.0ms postprocess per image at shape (1, 3, 640, 480)\n"
     ]
    },
    {
     "name": "stderr",
     "output_type": "stream",
     "text": [
      "Evaluating model:  44%|████▎     | 31/71 [00:04<00:05,  7.26it/s]"
     ]
    },
    {
     "name": "stdout",
     "output_type": "stream",
     "text": [
      "\n",
      "image 1/1 C:\\Users\\cucum\\Downloads\\COS40007\\week 6\\images\\test_selected\\IMG_20180719_124651.jpg: 640x480 3 Graffitis, 125.8ms\n",
      "Speed: 2.1ms preprocess, 125.8ms inference, 0.0ms postprocess per image at shape (1, 3, 640, 480)\n"
     ]
    },
    {
     "name": "stderr",
     "output_type": "stream",
     "text": [
      "Evaluating model:  45%|████▌     | 32/71 [00:04<00:05,  7.11it/s]"
     ]
    },
    {
     "name": "stdout",
     "output_type": "stream",
     "text": [
      "\n",
      "image 1/1 C:\\Users\\cucum\\Downloads\\COS40007\\week 6\\images\\test_selected\\IMG_20180719_124828.jpg: 640x480 2 Graffitis, 133.8ms\n",
      "Speed: 1.0ms preprocess, 133.8ms inference, 0.0ms postprocess per image at shape (1, 3, 640, 480)\n"
     ]
    },
    {
     "name": "stderr",
     "output_type": "stream",
     "text": [
      "Evaluating model:  46%|████▋     | 33/71 [00:04<00:05,  6.93it/s]"
     ]
    },
    {
     "name": "stdout",
     "output_type": "stream",
     "text": [
      "\n",
      "image 1/1 C:\\Users\\cucum\\Downloads\\COS40007\\week 6\\images\\test_selected\\IMG_20180719_143723.jpg: 640x480 1 Graffiti, 150.1ms\n",
      "Speed: 2.0ms preprocess, 150.1ms inference, 0.0ms postprocess per image at shape (1, 3, 640, 480)\n"
     ]
    },
    {
     "name": "stderr",
     "output_type": "stream",
     "text": [
      "Evaluating model:  48%|████▊     | 34/71 [00:05<00:05,  6.61it/s]"
     ]
    },
    {
     "name": "stdout",
     "output_type": "stream",
     "text": [
      "\n",
      "image 1/1 C:\\Users\\cucum\\Downloads\\COS40007\\week 6\\images\\test_selected\\IMG_20180720_142111.jpg: 640x480 (no detections), 128.4ms\n",
      "Speed: 2.0ms preprocess, 128.4ms inference, 1.0ms postprocess per image at shape (1, 3, 640, 480)\n"
     ]
    },
    {
     "name": "stderr",
     "output_type": "stream",
     "text": [
      "Evaluating model:  49%|████▉     | 35/71 [00:05<00:05,  6.68it/s]"
     ]
    },
    {
     "name": "stdout",
     "output_type": "stream",
     "text": [
      "\n",
      "image 1/1 C:\\Users\\cucum\\Downloads\\COS40007\\week 6\\images\\test_selected\\IMG_20180720_142150.jpg: 640x480 (no detections), 117.6ms\n",
      "Speed: 3.0ms preprocess, 117.6ms inference, 1.0ms postprocess per image at shape (1, 3, 640, 480)\n"
     ]
    },
    {
     "name": "stderr",
     "output_type": "stream",
     "text": [
      "Evaluating model:  51%|█████     | 36/71 [00:05<00:05,  6.86it/s]"
     ]
    },
    {
     "name": "stdout",
     "output_type": "stream",
     "text": [
      "\n",
      "image 1/1 C:\\Users\\cucum\\Downloads\\COS40007\\week 6\\images\\test_selected\\IMG_20180720_142458.jpg: 640x480 (no detections), 119.9ms\n",
      "Speed: 2.0ms preprocess, 119.9ms inference, 1.0ms postprocess per image at shape (1, 3, 640, 480)\n"
     ]
    },
    {
     "name": "stderr",
     "output_type": "stream",
     "text": [
      "Evaluating model:  52%|█████▏    | 37/71 [00:05<00:04,  6.98it/s]"
     ]
    },
    {
     "name": "stdout",
     "output_type": "stream",
     "text": [
      "\n",
      "image 1/1 C:\\Users\\cucum\\Downloads\\COS40007\\week 6\\images\\test_selected\\IMG_20180720_142558.jpg: 640x480 2 Graffitis, 121.5ms\n",
      "Speed: 1.9ms preprocess, 121.5ms inference, 1.0ms postprocess per image at shape (1, 3, 640, 480)\n"
     ]
    },
    {
     "name": "stderr",
     "output_type": "stream",
     "text": [
      "Evaluating model:  54%|█████▎    | 38/71 [00:05<00:04,  7.05it/s]"
     ]
    },
    {
     "name": "stdout",
     "output_type": "stream",
     "text": [
      "\n",
      "image 1/1 C:\\Users\\cucum\\Downloads\\COS40007\\week 6\\images\\test_selected\\IMG_20180720_142731.jpg: 640x480 4 Graffitis, 114.1ms\n",
      "Speed: 1.1ms preprocess, 114.1ms inference, 0.0ms postprocess per image at shape (1, 3, 640, 480)\n"
     ]
    },
    {
     "name": "stderr",
     "output_type": "stream",
     "text": [
      "Evaluating model:  55%|█████▍    | 39/71 [00:05<00:04,  7.19it/s]"
     ]
    },
    {
     "name": "stdout",
     "output_type": "stream",
     "text": [
      "\n",
      "image 1/1 C:\\Users\\cucum\\Downloads\\COS40007\\week 6\\images\\test_selected\\IMG_20180720_143100.jpg: 640x480 (no detections), 137.8ms\n",
      "Speed: 9.0ms preprocess, 137.8ms inference, 1.0ms postprocess per image at shape (1, 3, 640, 480)\n"
     ]
    },
    {
     "name": "stderr",
     "output_type": "stream",
     "text": [
      "Evaluating model:  56%|█████▋    | 40/71 [00:05<00:04,  6.83it/s]"
     ]
    },
    {
     "name": "stdout",
     "output_type": "stream",
     "text": [
      "\n",
      "image 1/1 C:\\Users\\cucum\\Downloads\\COS40007\\week 6\\images\\test_selected\\IMG_20180721_090127.jpg: 640x480 1 Graffiti, 118.4ms\n",
      "Speed: 2.6ms preprocess, 118.4ms inference, 0.0ms postprocess per image at shape (1, 3, 640, 480)\n"
     ]
    },
    {
     "name": "stderr",
     "output_type": "stream",
     "text": [
      "Evaluating model:  58%|█████▊    | 41/71 [00:06<00:04,  6.98it/s]"
     ]
    },
    {
     "name": "stdout",
     "output_type": "stream",
     "text": [
      "\n",
      "image 1/1 C:\\Users\\cucum\\Downloads\\COS40007\\week 6\\images\\test_selected\\IMG_20180721_091732.jpg: 640x480 4 Graffitis, 125.3ms\n",
      "Speed: 2.0ms preprocess, 125.3ms inference, 0.0ms postprocess per image at shape (1, 3, 640, 480)\n"
     ]
    },
    {
     "name": "stderr",
     "output_type": "stream",
     "text": [
      "Evaluating model:  59%|█████▉    | 42/71 [00:06<00:04,  6.98it/s]"
     ]
    },
    {
     "name": "stdout",
     "output_type": "stream",
     "text": [
      "\n",
      "image 1/1 C:\\Users\\cucum\\Downloads\\COS40007\\week 6\\images\\test_selected\\IMG_20180723_123106.jpg: 640x480 3 Graffitis, 121.3ms\n",
      "Speed: 2.0ms preprocess, 121.3ms inference, 1.0ms postprocess per image at shape (1, 3, 640, 480)\n"
     ]
    },
    {
     "name": "stderr",
     "output_type": "stream",
     "text": [
      "Evaluating model:  61%|██████    | 43/71 [00:06<00:03,  7.08it/s]"
     ]
    },
    {
     "name": "stdout",
     "output_type": "stream",
     "text": [
      "\n",
      "image 1/1 C:\\Users\\cucum\\Downloads\\COS40007\\week 6\\images\\test_selected\\IMG_20180723_123119.jpg: 640x480 3 Graffitis, 116.6ms\n",
      "Speed: 2.0ms preprocess, 116.6ms inference, 1.0ms postprocess per image at shape (1, 3, 640, 480)\n"
     ]
    },
    {
     "name": "stderr",
     "output_type": "stream",
     "text": [
      "Evaluating model:  62%|██████▏   | 44/71 [00:06<00:03,  7.19it/s]"
     ]
    },
    {
     "name": "stdout",
     "output_type": "stream",
     "text": [
      "\n",
      "image 1/1 C:\\Users\\cucum\\Downloads\\COS40007\\week 6\\images\\test_selected\\IMG_20180723_123134.jpg: 640x480 1 Graffiti, 109.8ms\n",
      "Speed: 1.0ms preprocess, 109.8ms inference, 0.0ms postprocess per image at shape (1, 3, 640, 480)\n"
     ]
    },
    {
     "name": "stderr",
     "output_type": "stream",
     "text": [
      "Evaluating model:  63%|██████▎   | 45/71 [00:06<00:03,  7.39it/s]"
     ]
    },
    {
     "name": "stdout",
     "output_type": "stream",
     "text": [
      "\n",
      "image 1/1 C:\\Users\\cucum\\Downloads\\COS40007\\week 6\\images\\test_selected\\IMG_20180723_123154.jpg: 640x480 2 Graffitis, 110.5ms\n",
      "Speed: 1.0ms preprocess, 110.5ms inference, 1.0ms postprocess per image at shape (1, 3, 640, 480)\n"
     ]
    },
    {
     "name": "stderr",
     "output_type": "stream",
     "text": [
      "Evaluating model:  65%|██████▍   | 46/71 [00:06<00:03,  7.52it/s]"
     ]
    },
    {
     "name": "stdout",
     "output_type": "stream",
     "text": [
      "\n",
      "image 1/1 C:\\Users\\cucum\\Downloads\\COS40007\\week 6\\images\\test_selected\\IMG_20180723_123302.jpg: 640x480 8 Graffitis, 115.2ms\n",
      "Speed: 2.0ms preprocess, 115.2ms inference, 1.0ms postprocess per image at shape (1, 3, 640, 480)\n"
     ]
    },
    {
     "name": "stderr",
     "output_type": "stream",
     "text": [
      "Evaluating model:  66%|██████▌   | 47/71 [00:06<00:03,  7.54it/s]"
     ]
    },
    {
     "name": "stdout",
     "output_type": "stream",
     "text": [
      "\n",
      "image 1/1 C:\\Users\\cucum\\Downloads\\COS40007\\week 6\\images\\test_selected\\IMG_20180723_123340.jpg: 640x480 1 Graffiti, 160.9ms\n",
      "Speed: 1.1ms preprocess, 160.9ms inference, 1.0ms postprocess per image at shape (1, 3, 640, 480)\n"
     ]
    },
    {
     "name": "stderr",
     "output_type": "stream",
     "text": [
      "Evaluating model:  68%|██████▊   | 48/71 [00:07<00:03,  6.84it/s]"
     ]
    },
    {
     "name": "stdout",
     "output_type": "stream",
     "text": [
      "\n",
      "image 1/1 C:\\Users\\cucum\\Downloads\\COS40007\\week 6\\images\\test_selected\\IMG_20180723_145744.jpg: 640x480 1 Graffiti, 135.9ms\n",
      "Speed: 2.0ms preprocess, 135.9ms inference, 0.0ms postprocess per image at shape (1, 3, 640, 480)\n"
     ]
    },
    {
     "name": "stderr",
     "output_type": "stream",
     "text": [
      "Evaluating model:  69%|██████▉   | 49/71 [00:07<00:03,  6.71it/s]"
     ]
    },
    {
     "name": "stdout",
     "output_type": "stream",
     "text": [
      "\n",
      "image 1/1 C:\\Users\\cucum\\Downloads\\COS40007\\week 6\\images\\test_selected\\IMG_20180724_121309.jpg: 640x480 6 Graffitis, 123.5ms\n",
      "Speed: 2.0ms preprocess, 123.5ms inference, 1.0ms postprocess per image at shape (1, 3, 640, 480)\n"
     ]
    },
    {
     "name": "stderr",
     "output_type": "stream",
     "text": [
      "Evaluating model:  70%|███████   | 50/71 [00:07<00:03,  6.78it/s]"
     ]
    },
    {
     "name": "stdout",
     "output_type": "stream",
     "text": [
      "\n",
      "image 1/1 C:\\Users\\cucum\\Downloads\\COS40007\\week 6\\images\\test_selected\\IMG_20180724_121832.jpg: 640x480 6 Graffitis, 136.4ms\n",
      "Speed: 2.0ms preprocess, 136.4ms inference, 1.0ms postprocess per image at shape (1, 3, 640, 480)\n"
     ]
    },
    {
     "name": "stderr",
     "output_type": "stream",
     "text": [
      "Evaluating model:  72%|███████▏  | 51/71 [00:07<00:03,  6.64it/s]"
     ]
    },
    {
     "name": "stdout",
     "output_type": "stream",
     "text": [
      "\n",
      "image 1/1 C:\\Users\\cucum\\Downloads\\COS40007\\week 6\\images\\test_selected\\IMG_20180724_121957.jpg: 640x480 1 Graffiti, 118.9ms\n",
      "Speed: 2.0ms preprocess, 118.9ms inference, 1.0ms postprocess per image at shape (1, 3, 640, 480)\n"
     ]
    },
    {
     "name": "stderr",
     "output_type": "stream",
     "text": [
      "Evaluating model:  73%|███████▎  | 52/71 [00:07<00:02,  6.82it/s]"
     ]
    },
    {
     "name": "stdout",
     "output_type": "stream",
     "text": [
      "\n",
      "image 1/1 C:\\Users\\cucum\\Downloads\\COS40007\\week 6\\images\\test_selected\\IMG_20180724_123021.jpg: 640x480 (no detections), 122.1ms\n",
      "Speed: 2.0ms preprocess, 122.1ms inference, 0.0ms postprocess per image at shape (1, 3, 640, 480)\n"
     ]
    },
    {
     "name": "stderr",
     "output_type": "stream",
     "text": [
      "Evaluating model:  75%|███████▍  | 53/71 [00:07<00:02,  6.92it/s]"
     ]
    },
    {
     "name": "stdout",
     "output_type": "stream",
     "text": [
      "\n",
      "image 1/1 C:\\Users\\cucum\\Downloads\\COS40007\\week 6\\images\\test_selected\\IMG_20180724_123530.jpg: 640x480 (no detections), 104.8ms\n",
      "Speed: 2.0ms preprocess, 104.8ms inference, 1.0ms postprocess per image at shape (1, 3, 640, 480)\n"
     ]
    },
    {
     "name": "stderr",
     "output_type": "stream",
     "text": [
      "Evaluating model:  76%|███████▌  | 54/71 [00:07<00:02,  7.19it/s]"
     ]
    },
    {
     "name": "stdout",
     "output_type": "stream",
     "text": [
      "\n",
      "image 1/1 C:\\Users\\cucum\\Downloads\\COS40007\\week 6\\images\\test_selected\\IMG_20180724_123732.jpg: 640x480 2 Graffitis, 143.8ms\n",
      "Speed: 2.0ms preprocess, 143.8ms inference, 0.0ms postprocess per image at shape (1, 3, 640, 480)\n"
     ]
    },
    {
     "name": "stderr",
     "output_type": "stream",
     "text": [
      "Evaluating model:  77%|███████▋  | 55/71 [00:08<00:02,  6.80it/s]"
     ]
    },
    {
     "name": "stdout",
     "output_type": "stream",
     "text": [
      "\n",
      "image 1/1 C:\\Users\\cucum\\Downloads\\COS40007\\week 6\\images\\test_selected\\IMG_20180724_124841.jpg: 640x480 3 Graffitis, 124.7ms\n",
      "Speed: 2.0ms preprocess, 124.7ms inference, 1.0ms postprocess per image at shape (1, 3, 640, 480)\n"
     ]
    },
    {
     "name": "stderr",
     "output_type": "stream",
     "text": [
      "Evaluating model:  79%|███████▉  | 56/71 [00:08<00:02,  6.84it/s]"
     ]
    },
    {
     "name": "stdout",
     "output_type": "stream",
     "text": [
      "\n",
      "image 1/1 C:\\Users\\cucum\\Downloads\\COS40007\\week 6\\images\\test_selected\\IMG_20180724_125716.jpg: 640x480 1 Graffiti, 118.8ms\n",
      "Speed: 1.0ms preprocess, 118.8ms inference, 1.3ms postprocess per image at shape (1, 3, 640, 480)\n"
     ]
    },
    {
     "name": "stderr",
     "output_type": "stream",
     "text": [
      "Evaluating model:  80%|████████  | 57/71 [00:08<00:02,  6.99it/s]"
     ]
    },
    {
     "name": "stdout",
     "output_type": "stream",
     "text": [
      "\n",
      "image 1/1 C:\\Users\\cucum\\Downloads\\COS40007\\week 6\\images\\test_selected\\IMG_20180724_150928.jpg: 640x480 1 Graffiti, 114.1ms\n",
      "Speed: 2.0ms preprocess, 114.1ms inference, 1.0ms postprocess per image at shape (1, 3, 640, 480)\n"
     ]
    },
    {
     "name": "stderr",
     "output_type": "stream",
     "text": [
      "Evaluating model:  82%|████████▏ | 58/71 [00:08<00:01,  7.17it/s]"
     ]
    },
    {
     "name": "stdout",
     "output_type": "stream",
     "text": [
      "\n",
      "image 1/1 C:\\Users\\cucum\\Downloads\\COS40007\\week 6\\images\\test_selected\\IMG_20180725_120143.jpg: 640x480 1 Graffiti, 115.3ms\n",
      "Speed: 2.0ms preprocess, 115.3ms inference, 0.0ms postprocess per image at shape (1, 3, 640, 480)\n"
     ]
    },
    {
     "name": "stderr",
     "output_type": "stream",
     "text": [
      "Evaluating model:  83%|████████▎ | 59/71 [00:08<00:01,  7.26it/s]"
     ]
    },
    {
     "name": "stdout",
     "output_type": "stream",
     "text": [
      "\n",
      "image 1/1 C:\\Users\\cucum\\Downloads\\COS40007\\week 6\\images\\test_selected\\IMG_20180725_122016.jpg: 640x480 3 Graffitis, 116.2ms\n",
      "Speed: 1.0ms preprocess, 116.2ms inference, 1.0ms postprocess per image at shape (1, 3, 640, 480)\n"
     ]
    },
    {
     "name": "stderr",
     "output_type": "stream",
     "text": [
      "Evaluating model:  85%|████████▍ | 60/71 [00:08<00:01,  7.33it/s]"
     ]
    },
    {
     "name": "stdout",
     "output_type": "stream",
     "text": [
      "\n",
      "image 1/1 C:\\Users\\cucum\\Downloads\\COS40007\\week 6\\images\\test_selected\\IMG_20180725_122039.jpg: 640x480 (no detections), 115.9ms\n",
      "Speed: 2.1ms preprocess, 115.9ms inference, 1.0ms postprocess per image at shape (1, 3, 640, 480)\n"
     ]
    },
    {
     "name": "stderr",
     "output_type": "stream",
     "text": [
      "Evaluating model:  86%|████████▌ | 61/71 [00:08<00:01,  7.39it/s]"
     ]
    },
    {
     "name": "stdout",
     "output_type": "stream",
     "text": [
      "\n",
      "image 1/1 C:\\Users\\cucum\\Downloads\\COS40007\\week 6\\images\\test_selected\\IMG_20180725_122619.jpg: 640x480 1 Graffiti, 161.6ms\n",
      "Speed: 2.0ms preprocess, 161.6ms inference, 1.0ms postprocess per image at shape (1, 3, 640, 480)\n"
     ]
    },
    {
     "name": "stderr",
     "output_type": "stream",
     "text": [
      "Evaluating model:  87%|████████▋ | 62/71 [00:09<00:01,  6.73it/s]"
     ]
    },
    {
     "name": "stdout",
     "output_type": "stream",
     "text": [
      "\n",
      "image 1/1 C:\\Users\\cucum\\Downloads\\COS40007\\week 6\\images\\test_selected\\IMG_20180726_122312.jpg: 640x480 3 Graffitis, 123.9ms\n",
      "Speed: 2.1ms preprocess, 123.9ms inference, 1.0ms postprocess per image at shape (1, 3, 640, 480)\n"
     ]
    },
    {
     "name": "stderr",
     "output_type": "stream",
     "text": [
      "Evaluating model:  89%|████████▊ | 63/71 [00:09<00:01,  6.82it/s]"
     ]
    },
    {
     "name": "stdout",
     "output_type": "stream",
     "text": [
      "\n",
      "image 1/1 C:\\Users\\cucum\\Downloads\\COS40007\\week 6\\images\\test_selected\\IMG_20180726_122652.jpg: 640x480 2 Graffitis, 116.2ms\n",
      "Speed: 2.0ms preprocess, 116.2ms inference, 1.0ms postprocess per image at shape (1, 3, 640, 480)\n"
     ]
    },
    {
     "name": "stderr",
     "output_type": "stream",
     "text": [
      "Evaluating model:  90%|█████████ | 64/71 [00:09<00:00,  7.02it/s]"
     ]
    },
    {
     "name": "stdout",
     "output_type": "stream",
     "text": [
      "\n",
      "image 1/1 C:\\Users\\cucum\\Downloads\\COS40007\\week 6\\images\\test_selected\\IMG_20180810_085645.jpg: 640x480 (no detections), 115.5ms\n",
      "Speed: 1.5ms preprocess, 115.5ms inference, 0.0ms postprocess per image at shape (1, 3, 640, 480)\n"
     ]
    },
    {
     "name": "stderr",
     "output_type": "stream",
     "text": [
      "Evaluating model:  92%|█████████▏| 65/71 [00:09<00:00,  7.19it/s]"
     ]
    },
    {
     "name": "stdout",
     "output_type": "stream",
     "text": [
      "\n",
      "image 1/1 C:\\Users\\cucum\\Downloads\\COS40007\\week 6\\images\\test_selected\\IMG_20180810_092723.jpg: 640x480 1 Graffiti, 112.3ms\n",
      "Speed: 2.0ms preprocess, 112.3ms inference, 0.0ms postprocess per image at shape (1, 3, 640, 480)\n"
     ]
    },
    {
     "name": "stderr",
     "output_type": "stream",
     "text": [
      "Evaluating model:  93%|█████████▎| 66/71 [00:09<00:00,  7.36it/s]"
     ]
    },
    {
     "name": "stdout",
     "output_type": "stream",
     "text": [
      "\n",
      "image 1/1 C:\\Users\\cucum\\Downloads\\COS40007\\week 6\\images\\test_selected\\IMG_20180810_092957.jpg: 640x480 3 Graffitis, 119.1ms\n",
      "Speed: 1.0ms preprocess, 119.1ms inference, 1.0ms postprocess per image at shape (1, 3, 640, 480)\n"
     ]
    },
    {
     "name": "stderr",
     "output_type": "stream",
     "text": [
      "Evaluating model:  94%|█████████▍| 67/71 [00:09<00:00,  7.32it/s]"
     ]
    },
    {
     "name": "stdout",
     "output_type": "stream",
     "text": [
      "\n",
      "image 1/1 C:\\Users\\cucum\\Downloads\\COS40007\\week 6\\images\\test_selected\\IMG_20180810_093037.jpg: 640x480 2 Graffitis, 119.8ms\n",
      "Speed: 1.0ms preprocess, 119.8ms inference, 1.0ms postprocess per image at shape (1, 3, 640, 480)\n"
     ]
    },
    {
     "name": "stderr",
     "output_type": "stream",
     "text": [
      "Evaluating model:  96%|█████████▌| 68/71 [00:09<00:00,  7.33it/s]"
     ]
    },
    {
     "name": "stdout",
     "output_type": "stream",
     "text": [
      "\n",
      "image 1/1 C:\\Users\\cucum\\Downloads\\COS40007\\week 6\\images\\test_selected\\IMG_20180810_093330.jpg: 640x480 1 Graffiti, 175.7ms\n",
      "Speed: 2.0ms preprocess, 175.7ms inference, 0.0ms postprocess per image at shape (1, 3, 640, 480)\n"
     ]
    },
    {
     "name": "stderr",
     "output_type": "stream",
     "text": [
      "Evaluating model:  97%|█████████▋| 69/71 [00:10<00:00,  6.52it/s]"
     ]
    },
    {
     "name": "stdout",
     "output_type": "stream",
     "text": [
      "\n",
      "image 1/1 C:\\Users\\cucum\\Downloads\\COS40007\\week 6\\images\\test_selected\\IMG_20180811_083610.jpg: 640x480 1 Graffiti, 117.9ms\n",
      "Speed: 3.0ms preprocess, 117.9ms inference, 1.0ms postprocess per image at shape (1, 3, 640, 480)\n"
     ]
    },
    {
     "name": "stderr",
     "output_type": "stream",
     "text": [
      "Evaluating model:  99%|█████████▊| 70/71 [00:10<00:00,  6.67it/s]"
     ]
    },
    {
     "name": "stdout",
     "output_type": "stream",
     "text": [
      "\n",
      "image 1/1 C:\\Users\\cucum\\Downloads\\COS40007\\week 6\\images\\test_selected\\IMG_20180811_083858.jpg: 640x480 3 Graffitis, 120.0ms\n",
      "Speed: 2.0ms preprocess, 120.0ms inference, 1.0ms postprocess per image at shape (1, 3, 640, 480)\n"
     ]
    },
    {
     "name": "stderr",
     "output_type": "stream",
     "text": [
      "Evaluating model: 100%|██████████| 71/71 [00:10<00:00,  6.89it/s]\n"
     ]
    },
    {
     "ename": "KeyError",
     "evalue": "'IoU_value'",
     "output_type": "error",
     "traceback": [
      "\u001b[1;31m---------------------------------------------------------------------------\u001b[0m",
      "\u001b[1;31mKeyError\u001b[0m                                  Traceback (most recent call last)",
      "Cell \u001b[1;32mIn[19], line 56\u001b[0m\n\u001b[0;32m     53\u001b[0m df_results\u001b[38;5;241m.\u001b[39mto_csv(\u001b[38;5;124mf\u001b[39m\u001b[38;5;124m'\u001b[39m\u001b[38;5;124mweek-06-portfolio/evaluation_results_iter_\u001b[39m\u001b[38;5;132;01m{\u001b[39;00miteration\u001b[38;5;132;01m}\u001b[39;00m\u001b[38;5;124m.csv\u001b[39m\u001b[38;5;124m'\u001b[39m, index\u001b[38;5;241m=\u001b[39m\u001b[38;5;28;01mFalse\u001b[39;00m)\n\u001b[0;32m     55\u001b[0m \u001b[38;5;66;03m# Check IoU threshold\u001b[39;00m\n\u001b[1;32m---> 56\u001b[0m over_threshold \u001b[38;5;241m=\u001b[39m df_results[\u001b[43mdf_results\u001b[49m\u001b[43m[\u001b[49m\u001b[38;5;124;43m'\u001b[39;49m\u001b[38;5;124;43mIoU_value\u001b[39;49m\u001b[38;5;124;43m'\u001b[39;49m\u001b[43m]\u001b[49m \u001b[38;5;241m>\u001b[39m iou_threshold]\n\u001b[0;32m     57\u001b[0m \u001b[38;5;28;01mif\u001b[39;00m \u001b[38;5;28mlen\u001b[39m(over_threshold) \u001b[38;5;241m/\u001b[39m \u001b[38;5;28mlen\u001b[39m(df_results) \u001b[38;5;241m>\u001b[39m\u001b[38;5;241m=\u001b[39m \u001b[38;5;241m0.8\u001b[39m:\n\u001b[0;32m     58\u001b[0m     \u001b[38;5;28mprint\u001b[39m(\u001b[38;5;124mf\u001b[39m\u001b[38;5;124m\"\u001b[39m\u001b[38;5;124mIoU threshold met in iteration \u001b[39m\u001b[38;5;132;01m{\u001b[39;00miteration\u001b[38;5;132;01m}\u001b[39;00m\u001b[38;5;124m\"\u001b[39m)\n",
      "File \u001b[1;32mc:\\Users\\cucum\\AppData\\Local\\Programs\\Python\\Python312\\Lib\\site-packages\\pandas\\core\\frame.py:4102\u001b[0m, in \u001b[0;36mDataFrame.__getitem__\u001b[1;34m(self, key)\u001b[0m\n\u001b[0;32m   4100\u001b[0m \u001b[38;5;28;01mif\u001b[39;00m \u001b[38;5;28mself\u001b[39m\u001b[38;5;241m.\u001b[39mcolumns\u001b[38;5;241m.\u001b[39mnlevels \u001b[38;5;241m>\u001b[39m \u001b[38;5;241m1\u001b[39m:\n\u001b[0;32m   4101\u001b[0m     \u001b[38;5;28;01mreturn\u001b[39;00m \u001b[38;5;28mself\u001b[39m\u001b[38;5;241m.\u001b[39m_getitem_multilevel(key)\n\u001b[1;32m-> 4102\u001b[0m indexer \u001b[38;5;241m=\u001b[39m \u001b[38;5;28;43mself\u001b[39;49m\u001b[38;5;241;43m.\u001b[39;49m\u001b[43mcolumns\u001b[49m\u001b[38;5;241;43m.\u001b[39;49m\u001b[43mget_loc\u001b[49m\u001b[43m(\u001b[49m\u001b[43mkey\u001b[49m\u001b[43m)\u001b[49m\n\u001b[0;32m   4103\u001b[0m \u001b[38;5;28;01mif\u001b[39;00m is_integer(indexer):\n\u001b[0;32m   4104\u001b[0m     indexer \u001b[38;5;241m=\u001b[39m [indexer]\n",
      "File \u001b[1;32mc:\\Users\\cucum\\AppData\\Local\\Programs\\Python\\Python312\\Lib\\site-packages\\pandas\\core\\indexes\\range.py:417\u001b[0m, in \u001b[0;36mRangeIndex.get_loc\u001b[1;34m(self, key)\u001b[0m\n\u001b[0;32m    415\u001b[0m         \u001b[38;5;28;01mraise\u001b[39;00m \u001b[38;5;167;01mKeyError\u001b[39;00m(key) \u001b[38;5;28;01mfrom\u001b[39;00m \u001b[38;5;21;01merr\u001b[39;00m\n\u001b[0;32m    416\u001b[0m \u001b[38;5;28;01mif\u001b[39;00m \u001b[38;5;28misinstance\u001b[39m(key, Hashable):\n\u001b[1;32m--> 417\u001b[0m     \u001b[38;5;28;01mraise\u001b[39;00m \u001b[38;5;167;01mKeyError\u001b[39;00m(key)\n\u001b[0;32m    418\u001b[0m \u001b[38;5;28mself\u001b[39m\u001b[38;5;241m.\u001b[39m_check_indexing_error(key)\n\u001b[0;32m    419\u001b[0m \u001b[38;5;28;01mraise\u001b[39;00m \u001b[38;5;167;01mKeyError\u001b[39;00m(key)\n",
      "\u001b[1;31mKeyError\u001b[0m: 'IoU_value'"
     ]
    }
   ],
   "source": [
    "from torchvision.ops import box_iou \n",
    "iou_threshold = 0.9 \n",
    "satisfied = False \n",
    "iteration = 1 \n",
    "\n",
    "while not satisfied: \n",
    "    print(f\"\\nStarting iteration: {iteration}\") \n",
    "    \n",
    "    training_images = random.sample(os.listdir(r'C:\\Users\\cucum\\Downloads\\COS40007/week 6/images/train'), 400) \n",
    "    selected_train_image_dir = f\"images/train_selected_iter_{iteration}\" \n",
    "    selected_train_labels_dir = f\"labels/train_selected_iter_{iteration}\"  \n",
    "    if not os.path.exists(selected_train_image_dir): \n",
    "        os.makedirs(selected_train_image_dir) \n",
    "    if not os.path.exists(selected_train_labels_dir): \n",
    "        os.makedirs(selected_train_labels_dir) \n",
    "    \n",
    "    for img in training_images: \n",
    "        shutil.copy(os.path.join(r'C:\\Users\\cucum\\Downloads\\COS40007/week 6/images/train', img), os.path.join(selected_train_image_dir, img)) \n",
    "        label_file = os.path.splitext(img)[0] + '.txt' \n",
    "        src_label_path = os.path.join(r'C:\\Users\\cucum\\Downloads\\COS40007/week 6/labels/train', label_file) \n",
    "        dst_label_path = os.path.join(selected_train_labels_dir) \n",
    "        if os.path.exists(src_label_path): \n",
    "            shutil.copy(src_label_path, dst_label_path) \n",
    "    \n",
    "    train_images_path = os.path.abspath(selected_train_image_dir) \n",
    "    val_images_path = os.path.abspath(r'C:\\Users\\cucum\\Downloads\\COS40007/week 6/images/test_selected') \n",
    "    \n",
    "    yaml_file_path_iter = f\"yaml/graffiti_iter_{iteration}.yaml\" \n",
    "    create_yaml_file(yaml_file_path_iter, train_images_path, val_images_path, nc, class_name) \n",
    "    \n",
    "    if iteration == 1: \n",
    "        model = YOLO('yolov5su.pt') \n",
    "    else: \n",
    "        previous_model_path = '/week 6runs/train/graffiti_detection_iter_{iteration - 1}/weights/best.pt'  \n",
    "        model = YOLO(previous_model_path) \n",
    "    \n",
    "    model.train( \n",
    "            data=yaml_file_path_iter, \n",
    "            epochs=5, \n",
    "            imgsz=640,  \n",
    "            batch=16, \n",
    "            project='week 6/runs/train',\n",
    "            name=f'graffiti_detection_iter_{iteration}', \n",
    "            device=device \n",
    "    ) \n",
    "    \n",
    "    # Evaluate the model\n",
    "    output_images_dir_iter = f'week-06-portfolio/evaluation_images_iter_{iteration}'\n",
    "    if not os.path.exists(output_images_dir_iter):\n",
    "        os.makedirs(output_images_dir_iter)\n",
    "\n",
    "    df_results = evaluate_model(model, r'C:\\Users\\cucum\\Downloads\\COS40007/week 6/images/test_selected', r'C:\\Users\\cucum\\Downloads\\COS40007/week 6/labels/test_selected', output_images_dir_iter)\n",
    "    df_results.to_csv(f'week-06-portfolio/evaluation_results_iter_{iteration}.csv', index=False)\n",
    "\n",
    "    # Check IoU threshold\n",
    "    over_threshold = df_results[df_results['IoU_value'] > iou_threshold]\n",
    "    if len(over_threshold) / len(df_results) >= 0.8:\n",
    "        print(f\"IoU threshold met in iteration {iteration}\")\n",
    "        satisfied = True\n",
    "    else:\n",
    "        print(f\"IoU threshold not met in iteration {iteration}\")\n",
    "\n",
    "    # Prepare for next iteration\n",
    "    iteration += 1\n",
    "\n",
    "\n",
    "if not satisfied:\n",
    "    print(\"IoU threshold not met after all iterations.\")\n",
    "else:\n",
    "    print(\"Training completed successfully.\")"
   ]
  },
  {
   "cell_type": "markdown",
   "metadata": {},
   "source": [
    "Step 5"
   ]
  },
  {
   "cell_type": "code",
   "execution_count": 61,
   "metadata": {},
   "outputs": [],
   "source": [
    "import json\n",
    "import subprocess\n",
    "import re\n",
    "import requests\n",
    "from ultralytics import YOLO\n",
    "\n",
    "# Initialize the YOLOv5 model\n",
    "model = YOLO('yolov5su.pt')\n",
    "\n",
    "# Your Pexels API Key\n",
    "PEXELS_API = 'tRQkuTMLiGRfcBnpp9eBUY2INznat4KQbi8SbPIOv2QoQfBKGKH5LnmI'\n"
   ]
  },
  {
   "cell_type": "code",
   "execution_count": 50,
   "metadata": {},
   "outputs": [],
   "source": [
    "# Function to extract video ID from URL\n",
    "def extract_video_id(url):\n",
    "    # Regex pattern to extract the video ID (the digits at the end of the URL)\n",
    "    match = re.search(r'(\\d+)/$', url)\n",
    "    if match:\n",
    "        return match.group(1)\n",
    "    return None\n"
   ]
  },
  {
   "cell_type": "code",
   "execution_count": 51,
   "metadata": {},
   "outputs": [],
   "source": [
    "# Function to get the HD video link from Pexels API\n",
    "def get_hd_video_link(video_id):\n",
    "    url = f\"https://api.pexels.com/videos/videos/{video_id}\"\n",
    "    command = f'curl -H \"Authorization: {PEXELS_API}\" {url}'\n",
    "    \n",
    "    # Run the API request using subprocess\n",
    "    response = subprocess.run(command, shell=True, capture_output=True, text=True)\n",
    "    \n",
    "    try:\n",
    "        data = json.loads(response.stdout)\n",
    "        # Look for the HD link in video_files\n",
    "        for video_file in data['video_files']:\n",
    "            if video_file['quality'] == 'hd':\n",
    "                return video_file['link']\n",
    "    except json.JSONDecodeError:\n",
    "        print(f\"Failed to retrieve video data for ID: {video_id}\")\n",
    "        return None\n"
   ]
  },
  {
   "cell_type": "code",
   "execution_count": 52,
   "metadata": {},
   "outputs": [],
   "source": [
    "# Function to download the video\n",
    "def download_video(hd_link, save_path):\n",
    "    try:\n",
    "        response = requests.get(hd_link, stream=True)\n",
    "        with open(save_path, 'wb') as file:\n",
    "            for chunk in response.iter_content(chunk_size=1024):\n",
    "                file.write(chunk)\n",
    "        print(f\"Downloaded video to: {save_path}\")\n",
    "        return True\n",
    "    except Exception as e:\n",
    "        print(f\"Failed to download video: {e}\")\n",
    "        return False\n"
   ]
  },
  {
   "cell_type": "code",
   "execution_count": 53,
   "metadata": {},
   "outputs": [],
   "source": [
    "# List of video URLs\n",
    "urls = [\n",
    "    'https://www.pexels.com/video/a-door-with-graffiti-on-it-is-shown-4543511/', \n",
    "    'https://www.pexels.com/video/busy-street-footage-854181/', \n",
    "    'https://www.pexels.com/video/graffiti-painted-on-the-train-station-wall-3413463/', \n",
    "    'https://www.pexels.com/video/a-man-doing-backflip-6962437/'\n",
    "]\n"
   ]
  },
  {
   "cell_type": "code",
   "execution_count": 56,
   "metadata": {},
   "outputs": [
    {
     "name": "stdout",
     "output_type": "stream",
     "text": [
      "Failed to retrieve video data for ID: 4543511\n",
      "Failed to retrieve HD link for video ID: 4543511\n",
      "Failed to retrieve video data for ID: 854181\n",
      "Failed to retrieve HD link for video ID: 854181\n",
      "Failed to retrieve video data for ID: 3413463\n",
      "Failed to retrieve HD link for video ID: 3413463\n",
      "Failed to retrieve video data for ID: 6962437\n",
      "Failed to retrieve HD link for video ID: 6962437\n"
     ]
    }
   ],
   "source": [
    "# Iterate over the URLs, extract the video ID, fetch the HD link, and track objects\n",
    "for url in urls:\n",
    "    video_id = extract_video_id(url)\n",
    "    if video_id:\n",
    "        hd_link = get_hd_video_link(video_id)\n",
    "        if hd_link:\n",
    "            # Download the video\n",
    "            video_name = f'{video_id}.mp4'\n",
    "            if download_video(hd_link, video_name):\n",
    "                # Track objects in the video\n",
    "                print(f\"Tracking objects in {video_name}...\")\n",
    "                results = model.track(source=video_name, save=True, project=f'results', tracker=\"bytetrack.yaml\")\n",
    "        else:\n",
    "            print(f\"Failed to retrieve HD link for video ID: {video_id}\")\n",
    "    else:\n",
    "        print(f\"Could not extract video ID from URL: {url}\")\n"
   ]
  },
  {
   "cell_type": "code",
   "execution_count": 60,
   "metadata": {},
   "outputs": [
    {
     "name": "stdout",
     "output_type": "stream",
     "text": [
      "\n",
      "\n",
      "WARNING  inference results will accumulate in RAM unless `stream=True` is passed, causing potential out-of-memory\n",
      "errors for large sources or long-running streams and videos. See https://docs.ultralytics.com/modes/predict/ for help.\n",
      "\n",
      "Example:\n",
      "    results = model(source=..., stream=True)  # generator of Results objects\n",
      "    for r in results:\n",
      "        boxes = r.boxes  # Boxes object for bbox outputs\n",
      "        masks = r.masks  # Masks object for segment masks outputs\n",
      "        probs = r.probs  # Class probabilities for classification outputs\n",
      "\n",
      "video 1/1 (frame 1/189) c:\\Users\\cucum\\Downloads\\COS40007\\week 6\\6962437-hd_1920_1080_25fps.mp4: 384x640 1 person, 1 tv, 128.4ms\n",
      "video 1/1 (frame 2/189) c:\\Users\\cucum\\Downloads\\COS40007\\week 6\\6962437-hd_1920_1080_25fps.mp4: 384x640 1 person, 1 tv, 112.8ms\n",
      "video 1/1 (frame 3/189) c:\\Users\\cucum\\Downloads\\COS40007\\week 6\\6962437-hd_1920_1080_25fps.mp4: 384x640 1 person, 1 tv, 156.1ms\n",
      "video 1/1 (frame 4/189) c:\\Users\\cucum\\Downloads\\COS40007\\week 6\\6962437-hd_1920_1080_25fps.mp4: 384x640 1 person, 1 tv, 133.5ms\n",
      "video 1/1 (frame 5/189) c:\\Users\\cucum\\Downloads\\COS40007\\week 6\\6962437-hd_1920_1080_25fps.mp4: 384x640 1 person, 1 tv, 262.1ms\n",
      "video 1/1 (frame 6/189) c:\\Users\\cucum\\Downloads\\COS40007\\week 6\\6962437-hd_1920_1080_25fps.mp4: 384x640 1 person, 1 tv, 291.6ms\n",
      "video 1/1 (frame 7/189) c:\\Users\\cucum\\Downloads\\COS40007\\week 6\\6962437-hd_1920_1080_25fps.mp4: 384x640 1 person, 1 tv, 235.3ms\n",
      "video 1/1 (frame 8/189) c:\\Users\\cucum\\Downloads\\COS40007\\week 6\\6962437-hd_1920_1080_25fps.mp4: 384x640 1 person, 1 laptop, 196.5ms\n",
      "video 1/1 (frame 9/189) c:\\Users\\cucum\\Downloads\\COS40007\\week 6\\6962437-hd_1920_1080_25fps.mp4: 384x640 1 person, 1 tv, 276.4ms\n",
      "video 1/1 (frame 10/189) c:\\Users\\cucum\\Downloads\\COS40007\\week 6\\6962437-hd_1920_1080_25fps.mp4: 384x640 1 person, 276.0ms\n",
      "video 1/1 (frame 11/189) c:\\Users\\cucum\\Downloads\\COS40007\\week 6\\6962437-hd_1920_1080_25fps.mp4: 384x640 1 person, 291.2ms\n",
      "video 1/1 (frame 12/189) c:\\Users\\cucum\\Downloads\\COS40007\\week 6\\6962437-hd_1920_1080_25fps.mp4: 384x640 1 person, 1 tv, 283.2ms\n",
      "video 1/1 (frame 13/189) c:\\Users\\cucum\\Downloads\\COS40007\\week 6\\6962437-hd_1920_1080_25fps.mp4: 384x640 1 person, 1 tv, 275.3ms\n",
      "video 1/1 (frame 14/189) c:\\Users\\cucum\\Downloads\\COS40007\\week 6\\6962437-hd_1920_1080_25fps.mp4: 384x640 1 person, 1 tv, 244.2ms\n",
      "video 1/1 (frame 15/189) c:\\Users\\cucum\\Downloads\\COS40007\\week 6\\6962437-hd_1920_1080_25fps.mp4: 384x640 1 person, 1 tv, 208.2ms\n",
      "video 1/1 (frame 16/189) c:\\Users\\cucum\\Downloads\\COS40007\\week 6\\6962437-hd_1920_1080_25fps.mp4: 384x640 1 person, 1 tv, 191.9ms\n",
      "video 1/1 (frame 17/189) c:\\Users\\cucum\\Downloads\\COS40007\\week 6\\6962437-hd_1920_1080_25fps.mp4: 384x640 1 person, 199.5ms\n",
      "video 1/1 (frame 18/189) c:\\Users\\cucum\\Downloads\\COS40007\\week 6\\6962437-hd_1920_1080_25fps.mp4: 384x640 1 person, 220.3ms\n",
      "video 1/1 (frame 19/189) c:\\Users\\cucum\\Downloads\\COS40007\\week 6\\6962437-hd_1920_1080_25fps.mp4: 384x640 1 person, 200.7ms\n",
      "video 1/1 (frame 20/189) c:\\Users\\cucum\\Downloads\\COS40007\\week 6\\6962437-hd_1920_1080_25fps.mp4: 384x640 1 person, 1 tv, 247.8ms\n",
      "video 1/1 (frame 21/189) c:\\Users\\cucum\\Downloads\\COS40007\\week 6\\6962437-hd_1920_1080_25fps.mp4: 384x640 1 person, 1 tv, 154.6ms\n",
      "video 1/1 (frame 22/189) c:\\Users\\cucum\\Downloads\\COS40007\\week 6\\6962437-hd_1920_1080_25fps.mp4: 384x640 1 person, 1 tv, 193.1ms\n",
      "video 1/1 (frame 23/189) c:\\Users\\cucum\\Downloads\\COS40007\\week 6\\6962437-hd_1920_1080_25fps.mp4: 384x640 1 person, 1 tv, 191.0ms\n",
      "video 1/1 (frame 24/189) c:\\Users\\cucum\\Downloads\\COS40007\\week 6\\6962437-hd_1920_1080_25fps.mp4: 384x640 1 person, 1 tv, 161.3ms\n",
      "video 1/1 (frame 25/189) c:\\Users\\cucum\\Downloads\\COS40007\\week 6\\6962437-hd_1920_1080_25fps.mp4: 384x640 1 person, 1 tv, 125.7ms\n",
      "video 1/1 (frame 26/189) c:\\Users\\cucum\\Downloads\\COS40007\\week 6\\6962437-hd_1920_1080_25fps.mp4: 384x640 1 person, 1 tv, 163.4ms\n",
      "video 1/1 (frame 27/189) c:\\Users\\cucum\\Downloads\\COS40007\\week 6\\6962437-hd_1920_1080_25fps.mp4: 384x640 1 person, 1 tv, 204.0ms\n",
      "video 1/1 (frame 28/189) c:\\Users\\cucum\\Downloads\\COS40007\\week 6\\6962437-hd_1920_1080_25fps.mp4: 384x640 1 person, 1 tv, 187.1ms\n",
      "video 1/1 (frame 29/189) c:\\Users\\cucum\\Downloads\\COS40007\\week 6\\6962437-hd_1920_1080_25fps.mp4: 384x640 1 person, 1 tv, 140.1ms\n",
      "video 1/1 (frame 30/189) c:\\Users\\cucum\\Downloads\\COS40007\\week 6\\6962437-hd_1920_1080_25fps.mp4: 384x640 1 person, 1 tv, 132.5ms\n",
      "video 1/1 (frame 31/189) c:\\Users\\cucum\\Downloads\\COS40007\\week 6\\6962437-hd_1920_1080_25fps.mp4: 384x640 1 person, 1 tv, 163.2ms\n",
      "video 1/1 (frame 32/189) c:\\Users\\cucum\\Downloads\\COS40007\\week 6\\6962437-hd_1920_1080_25fps.mp4: 384x640 1 person, 1 tv, 164.9ms\n",
      "video 1/1 (frame 33/189) c:\\Users\\cucum\\Downloads\\COS40007\\week 6\\6962437-hd_1920_1080_25fps.mp4: 384x640 1 person, 1 tv, 139.2ms\n",
      "video 1/1 (frame 34/189) c:\\Users\\cucum\\Downloads\\COS40007\\week 6\\6962437-hd_1920_1080_25fps.mp4: 384x640 1 person, 2 tvs, 159.3ms\n",
      "video 1/1 (frame 35/189) c:\\Users\\cucum\\Downloads\\COS40007\\week 6\\6962437-hd_1920_1080_25fps.mp4: 384x640 1 person, 2 tvs, 162.0ms\n",
      "video 1/1 (frame 36/189) c:\\Users\\cucum\\Downloads\\COS40007\\week 6\\6962437-hd_1920_1080_25fps.mp4: 384x640 1 person, 2 tvs, 139.9ms\n",
      "video 1/1 (frame 37/189) c:\\Users\\cucum\\Downloads\\COS40007\\week 6\\6962437-hd_1920_1080_25fps.mp4: 384x640 1 person, 2 tvs, 180.1ms\n",
      "video 1/1 (frame 38/189) c:\\Users\\cucum\\Downloads\\COS40007\\week 6\\6962437-hd_1920_1080_25fps.mp4: 384x640 1 person, 2 tvs, 204.4ms\n",
      "video 1/1 (frame 39/189) c:\\Users\\cucum\\Downloads\\COS40007\\week 6\\6962437-hd_1920_1080_25fps.mp4: 384x640 1 person, 2 tvs, 143.5ms\n",
      "video 1/1 (frame 40/189) c:\\Users\\cucum\\Downloads\\COS40007\\week 6\\6962437-hd_1920_1080_25fps.mp4: 384x640 1 person, 2 tvs, 141.8ms\n",
      "video 1/1 (frame 41/189) c:\\Users\\cucum\\Downloads\\COS40007\\week 6\\6962437-hd_1920_1080_25fps.mp4: 384x640 1 person, 2 tvs, 202.4ms\n",
      "video 1/1 (frame 42/189) c:\\Users\\cucum\\Downloads\\COS40007\\week 6\\6962437-hd_1920_1080_25fps.mp4: 384x640 1 person, 2 tvs, 166.8ms\n",
      "video 1/1 (frame 43/189) c:\\Users\\cucum\\Downloads\\COS40007\\week 6\\6962437-hd_1920_1080_25fps.mp4: 384x640 1 person, 2 tvs, 163.9ms\n",
      "video 1/1 (frame 44/189) c:\\Users\\cucum\\Downloads\\COS40007\\week 6\\6962437-hd_1920_1080_25fps.mp4: 384x640 1 person, 2 tvs, 138.0ms\n",
      "video 1/1 (frame 45/189) c:\\Users\\cucum\\Downloads\\COS40007\\week 6\\6962437-hd_1920_1080_25fps.mp4: 384x640 1 person, 2 tvs, 127.5ms\n",
      "video 1/1 (frame 46/189) c:\\Users\\cucum\\Downloads\\COS40007\\week 6\\6962437-hd_1920_1080_25fps.mp4: 384x640 1 person, 2 tvs, 130.5ms\n",
      "video 1/1 (frame 47/189) c:\\Users\\cucum\\Downloads\\COS40007\\week 6\\6962437-hd_1920_1080_25fps.mp4: 384x640 1 person, 2 tvs, 164.6ms\n",
      "video 1/1 (frame 48/189) c:\\Users\\cucum\\Downloads\\COS40007\\week 6\\6962437-hd_1920_1080_25fps.mp4: 384x640 1 person, 2 tvs, 168.8ms\n",
      "video 1/1 (frame 49/189) c:\\Users\\cucum\\Downloads\\COS40007\\week 6\\6962437-hd_1920_1080_25fps.mp4: 384x640 1 person, 2 tvs, 194.7ms\n",
      "video 1/1 (frame 50/189) c:\\Users\\cucum\\Downloads\\COS40007\\week 6\\6962437-hd_1920_1080_25fps.mp4: 384x640 1 person, 2 tvs, 178.2ms\n",
      "video 1/1 (frame 51/189) c:\\Users\\cucum\\Downloads\\COS40007\\week 6\\6962437-hd_1920_1080_25fps.mp4: 384x640 2 tvs, 190.9ms\n",
      "video 1/1 (frame 52/189) c:\\Users\\cucum\\Downloads\\COS40007\\week 6\\6962437-hd_1920_1080_25fps.mp4: 384x640 2 tvs, 147.2ms\n",
      "video 1/1 (frame 53/189) c:\\Users\\cucum\\Downloads\\COS40007\\week 6\\6962437-hd_1920_1080_25fps.mp4: 384x640 1 person, 2 tvs, 198.2ms\n",
      "video 1/1 (frame 54/189) c:\\Users\\cucum\\Downloads\\COS40007\\week 6\\6962437-hd_1920_1080_25fps.mp4: 384x640 1 person, 2 tvs, 161.3ms\n",
      "video 1/1 (frame 55/189) c:\\Users\\cucum\\Downloads\\COS40007\\week 6\\6962437-hd_1920_1080_25fps.mp4: 384x640 1 person, 2 tvs, 138.2ms\n",
      "video 1/1 (frame 56/189) c:\\Users\\cucum\\Downloads\\COS40007\\week 6\\6962437-hd_1920_1080_25fps.mp4: 384x640 1 person, 2 tvs, 136.8ms\n",
      "video 1/1 (frame 57/189) c:\\Users\\cucum\\Downloads\\COS40007\\week 6\\6962437-hd_1920_1080_25fps.mp4: 384x640 1 person, 2 tvs, 130.1ms\n",
      "video 1/1 (frame 58/189) c:\\Users\\cucum\\Downloads\\COS40007\\week 6\\6962437-hd_1920_1080_25fps.mp4: 384x640 1 person, 2 tvs, 156.1ms\n",
      "video 1/1 (frame 59/189) c:\\Users\\cucum\\Downloads\\COS40007\\week 6\\6962437-hd_1920_1080_25fps.mp4: 384x640 1 person, 2 tvs, 189.5ms\n",
      "video 1/1 (frame 60/189) c:\\Users\\cucum\\Downloads\\COS40007\\week 6\\6962437-hd_1920_1080_25fps.mp4: 384x640 1 person, 2 tvs, 174.2ms\n",
      "video 1/1 (frame 61/189) c:\\Users\\cucum\\Downloads\\COS40007\\week 6\\6962437-hd_1920_1080_25fps.mp4: 384x640 1 person, 2 tvs, 152.5ms\n",
      "video 1/1 (frame 62/189) c:\\Users\\cucum\\Downloads\\COS40007\\week 6\\6962437-hd_1920_1080_25fps.mp4: 384x640 3 tvs, 206.4ms\n",
      "video 1/1 (frame 63/189) c:\\Users\\cucum\\Downloads\\COS40007\\week 6\\6962437-hd_1920_1080_25fps.mp4: 384x640 3 tvs, 222.2ms\n",
      "video 1/1 (frame 64/189) c:\\Users\\cucum\\Downloads\\COS40007\\week 6\\6962437-hd_1920_1080_25fps.mp4: 384x640 3 tvs, 151.4ms\n",
      "video 1/1 (frame 65/189) c:\\Users\\cucum\\Downloads\\COS40007\\week 6\\6962437-hd_1920_1080_25fps.mp4: 384x640 3 tvs, 142.9ms\n",
      "video 1/1 (frame 66/189) c:\\Users\\cucum\\Downloads\\COS40007\\week 6\\6962437-hd_1920_1080_25fps.mp4: 384x640 3 tvs, 203.6ms\n",
      "video 1/1 (frame 67/189) c:\\Users\\cucum\\Downloads\\COS40007\\week 6\\6962437-hd_1920_1080_25fps.mp4: 384x640 3 tvs, 166.4ms\n",
      "video 1/1 (frame 68/189) c:\\Users\\cucum\\Downloads\\COS40007\\week 6\\6962437-hd_1920_1080_25fps.mp4: 384x640 3 tvs, 261.4ms\n",
      "video 1/1 (frame 69/189) c:\\Users\\cucum\\Downloads\\COS40007\\week 6\\6962437-hd_1920_1080_25fps.mp4: 384x640 2 tvs, 214.2ms\n",
      "video 1/1 (frame 70/189) c:\\Users\\cucum\\Downloads\\COS40007\\week 6\\6962437-hd_1920_1080_25fps.mp4: 384x640 2 tvs, 160.0ms\n",
      "video 1/1 (frame 71/189) c:\\Users\\cucum\\Downloads\\COS40007\\week 6\\6962437-hd_1920_1080_25fps.mp4: 384x640 2 tvs, 150.8ms\n",
      "video 1/1 (frame 72/189) c:\\Users\\cucum\\Downloads\\COS40007\\week 6\\6962437-hd_1920_1080_25fps.mp4: 384x640 1 tv, 155.3ms\n",
      "video 1/1 (frame 73/189) c:\\Users\\cucum\\Downloads\\COS40007\\week 6\\6962437-hd_1920_1080_25fps.mp4: 384x640 1 tv, 152.9ms\n",
      "video 1/1 (frame 74/189) c:\\Users\\cucum\\Downloads\\COS40007\\week 6\\6962437-hd_1920_1080_25fps.mp4: 384x640 1 tv, 181.5ms\n",
      "video 1/1 (frame 75/189) c:\\Users\\cucum\\Downloads\\COS40007\\week 6\\6962437-hd_1920_1080_25fps.mp4: 384x640 1 tv, 155.3ms\n",
      "video 1/1 (frame 76/189) c:\\Users\\cucum\\Downloads\\COS40007\\week 6\\6962437-hd_1920_1080_25fps.mp4: 384x640 1 person, 1 tv, 207.8ms\n",
      "video 1/1 (frame 77/189) c:\\Users\\cucum\\Downloads\\COS40007\\week 6\\6962437-hd_1920_1080_25fps.mp4: 384x640 1 person, 1 tv, 180.4ms\n",
      "video 1/1 (frame 78/189) c:\\Users\\cucum\\Downloads\\COS40007\\week 6\\6962437-hd_1920_1080_25fps.mp4: 384x640 1 person, 1 tv, 181.4ms\n",
      "video 1/1 (frame 79/189) c:\\Users\\cucum\\Downloads\\COS40007\\week 6\\6962437-hd_1920_1080_25fps.mp4: 384x640 1 person, 2 tvs, 215.8ms\n",
      "video 1/1 (frame 80/189) c:\\Users\\cucum\\Downloads\\COS40007\\week 6\\6962437-hd_1920_1080_25fps.mp4: 384x640 1 person, 2 tvs, 225.6ms\n",
      "video 1/1 (frame 81/189) c:\\Users\\cucum\\Downloads\\COS40007\\week 6\\6962437-hd_1920_1080_25fps.mp4: 384x640 1 person, 2 tvs, 214.9ms\n",
      "video 1/1 (frame 82/189) c:\\Users\\cucum\\Downloads\\COS40007\\week 6\\6962437-hd_1920_1080_25fps.mp4: 384x640 1 person, 2 tvs, 198.8ms\n",
      "video 1/1 (frame 83/189) c:\\Users\\cucum\\Downloads\\COS40007\\week 6\\6962437-hd_1920_1080_25fps.mp4: 384x640 1 person, 2 tvs, 220.9ms\n",
      "video 1/1 (frame 84/189) c:\\Users\\cucum\\Downloads\\COS40007\\week 6\\6962437-hd_1920_1080_25fps.mp4: 384x640 1 person, 2 tvs, 190.5ms\n",
      "video 1/1 (frame 85/189) c:\\Users\\cucum\\Downloads\\COS40007\\week 6\\6962437-hd_1920_1080_25fps.mp4: 384x640 1 person, 2 tvs, 188.4ms\n",
      "video 1/1 (frame 86/189) c:\\Users\\cucum\\Downloads\\COS40007\\week 6\\6962437-hd_1920_1080_25fps.mp4: 384x640 1 person, 2 tvs, 199.2ms\n",
      "video 1/1 (frame 87/189) c:\\Users\\cucum\\Downloads\\COS40007\\week 6\\6962437-hd_1920_1080_25fps.mp4: 384x640 1 person, 2 tvs, 197.4ms\n",
      "video 1/1 (frame 88/189) c:\\Users\\cucum\\Downloads\\COS40007\\week 6\\6962437-hd_1920_1080_25fps.mp4: 384x640 1 person, 2 tvs, 224.5ms\n",
      "video 1/1 (frame 89/189) c:\\Users\\cucum\\Downloads\\COS40007\\week 6\\6962437-hd_1920_1080_25fps.mp4: 384x640 1 person, 2 tvs, 174.8ms\n",
      "video 1/1 (frame 90/189) c:\\Users\\cucum\\Downloads\\COS40007\\week 6\\6962437-hd_1920_1080_25fps.mp4: 384x640 1 person, 2 tvs, 175.2ms\n",
      "video 1/1 (frame 91/189) c:\\Users\\cucum\\Downloads\\COS40007\\week 6\\6962437-hd_1920_1080_25fps.mp4: 384x640 1 person, 2 tvs, 184.1ms\n",
      "video 1/1 (frame 92/189) c:\\Users\\cucum\\Downloads\\COS40007\\week 6\\6962437-hd_1920_1080_25fps.mp4: 384x640 1 person, 2 tvs, 177.6ms\n",
      "video 1/1 (frame 93/189) c:\\Users\\cucum\\Downloads\\COS40007\\week 6\\6962437-hd_1920_1080_25fps.mp4: 384x640 1 person, 2 tvs, 206.8ms\n",
      "video 1/1 (frame 94/189) c:\\Users\\cucum\\Downloads\\COS40007\\week 6\\6962437-hd_1920_1080_25fps.mp4: 384x640 1 person, 2 tvs, 164.8ms\n",
      "video 1/1 (frame 95/189) c:\\Users\\cucum\\Downloads\\COS40007\\week 6\\6962437-hd_1920_1080_25fps.mp4: 384x640 1 person, 2 tvs, 148.5ms\n",
      "video 1/1 (frame 96/189) c:\\Users\\cucum\\Downloads\\COS40007\\week 6\\6962437-hd_1920_1080_25fps.mp4: 384x640 1 person, 2 tvs, 126.9ms\n",
      "video 1/1 (frame 97/189) c:\\Users\\cucum\\Downloads\\COS40007\\week 6\\6962437-hd_1920_1080_25fps.mp4: 384x640 1 person, 2 tvs, 174.8ms\n",
      "video 1/1 (frame 98/189) c:\\Users\\cucum\\Downloads\\COS40007\\week 6\\6962437-hd_1920_1080_25fps.mp4: 384x640 1 person, 2 tvs, 173.8ms\n",
      "video 1/1 (frame 99/189) c:\\Users\\cucum\\Downloads\\COS40007\\week 6\\6962437-hd_1920_1080_25fps.mp4: 384x640 1 person, 2 tvs, 127.7ms\n",
      "video 1/1 (frame 100/189) c:\\Users\\cucum\\Downloads\\COS40007\\week 6\\6962437-hd_1920_1080_25fps.mp4: 384x640 1 person, 2 tvs, 221.8ms\n",
      "video 1/1 (frame 101/189) c:\\Users\\cucum\\Downloads\\COS40007\\week 6\\6962437-hd_1920_1080_25fps.mp4: 384x640 1 person, 2 tvs, 201.8ms\n",
      "video 1/1 (frame 102/189) c:\\Users\\cucum\\Downloads\\COS40007\\week 6\\6962437-hd_1920_1080_25fps.mp4: 384x640 1 person, 2 tvs, 164.3ms\n",
      "video 1/1 (frame 103/189) c:\\Users\\cucum\\Downloads\\COS40007\\week 6\\6962437-hd_1920_1080_25fps.mp4: 384x640 1 person, 2 tvs, 139.7ms\n",
      "video 1/1 (frame 104/189) c:\\Users\\cucum\\Downloads\\COS40007\\week 6\\6962437-hd_1920_1080_25fps.mp4: 384x640 1 person, 2 tvs, 205.8ms\n",
      "video 1/1 (frame 105/189) c:\\Users\\cucum\\Downloads\\COS40007\\week 6\\6962437-hd_1920_1080_25fps.mp4: 384x640 1 person, 2 tvs, 175.8ms\n",
      "video 1/1 (frame 106/189) c:\\Users\\cucum\\Downloads\\COS40007\\week 6\\6962437-hd_1920_1080_25fps.mp4: 384x640 1 person, 3 tvs, 156.5ms\n",
      "video 1/1 (frame 107/189) c:\\Users\\cucum\\Downloads\\COS40007\\week 6\\6962437-hd_1920_1080_25fps.mp4: 384x640 1 person, 3 tvs, 158.4ms\n",
      "video 1/1 (frame 108/189) c:\\Users\\cucum\\Downloads\\COS40007\\week 6\\6962437-hd_1920_1080_25fps.mp4: 384x640 1 person, 3 tvs, 158.7ms\n",
      "video 1/1 (frame 109/189) c:\\Users\\cucum\\Downloads\\COS40007\\week 6\\6962437-hd_1920_1080_25fps.mp4: 384x640 1 person, 3 tvs, 172.0ms\n",
      "video 1/1 (frame 110/189) c:\\Users\\cucum\\Downloads\\COS40007\\week 6\\6962437-hd_1920_1080_25fps.mp4: 384x640 1 person, 3 tvs, 156.7ms\n",
      "video 1/1 (frame 111/189) c:\\Users\\cucum\\Downloads\\COS40007\\week 6\\6962437-hd_1920_1080_25fps.mp4: 384x640 1 person, 3 tvs, 175.1ms\n",
      "video 1/1 (frame 112/189) c:\\Users\\cucum\\Downloads\\COS40007\\week 6\\6962437-hd_1920_1080_25fps.mp4: 384x640 1 person, 3 tvs, 182.6ms\n",
      "video 1/1 (frame 113/189) c:\\Users\\cucum\\Downloads\\COS40007\\week 6\\6962437-hd_1920_1080_25fps.mp4: 384x640 1 person, 3 tvs, 190.6ms\n",
      "video 1/1 (frame 114/189) c:\\Users\\cucum\\Downloads\\COS40007\\week 6\\6962437-hd_1920_1080_25fps.mp4: 384x640 1 person, 3 tvs, 184.3ms\n",
      "video 1/1 (frame 115/189) c:\\Users\\cucum\\Downloads\\COS40007\\week 6\\6962437-hd_1920_1080_25fps.mp4: 384x640 1 person, 3 tvs, 191.7ms\n",
      "video 1/1 (frame 116/189) c:\\Users\\cucum\\Downloads\\COS40007\\week 6\\6962437-hd_1920_1080_25fps.mp4: 384x640 1 person, 3 tvs, 169.9ms\n",
      "video 1/1 (frame 117/189) c:\\Users\\cucum\\Downloads\\COS40007\\week 6\\6962437-hd_1920_1080_25fps.mp4: 384x640 1 person, 3 tvs, 184.2ms\n",
      "video 1/1 (frame 118/189) c:\\Users\\cucum\\Downloads\\COS40007\\week 6\\6962437-hd_1920_1080_25fps.mp4: 384x640 1 person, 3 tvs, 176.8ms\n",
      "video 1/1 (frame 119/189) c:\\Users\\cucum\\Downloads\\COS40007\\week 6\\6962437-hd_1920_1080_25fps.mp4: 384x640 1 person, 3 tvs, 140.9ms\n",
      "video 1/1 (frame 120/189) c:\\Users\\cucum\\Downloads\\COS40007\\week 6\\6962437-hd_1920_1080_25fps.mp4: 384x640 1 person, 2 tvs, 199.5ms\n",
      "video 1/1 (frame 121/189) c:\\Users\\cucum\\Downloads\\COS40007\\week 6\\6962437-hd_1920_1080_25fps.mp4: 384x640 1 person, 2 tvs, 155.4ms\n",
      "video 1/1 (frame 122/189) c:\\Users\\cucum\\Downloads\\COS40007\\week 6\\6962437-hd_1920_1080_25fps.mp4: 384x640 1 person, 2 tvs, 209.0ms\n",
      "video 1/1 (frame 123/189) c:\\Users\\cucum\\Downloads\\COS40007\\week 6\\6962437-hd_1920_1080_25fps.mp4: 384x640 1 person, 2 tvs, 146.1ms\n",
      "video 1/1 (frame 124/189) c:\\Users\\cucum\\Downloads\\COS40007\\week 6\\6962437-hd_1920_1080_25fps.mp4: 384x640 1 person, 2 tvs, 193.8ms\n",
      "video 1/1 (frame 125/189) c:\\Users\\cucum\\Downloads\\COS40007\\week 6\\6962437-hd_1920_1080_25fps.mp4: 384x640 1 person, 1 tv, 139.8ms\n",
      "video 1/1 (frame 126/189) c:\\Users\\cucum\\Downloads\\COS40007\\week 6\\6962437-hd_1920_1080_25fps.mp4: 384x640 1 person, 1 tv, 199.9ms\n",
      "video 1/1 (frame 127/189) c:\\Users\\cucum\\Downloads\\COS40007\\week 6\\6962437-hd_1920_1080_25fps.mp4: 384x640 1 person, 1 tv, 223.9ms\n",
      "video 1/1 (frame 128/189) c:\\Users\\cucum\\Downloads\\COS40007\\week 6\\6962437-hd_1920_1080_25fps.mp4: 384x640 1 person, 1 tv, 226.6ms\n",
      "video 1/1 (frame 129/189) c:\\Users\\cucum\\Downloads\\COS40007\\week 6\\6962437-hd_1920_1080_25fps.mp4: 384x640 1 person, 1 tv, 141.6ms\n",
      "video 1/1 (frame 130/189) c:\\Users\\cucum\\Downloads\\COS40007\\week 6\\6962437-hd_1920_1080_25fps.mp4: 384x640 1 person, 1 tv, 257.7ms\n",
      "video 1/1 (frame 131/189) c:\\Users\\cucum\\Downloads\\COS40007\\week 6\\6962437-hd_1920_1080_25fps.mp4: 384x640 1 person, 1 tv, 155.0ms\n",
      "video 1/1 (frame 132/189) c:\\Users\\cucum\\Downloads\\COS40007\\week 6\\6962437-hd_1920_1080_25fps.mp4: 384x640 1 person, 1 tv, 178.7ms\n",
      "video 1/1 (frame 133/189) c:\\Users\\cucum\\Downloads\\COS40007\\week 6\\6962437-hd_1920_1080_25fps.mp4: 384x640 1 person, 1 tv, 175.7ms\n",
      "video 1/1 (frame 134/189) c:\\Users\\cucum\\Downloads\\COS40007\\week 6\\6962437-hd_1920_1080_25fps.mp4: 384x640 1 person, 1 tv, 137.3ms\n",
      "video 1/1 (frame 135/189) c:\\Users\\cucum\\Downloads\\COS40007\\week 6\\6962437-hd_1920_1080_25fps.mp4: 384x640 1 person, 1 tv, 129.9ms\n",
      "video 1/1 (frame 136/189) c:\\Users\\cucum\\Downloads\\COS40007\\week 6\\6962437-hd_1920_1080_25fps.mp4: 384x640 1 person, 1 tv, 175.9ms\n",
      "video 1/1 (frame 137/189) c:\\Users\\cucum\\Downloads\\COS40007\\week 6\\6962437-hd_1920_1080_25fps.mp4: 384x640 1 person, 1 tv, 160.7ms\n",
      "video 1/1 (frame 138/189) c:\\Users\\cucum\\Downloads\\COS40007\\week 6\\6962437-hd_1920_1080_25fps.mp4: 384x640 1 person, 1 tv, 160.6ms\n",
      "video 1/1 (frame 139/189) c:\\Users\\cucum\\Downloads\\COS40007\\week 6\\6962437-hd_1920_1080_25fps.mp4: 384x640 1 person, 1 tv, 185.7ms\n",
      "video 1/1 (frame 140/189) c:\\Users\\cucum\\Downloads\\COS40007\\week 6\\6962437-hd_1920_1080_25fps.mp4: 384x640 1 person, 1 tv, 184.9ms\n",
      "video 1/1 (frame 141/189) c:\\Users\\cucum\\Downloads\\COS40007\\week 6\\6962437-hd_1920_1080_25fps.mp4: 384x640 1 person, 1 tv, 205.6ms\n",
      "video 1/1 (frame 142/189) c:\\Users\\cucum\\Downloads\\COS40007\\week 6\\6962437-hd_1920_1080_25fps.mp4: 384x640 1 person, 1 tv, 154.6ms\n",
      "video 1/1 (frame 143/189) c:\\Users\\cucum\\Downloads\\COS40007\\week 6\\6962437-hd_1920_1080_25fps.mp4: 384x640 1 person, 1 tv, 210.7ms\n",
      "video 1/1 (frame 144/189) c:\\Users\\cucum\\Downloads\\COS40007\\week 6\\6962437-hd_1920_1080_25fps.mp4: 384x640 1 person, 1 tv, 165.5ms\n",
      "video 1/1 (frame 145/189) c:\\Users\\cucum\\Downloads\\COS40007\\week 6\\6962437-hd_1920_1080_25fps.mp4: 384x640 1 person, 1 tv, 193.7ms\n",
      "video 1/1 (frame 146/189) c:\\Users\\cucum\\Downloads\\COS40007\\week 6\\6962437-hd_1920_1080_25fps.mp4: 384x640 1 person, 1 tv, 255.5ms\n",
      "video 1/1 (frame 147/189) c:\\Users\\cucum\\Downloads\\COS40007\\week 6\\6962437-hd_1920_1080_25fps.mp4: 384x640 1 person, 1 tv, 200.8ms\n",
      "video 1/1 (frame 148/189) c:\\Users\\cucum\\Downloads\\COS40007\\week 6\\6962437-hd_1920_1080_25fps.mp4: 384x640 1 person, 1 tv, 266.4ms\n",
      "video 1/1 (frame 149/189) c:\\Users\\cucum\\Downloads\\COS40007\\week 6\\6962437-hd_1920_1080_25fps.mp4: 384x640 1 person, 1 tv, 211.9ms\n",
      "video 1/1 (frame 150/189) c:\\Users\\cucum\\Downloads\\COS40007\\week 6\\6962437-hd_1920_1080_25fps.mp4: 384x640 1 person, 1 tv, 215.3ms\n",
      "video 1/1 (frame 151/189) c:\\Users\\cucum\\Downloads\\COS40007\\week 6\\6962437-hd_1920_1080_25fps.mp4: 384x640 1 person, 1 tv, 161.9ms\n",
      "video 1/1 (frame 152/189) c:\\Users\\cucum\\Downloads\\COS40007\\week 6\\6962437-hd_1920_1080_25fps.mp4: 384x640 1 person, 1 tv, 207.0ms\n",
      "video 1/1 (frame 153/189) c:\\Users\\cucum\\Downloads\\COS40007\\week 6\\6962437-hd_1920_1080_25fps.mp4: 384x640 1 person, 1 tv, 181.3ms\n",
      "video 1/1 (frame 154/189) c:\\Users\\cucum\\Downloads\\COS40007\\week 6\\6962437-hd_1920_1080_25fps.mp4: 384x640 1 person, 1 tv, 137.4ms\n",
      "video 1/1 (frame 155/189) c:\\Users\\cucum\\Downloads\\COS40007\\week 6\\6962437-hd_1920_1080_25fps.mp4: 384x640 1 person, 1 tv, 183.5ms\n",
      "video 1/1 (frame 156/189) c:\\Users\\cucum\\Downloads\\COS40007\\week 6\\6962437-hd_1920_1080_25fps.mp4: 384x640 1 person, 1 tv, 167.4ms\n",
      "video 1/1 (frame 157/189) c:\\Users\\cucum\\Downloads\\COS40007\\week 6\\6962437-hd_1920_1080_25fps.mp4: 384x640 1 person, 1 tv, 162.4ms\n",
      "video 1/1 (frame 158/189) c:\\Users\\cucum\\Downloads\\COS40007\\week 6\\6962437-hd_1920_1080_25fps.mp4: 384x640 1 person, 1 tv, 181.1ms\n",
      "video 1/1 (frame 159/189) c:\\Users\\cucum\\Downloads\\COS40007\\week 6\\6962437-hd_1920_1080_25fps.mp4: 384x640 1 person, 1 tv, 174.4ms\n",
      "video 1/1 (frame 160/189) c:\\Users\\cucum\\Downloads\\COS40007\\week 6\\6962437-hd_1920_1080_25fps.mp4: 384x640 1 person, 1 tv, 139.5ms\n",
      "video 1/1 (frame 161/189) c:\\Users\\cucum\\Downloads\\COS40007\\week 6\\6962437-hd_1920_1080_25fps.mp4: 384x640 1 person, 1 tv, 149.4ms\n",
      "video 1/1 (frame 162/189) c:\\Users\\cucum\\Downloads\\COS40007\\week 6\\6962437-hd_1920_1080_25fps.mp4: 384x640 1 person, 1 tv, 134.6ms\n",
      "video 1/1 (frame 163/189) c:\\Users\\cucum\\Downloads\\COS40007\\week 6\\6962437-hd_1920_1080_25fps.mp4: 384x640 1 person, 1 tv, 146.1ms\n",
      "video 1/1 (frame 164/189) c:\\Users\\cucum\\Downloads\\COS40007\\week 6\\6962437-hd_1920_1080_25fps.mp4: 384x640 1 person, 1 tv, 139.4ms\n",
      "video 1/1 (frame 165/189) c:\\Users\\cucum\\Downloads\\COS40007\\week 6\\6962437-hd_1920_1080_25fps.mp4: 384x640 1 person, 1 tv, 142.7ms\n",
      "video 1/1 (frame 166/189) c:\\Users\\cucum\\Downloads\\COS40007\\week 6\\6962437-hd_1920_1080_25fps.mp4: 384x640 1 person, 1 tv, 155.8ms\n",
      "video 1/1 (frame 167/189) c:\\Users\\cucum\\Downloads\\COS40007\\week 6\\6962437-hd_1920_1080_25fps.mp4: 384x640 1 person, 1 tv, 171.5ms\n",
      "video 1/1 (frame 168/189) c:\\Users\\cucum\\Downloads\\COS40007\\week 6\\6962437-hd_1920_1080_25fps.mp4: 384x640 1 person, 1 tv, 166.2ms\n",
      "video 1/1 (frame 169/189) c:\\Users\\cucum\\Downloads\\COS40007\\week 6\\6962437-hd_1920_1080_25fps.mp4: 384x640 1 person, 1 tv, 170.6ms\n",
      "video 1/1 (frame 170/189) c:\\Users\\cucum\\Downloads\\COS40007\\week 6\\6962437-hd_1920_1080_25fps.mp4: 384x640 1 person, 1 tv, 167.4ms\n",
      "video 1/1 (frame 171/189) c:\\Users\\cucum\\Downloads\\COS40007\\week 6\\6962437-hd_1920_1080_25fps.mp4: 384x640 1 person, 1 tv, 152.4ms\n",
      "video 1/1 (frame 172/189) c:\\Users\\cucum\\Downloads\\COS40007\\week 6\\6962437-hd_1920_1080_25fps.mp4: 384x640 1 person, 1 tv, 166.3ms\n",
      "video 1/1 (frame 173/189) c:\\Users\\cucum\\Downloads\\COS40007\\week 6\\6962437-hd_1920_1080_25fps.mp4: 384x640 1 person, 1 tv, 154.0ms\n",
      "video 1/1 (frame 174/189) c:\\Users\\cucum\\Downloads\\COS40007\\week 6\\6962437-hd_1920_1080_25fps.mp4: 384x640 1 person, 1 tv, 183.4ms\n",
      "video 1/1 (frame 175/189) c:\\Users\\cucum\\Downloads\\COS40007\\week 6\\6962437-hd_1920_1080_25fps.mp4: 384x640 1 person, 1 tv, 140.3ms\n",
      "video 1/1 (frame 176/189) c:\\Users\\cucum\\Downloads\\COS40007\\week 6\\6962437-hd_1920_1080_25fps.mp4: 384x640 1 person, 1 tv, 164.1ms\n",
      "video 1/1 (frame 177/189) c:\\Users\\cucum\\Downloads\\COS40007\\week 6\\6962437-hd_1920_1080_25fps.mp4: 384x640 1 person, 1 tv, 204.1ms\n",
      "video 1/1 (frame 178/189) c:\\Users\\cucum\\Downloads\\COS40007\\week 6\\6962437-hd_1920_1080_25fps.mp4: 384x640 1 person, 1 tv, 261.8ms\n",
      "video 1/1 (frame 179/189) c:\\Users\\cucum\\Downloads\\COS40007\\week 6\\6962437-hd_1920_1080_25fps.mp4: 384x640 1 person, 1 tv, 235.0ms\n",
      "video 1/1 (frame 180/189) c:\\Users\\cucum\\Downloads\\COS40007\\week 6\\6962437-hd_1920_1080_25fps.mp4: 384x640 1 person, 1 tv, 250.8ms\n",
      "video 1/1 (frame 181/189) c:\\Users\\cucum\\Downloads\\COS40007\\week 6\\6962437-hd_1920_1080_25fps.mp4: 384x640 1 person, 1 tv, 213.7ms\n",
      "video 1/1 (frame 182/189) c:\\Users\\cucum\\Downloads\\COS40007\\week 6\\6962437-hd_1920_1080_25fps.mp4: 384x640 1 person, 1 tv, 218.2ms\n",
      "video 1/1 (frame 183/189) c:\\Users\\cucum\\Downloads\\COS40007\\week 6\\6962437-hd_1920_1080_25fps.mp4: 384x640 1 person, 1 tv, 174.8ms\n",
      "video 1/1 (frame 184/189) c:\\Users\\cucum\\Downloads\\COS40007\\week 6\\6962437-hd_1920_1080_25fps.mp4: 384x640 1 person, 1 tv, 151.3ms\n",
      "video 1/1 (frame 185/189) c:\\Users\\cucum\\Downloads\\COS40007\\week 6\\6962437-hd_1920_1080_25fps.mp4: 384x640 1 person, 2 tvs, 231.8ms\n",
      "video 1/1 (frame 186/189) c:\\Users\\cucum\\Downloads\\COS40007\\week 6\\6962437-hd_1920_1080_25fps.mp4: 384x640 1 person, 2 tvs, 248.0ms\n",
      "video 1/1 (frame 187/189) c:\\Users\\cucum\\Downloads\\COS40007\\week 6\\6962437-hd_1920_1080_25fps.mp4: 384x640 1 person, 2 tvs, 268.7ms\n",
      "video 1/1 (frame 188/189) c:\\Users\\cucum\\Downloads\\COS40007\\week 6\\6962437-hd_1920_1080_25fps.mp4: 384x640 1 person, 2 tvs, 237.0ms\n",
      "video 1/1 (frame 189/189) c:\\Users\\cucum\\Downloads\\COS40007\\week 6\\6962437-hd_1920_1080_25fps.mp4: 384x640 1 person, 2 tvs, 258.8ms\n",
      "Speed: 2.5ms preprocess, 182.9ms inference, 1.2ms postprocess per image at shape (1, 3, 384, 640)\n",
      "Results saved to \u001b[1mresults\\track5\u001b[0m\n"
     ]
    }
   ],
   "source": [
    "# Test Run\n",
    "source = '6962437-hd_1920_1080_25fps.mp4'\n",
    "results = model.track(source, save=True, project=f'results', tracker=\"bytetrack.yaml\")"
   ]
  }
 ],
 "metadata": {
  "kernelspec": {
   "display_name": "Python 3",
   "language": "python",
   "name": "python3"
  },
  "language_info": {
   "codemirror_mode": {
    "name": "ipython",
    "version": 3
   },
   "file_extension": ".py",
   "mimetype": "text/x-python",
   "name": "python",
   "nbconvert_exporter": "python",
   "pygments_lexer": "ipython3",
   "version": "3.12.6"
  }
 },
 "nbformat": 4,
 "nbformat_minor": 2
}
